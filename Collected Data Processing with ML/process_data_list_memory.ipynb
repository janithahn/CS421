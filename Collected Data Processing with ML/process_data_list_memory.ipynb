{
 "cells": [
  {
   "cell_type": "code",
   "execution_count": 1,
   "id": "98a5ed7a",
   "metadata": {},
   "outputs": [],
   "source": [
    "import pandas as pd\n",
    "import seaborn as sns\n",
    "import numpy as np\n",
    "import matplotlib.pyplot as plt"
   ]
  },
  {
   "cell_type": "code",
   "execution_count": 2,
   "id": "23169c55",
   "metadata": {},
   "outputs": [],
   "source": [
    "pd.set_option(\"display.max.columns\", None)\n",
    "df = pd.read_csv('./data/memory_200steps.csv')"
   ]
  },
  {
   "cell_type": "code",
   "execution_count": 3,
   "id": "a57ec6ea",
   "metadata": {
    "scrolled": true
   },
   "outputs": [
    {
     "data": {
      "text/html": [
       "<div>\n",
       "<style scoped>\n",
       "    .dataframe tbody tr th:only-of-type {\n",
       "        vertical-align: middle;\n",
       "    }\n",
       "\n",
       "    .dataframe tbody tr th {\n",
       "        vertical-align: top;\n",
       "    }\n",
       "\n",
       "    .dataframe thead th {\n",
       "        text-align: right;\n",
       "    }\n",
       "</style>\n",
       "<table border=\"1\" class=\"dataframe\">\n",
       "  <thead>\n",
       "    <tr style=\"text-align: right;\">\n",
       "      <th></th>\n",
       "      <th>NumberOfIntegers</th>\n",
       "      <th>DataStructure</th>\n",
       "      <th>insert()</th>\n",
       "      <th>insertAt()</th>\n",
       "      <th>contains()</th>\n",
       "      <th>indexOf()</th>\n",
       "      <th>get()</th>\n",
       "      <th>delete()</th>\n",
       "    </tr>\n",
       "  </thead>\n",
       "  <tbody>\n",
       "    <tr>\n",
       "      <th>0</th>\n",
       "      <td>100000</td>\n",
       "      <td>ArrayList</td>\n",
       "      <td>3</td>\n",
       "      <td>3</td>\n",
       "      <td>3</td>\n",
       "      <td>3</td>\n",
       "      <td>3</td>\n",
       "      <td>3</td>\n",
       "    </tr>\n",
       "    <tr>\n",
       "      <th>1</th>\n",
       "      <td>100000</td>\n",
       "      <td>ArrayList_Initialized</td>\n",
       "      <td>42</td>\n",
       "      <td>42</td>\n",
       "      <td>42</td>\n",
       "      <td>42</td>\n",
       "      <td>42</td>\n",
       "      <td>42</td>\n",
       "    </tr>\n",
       "    <tr>\n",
       "      <th>2</th>\n",
       "      <td>100000</td>\n",
       "      <td>LinkedList</td>\n",
       "      <td>5</td>\n",
       "      <td>5</td>\n",
       "      <td>5</td>\n",
       "      <td>5</td>\n",
       "      <td>5</td>\n",
       "      <td>5</td>\n",
       "    </tr>\n",
       "    <tr>\n",
       "      <th>3</th>\n",
       "      <td>100000</td>\n",
       "      <td>Vector</td>\n",
       "      <td>4</td>\n",
       "      <td>4</td>\n",
       "      <td>4</td>\n",
       "      <td>4</td>\n",
       "      <td>4</td>\n",
       "      <td>4</td>\n",
       "    </tr>\n",
       "    <tr>\n",
       "      <th>4</th>\n",
       "      <td>100000</td>\n",
       "      <td>VectorInitialized</td>\n",
       "      <td>42</td>\n",
       "      <td>42</td>\n",
       "      <td>42</td>\n",
       "      <td>42</td>\n",
       "      <td>42</td>\n",
       "      <td>42</td>\n",
       "    </tr>\n",
       "    <tr>\n",
       "      <th>5</th>\n",
       "      <td>150000</td>\n",
       "      <td>ArrayList</td>\n",
       "      <td>5</td>\n",
       "      <td>5</td>\n",
       "      <td>5</td>\n",
       "      <td>5</td>\n",
       "      <td>5</td>\n",
       "      <td>5</td>\n",
       "    </tr>\n",
       "    <tr>\n",
       "      <th>6</th>\n",
       "      <td>150000</td>\n",
       "      <td>ArrayList_Initialized</td>\n",
       "      <td>43</td>\n",
       "      <td>43</td>\n",
       "      <td>43</td>\n",
       "      <td>43</td>\n",
       "      <td>43</td>\n",
       "      <td>43</td>\n",
       "    </tr>\n",
       "    <tr>\n",
       "      <th>7</th>\n",
       "      <td>150000</td>\n",
       "      <td>LinkedList</td>\n",
       "      <td>8</td>\n",
       "      <td>8</td>\n",
       "      <td>8</td>\n",
       "      <td>8</td>\n",
       "      <td>8</td>\n",
       "      <td>8</td>\n",
       "    </tr>\n",
       "    <tr>\n",
       "      <th>8</th>\n",
       "      <td>150000</td>\n",
       "      <td>Vector</td>\n",
       "      <td>5</td>\n",
       "      <td>5</td>\n",
       "      <td>5</td>\n",
       "      <td>5</td>\n",
       "      <td>5</td>\n",
       "      <td>5</td>\n",
       "    </tr>\n",
       "    <tr>\n",
       "      <th>9</th>\n",
       "      <td>150000</td>\n",
       "      <td>VectorInitialized</td>\n",
       "      <td>43</td>\n",
       "      <td>43</td>\n",
       "      <td>43</td>\n",
       "      <td>43</td>\n",
       "      <td>43</td>\n",
       "      <td>43</td>\n",
       "    </tr>\n",
       "  </tbody>\n",
       "</table>\n",
       "</div>"
      ],
      "text/plain": [
       "   NumberOfIntegers          DataStructure  insert()  insertAt()  contains()  \\\n",
       "0            100000              ArrayList         3           3           3   \n",
       "1            100000  ArrayList_Initialized        42          42          42   \n",
       "2            100000             LinkedList         5           5           5   \n",
       "3            100000                 Vector         4           4           4   \n",
       "4            100000      VectorInitialized        42          42          42   \n",
       "5            150000              ArrayList         5           5           5   \n",
       "6            150000  ArrayList_Initialized        43          43          43   \n",
       "7            150000             LinkedList         8           8           8   \n",
       "8            150000                 Vector         5           5           5   \n",
       "9            150000      VectorInitialized        43          43          43   \n",
       "\n",
       "   indexOf()  get()  delete()  \n",
       "0          3      3         3  \n",
       "1         42     42        42  \n",
       "2          5      5         5  \n",
       "3          4      4         4  \n",
       "4         42     42        42  \n",
       "5          5      5         5  \n",
       "6         43     43        43  \n",
       "7          8      8         8  \n",
       "8          5      5         5  \n",
       "9         43     43        43  "
      ]
     },
     "execution_count": 3,
     "metadata": {},
     "output_type": "execute_result"
    }
   ],
   "source": [
    "df.head(10)"
   ]
  },
  {
   "cell_type": "markdown",
   "id": "7dc510c1",
   "metadata": {},
   "source": [
    "### Grouping the values by NumberOfIntegers"
   ]
  },
  {
   "cell_type": "code",
   "execution_count": 4,
   "id": "fd37ac12",
   "metadata": {
    "scrolled": true
   },
   "outputs": [
    {
     "data": {
      "text/html": [
       "<div>\n",
       "<style scoped>\n",
       "    .dataframe tbody tr th:only-of-type {\n",
       "        vertical-align: middle;\n",
       "    }\n",
       "\n",
       "    .dataframe tbody tr th {\n",
       "        vertical-align: top;\n",
       "    }\n",
       "\n",
       "    .dataframe thead th {\n",
       "        text-align: right;\n",
       "    }\n",
       "</style>\n",
       "<table border=\"1\" class=\"dataframe\">\n",
       "  <thead>\n",
       "    <tr style=\"text-align: right;\">\n",
       "      <th></th>\n",
       "      <th></th>\n",
       "      <th>NumberOfIntegers</th>\n",
       "      <th>DataStructure</th>\n",
       "      <th>insert()</th>\n",
       "      <th>insertAt()</th>\n",
       "      <th>contains()</th>\n",
       "      <th>indexOf()</th>\n",
       "      <th>get()</th>\n",
       "      <th>delete()</th>\n",
       "    </tr>\n",
       "    <tr>\n",
       "      <th>NumberOfIntegers</th>\n",
       "      <th></th>\n",
       "      <th></th>\n",
       "      <th></th>\n",
       "      <th></th>\n",
       "      <th></th>\n",
       "      <th></th>\n",
       "      <th></th>\n",
       "      <th></th>\n",
       "      <th></th>\n",
       "    </tr>\n",
       "  </thead>\n",
       "  <tbody>\n",
       "    <tr>\n",
       "      <th rowspan=\"5\" valign=\"top\">100000</th>\n",
       "      <th>0</th>\n",
       "      <td>100000</td>\n",
       "      <td>Vector</td>\n",
       "      <td>4</td>\n",
       "      <td>4</td>\n",
       "      <td>4</td>\n",
       "      <td>4</td>\n",
       "      <td>4</td>\n",
       "      <td>4</td>\n",
       "    </tr>\n",
       "    <tr>\n",
       "      <th>1</th>\n",
       "      <td>100000</td>\n",
       "      <td>VectorInitialized</td>\n",
       "      <td>42</td>\n",
       "      <td>42</td>\n",
       "      <td>42</td>\n",
       "      <td>42</td>\n",
       "      <td>42</td>\n",
       "      <td>42</td>\n",
       "    </tr>\n",
       "    <tr>\n",
       "      <th>2</th>\n",
       "      <td>100000</td>\n",
       "      <td>LinkedList</td>\n",
       "      <td>5</td>\n",
       "      <td>5</td>\n",
       "      <td>5</td>\n",
       "      <td>5</td>\n",
       "      <td>5</td>\n",
       "      <td>5</td>\n",
       "    </tr>\n",
       "    <tr>\n",
       "      <th>3</th>\n",
       "      <td>100000</td>\n",
       "      <td>ArrayList_Initialized</td>\n",
       "      <td>42</td>\n",
       "      <td>42</td>\n",
       "      <td>42</td>\n",
       "      <td>42</td>\n",
       "      <td>42</td>\n",
       "      <td>42</td>\n",
       "    </tr>\n",
       "    <tr>\n",
       "      <th>4</th>\n",
       "      <td>100000</td>\n",
       "      <td>ArrayList</td>\n",
       "      <td>3</td>\n",
       "      <td>3</td>\n",
       "      <td>3</td>\n",
       "      <td>3</td>\n",
       "      <td>3</td>\n",
       "      <td>3</td>\n",
       "    </tr>\n",
       "    <tr>\n",
       "      <th rowspan=\"5\" valign=\"top\">150000</th>\n",
       "      <th>0</th>\n",
       "      <td>150000</td>\n",
       "      <td>VectorInitialized</td>\n",
       "      <td>43</td>\n",
       "      <td>43</td>\n",
       "      <td>43</td>\n",
       "      <td>43</td>\n",
       "      <td>43</td>\n",
       "      <td>43</td>\n",
       "    </tr>\n",
       "    <tr>\n",
       "      <th>1</th>\n",
       "      <td>150000</td>\n",
       "      <td>LinkedList</td>\n",
       "      <td>8</td>\n",
       "      <td>8</td>\n",
       "      <td>8</td>\n",
       "      <td>8</td>\n",
       "      <td>8</td>\n",
       "      <td>8</td>\n",
       "    </tr>\n",
       "    <tr>\n",
       "      <th>2</th>\n",
       "      <td>150000</td>\n",
       "      <td>ArrayList</td>\n",
       "      <td>5</td>\n",
       "      <td>5</td>\n",
       "      <td>5</td>\n",
       "      <td>5</td>\n",
       "      <td>5</td>\n",
       "      <td>5</td>\n",
       "    </tr>\n",
       "    <tr>\n",
       "      <th>3</th>\n",
       "      <td>150000</td>\n",
       "      <td>ArrayList_Initialized</td>\n",
       "      <td>43</td>\n",
       "      <td>43</td>\n",
       "      <td>43</td>\n",
       "      <td>43</td>\n",
       "      <td>43</td>\n",
       "      <td>43</td>\n",
       "    </tr>\n",
       "    <tr>\n",
       "      <th>4</th>\n",
       "      <td>150000</td>\n",
       "      <td>Vector</td>\n",
       "      <td>5</td>\n",
       "      <td>5</td>\n",
       "      <td>5</td>\n",
       "      <td>5</td>\n",
       "      <td>5</td>\n",
       "      <td>5</td>\n",
       "    </tr>\n",
       "  </tbody>\n",
       "</table>\n",
       "</div>"
      ],
      "text/plain": [
       "                    NumberOfIntegers          DataStructure  insert()  \\\n",
       "NumberOfIntegers                                                        \n",
       "100000           0            100000                 Vector         4   \n",
       "                 1            100000      VectorInitialized        42   \n",
       "                 2            100000             LinkedList         5   \n",
       "                 3            100000  ArrayList_Initialized        42   \n",
       "                 4            100000              ArrayList         3   \n",
       "150000           0            150000      VectorInitialized        43   \n",
       "                 1            150000             LinkedList         8   \n",
       "                 2            150000              ArrayList         5   \n",
       "                 3            150000  ArrayList_Initialized        43   \n",
       "                 4            150000                 Vector         5   \n",
       "\n",
       "                    insertAt()  contains()  indexOf()  get()  delete()  \n",
       "NumberOfIntegers                                                        \n",
       "100000           0           4           4          4      4         4  \n",
       "                 1          42          42         42     42        42  \n",
       "                 2           5           5          5      5         5  \n",
       "                 3          42          42         42     42        42  \n",
       "                 4           3           3          3      3         3  \n",
       "150000           0          43          43         43     43        43  \n",
       "                 1           8           8          8      8         8  \n",
       "                 2           5           5          5      5         5  \n",
       "                 3          43          43         43     43        43  \n",
       "                 4           5           5          5      5         5  "
      ]
     },
     "execution_count": 4,
     "metadata": {},
     "output_type": "execute_result"
    }
   ],
   "source": [
    "g = df.groupby('NumberOfIntegers')\n",
    "# g.apply(lambda x: x).head(10)\n",
    "g.apply(lambda x: x.sample(g.size().min()).reset_index(drop=True)).head(10)"
   ]
  },
  {
   "cell_type": "markdown",
   "id": "0586e5b8",
   "metadata": {},
   "source": [
    "### Taking the minmum value of the insert() column of each group"
   ]
  },
  {
   "cell_type": "code",
   "execution_count": 5,
   "id": "ff2f74b8",
   "metadata": {
    "scrolled": true
   },
   "outputs": [
    {
     "data": {
      "text/plain": [
       "NumberOfIntegers\n",
       "100000       3\n",
       "150000       5\n",
       "200000       6\n",
       "250000       9\n",
       "300000      10\n",
       "            ..\n",
       "9850000     28\n",
       "9900000     28\n",
       "9950000     28\n",
       "10000000    28\n",
       "10050000    28\n",
       "Name: insert(), Length: 200, dtype: int64"
      ]
     },
     "execution_count": 5,
     "metadata": {},
     "output_type": "execute_result"
    }
   ],
   "source": [
    "df.groupby('NumberOfIntegers')['insert()'].min()"
   ]
  },
  {
   "cell_type": "markdown",
   "id": "3c252f11",
   "metadata": {},
   "source": [
    "### Viewing the entire rows of above values"
   ]
  },
  {
   "cell_type": "markdown",
   "id": "4bf83c9e",
   "metadata": {},
   "source": [
    "We need to take the minimum value of each column separately for each group, and consider it as the best data structure for that number of insert values. For example, below, we have considered the insert() column, and taken the minimum run-time for each group. The data structure that values belongs is the best data structure for that particular group in terms of insert() operation."
   ]
  },
  {
   "cell_type": "code",
   "execution_count": 7,
   "id": "34ce74fe",
   "metadata": {
    "scrolled": true
   },
   "outputs": [
    {
     "data": {
      "text/html": [
       "<div>\n",
       "<style scoped>\n",
       "    .dataframe tbody tr th:only-of-type {\n",
       "        vertical-align: middle;\n",
       "    }\n",
       "\n",
       "    .dataframe tbody tr th {\n",
       "        vertical-align: top;\n",
       "    }\n",
       "\n",
       "    .dataframe thead th {\n",
       "        text-align: right;\n",
       "    }\n",
       "</style>\n",
       "<table border=\"1\" class=\"dataframe\">\n",
       "  <thead>\n",
       "    <tr style=\"text-align: right;\">\n",
       "      <th></th>\n",
       "      <th>DataStructure</th>\n",
       "      <th>insert()</th>\n",
       "    </tr>\n",
       "  </thead>\n",
       "  <tbody>\n",
       "    <tr>\n",
       "      <th>0</th>\n",
       "      <td>ArrayList</td>\n",
       "      <td>3</td>\n",
       "    </tr>\n",
       "    <tr>\n",
       "      <th>5</th>\n",
       "      <td>ArrayList</td>\n",
       "      <td>5</td>\n",
       "    </tr>\n",
       "    <tr>\n",
       "      <th>10</th>\n",
       "      <td>ArrayList</td>\n",
       "      <td>6</td>\n",
       "    </tr>\n",
       "    <tr>\n",
       "      <th>15</th>\n",
       "      <td>ArrayList</td>\n",
       "      <td>9</td>\n",
       "    </tr>\n",
       "    <tr>\n",
       "      <th>20</th>\n",
       "      <td>ArrayList</td>\n",
       "      <td>10</td>\n",
       "    </tr>\n",
       "    <tr>\n",
       "      <th>...</th>\n",
       "      <td>...</td>\n",
       "      <td>...</td>\n",
       "    </tr>\n",
       "    <tr>\n",
       "      <th>975</th>\n",
       "      <td>ArrayList</td>\n",
       "      <td>28</td>\n",
       "    </tr>\n",
       "    <tr>\n",
       "      <th>980</th>\n",
       "      <td>ArrayList</td>\n",
       "      <td>28</td>\n",
       "    </tr>\n",
       "    <tr>\n",
       "      <th>985</th>\n",
       "      <td>ArrayList</td>\n",
       "      <td>28</td>\n",
       "    </tr>\n",
       "    <tr>\n",
       "      <th>990</th>\n",
       "      <td>ArrayList</td>\n",
       "      <td>28</td>\n",
       "    </tr>\n",
       "    <tr>\n",
       "      <th>995</th>\n",
       "      <td>ArrayList</td>\n",
       "      <td>28</td>\n",
       "    </tr>\n",
       "  </tbody>\n",
       "</table>\n",
       "<p>200 rows × 2 columns</p>\n",
       "</div>"
      ],
      "text/plain": [
       "    DataStructure  insert()\n",
       "0       ArrayList         3\n",
       "5       ArrayList         5\n",
       "10      ArrayList         6\n",
       "15      ArrayList         9\n",
       "20      ArrayList        10\n",
       "..            ...       ...\n",
       "975     ArrayList        28\n",
       "980     ArrayList        28\n",
       "985     ArrayList        28\n",
       "990     ArrayList        28\n",
       "995     ArrayList        28\n",
       "\n",
       "[200 rows x 2 columns]"
      ]
     },
     "execution_count": 7,
     "metadata": {},
     "output_type": "execute_result"
    }
   ],
   "source": [
    "df.loc[df.groupby('NumberOfIntegers')['insert()'].idxmin()][['DataStructure', 'insert()']]"
   ]
  },
  {
   "cell_type": "markdown",
   "id": "2d682eb5",
   "metadata": {},
   "source": [
    "### Method that returns individual grouped dfs with min value of the relevant column"
   ]
  },
  {
   "cell_type": "code",
   "execution_count": 8,
   "id": "d2291fa0",
   "metadata": {},
   "outputs": [],
   "source": [
    "def get_min_dfs():\n",
    "    cols = ['insert()', 'insertAt()', 'contains()', 'indexOf()', 'get()', 'delete()']\n",
    "    return [df.loc[df.groupby('NumberOfIntegers')[col].idxmin()][['NumberOfIntegers', 'DataStructure', col]] for col in cols]"
   ]
  },
  {
   "cell_type": "code",
   "execution_count": 9,
   "id": "97030c83",
   "metadata": {
    "scrolled": false
   },
   "outputs": [
    {
     "data": {
      "text/plain": [
       "[     NumberOfIntegers DataStructure  insert()\n",
       " 0              100000     ArrayList         3\n",
       " 5              150000     ArrayList         5\n",
       " 10             200000     ArrayList         6\n",
       " 15             250000     ArrayList         9\n",
       " 20             300000     ArrayList        10\n",
       " ..                ...           ...       ...\n",
       " 975           9850000     ArrayList        28\n",
       " 980           9900000     ArrayList        28\n",
       " 985           9950000     ArrayList        28\n",
       " 990          10000000     ArrayList        28\n",
       " 995          10050000     ArrayList        28\n",
       " \n",
       " [200 rows x 3 columns],\n",
       "      NumberOfIntegers DataStructure  insertAt()\n",
       " 0              100000     ArrayList           3\n",
       " 5              150000     ArrayList           5\n",
       " 10             200000     ArrayList           6\n",
       " 15             250000     ArrayList           9\n",
       " 20             300000     ArrayList          10\n",
       " ..                ...           ...         ...\n",
       " 975           9850000     ArrayList          28\n",
       " 980           9900000     ArrayList          28\n",
       " 985           9950000     ArrayList          28\n",
       " 990          10000000     ArrayList          28\n",
       " 995          10050000     ArrayList          28\n",
       " \n",
       " [200 rows x 3 columns]]"
      ]
     },
     "execution_count": 9,
     "metadata": {},
     "output_type": "execute_result"
    }
   ],
   "source": [
    "min_dfs = get_min_dfs()\n",
    "min_dfs[0:2]"
   ]
  },
  {
   "cell_type": "code",
   "execution_count": 46,
   "id": "9ba1bb24",
   "metadata": {},
   "outputs": [
    {
     "data": {
      "text/html": [
       "<div>\n",
       "<style scoped>\n",
       "    .dataframe tbody tr th:only-of-type {\n",
       "        vertical-align: middle;\n",
       "    }\n",
       "\n",
       "    .dataframe tbody tr th {\n",
       "        vertical-align: top;\n",
       "    }\n",
       "\n",
       "    .dataframe thead th {\n",
       "        text-align: right;\n",
       "    }\n",
       "</style>\n",
       "<table border=\"1\" class=\"dataframe\">\n",
       "  <thead>\n",
       "    <tr style=\"text-align: right;\">\n",
       "      <th></th>\n",
       "      <th>NumberOfIntegers</th>\n",
       "      <th>DataStructure</th>\n",
       "      <th>insert()</th>\n",
       "    </tr>\n",
       "  </thead>\n",
       "  <tbody>\n",
       "    <tr>\n",
       "      <th>0</th>\n",
       "      <td>100000</td>\n",
       "      <td>ArrayList</td>\n",
       "      <td>3</td>\n",
       "    </tr>\n",
       "    <tr>\n",
       "      <th>5</th>\n",
       "      <td>150000</td>\n",
       "      <td>ArrayList</td>\n",
       "      <td>5</td>\n",
       "    </tr>\n",
       "    <tr>\n",
       "      <th>10</th>\n",
       "      <td>200000</td>\n",
       "      <td>ArrayList</td>\n",
       "      <td>6</td>\n",
       "    </tr>\n",
       "    <tr>\n",
       "      <th>15</th>\n",
       "      <td>250000</td>\n",
       "      <td>ArrayList</td>\n",
       "      <td>9</td>\n",
       "    </tr>\n",
       "    <tr>\n",
       "      <th>20</th>\n",
       "      <td>300000</td>\n",
       "      <td>ArrayList</td>\n",
       "      <td>10</td>\n",
       "    </tr>\n",
       "    <tr>\n",
       "      <th>...</th>\n",
       "      <td>...</td>\n",
       "      <td>...</td>\n",
       "      <td>...</td>\n",
       "    </tr>\n",
       "    <tr>\n",
       "      <th>975</th>\n",
       "      <td>9850000</td>\n",
       "      <td>ArrayList</td>\n",
       "      <td>28</td>\n",
       "    </tr>\n",
       "    <tr>\n",
       "      <th>980</th>\n",
       "      <td>9900000</td>\n",
       "      <td>ArrayList</td>\n",
       "      <td>28</td>\n",
       "    </tr>\n",
       "    <tr>\n",
       "      <th>985</th>\n",
       "      <td>9950000</td>\n",
       "      <td>ArrayList</td>\n",
       "      <td>28</td>\n",
       "    </tr>\n",
       "    <tr>\n",
       "      <th>990</th>\n",
       "      <td>10000000</td>\n",
       "      <td>ArrayList</td>\n",
       "      <td>28</td>\n",
       "    </tr>\n",
       "    <tr>\n",
       "      <th>995</th>\n",
       "      <td>10050000</td>\n",
       "      <td>ArrayList</td>\n",
       "      <td>28</td>\n",
       "    </tr>\n",
       "  </tbody>\n",
       "</table>\n",
       "<p>200 rows × 3 columns</p>\n",
       "</div>"
      ],
      "text/plain": [
       "     NumberOfIntegers DataStructure  insert()\n",
       "0              100000     ArrayList         3\n",
       "5              150000     ArrayList         5\n",
       "10             200000     ArrayList         6\n",
       "15             250000     ArrayList         9\n",
       "20             300000     ArrayList        10\n",
       "..                ...           ...       ...\n",
       "975           9850000     ArrayList        28\n",
       "980           9900000     ArrayList        28\n",
       "985           9950000     ArrayList        28\n",
       "990          10000000     ArrayList        28\n",
       "995          10050000     ArrayList        28\n",
       "\n",
       "[200 rows x 3 columns]"
      ]
     },
     "execution_count": 46,
     "metadata": {},
     "output_type": "execute_result"
    }
   ],
   "source": [
    "min_dfs[0:1][0]"
   ]
  },
  {
   "cell_type": "markdown",
   "id": "35b690a8",
   "metadata": {},
   "source": [
    "### Adding a new 'recommended' column"
   ]
  },
  {
   "cell_type": "markdown",
   "id": "0f9bb08d",
   "metadata": {},
   "source": [
    "Adding a new recommended column to the original dataset with the recommended data structure. Next, consider mapping all the groups(NumberOfIntegers) to their best data structure(here, we have taken the inser() column)."
   ]
  },
  {
   "cell_type": "code",
   "execution_count": 10,
   "id": "fe40737c",
   "metadata": {
    "scrolled": false
   },
   "outputs": [],
   "source": [
    "# converting the columns to arrays\n",
    "num_of_int_arr = min_dfs[0]['NumberOfIntegers'].to_numpy()\n",
    "col_arr = min_dfs[0]['DataStructure'].to_numpy()"
   ]
  },
  {
   "cell_type": "markdown",
   "id": "6199227e",
   "metadata": {},
   "source": [
    "Now, add a new column to save the recommended or the best data structures from each group, and add that value to other rows of each group as well."
   ]
  },
  {
   "cell_type": "markdown",
   "id": "8c0bd3bb",
   "metadata": {},
   "source": [
    "Below, we can see that the data structure that has minimum 'insert()' run-time has been added to the every row of each group in a new column."
   ]
  },
  {
   "cell_type": "markdown",
   "id": "9ea6dd55",
   "metadata": {},
   "source": [
    "### Do this to all the groups"
   ]
  },
  {
   "cell_type": "markdown",
   "id": "3d62fb23",
   "metadata": {},
   "source": [
    "#### Get dfs split into each function(insert(), insertAt(), etc.)"
   ]
  },
  {
   "cell_type": "code",
   "execution_count": 11,
   "id": "00d487d3",
   "metadata": {},
   "outputs": [],
   "source": [
    "cols = ['insert()', 'insertAt()', 'contains()', 'indexOf()', 'get()', 'delete()']\n",
    "def get_dfs():\n",
    "    return [df[['NumberOfIntegers', 'DataStructure', col]] for col in cols]"
   ]
  },
  {
   "cell_type": "code",
   "execution_count": 12,
   "id": "3b7174af",
   "metadata": {},
   "outputs": [],
   "source": [
    "split_dfs = get_dfs()\n",
    "# split_dfs[0:2]"
   ]
  },
  {
   "cell_type": "code",
   "execution_count": 13,
   "id": "3e27b73b",
   "metadata": {},
   "outputs": [
    {
     "name": "stderr",
     "output_type": "stream",
     "text": [
      "/tmp/ipykernel_216/2339002868.py:6: SettingWithCopyWarning: \n",
      "A value is trying to be set on a copy of a slice from a DataFrame.\n",
      "Try using .loc[row_indexer,col_indexer] = value instead\n",
      "\n",
      "See the caveats in the documentation: https://pandas.pydata.org/pandas-docs/stable/user_guide/indexing.html#returning-a-view-versus-a-copy\n",
      "  split_df[new_cols[index]] = split_df['NumberOfIntegers'].map(mappings[index])\n"
     ]
    }
   ],
   "source": [
    "min_datastructures = [min_df['DataStructure'].to_numpy() for min_df in min_dfs] # list of data structures with the minimum value\n",
    "mappings = [dict(zip(num_of_int_arr, min_df)) for min_df in min_datastructures] # list of mappings\n",
    "new_cols = ['ds_insert()', 'ds_insertAt()', 'ds_contains()', 'ds_indexOf()', 'ds_get()', 'ds_delete()']\n",
    "\n",
    "for index, split_df in enumerate(split_dfs):\n",
    "    split_df[new_cols[index]] = split_df['NumberOfIntegers'].map(mappings[index])"
   ]
  },
  {
   "cell_type": "code",
   "execution_count": 47,
   "id": "77559789",
   "metadata": {
    "scrolled": true
   },
   "outputs": [
    {
     "data": {
      "text/plain": [
       "[('ArrayList',\n",
       "       NumberOfElements  DataStructure  insert() ds_insert()\n",
       "  0              100000              0         3   ArrayList\n",
       "  1              100000              1        42   ArrayList\n",
       "  2              100000              2         5   ArrayList\n",
       "  3              100000              3         4   ArrayList\n",
       "  4              100000              4        42   ArrayList\n",
       "  ..                ...            ...       ...         ...\n",
       "  995          10050000              0        28   ArrayList\n",
       "  996          10050000              1        62   ArrayList\n",
       "  997          10050000              2        47   ArrayList\n",
       "  998          10050000              3        29   ArrayList\n",
       "  999          10050000              4        62   ArrayList\n",
       "  \n",
       "  [985 rows x 4 columns]),\n",
       " ('Vector',\n",
       "      NumberOfElements  DataStructure  insert() ds_insert()\n",
       "  45            550000              0        17      Vector\n",
       "  46            550000              1        52      Vector\n",
       "  47            550000              2        26      Vector\n",
       "  48            550000              3        16      Vector\n",
       "  49            550000              4        52      Vector\n",
       "  50            600000              0        18      Vector\n",
       "  51            600000              1        53      Vector\n",
       "  52            600000              2        28      Vector\n",
       "  53            600000              3        17      Vector\n",
       "  54            600000              4        53      Vector\n",
       "  55            650000              0        19      Vector\n",
       "  56            650000              1        54      Vector\n",
       "  57            650000              2        30      Vector\n",
       "  58            650000              3        18      Vector\n",
       "  59            650000              4        54      Vector)]"
      ]
     },
     "execution_count": 47,
     "metadata": {},
     "output_type": "execute_result"
    }
   ],
   "source": [
    "sample = split_dfs[0:1][0]\n",
    "sample.columns = sample.columns.str.replace('NumberOfIntegers', 'NumberOfElements')\n",
    "[df for df in sample.groupby('ds_insert()')]"
   ]
  },
  {
   "cell_type": "code",
   "execution_count": 16,
   "id": "e6622f1c",
   "metadata": {},
   "outputs": [],
   "source": [
    "import docx\n",
    "\n",
    "table_df = split_dfs[0:1][0].head(20)\n",
    "\n",
    "doc = docx.Document()\n",
    "\n",
    "t = doc.add_table(table_df.shape[0]+1, table_df.shape[1])\n",
    "\n",
    "for j in range(table_df.shape[-1]):\n",
    "    t.cell(0,j).text = table_df.columns[j]\n",
    "    \n",
    "for i in range(table_df.shape[0]):\n",
    "    for j in range(table_df.shape[-1]):\n",
    "        t.cell(i+1,j).text = str(table_df.values[i,j])\n",
    "        \n",
    "doc.save('./data/pd_df_list__insert_memory_table.docx')"
   ]
  },
  {
   "cell_type": "markdown",
   "id": "2e7a0d0c",
   "metadata": {},
   "source": [
    "## Classification"
   ]
  },
  {
   "cell_type": "markdown",
   "id": "ea1a3046",
   "metadata": {},
   "source": [
    "### Method to get the trained model info"
   ]
  },
  {
   "cell_type": "code",
   "execution_count": 17,
   "id": "c2454337",
   "metadata": {},
   "outputs": [],
   "source": [
    "import sklearn.metrics as metrics\n",
    "\n",
    "def print_model_performance(model, X_test, y_test):\n",
    "    y_pred = model.predict(X_test)\n",
    "    print('Accuracy score:\\n', metrics.accuracy_score(y_test, y_pred))\n",
    "    print('Confusion matrix:\\n', metrics.confusion_matrix(y_test, y_pred))\n",
    "    print('Classification report:\\n', metrics.classification_report(y_test, y_pred, digits=4))\n",
    "    print('Precision:\\n',metrics.precision_score(y_test, y_pred, average=None))\n",
    "    print('Recall:\\n',metrics.recall_score(y_test, y_pred, average=None))"
   ]
  },
  {
   "cell_type": "markdown",
   "id": "32a45394",
   "metadata": {},
   "source": [
    "### Encode the 'DataStructure' column"
   ]
  },
  {
   "cell_type": "code",
   "execution_count": 20,
   "id": "2a38abde",
   "metadata": {},
   "outputs": [],
   "source": [
    "# encoding data structures so it can be used as an input parameter\n",
    "ds_encode_dic = {\"ArrayList\": 0, \"ArrayList_Initialized\": 1, \"LinkedList\": 2, \"Vector\": 3, \"VectorInitialized\": 4}\n",
    "\n",
    "split_dfs = [df.replace({\"DataStructure\": ds_encode_dic}) for df in split_dfs]\n",
    "# split_dfs = [df.replace({new_cols[i]: ds_encode_dic}) for i, df in enumerate(split_dfs)]"
   ]
  },
  {
   "cell_type": "code",
   "execution_count": 21,
   "id": "d6ab14ab",
   "metadata": {},
   "outputs": [
    {
     "data": {
      "text/html": [
       "<div>\n",
       "<style scoped>\n",
       "    .dataframe tbody tr th:only-of-type {\n",
       "        vertical-align: middle;\n",
       "    }\n",
       "\n",
       "    .dataframe tbody tr th {\n",
       "        vertical-align: top;\n",
       "    }\n",
       "\n",
       "    .dataframe thead th {\n",
       "        text-align: right;\n",
       "    }\n",
       "</style>\n",
       "<table border=\"1\" class=\"dataframe\">\n",
       "  <thead>\n",
       "    <tr style=\"text-align: right;\">\n",
       "      <th></th>\n",
       "      <th>NumberOfIntegers</th>\n",
       "      <th>DataStructure</th>\n",
       "      <th>insert()</th>\n",
       "      <th>ds_insert()</th>\n",
       "    </tr>\n",
       "  </thead>\n",
       "  <tbody>\n",
       "    <tr>\n",
       "      <th>0</th>\n",
       "      <td>100000</td>\n",
       "      <td>0</td>\n",
       "      <td>3</td>\n",
       "      <td>ArrayList</td>\n",
       "    </tr>\n",
       "    <tr>\n",
       "      <th>1</th>\n",
       "      <td>100000</td>\n",
       "      <td>1</td>\n",
       "      <td>42</td>\n",
       "      <td>ArrayList</td>\n",
       "    </tr>\n",
       "    <tr>\n",
       "      <th>2</th>\n",
       "      <td>100000</td>\n",
       "      <td>2</td>\n",
       "      <td>5</td>\n",
       "      <td>ArrayList</td>\n",
       "    </tr>\n",
       "    <tr>\n",
       "      <th>3</th>\n",
       "      <td>100000</td>\n",
       "      <td>3</td>\n",
       "      <td>4</td>\n",
       "      <td>ArrayList</td>\n",
       "    </tr>\n",
       "    <tr>\n",
       "      <th>4</th>\n",
       "      <td>100000</td>\n",
       "      <td>4</td>\n",
       "      <td>42</td>\n",
       "      <td>ArrayList</td>\n",
       "    </tr>\n",
       "    <tr>\n",
       "      <th>5</th>\n",
       "      <td>150000</td>\n",
       "      <td>0</td>\n",
       "      <td>5</td>\n",
       "      <td>ArrayList</td>\n",
       "    </tr>\n",
       "    <tr>\n",
       "      <th>6</th>\n",
       "      <td>150000</td>\n",
       "      <td>1</td>\n",
       "      <td>43</td>\n",
       "      <td>ArrayList</td>\n",
       "    </tr>\n",
       "    <tr>\n",
       "      <th>7</th>\n",
       "      <td>150000</td>\n",
       "      <td>2</td>\n",
       "      <td>8</td>\n",
       "      <td>ArrayList</td>\n",
       "    </tr>\n",
       "    <tr>\n",
       "      <th>8</th>\n",
       "      <td>150000</td>\n",
       "      <td>3</td>\n",
       "      <td>5</td>\n",
       "      <td>ArrayList</td>\n",
       "    </tr>\n",
       "    <tr>\n",
       "      <th>9</th>\n",
       "      <td>150000</td>\n",
       "      <td>4</td>\n",
       "      <td>43</td>\n",
       "      <td>ArrayList</td>\n",
       "    </tr>\n",
       "  </tbody>\n",
       "</table>\n",
       "</div>"
      ],
      "text/plain": [
       "   NumberOfIntegers  DataStructure  insert() ds_insert()\n",
       "0            100000              0         3   ArrayList\n",
       "1            100000              1        42   ArrayList\n",
       "2            100000              2         5   ArrayList\n",
       "3            100000              3         4   ArrayList\n",
       "4            100000              4        42   ArrayList\n",
       "5            150000              0         5   ArrayList\n",
       "6            150000              1        43   ArrayList\n",
       "7            150000              2         8   ArrayList\n",
       "8            150000              3         5   ArrayList\n",
       "9            150000              4        43   ArrayList"
      ]
     },
     "execution_count": 21,
     "metadata": {},
     "output_type": "execute_result"
    }
   ],
   "source": [
    "split_dfs[0:1][0].head(10)"
   ]
  },
  {
   "cell_type": "code",
   "execution_count": 22,
   "id": "d7f02c48",
   "metadata": {
    "scrolled": true
   },
   "outputs": [
    {
     "name": "stdout",
     "output_type": "stream",
     "text": [
      "(1000, 4)\n",
      "2\n"
     ]
    }
   ],
   "source": [
    "print(split_dfs[0:1][0].shape)\n",
    "\n",
    "num_of_classes = len(split_dfs[0:1][0]['ds_insert()'].unique())\n",
    "print(num_of_classes)"
   ]
  },
  {
   "cell_type": "markdown",
   "id": "d06554e1",
   "metadata": {},
   "source": [
    "### split train input and output data"
   ]
  },
  {
   "cell_type": "code",
   "execution_count": 32,
   "id": "d8b48c00",
   "metadata": {
    "scrolled": true
   },
   "outputs": [],
   "source": [
    "# split train input and output data\n",
    "Xs = []\n",
    "Ys = []\n",
    "\n",
    "for i, df in enumerate(split_dfs):\n",
    "    Xs.append(df.drop(axis=0, columns=[new_cols[i]]))\n",
    "    Ys.append(df[new_cols[i]])"
   ]
  },
  {
   "cell_type": "markdown",
   "id": "5c8e3481",
   "metadata": {},
   "source": [
    "## Xgboost classifier"
   ]
  },
  {
   "cell_type": "code",
   "execution_count": 36,
   "id": "148a086d",
   "metadata": {
    "scrolled": false
   },
   "outputs": [
    {
     "name": "stderr",
     "output_type": "stream",
     "text": [
      "/home/janithahn/anaconda3/envs/ml/lib/python3.8/site-packages/xgboost/sklearn.py:1224: UserWarning: The use of label encoder in XGBClassifier is deprecated and will be removed in a future release. To remove this warning, do the following: 1) Pass option use_label_encoder=False when constructing XGBClassifier object; and 2) Encode your labels (y) as integers starting with 0, i.e. 0, 1, 2, ..., [num_class - 1].\n",
      "  warnings.warn(label_encoder_deprecation_msg, UserWarning)\n",
      "/home/janithahn/anaconda3/envs/ml/lib/python3.8/site-packages/xgboost/sklearn.py:1224: UserWarning: The use of label encoder in XGBClassifier is deprecated and will be removed in a future release. To remove this warning, do the following: 1) Pass option use_label_encoder=False when constructing XGBClassifier object; and 2) Encode your labels (y) as integers starting with 0, i.e. 0, 1, 2, ..., [num_class - 1].\n",
      "  warnings.warn(label_encoder_deprecation_msg, UserWarning)\n"
     ]
    },
    {
     "name": "stdout",
     "output_type": "stream",
     "text": [
      "\n",
      "--------------------------ds_insert()--------------------------\n",
      "Accuracy score:\n",
      " 1.0\n",
      "Confusion matrix:\n",
      " [[326   0]\n",
      " [  0   4]]\n",
      "Classification report:\n",
      "               precision    recall  f1-score   support\n",
      "\n",
      "   ArrayList     1.0000    1.0000    1.0000       326\n",
      "      Vector     1.0000    1.0000    1.0000         4\n",
      "\n",
      "    accuracy                         1.0000       330\n",
      "   macro avg     1.0000    1.0000    1.0000       330\n",
      "weighted avg     1.0000    1.0000    1.0000       330\n",
      "\n",
      "Precision:\n",
      " [1. 1.]\n",
      "Recall:\n",
      " [1. 1.]\n",
      "----------------------------------------------------------------\n",
      "\n",
      "--------------------------ds_insertAt()--------------------------\n",
      "Accuracy score:\n",
      " 1.0\n",
      "Confusion matrix:\n",
      " [[328   0]\n",
      " [  0   2]]\n",
      "Classification report:\n",
      "               precision    recall  f1-score   support\n",
      "\n",
      "   ArrayList     1.0000    1.0000    1.0000       328\n",
      "      Vector     1.0000    1.0000    1.0000         2\n",
      "\n",
      "    accuracy                         1.0000       330\n",
      "   macro avg     1.0000    1.0000    1.0000       330\n",
      "weighted avg     1.0000    1.0000    1.0000       330\n",
      "\n",
      "Precision:\n",
      " [1. 1.]\n",
      "Recall:\n",
      " [1. 1.]\n",
      "----------------------------------------------------------------\n"
     ]
    },
    {
     "name": "stderr",
     "output_type": "stream",
     "text": [
      "/home/janithahn/anaconda3/envs/ml/lib/python3.8/site-packages/xgboost/sklearn.py:1224: UserWarning: The use of label encoder in XGBClassifier is deprecated and will be removed in a future release. To remove this warning, do the following: 1) Pass option use_label_encoder=False when constructing XGBClassifier object; and 2) Encode your labels (y) as integers starting with 0, i.e. 0, 1, 2, ..., [num_class - 1].\n",
      "  warnings.warn(label_encoder_deprecation_msg, UserWarning)\n",
      "/home/janithahn/anaconda3/envs/ml/lib/python3.8/site-packages/xgboost/sklearn.py:1224: UserWarning: The use of label encoder in XGBClassifier is deprecated and will be removed in a future release. To remove this warning, do the following: 1) Pass option use_label_encoder=False when constructing XGBClassifier object; and 2) Encode your labels (y) as integers starting with 0, i.e. 0, 1, 2, ..., [num_class - 1].\n",
      "  warnings.warn(label_encoder_deprecation_msg, UserWarning)\n"
     ]
    },
    {
     "name": "stdout",
     "output_type": "stream",
     "text": [
      "\n",
      "--------------------------ds_contains()--------------------------\n",
      "Accuracy score:\n",
      " 1.0\n",
      "Confusion matrix:\n",
      " [[328   0]\n",
      " [  0   2]]\n",
      "Classification report:\n",
      "               precision    recall  f1-score   support\n",
      "\n",
      "   ArrayList     1.0000    1.0000    1.0000       328\n",
      "      Vector     1.0000    1.0000    1.0000         2\n",
      "\n",
      "    accuracy                         1.0000       330\n",
      "   macro avg     1.0000    1.0000    1.0000       330\n",
      "weighted avg     1.0000    1.0000    1.0000       330\n",
      "\n",
      "Precision:\n",
      " [1. 1.]\n",
      "Recall:\n",
      " [1. 1.]\n",
      "----------------------------------------------------------------\n",
      "\n",
      "--------------------------ds_indexOf()--------------------------\n",
      "Accuracy score:\n",
      " 1.0\n",
      "Confusion matrix:\n",
      " [[328   0]\n",
      " [  0   2]]\n",
      "Classification report:\n",
      "               precision    recall  f1-score   support\n",
      "\n",
      "   ArrayList     1.0000    1.0000    1.0000       328\n",
      "      Vector     1.0000    1.0000    1.0000         2\n",
      "\n",
      "    accuracy                         1.0000       330\n",
      "   macro avg     1.0000    1.0000    1.0000       330\n",
      "weighted avg     1.0000    1.0000    1.0000       330\n",
      "\n",
      "Precision:\n",
      " [1. 1.]\n",
      "Recall:\n",
      " [1. 1.]\n",
      "----------------------------------------------------------------\n"
     ]
    },
    {
     "name": "stderr",
     "output_type": "stream",
     "text": [
      "/home/janithahn/anaconda3/envs/ml/lib/python3.8/site-packages/xgboost/sklearn.py:1224: UserWarning: The use of label encoder in XGBClassifier is deprecated and will be removed in a future release. To remove this warning, do the following: 1) Pass option use_label_encoder=False when constructing XGBClassifier object; and 2) Encode your labels (y) as integers starting with 0, i.e. 0, 1, 2, ..., [num_class - 1].\n",
      "  warnings.warn(label_encoder_deprecation_msg, UserWarning)\n",
      "/home/janithahn/anaconda3/envs/ml/lib/python3.8/site-packages/xgboost/sklearn.py:1224: UserWarning: The use of label encoder in XGBClassifier is deprecated and will be removed in a future release. To remove this warning, do the following: 1) Pass option use_label_encoder=False when constructing XGBClassifier object; and 2) Encode your labels (y) as integers starting with 0, i.e. 0, 1, 2, ..., [num_class - 1].\n",
      "  warnings.warn(label_encoder_deprecation_msg, UserWarning)\n"
     ]
    },
    {
     "name": "stdout",
     "output_type": "stream",
     "text": [
      "\n",
      "--------------------------ds_get()--------------------------\n",
      "Accuracy score:\n",
      " 1.0\n",
      "Confusion matrix:\n",
      " [[328   0]\n",
      " [  0   2]]\n",
      "Classification report:\n",
      "               precision    recall  f1-score   support\n",
      "\n",
      "   ArrayList     1.0000    1.0000    1.0000       328\n",
      "      Vector     1.0000    1.0000    1.0000         2\n",
      "\n",
      "    accuracy                         1.0000       330\n",
      "   macro avg     1.0000    1.0000    1.0000       330\n",
      "weighted avg     1.0000    1.0000    1.0000       330\n",
      "\n",
      "Precision:\n",
      " [1. 1.]\n",
      "Recall:\n",
      " [1. 1.]\n",
      "----------------------------------------------------------------\n",
      "\n",
      "--------------------------ds_delete()--------------------------\n",
      "Accuracy score:\n",
      " 1.0\n",
      "Confusion matrix:\n",
      " [[328   0]\n",
      " [  0   2]]\n",
      "Classification report:\n",
      "               precision    recall  f1-score   support\n",
      "\n",
      "   ArrayList     1.0000    1.0000    1.0000       328\n",
      "      Vector     1.0000    1.0000    1.0000         2\n",
      "\n",
      "    accuracy                         1.0000       330\n",
      "   macro avg     1.0000    1.0000    1.0000       330\n",
      "weighted avg     1.0000    1.0000    1.0000       330\n",
      "\n",
      "Precision:\n",
      " [1. 1.]\n",
      "Recall:\n",
      " [1. 1.]\n",
      "----------------------------------------------------------------\n"
     ]
    }
   ],
   "source": [
    "from xgboost import XGBClassifier\n",
    "from sklearn.model_selection import train_test_split\n",
    "\n",
    "model_dic = {}\n",
    "\n",
    "for X, Y, col_name in zip(Xs, Ys, new_cols):\n",
    "    # Split into training and test sets\n",
    "    X_train, X_test, y_train, y_test = train_test_split(X, Y, test_size=0.33, random_state=42)\n",
    "    \n",
    "    # Create a classifier\n",
    "    xgb = XGBClassifier(\n",
    "                              booster='gbtree', \n",
    "                              objective='multi:softprob', \n",
    "                              random_state=42, \n",
    "                              eval_metric=\"auc\", \n",
    "                              num_class=num_of_classes,\n",
    "                              # n_estimators=2000\n",
    "                              # use_label_encoder=False\n",
    "                          )\n",
    "\n",
    "    # define the datasets to evaluate each iteration\n",
    "    evalset = [(X_train, y_train), (X_test, y_test)]\n",
    "\n",
    "    # Fit the classifier with the training data\n",
    "    xgb.fit(X_train, y_train, eval_metric=['merror','mlogloss'], eval_set=evalset, verbose=False)\n",
    "    \n",
    "    model_dic[col_name] = xgb\n",
    "\n",
    "    print('\\n--------------------------' + col_name + '--------------------------')\n",
    "    print_model_performance(xgb, X_test, y_test)\n",
    "    print('----------------------------------------------------------------')"
   ]
  },
  {
   "cell_type": "markdown",
   "id": "4959ff9e",
   "metadata": {},
   "source": [
    "## Learning curves"
   ]
  },
  {
   "cell_type": "code",
   "execution_count": 26,
   "id": "f10402bf",
   "metadata": {},
   "outputs": [
    {
     "name": "stdout",
     "output_type": "stream",
     "text": [
      "\n",
      "--------------------------ds_insert()--------------------------\n"
     ]
    },
    {
     "data": {
      "image/png": "[encoded data removed]",
      "text/plain": [
       "<Figure size 432x288 with 1 Axes>"
      ]
     },
     "metadata": {
      "needs_background": "light"
     },
     "output_type": "display_data"
    },
    {
     "name": "stdout",
     "output_type": "stream",
     "text": [
      "\n",
      "--------------------------ds_insertAt()--------------------------\n"
     ]
    },
    {
     "data": {
      "image/png": "[encoded data removed]",
      "text/plain": [
       "<Figure size 432x288 with 1 Axes>"
      ]
     },
     "metadata": {
      "needs_background": "light"
     },
     "output_type": "display_data"
    },
    {
     "name": "stdout",
     "output_type": "stream",
     "text": [
      "\n",
      "--------------------------ds_contains()--------------------------\n"
     ]
    },
    {
     "data": {
      "image/png": "[encoded data removed]",
      "text/plain": [
       "<Figure size 432x288 with 1 Axes>"
      ]
     },
     "metadata": {
      "needs_background": "light"
     },
     "output_type": "display_data"
    },
    {
     "name": "stdout",
     "output_type": "stream",
     "text": [
      "\n",
      "--------------------------ds_indexOf()--------------------------\n"
     ]
    },
    {
     "data": {
      "image/png": "[encoded data removed]",
      "text/plain": [
       "<Figure size 432x288 with 1 Axes>"
      ]
     },
     "metadata": {
      "needs_background": "light"
     },
     "output_type": "display_data"
    },
    {
     "name": "stdout",
     "output_type": "stream",
     "text": [
      "\n",
      "--------------------------ds_get()--------------------------\n"
     ]
    },
    {
     "data": {
      "image/png": "[encoded data removed]",
      "text/plain": [
       "<Figure size 432x288 with 1 Axes>"
      ]
     },
     "metadata": {
      "needs_background": "light"
     },
     "output_type": "display_data"
    },
    {
     "name": "stdout",
     "output_type": "stream",
     "text": [
      "\n",
      "--------------------------ds_delete()--------------------------\n"
     ]
    },
    {
     "data": {
      "image/png": "[encoded data removed]",
      "text/plain": [
       "<Figure size 432x288 with 1 Axes>"
      ]
     },
     "metadata": {
      "needs_background": "light"
     },
     "output_type": "display_data"
    }
   ],
   "source": [
    "for key, model in model_dic.items():\n",
    "    print('\\n--------------------------' + key + '--------------------------')\n",
    "    \n",
    "    # retrieve performance metrics\n",
    "    results = model.evals_result()\n",
    "\n",
    "    # plot learning curves\n",
    "    plt.plot(results['validation_0']['mlogloss'], label='train')\n",
    "    plt.plot(results['validation_1']['mlogloss'], label='test')\n",
    "    # show the legend\n",
    "    plt.legend()\n",
    "    # show the plot\n",
    "    plt.show()"
   ]
  },
  {
   "cell_type": "code",
   "execution_count": 46,
   "id": "a5ecb909",
   "metadata": {
    "scrolled": true
   },
   "outputs": [],
   "source": [
    "# for key, model in model_dic.items():\n",
    "#     print('\\n--------------------------' + key + '--------------------------')\n",
    "    \n",
    "#     # retrieve performance metrics\n",
    "#     results = model.evals_result()\n",
    "\n",
    "#     # plot learning curves\n",
    "#     plt.plot(results['validation_0']['merror'], label='train')\n",
    "#     plt.plot(results['validation_1']['merror'], label='test')\n",
    "#     # show the legend\n",
    "#     plt.legend()\n",
    "#     # show the plot\n",
    "#     plt.show()"
   ]
  },
  {
   "cell_type": "code",
   "execution_count": 47,
   "id": "8cf0c2f5",
   "metadata": {
    "scrolled": true
   },
   "outputs": [],
   "source": [
    "# from sklearn.metrics import roc_auc_score\n",
    "# from sklearn import preprocessing\n",
    "\n",
    "# # Use trained model to predict output of test dataset\n",
    "# val = xgb.predict(X_test)\n",
    "\n",
    "# lb = preprocessing.LabelBinarizer()\n",
    "# lb.fit(y_test)\n",
    "\n",
    "# y_test_lb = lb.transform(y_test)\n",
    "# val_lb = lb.transform(val)\n",
    "\n",
    "# roc_auc_score(y_test_lb, val_lb, average='macro')"
   ]
  },
  {
   "cell_type": "code",
   "execution_count": 67,
   "id": "771be5b3",
   "metadata": {
    "scrolled": true
   },
   "outputs": [
    {
     "name": "stdout",
     "output_type": "stream",
     "text": [
      "   NumberOfIntegers  DataStructure  insert()\n",
      "0          100000.0            NaN       NaN\n"
     ]
    },
    {
     "data": {
      "text/plain": [
       "array(['Vector_Initialized'], dtype=object)"
      ]
     },
     "execution_count": 67,
     "metadata": {},
     "output_type": "execute_result"
    }
   ],
   "source": [
    "row = pd.DataFrame(columns=['NumberOfIntegers', 'DataStructure', 'insert()'])\n",
    "row = row.append({\n",
    "    'NumberOfIntegers': 100000, \n",
    "    'DataStructure': None, \n",
    "    'insert()': None\n",
    "}, ignore_index = True)\n",
    "print(row)\n",
    "single_predict = model_dic['ds_insert()'].predict(row)\n",
    "single_predict"
   ]
  },
  {
   "cell_type": "markdown",
   "id": "f3817fbd",
   "metadata": {},
   "source": [
    "## Cross validation"
   ]
  },
  {
   "cell_type": "code",
   "execution_count": null,
   "id": "bfaab03e",
   "metadata": {
    "scrolled": false
   },
   "outputs": [],
   "source": [
    "X_test = Xs[0][1]\n",
    "y_test = Xs[0][3]\n",
    "\n",
    "val = model_dic['ds_insert()'].predict(X_test)\n",
    "\n",
    "output = pd.DataFrame()\n",
    "output['Expected Output'] = y_test\n",
    "output['Predicted Output'] = val\n",
    "output.head(20)"
   ]
  }
 ],
 "metadata": {
  "kernelspec": {
   "display_name": "Python 3 (ipykernel)",
   "language": "python",
   "name": "python3"
  },
  "language_info": {
   "codemirror_mode": {
    "name": "ipython",
    "version": 3
   },
   "file_extension": ".py",
   "mimetype": "text/x-python",
   "name": "python",
   "nbconvert_exporter": "python",
   "pygments_lexer": "ipython3",
   "version": "3.8.12"
  }
 },
 "nbformat": 4,
 "nbformat_minor": 5
}
