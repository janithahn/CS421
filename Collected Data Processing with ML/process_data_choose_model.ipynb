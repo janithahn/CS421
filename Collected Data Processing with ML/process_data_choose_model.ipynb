{
 "cells": [
  {
   "cell_type": "code",
   "execution_count": 1,
   "id": "98a5ed7a",
   "metadata": {},
   "outputs": [],
   "source": [
    "import pandas as pd\n",
    "import seaborn as sns\n",
    "import numpy as np\n",
    "import matplotlib.pyplot as plt"
   ]
  },
  {
   "cell_type": "code",
   "execution_count": 2,
   "id": "23169c55",
   "metadata": {},
   "outputs": [],
   "source": [
    "pd.set_option(\"display.max.columns\", None)\n",
    "df = pd.read_csv('./data/runtime_200steps_with_ids.csv')"
   ]
  },
  {
   "cell_type": "code",
   "execution_count": 3,
   "id": "a57ec6ea",
   "metadata": {
    "scrolled": true
   },
   "outputs": [
    {
     "data": {
      "text/html": [
       "<div>\n",
       "<style scoped>\n",
       "    .dataframe tbody tr th:only-of-type {\n",
       "        vertical-align: middle;\n",
       "    }\n",
       "\n",
       "    .dataframe tbody tr th {\n",
       "        vertical-align: top;\n",
       "    }\n",
       "\n",
       "    .dataframe thead th {\n",
       "        text-align: right;\n",
       "    }\n",
       "</style>\n",
       "<table border=\"1\" class=\"dataframe\">\n",
       "  <thead>\n",
       "    <tr style=\"text-align: right;\">\n",
       "      <th></th>\n",
       "      <th>ID</th>\n",
       "      <th>NumberOfIntegers</th>\n",
       "      <th>DataStructure</th>\n",
       "      <th>insert()</th>\n",
       "      <th>insertAt()</th>\n",
       "      <th>contains()</th>\n",
       "      <th>indexOf()</th>\n",
       "      <th>get()</th>\n",
       "      <th>delete()</th>\n",
       "    </tr>\n",
       "  </thead>\n",
       "  <tbody>\n",
       "    <tr>\n",
       "      <th>0</th>\n",
       "      <td>0</td>\n",
       "      <td>100000</td>\n",
       "      <td>ArrayList</td>\n",
       "      <td>6.75</td>\n",
       "      <td>10.76</td>\n",
       "      <td>3.08</td>\n",
       "      <td>3.13</td>\n",
       "      <td>0.11</td>\n",
       "      <td>10.86</td>\n",
       "    </tr>\n",
       "    <tr>\n",
       "      <th>1</th>\n",
       "      <td>1</td>\n",
       "      <td>100000</td>\n",
       "      <td>ArrayList_Initialized</td>\n",
       "      <td>2.94</td>\n",
       "      <td>5.23</td>\n",
       "      <td>0.28</td>\n",
       "      <td>0.26</td>\n",
       "      <td>0.07</td>\n",
       "      <td>5.09</td>\n",
       "    </tr>\n",
       "    <tr>\n",
       "      <th>2</th>\n",
       "      <td>2</td>\n",
       "      <td>100000</td>\n",
       "      <td>LinkedList</td>\n",
       "      <td>8.39</td>\n",
       "      <td>1.57</td>\n",
       "      <td>2.80</td>\n",
       "      <td>0.84</td>\n",
       "      <td>1.50</td>\n",
       "      <td>0.17</td>\n",
       "    </tr>\n",
       "    <tr>\n",
       "      <th>3</th>\n",
       "      <td>3</td>\n",
       "      <td>100000</td>\n",
       "      <td>Vector</td>\n",
       "      <td>7.39</td>\n",
       "      <td>10.81</td>\n",
       "      <td>2.67</td>\n",
       "      <td>3.13</td>\n",
       "      <td>0.16</td>\n",
       "      <td>14.04</td>\n",
       "    </tr>\n",
       "    <tr>\n",
       "      <th>4</th>\n",
       "      <td>4</td>\n",
       "      <td>100000</td>\n",
       "      <td>Vector_Initialized</td>\n",
       "      <td>2.96</td>\n",
       "      <td>5.18</td>\n",
       "      <td>0.27</td>\n",
       "      <td>0.26</td>\n",
       "      <td>0.07</td>\n",
       "      <td>5.10</td>\n",
       "    </tr>\n",
       "    <tr>\n",
       "      <th>5</th>\n",
       "      <td>5</td>\n",
       "      <td>150000</td>\n",
       "      <td>ArrayList</td>\n",
       "      <td>5.44</td>\n",
       "      <td>12.70</td>\n",
       "      <td>0.62</td>\n",
       "      <td>0.62</td>\n",
       "      <td>0.12</td>\n",
       "      <td>12.77</td>\n",
       "    </tr>\n",
       "    <tr>\n",
       "      <th>6</th>\n",
       "      <td>6</td>\n",
       "      <td>150000</td>\n",
       "      <td>ArrayList_Initialized</td>\n",
       "      <td>4.16</td>\n",
       "      <td>12.73</td>\n",
       "      <td>0.61</td>\n",
       "      <td>0.60</td>\n",
       "      <td>0.12</td>\n",
       "      <td>12.76</td>\n",
       "    </tr>\n",
       "    <tr>\n",
       "      <th>7</th>\n",
       "      <td>7</td>\n",
       "      <td>150000</td>\n",
       "      <td>LinkedList</td>\n",
       "      <td>8.57</td>\n",
       "      <td>1.50</td>\n",
       "      <td>2.13</td>\n",
       "      <td>2.12</td>\n",
       "      <td>1.45</td>\n",
       "      <td>0.11</td>\n",
       "    </tr>\n",
       "    <tr>\n",
       "      <th>8</th>\n",
       "      <td>8</td>\n",
       "      <td>150000</td>\n",
       "      <td>Vector</td>\n",
       "      <td>4.90</td>\n",
       "      <td>11.94</td>\n",
       "      <td>1.00</td>\n",
       "      <td>0.73</td>\n",
       "      <td>0.15</td>\n",
       "      <td>11.99</td>\n",
       "    </tr>\n",
       "    <tr>\n",
       "      <th>9</th>\n",
       "      <td>9</td>\n",
       "      <td>150000</td>\n",
       "      <td>Vector_Initialized</td>\n",
       "      <td>1.74</td>\n",
       "      <td>12.37</td>\n",
       "      <td>0.54</td>\n",
       "      <td>0.57</td>\n",
       "      <td>0.10</td>\n",
       "      <td>11.47</td>\n",
       "    </tr>\n",
       "    <tr>\n",
       "      <th>10</th>\n",
       "      <td>10</td>\n",
       "      <td>200000</td>\n",
       "      <td>ArrayList</td>\n",
       "      <td>2.97</td>\n",
       "      <td>20.61</td>\n",
       "      <td>0.97</td>\n",
       "      <td>0.90</td>\n",
       "      <td>0.13</td>\n",
       "      <td>20.31</td>\n",
       "    </tr>\n",
       "    <tr>\n",
       "      <th>11</th>\n",
       "      <td>11</td>\n",
       "      <td>200000</td>\n",
       "      <td>ArrayList_Initialized</td>\n",
       "      <td>2.17</td>\n",
       "      <td>20.08</td>\n",
       "      <td>0.91</td>\n",
       "      <td>0.89</td>\n",
       "      <td>0.13</td>\n",
       "      <td>20.26</td>\n",
       "    </tr>\n",
       "    <tr>\n",
       "      <th>12</th>\n",
       "      <td>12</td>\n",
       "      <td>200000</td>\n",
       "      <td>LinkedList</td>\n",
       "      <td>2.13</td>\n",
       "      <td>2.31</td>\n",
       "      <td>3.27</td>\n",
       "      <td>3.27</td>\n",
       "      <td>2.25</td>\n",
       "      <td>0.13</td>\n",
       "    </tr>\n",
       "    <tr>\n",
       "      <th>13</th>\n",
       "      <td>13</td>\n",
       "      <td>200000</td>\n",
       "      <td>Vector</td>\n",
       "      <td>2.58</td>\n",
       "      <td>20.17</td>\n",
       "      <td>0.96</td>\n",
       "      <td>0.92</td>\n",
       "      <td>0.15</td>\n",
       "      <td>20.49</td>\n",
       "    </tr>\n",
       "    <tr>\n",
       "      <th>14</th>\n",
       "      <td>14</td>\n",
       "      <td>200000</td>\n",
       "      <td>Vector_Initialized</td>\n",
       "      <td>2.43</td>\n",
       "      <td>20.25</td>\n",
       "      <td>0.91</td>\n",
       "      <td>0.89</td>\n",
       "      <td>0.14</td>\n",
       "      <td>20.23</td>\n",
       "    </tr>\n",
       "    <tr>\n",
       "      <th>15</th>\n",
       "      <td>15</td>\n",
       "      <td>250000</td>\n",
       "      <td>ArrayList</td>\n",
       "      <td>2.48</td>\n",
       "      <td>31.32</td>\n",
       "      <td>1.50</td>\n",
       "      <td>1.41</td>\n",
       "      <td>0.17</td>\n",
       "      <td>31.52</td>\n",
       "    </tr>\n",
       "    <tr>\n",
       "      <th>16</th>\n",
       "      <td>16</td>\n",
       "      <td>250000</td>\n",
       "      <td>ArrayList_Initialized</td>\n",
       "      <td>2.04</td>\n",
       "      <td>31.88</td>\n",
       "      <td>1.43</td>\n",
       "      <td>1.44</td>\n",
       "      <td>0.17</td>\n",
       "      <td>31.82</td>\n",
       "    </tr>\n",
       "    <tr>\n",
       "      <th>17</th>\n",
       "      <td>17</td>\n",
       "      <td>250000</td>\n",
       "      <td>LinkedList</td>\n",
       "      <td>2.48</td>\n",
       "      <td>3.95</td>\n",
       "      <td>5.54</td>\n",
       "      <td>5.15</td>\n",
       "      <td>3.52</td>\n",
       "      <td>0.15</td>\n",
       "    </tr>\n",
       "    <tr>\n",
       "      <th>18</th>\n",
       "      <td>18</td>\n",
       "      <td>250000</td>\n",
       "      <td>Vector</td>\n",
       "      <td>1.90</td>\n",
       "      <td>31.44</td>\n",
       "      <td>1.45</td>\n",
       "      <td>1.42</td>\n",
       "      <td>0.16</td>\n",
       "      <td>32.42</td>\n",
       "    </tr>\n",
       "    <tr>\n",
       "      <th>19</th>\n",
       "      <td>19</td>\n",
       "      <td>250000</td>\n",
       "      <td>Vector_Initialized</td>\n",
       "      <td>1.72</td>\n",
       "      <td>32.18</td>\n",
       "      <td>1.49</td>\n",
       "      <td>1.76</td>\n",
       "      <td>0.18</td>\n",
       "      <td>32.15</td>\n",
       "    </tr>\n",
       "  </tbody>\n",
       "</table>\n",
       "</div>"
      ],
      "text/plain": [
       "    ID  NumberOfIntegers          DataStructure  insert()  insertAt()  \\\n",
       "0    0            100000              ArrayList      6.75       10.76   \n",
       "1    1            100000  ArrayList_Initialized      2.94        5.23   \n",
       "2    2            100000             LinkedList      8.39        1.57   \n",
       "3    3            100000                 Vector      7.39       10.81   \n",
       "4    4            100000     Vector_Initialized      2.96        5.18   \n",
       "5    5            150000              ArrayList      5.44       12.70   \n",
       "6    6            150000  ArrayList_Initialized      4.16       12.73   \n",
       "7    7            150000             LinkedList      8.57        1.50   \n",
       "8    8            150000                 Vector      4.90       11.94   \n",
       "9    9            150000     Vector_Initialized      1.74       12.37   \n",
       "10  10            200000              ArrayList      2.97       20.61   \n",
       "11  11            200000  ArrayList_Initialized      2.17       20.08   \n",
       "12  12            200000             LinkedList      2.13        2.31   \n",
       "13  13            200000                 Vector      2.58       20.17   \n",
       "14  14            200000     Vector_Initialized      2.43       20.25   \n",
       "15  15            250000              ArrayList      2.48       31.32   \n",
       "16  16            250000  ArrayList_Initialized      2.04       31.88   \n",
       "17  17            250000             LinkedList      2.48        3.95   \n",
       "18  18            250000                 Vector      1.90       31.44   \n",
       "19  19            250000     Vector_Initialized      1.72       32.18   \n",
       "\n",
       "    contains()  indexOf()  get()  delete()  \n",
       "0         3.08       3.13   0.11     10.86  \n",
       "1         0.28       0.26   0.07      5.09  \n",
       "2         2.80       0.84   1.50      0.17  \n",
       "3         2.67       3.13   0.16     14.04  \n",
       "4         0.27       0.26   0.07      5.10  \n",
       "5         0.62       0.62   0.12     12.77  \n",
       "6         0.61       0.60   0.12     12.76  \n",
       "7         2.13       2.12   1.45      0.11  \n",
       "8         1.00       0.73   0.15     11.99  \n",
       "9         0.54       0.57   0.10     11.47  \n",
       "10        0.97       0.90   0.13     20.31  \n",
       "11        0.91       0.89   0.13     20.26  \n",
       "12        3.27       3.27   2.25      0.13  \n",
       "13        0.96       0.92   0.15     20.49  \n",
       "14        0.91       0.89   0.14     20.23  \n",
       "15        1.50       1.41   0.17     31.52  \n",
       "16        1.43       1.44   0.17     31.82  \n",
       "17        5.54       5.15   3.52      0.15  \n",
       "18        1.45       1.42   0.16     32.42  \n",
       "19        1.49       1.76   0.18     32.15  "
      ]
     },
     "execution_count": 3,
     "metadata": {},
     "output_type": "execute_result"
    }
   ],
   "source": [
    "df.head(20)"
   ]
  },
  {
   "cell_type": "markdown",
   "id": "7dc510c1",
   "metadata": {},
   "source": [
    "### Grouping the values by NumberOfIntegers"
   ]
  },
  {
   "cell_type": "code",
   "execution_count": 4,
   "id": "fd37ac12",
   "metadata": {
    "scrolled": true
   },
   "outputs": [
    {
     "data": {
      "text/html": [
       "<div>\n",
       "<style scoped>\n",
       "    .dataframe tbody tr th:only-of-type {\n",
       "        vertical-align: middle;\n",
       "    }\n",
       "\n",
       "    .dataframe tbody tr th {\n",
       "        vertical-align: top;\n",
       "    }\n",
       "\n",
       "    .dataframe thead th {\n",
       "        text-align: right;\n",
       "    }\n",
       "</style>\n",
       "<table border=\"1\" class=\"dataframe\">\n",
       "  <thead>\n",
       "    <tr style=\"text-align: right;\">\n",
       "      <th></th>\n",
       "      <th></th>\n",
       "      <th>ID</th>\n",
       "      <th>NumberOfIntegers</th>\n",
       "      <th>DataStructure</th>\n",
       "      <th>insert()</th>\n",
       "      <th>insertAt()</th>\n",
       "      <th>contains()</th>\n",
       "      <th>indexOf()</th>\n",
       "      <th>get()</th>\n",
       "      <th>delete()</th>\n",
       "    </tr>\n",
       "    <tr>\n",
       "      <th>NumberOfIntegers</th>\n",
       "      <th></th>\n",
       "      <th></th>\n",
       "      <th></th>\n",
       "      <th></th>\n",
       "      <th></th>\n",
       "      <th></th>\n",
       "      <th></th>\n",
       "      <th></th>\n",
       "      <th></th>\n",
       "      <th></th>\n",
       "    </tr>\n",
       "  </thead>\n",
       "  <tbody>\n",
       "    <tr>\n",
       "      <th rowspan=\"5\" valign=\"top\">100000</th>\n",
       "      <th>0</th>\n",
       "      <td>1</td>\n",
       "      <td>100000</td>\n",
       "      <td>ArrayList_Initialized</td>\n",
       "      <td>2.94</td>\n",
       "      <td>5.23</td>\n",
       "      <td>0.28</td>\n",
       "      <td>0.26</td>\n",
       "      <td>0.07</td>\n",
       "      <td>5.09</td>\n",
       "    </tr>\n",
       "    <tr>\n",
       "      <th>1</th>\n",
       "      <td>3</td>\n",
       "      <td>100000</td>\n",
       "      <td>Vector</td>\n",
       "      <td>7.39</td>\n",
       "      <td>10.81</td>\n",
       "      <td>2.67</td>\n",
       "      <td>3.13</td>\n",
       "      <td>0.16</td>\n",
       "      <td>14.04</td>\n",
       "    </tr>\n",
       "    <tr>\n",
       "      <th>2</th>\n",
       "      <td>0</td>\n",
       "      <td>100000</td>\n",
       "      <td>ArrayList</td>\n",
       "      <td>6.75</td>\n",
       "      <td>10.76</td>\n",
       "      <td>3.08</td>\n",
       "      <td>3.13</td>\n",
       "      <td>0.11</td>\n",
       "      <td>10.86</td>\n",
       "    </tr>\n",
       "    <tr>\n",
       "      <th>3</th>\n",
       "      <td>2</td>\n",
       "      <td>100000</td>\n",
       "      <td>LinkedList</td>\n",
       "      <td>8.39</td>\n",
       "      <td>1.57</td>\n",
       "      <td>2.80</td>\n",
       "      <td>0.84</td>\n",
       "      <td>1.50</td>\n",
       "      <td>0.17</td>\n",
       "    </tr>\n",
       "    <tr>\n",
       "      <th>4</th>\n",
       "      <td>4</td>\n",
       "      <td>100000</td>\n",
       "      <td>Vector_Initialized</td>\n",
       "      <td>2.96</td>\n",
       "      <td>5.18</td>\n",
       "      <td>0.27</td>\n",
       "      <td>0.26</td>\n",
       "      <td>0.07</td>\n",
       "      <td>5.10</td>\n",
       "    </tr>\n",
       "    <tr>\n",
       "      <th rowspan=\"5\" valign=\"top\">150000</th>\n",
       "      <th>0</th>\n",
       "      <td>7</td>\n",
       "      <td>150000</td>\n",
       "      <td>LinkedList</td>\n",
       "      <td>8.57</td>\n",
       "      <td>1.50</td>\n",
       "      <td>2.13</td>\n",
       "      <td>2.12</td>\n",
       "      <td>1.45</td>\n",
       "      <td>0.11</td>\n",
       "    </tr>\n",
       "    <tr>\n",
       "      <th>1</th>\n",
       "      <td>9</td>\n",
       "      <td>150000</td>\n",
       "      <td>Vector_Initialized</td>\n",
       "      <td>1.74</td>\n",
       "      <td>12.37</td>\n",
       "      <td>0.54</td>\n",
       "      <td>0.57</td>\n",
       "      <td>0.10</td>\n",
       "      <td>11.47</td>\n",
       "    </tr>\n",
       "    <tr>\n",
       "      <th>2</th>\n",
       "      <td>5</td>\n",
       "      <td>150000</td>\n",
       "      <td>ArrayList</td>\n",
       "      <td>5.44</td>\n",
       "      <td>12.70</td>\n",
       "      <td>0.62</td>\n",
       "      <td>0.62</td>\n",
       "      <td>0.12</td>\n",
       "      <td>12.77</td>\n",
       "    </tr>\n",
       "    <tr>\n",
       "      <th>3</th>\n",
       "      <td>8</td>\n",
       "      <td>150000</td>\n",
       "      <td>Vector</td>\n",
       "      <td>4.90</td>\n",
       "      <td>11.94</td>\n",
       "      <td>1.00</td>\n",
       "      <td>0.73</td>\n",
       "      <td>0.15</td>\n",
       "      <td>11.99</td>\n",
       "    </tr>\n",
       "    <tr>\n",
       "      <th>4</th>\n",
       "      <td>6</td>\n",
       "      <td>150000</td>\n",
       "      <td>ArrayList_Initialized</td>\n",
       "      <td>4.16</td>\n",
       "      <td>12.73</td>\n",
       "      <td>0.61</td>\n",
       "      <td>0.60</td>\n",
       "      <td>0.12</td>\n",
       "      <td>12.76</td>\n",
       "    </tr>\n",
       "  </tbody>\n",
       "</table>\n",
       "</div>"
      ],
      "text/plain": [
       "                    ID  NumberOfIntegers          DataStructure  insert()  \\\n",
       "NumberOfIntegers                                                            \n",
       "100000           0   1            100000  ArrayList_Initialized      2.94   \n",
       "                 1   3            100000                 Vector      7.39   \n",
       "                 2   0            100000              ArrayList      6.75   \n",
       "                 3   2            100000             LinkedList      8.39   \n",
       "                 4   4            100000     Vector_Initialized      2.96   \n",
       "150000           0   7            150000             LinkedList      8.57   \n",
       "                 1   9            150000     Vector_Initialized      1.74   \n",
       "                 2   5            150000              ArrayList      5.44   \n",
       "                 3   8            150000                 Vector      4.90   \n",
       "                 4   6            150000  ArrayList_Initialized      4.16   \n",
       "\n",
       "                    insertAt()  contains()  indexOf()  get()  delete()  \n",
       "NumberOfIntegers                                                        \n",
       "100000           0        5.23        0.28       0.26   0.07      5.09  \n",
       "                 1       10.81        2.67       3.13   0.16     14.04  \n",
       "                 2       10.76        3.08       3.13   0.11     10.86  \n",
       "                 3        1.57        2.80       0.84   1.50      0.17  \n",
       "                 4        5.18        0.27       0.26   0.07      5.10  \n",
       "150000           0        1.50        2.13       2.12   1.45      0.11  \n",
       "                 1       12.37        0.54       0.57   0.10     11.47  \n",
       "                 2       12.70        0.62       0.62   0.12     12.77  \n",
       "                 3       11.94        1.00       0.73   0.15     11.99  \n",
       "                 4       12.73        0.61       0.60   0.12     12.76  "
      ]
     },
     "execution_count": 4,
     "metadata": {},
     "output_type": "execute_result"
    }
   ],
   "source": [
    "g = df.groupby('NumberOfIntegers')\n",
    "# g.apply(lambda x: x).head(10)\n",
    "g.apply(lambda x: x.sample(g.size().min()).reset_index(drop=True)).head(10)"
   ]
  },
  {
   "cell_type": "markdown",
   "id": "0586e5b8",
   "metadata": {},
   "source": [
    "### Taking the minmum value of the insert() column of each group"
   ]
  },
  {
   "cell_type": "code",
   "execution_count": 5,
   "id": "ff2f74b8",
   "metadata": {
    "scrolled": true
   },
   "outputs": [
    {
     "data": {
      "text/plain": [
       "NumberOfIntegers\n",
       "100000       2.94\n",
       "150000       1.74\n",
       "200000       2.13\n",
       "250000       1.72\n",
       "300000       4.32\n",
       "            ...  \n",
       "9850000     19.44\n",
       "9900000      8.42\n",
       "9950000     13.09\n",
       "10000000    11.57\n",
       "10050000     6.86\n",
       "Name: insert(), Length: 200, dtype: float64"
      ]
     },
     "execution_count": 5,
     "metadata": {},
     "output_type": "execute_result"
    }
   ],
   "source": [
    "df.groupby('NumberOfIntegers')['insert()'].min()"
   ]
  },
  {
   "cell_type": "markdown",
   "id": "3c252f11",
   "metadata": {},
   "source": [
    "### Viewing the entire rows of above values"
   ]
  },
  {
   "cell_type": "markdown",
   "id": "b3c9749f",
   "metadata": {},
   "source": [
    "We need to take the minimum value of each column separately for each group, and consider it as the best data structure for that number of insert values. For example, below, we have considered the insert() column, and taken the minimum run-time for each group. The data structure that values belongs is the best data structure for that particular group in terms of insert() operation."
   ]
  },
  {
   "cell_type": "code",
   "execution_count": 6,
   "id": "34ce74fe",
   "metadata": {
    "scrolled": true
   },
   "outputs": [
    {
     "data": {
      "text/html": [
       "<div>\n",
       "<style scoped>\n",
       "    .dataframe tbody tr th:only-of-type {\n",
       "        vertical-align: middle;\n",
       "    }\n",
       "\n",
       "    .dataframe tbody tr th {\n",
       "        vertical-align: top;\n",
       "    }\n",
       "\n",
       "    .dataframe thead th {\n",
       "        text-align: right;\n",
       "    }\n",
       "</style>\n",
       "<table border=\"1\" class=\"dataframe\">\n",
       "  <thead>\n",
       "    <tr style=\"text-align: right;\">\n",
       "      <th></th>\n",
       "      <th>ID</th>\n",
       "      <th>DataStructure</th>\n",
       "      <th>insert()</th>\n",
       "    </tr>\n",
       "  </thead>\n",
       "  <tbody>\n",
       "    <tr>\n",
       "      <th>1</th>\n",
       "      <td>1</td>\n",
       "      <td>ArrayList_Initialized</td>\n",
       "      <td>2.94</td>\n",
       "    </tr>\n",
       "    <tr>\n",
       "      <th>9</th>\n",
       "      <td>9</td>\n",
       "      <td>Vector_Initialized</td>\n",
       "      <td>1.74</td>\n",
       "    </tr>\n",
       "    <tr>\n",
       "      <th>12</th>\n",
       "      <td>12</td>\n",
       "      <td>LinkedList</td>\n",
       "      <td>2.13</td>\n",
       "    </tr>\n",
       "    <tr>\n",
       "      <th>19</th>\n",
       "      <td>19</td>\n",
       "      <td>Vector_Initialized</td>\n",
       "      <td>1.72</td>\n",
       "    </tr>\n",
       "    <tr>\n",
       "      <th>21</th>\n",
       "      <td>21</td>\n",
       "      <td>ArrayList_Initialized</td>\n",
       "      <td>4.32</td>\n",
       "    </tr>\n",
       "    <tr>\n",
       "      <th>...</th>\n",
       "      <td>...</td>\n",
       "      <td>...</td>\n",
       "      <td>...</td>\n",
       "    </tr>\n",
       "    <tr>\n",
       "      <th>976</th>\n",
       "      <td>976</td>\n",
       "      <td>ArrayList_Initialized</td>\n",
       "      <td>19.44</td>\n",
       "    </tr>\n",
       "    <tr>\n",
       "      <th>981</th>\n",
       "      <td>981</td>\n",
       "      <td>ArrayList_Initialized</td>\n",
       "      <td>8.42</td>\n",
       "    </tr>\n",
       "    <tr>\n",
       "      <th>987</th>\n",
       "      <td>987</td>\n",
       "      <td>LinkedList</td>\n",
       "      <td>13.09</td>\n",
       "    </tr>\n",
       "    <tr>\n",
       "      <th>991</th>\n",
       "      <td>991</td>\n",
       "      <td>ArrayList_Initialized</td>\n",
       "      <td>11.57</td>\n",
       "    </tr>\n",
       "    <tr>\n",
       "      <th>997</th>\n",
       "      <td>997</td>\n",
       "      <td>LinkedList</td>\n",
       "      <td>6.86</td>\n",
       "    </tr>\n",
       "  </tbody>\n",
       "</table>\n",
       "<p>200 rows × 3 columns</p>\n",
       "</div>"
      ],
      "text/plain": [
       "      ID          DataStructure  insert()\n",
       "1      1  ArrayList_Initialized      2.94\n",
       "9      9     Vector_Initialized      1.74\n",
       "12    12             LinkedList      2.13\n",
       "19    19     Vector_Initialized      1.72\n",
       "21    21  ArrayList_Initialized      4.32\n",
       "..   ...                    ...       ...\n",
       "976  976  ArrayList_Initialized     19.44\n",
       "981  981  ArrayList_Initialized      8.42\n",
       "987  987             LinkedList     13.09\n",
       "991  991  ArrayList_Initialized     11.57\n",
       "997  997             LinkedList      6.86\n",
       "\n",
       "[200 rows x 3 columns]"
      ]
     },
     "execution_count": 6,
     "metadata": {},
     "output_type": "execute_result"
    }
   ],
   "source": [
    "df.loc[df.groupby('NumberOfIntegers')['insert()'].idxmin()][['ID', 'DataStructure', 'insert()']]"
   ]
  },
  {
   "cell_type": "markdown",
   "id": "2d682eb5",
   "metadata": {},
   "source": [
    "### Method that returns individual grouped dfs with min value of the relevant column"
   ]
  },
  {
   "cell_type": "code",
   "execution_count": 7,
   "id": "d2291fa0",
   "metadata": {},
   "outputs": [],
   "source": [
    "def get_min_dfs():\n",
    "    cols = ['insert()', 'insertAt()', 'contains()', 'indexOf()', 'get()', 'delete()']\n",
    "    return [df.loc[df.groupby('NumberOfIntegers')[col].idxmin()][['ID', 'NumberOfIntegers', 'DataStructure', col]] for col in cols]"
   ]
  },
  {
   "cell_type": "code",
   "execution_count": 8,
   "id": "97030c83",
   "metadata": {
    "scrolled": false
   },
   "outputs": [
    {
     "data": {
      "text/plain": [
       "[      ID  NumberOfIntegers          DataStructure  insert()\n",
       " 1      1            100000  ArrayList_Initialized      2.94\n",
       " 9      9            150000     Vector_Initialized      1.74\n",
       " 12    12            200000             LinkedList      2.13\n",
       " 19    19            250000     Vector_Initialized      1.72\n",
       " 21    21            300000  ArrayList_Initialized      4.32\n",
       " ..   ...               ...                    ...       ...\n",
       " 976  976           9850000  ArrayList_Initialized     19.44\n",
       " 981  981           9900000  ArrayList_Initialized      8.42\n",
       " 987  987           9950000             LinkedList     13.09\n",
       " 991  991          10000000  ArrayList_Initialized     11.57\n",
       " 997  997          10050000             LinkedList      6.86\n",
       " \n",
       " [200 rows x 4 columns],\n",
       "       ID  NumberOfIntegers DataStructure  insertAt()\n",
       " 2      2            100000    LinkedList        1.57\n",
       " 7      7            150000    LinkedList        1.50\n",
       " 12    12            200000    LinkedList        2.31\n",
       " 17    17            250000    LinkedList        3.95\n",
       " 22    22            300000    LinkedList        5.16\n",
       " ..   ...               ...           ...         ...\n",
       " 977  977           9850000    LinkedList       64.49\n",
       " 982  982           9900000    LinkedList       72.46\n",
       " 987  987           9950000    LinkedList       63.12\n",
       " 992  992          10000000    LinkedList       66.22\n",
       " 997  997          10050000    LinkedList       64.81\n",
       " \n",
       " [200 rows x 4 columns]]"
      ]
     },
     "execution_count": 8,
     "metadata": {},
     "output_type": "execute_result"
    }
   ],
   "source": [
    "min_dfs = get_min_dfs()\n",
    "min_dfs[0:2]"
   ]
  },
  {
   "cell_type": "markdown",
   "id": "bc7c2ab8",
   "metadata": {},
   "source": [
    "### Adding a new 'recommended' column"
   ]
  },
  {
   "cell_type": "code",
   "execution_count": 9,
   "id": "9ab64c7a",
   "metadata": {
    "scrolled": true
   },
   "outputs": [
    {
     "data": {
      "text/html": [
       "<div>\n",
       "<style scoped>\n",
       "    .dataframe tbody tr th:only-of-type {\n",
       "        vertical-align: middle;\n",
       "    }\n",
       "\n",
       "    .dataframe tbody tr th {\n",
       "        vertical-align: top;\n",
       "    }\n",
       "\n",
       "    .dataframe thead th {\n",
       "        text-align: right;\n",
       "    }\n",
       "</style>\n",
       "<table border=\"1\" class=\"dataframe\">\n",
       "  <thead>\n",
       "    <tr style=\"text-align: right;\">\n",
       "      <th></th>\n",
       "      <th>ID</th>\n",
       "      <th>NumberOfIntegers</th>\n",
       "      <th>DataStructure</th>\n",
       "      <th>insert()</th>\n",
       "      <th>new_col</th>\n",
       "    </tr>\n",
       "  </thead>\n",
       "  <tbody>\n",
       "    <tr>\n",
       "      <th>1</th>\n",
       "      <td>1</td>\n",
       "      <td>100000</td>\n",
       "      <td>ArrayList_Initialized</td>\n",
       "      <td>2.94</td>\n",
       "      <td>ArrayList_Initialized</td>\n",
       "    </tr>\n",
       "    <tr>\n",
       "      <th>9</th>\n",
       "      <td>9</td>\n",
       "      <td>150000</td>\n",
       "      <td>Vector_Initialized</td>\n",
       "      <td>1.74</td>\n",
       "      <td>Vector_Initialized</td>\n",
       "    </tr>\n",
       "    <tr>\n",
       "      <th>12</th>\n",
       "      <td>12</td>\n",
       "      <td>200000</td>\n",
       "      <td>LinkedList</td>\n",
       "      <td>2.13</td>\n",
       "      <td>LinkedList</td>\n",
       "    </tr>\n",
       "    <tr>\n",
       "      <th>19</th>\n",
       "      <td>19</td>\n",
       "      <td>250000</td>\n",
       "      <td>Vector_Initialized</td>\n",
       "      <td>1.72</td>\n",
       "      <td>Vector_Initialized</td>\n",
       "    </tr>\n",
       "    <tr>\n",
       "      <th>21</th>\n",
       "      <td>21</td>\n",
       "      <td>300000</td>\n",
       "      <td>ArrayList_Initialized</td>\n",
       "      <td>4.32</td>\n",
       "      <td>ArrayList_Initialized</td>\n",
       "    </tr>\n",
       "    <tr>\n",
       "      <th>...</th>\n",
       "      <td>...</td>\n",
       "      <td>...</td>\n",
       "      <td>...</td>\n",
       "      <td>...</td>\n",
       "      <td>...</td>\n",
       "    </tr>\n",
       "    <tr>\n",
       "      <th>976</th>\n",
       "      <td>976</td>\n",
       "      <td>9850000</td>\n",
       "      <td>ArrayList_Initialized</td>\n",
       "      <td>19.44</td>\n",
       "      <td>ArrayList_Initialized</td>\n",
       "    </tr>\n",
       "    <tr>\n",
       "      <th>981</th>\n",
       "      <td>981</td>\n",
       "      <td>9900000</td>\n",
       "      <td>ArrayList_Initialized</td>\n",
       "      <td>8.42</td>\n",
       "      <td>ArrayList_Initialized</td>\n",
       "    </tr>\n",
       "    <tr>\n",
       "      <th>987</th>\n",
       "      <td>987</td>\n",
       "      <td>9950000</td>\n",
       "      <td>LinkedList</td>\n",
       "      <td>13.09</td>\n",
       "      <td>LinkedList</td>\n",
       "    </tr>\n",
       "    <tr>\n",
       "      <th>991</th>\n",
       "      <td>991</td>\n",
       "      <td>10000000</td>\n",
       "      <td>ArrayList_Initialized</td>\n",
       "      <td>11.57</td>\n",
       "      <td>ArrayList_Initialized</td>\n",
       "    </tr>\n",
       "    <tr>\n",
       "      <th>997</th>\n",
       "      <td>997</td>\n",
       "      <td>10050000</td>\n",
       "      <td>LinkedList</td>\n",
       "      <td>6.86</td>\n",
       "      <td>LinkedList</td>\n",
       "    </tr>\n",
       "  </tbody>\n",
       "</table>\n",
       "<p>200 rows × 5 columns</p>\n",
       "</div>"
      ],
      "text/plain": [
       "      ID  NumberOfIntegers          DataStructure  insert()  \\\n",
       "1      1            100000  ArrayList_Initialized      2.94   \n",
       "9      9            150000     Vector_Initialized      1.74   \n",
       "12    12            200000             LinkedList      2.13   \n",
       "19    19            250000     Vector_Initialized      1.72   \n",
       "21    21            300000  ArrayList_Initialized      4.32   \n",
       "..   ...               ...                    ...       ...   \n",
       "976  976           9850000  ArrayList_Initialized     19.44   \n",
       "981  981           9900000  ArrayList_Initialized      8.42   \n",
       "987  987           9950000             LinkedList     13.09   \n",
       "991  991          10000000  ArrayList_Initialized     11.57   \n",
       "997  997          10050000             LinkedList      6.86   \n",
       "\n",
       "                   new_col  \n",
       "1    ArrayList_Initialized  \n",
       "9       Vector_Initialized  \n",
       "12              LinkedList  \n",
       "19      Vector_Initialized  \n",
       "21   ArrayList_Initialized  \n",
       "..                     ...  \n",
       "976  ArrayList_Initialized  \n",
       "981  ArrayList_Initialized  \n",
       "987             LinkedList  \n",
       "991  ArrayList_Initialized  \n",
       "997             LinkedList  \n",
       "\n",
       "[200 rows x 5 columns]"
      ]
     },
     "execution_count": 9,
     "metadata": {},
     "output_type": "execute_result"
    }
   ],
   "source": [
    "# Trying out the method with a sample. Here, 'new_col' is the recommended col.\n",
    "col_arr = min_dfs[0]['DataStructure'].to_numpy()\n",
    "min_dfs[0].loc[min_dfs[0].groupby('NumberOfIntegers').cumcount().eq(0), 'new_col'] = col_arr\n",
    "min_dfs[0]"
   ]
  },
  {
   "cell_type": "markdown",
   "id": "f97fb70f",
   "metadata": {},
   "source": [
    "#### Adding a new recommended column to the original dataset with the recommended data structure"
   ]
  },
  {
   "cell_type": "code",
   "execution_count": 10,
   "id": "b0718952",
   "metadata": {
    "scrolled": true
   },
   "outputs": [],
   "source": [
    "# df[['ID', 'NumberOfIntegers', 'DataStructure', 'insertAt()']]"
   ]
  },
  {
   "cell_type": "code",
   "execution_count": 11,
   "id": "0dee1948",
   "metadata": {
    "scrolled": true
   },
   "outputs": [
    {
     "name": "stderr",
     "output_type": "stream",
     "text": [
      "/home/janithahn/anaconda3/envs/ml/lib/python3.8/site-packages/pandas/core/indexing.py:1678: SettingWithCopyWarning: \n",
      "A value is trying to be set on a copy of a slice from a DataFrame.\n",
      "Try using .loc[row_indexer,col_indexer] = value instead\n",
      "\n",
      "See the caveats in the documentation: https://pandas.pydata.org/pandas-docs/stable/user_guide/indexing.html#returning-a-view-versus-a-copy\n",
      "  self.obj[key] = empty_value\n"
     ]
    },
    {
     "data": {
      "text/html": [
       "<div>\n",
       "<style scoped>\n",
       "    .dataframe tbody tr th:only-of-type {\n",
       "        vertical-align: middle;\n",
       "    }\n",
       "\n",
       "    .dataframe tbody tr th {\n",
       "        vertical-align: top;\n",
       "    }\n",
       "\n",
       "    .dataframe thead th {\n",
       "        text-align: right;\n",
       "    }\n",
       "</style>\n",
       "<table border=\"1\" class=\"dataframe\">\n",
       "  <thead>\n",
       "    <tr style=\"text-align: right;\">\n",
       "      <th></th>\n",
       "      <th>ID</th>\n",
       "      <th>NumberOfIntegers</th>\n",
       "      <th>DataStructure</th>\n",
       "      <th>insert()</th>\n",
       "      <th>ds_insert()</th>\n",
       "    </tr>\n",
       "  </thead>\n",
       "  <tbody>\n",
       "    <tr>\n",
       "      <th>0</th>\n",
       "      <td>0</td>\n",
       "      <td>100000</td>\n",
       "      <td>ArrayList</td>\n",
       "      <td>6.75</td>\n",
       "      <td>NaN</td>\n",
       "    </tr>\n",
       "    <tr>\n",
       "      <th>1</th>\n",
       "      <td>1</td>\n",
       "      <td>100000</td>\n",
       "      <td>ArrayList_Initialized</td>\n",
       "      <td>2.94</td>\n",
       "      <td>ArrayList_Initialized</td>\n",
       "    </tr>\n",
       "    <tr>\n",
       "      <th>2</th>\n",
       "      <td>2</td>\n",
       "      <td>100000</td>\n",
       "      <td>LinkedList</td>\n",
       "      <td>8.39</td>\n",
       "      <td>NaN</td>\n",
       "    </tr>\n",
       "    <tr>\n",
       "      <th>3</th>\n",
       "      <td>3</td>\n",
       "      <td>100000</td>\n",
       "      <td>Vector</td>\n",
       "      <td>7.39</td>\n",
       "      <td>NaN</td>\n",
       "    </tr>\n",
       "    <tr>\n",
       "      <th>4</th>\n",
       "      <td>4</td>\n",
       "      <td>100000</td>\n",
       "      <td>Vector_Initialized</td>\n",
       "      <td>2.96</td>\n",
       "      <td>NaN</td>\n",
       "    </tr>\n",
       "    <tr>\n",
       "      <th>...</th>\n",
       "      <td>...</td>\n",
       "      <td>...</td>\n",
       "      <td>...</td>\n",
       "      <td>...</td>\n",
       "      <td>...</td>\n",
       "    </tr>\n",
       "    <tr>\n",
       "      <th>995</th>\n",
       "      <td>995</td>\n",
       "      <td>10050000</td>\n",
       "      <td>ArrayList</td>\n",
       "      <td>17.17</td>\n",
       "      <td>NaN</td>\n",
       "    </tr>\n",
       "    <tr>\n",
       "      <th>996</th>\n",
       "      <td>996</td>\n",
       "      <td>10050000</td>\n",
       "      <td>ArrayList_Initialized</td>\n",
       "      <td>14.21</td>\n",
       "      <td>LinkedList</td>\n",
       "    </tr>\n",
       "    <tr>\n",
       "      <th>997</th>\n",
       "      <td>997</td>\n",
       "      <td>10050000</td>\n",
       "      <td>LinkedList</td>\n",
       "      <td>6.86</td>\n",
       "      <td>NaN</td>\n",
       "    </tr>\n",
       "    <tr>\n",
       "      <th>998</th>\n",
       "      <td>998</td>\n",
       "      <td>10050000</td>\n",
       "      <td>Vector</td>\n",
       "      <td>10.05</td>\n",
       "      <td>NaN</td>\n",
       "    </tr>\n",
       "    <tr>\n",
       "      <th>999</th>\n",
       "      <td>999</td>\n",
       "      <td>10050000</td>\n",
       "      <td>Vector_Initialized</td>\n",
       "      <td>8.65</td>\n",
       "      <td>NaN</td>\n",
       "    </tr>\n",
       "  </tbody>\n",
       "</table>\n",
       "<p>1000 rows × 5 columns</p>\n",
       "</div>"
      ],
      "text/plain": [
       "      ID  NumberOfIntegers          DataStructure  insert()  \\\n",
       "0      0            100000              ArrayList      6.75   \n",
       "1      1            100000  ArrayList_Initialized      2.94   \n",
       "2      2            100000             LinkedList      8.39   \n",
       "3      3            100000                 Vector      7.39   \n",
       "4      4            100000     Vector_Initialized      2.96   \n",
       "..   ...               ...                    ...       ...   \n",
       "995  995          10050000              ArrayList     17.17   \n",
       "996  996          10050000  ArrayList_Initialized     14.21   \n",
       "997  997          10050000             LinkedList      6.86   \n",
       "998  998          10050000                 Vector     10.05   \n",
       "999  999          10050000     Vector_Initialized      8.65   \n",
       "\n",
       "               ds_insert()  \n",
       "0                      NaN  \n",
       "1    ArrayList_Initialized  \n",
       "2                      NaN  \n",
       "3                      NaN  \n",
       "4                      NaN  \n",
       "..                     ...  \n",
       "995                    NaN  \n",
       "996             LinkedList  \n",
       "997                    NaN  \n",
       "998                    NaN  \n",
       "999                    NaN  \n",
       "\n",
       "[1000 rows x 5 columns]"
      ]
     },
     "execution_count": 11,
     "metadata": {},
     "output_type": "execute_result"
    }
   ],
   "source": [
    "# First, take the part of the df we want(we consider only the inser() column for now).\n",
    "df_with_recommended_insert = df[['ID', 'NumberOfIntegers', 'DataStructure', 'insert()']]\n",
    "\n",
    "# converting the columns to arrays\n",
    "col_arr = min_dfs[0]['DataStructure'].to_numpy()\n",
    "\n",
    "# This would add only one value to the new column, and other values will be NaN. 'eq(0)' means the position of where the new value should get added.\n",
    "df_with_recommended_insert.loc[df_with_recommended_insert.groupby('NumberOfIntegers').cumcount().eq(1), 'ds_insert()'] = col_arr\n",
    "df_with_recommended_insert"
   ]
  },
  {
   "cell_type": "markdown",
   "id": "7f57dc6a",
   "metadata": {},
   "source": [
    "Next, consider mapping all the groups(NumberOfIntegers) to their best data structure(here, we have taken the inser() column)."
   ]
  },
  {
   "cell_type": "code",
   "execution_count": 12,
   "id": "fe40737c",
   "metadata": {
    "scrolled": false
   },
   "outputs": [],
   "source": [
    "# converting the columns to arrays\n",
    "num_of_int_arr = min_dfs[0]['NumberOfIntegers'].to_numpy()\n",
    "col_arr = min_dfs[0]['DataStructure'].to_numpy()\n",
    "\n",
    "mapping = dict(zip(num_of_int_arr, col_arr))\n",
    "# mapping"
   ]
  },
  {
   "cell_type": "markdown",
   "id": "8005c820",
   "metadata": {},
   "source": [
    "Now, add a new column to save the recommended or the best data structures from each group, and add that value to other rows of each group as well."
   ]
  },
  {
   "cell_type": "code",
   "execution_count": 13,
   "id": "ff659f2a",
   "metadata": {
    "scrolled": true
   },
   "outputs": [
    {
     "name": "stderr",
     "output_type": "stream",
     "text": [
      "/tmp/ipykernel_467/1645631983.py:2: SettingWithCopyWarning: \n",
      "A value is trying to be set on a copy of a slice from a DataFrame.\n",
      "Try using .loc[row_indexer,col_indexer] = value instead\n",
      "\n",
      "See the caveats in the documentation: https://pandas.pydata.org/pandas-docs/stable/user_guide/indexing.html#returning-a-view-versus-a-copy\n",
      "  df_with_recommended_insert[\"ds_insert()\"] = df_with_recommended_insert['NumberOfIntegers'].map(mapping)\n"
     ]
    }
   ],
   "source": [
    "# This method of adding new values is the better way. Because it adds the value to every row of each group.\n",
    "df_with_recommended_insert[\"ds_insert()\"] = df_with_recommended_insert['NumberOfIntegers'].map(mapping)"
   ]
  },
  {
   "cell_type": "markdown",
   "id": "dba14423",
   "metadata": {},
   "source": [
    "Below, we can see that the data structure that has minimum 'insert()' run-time has been added to the every row of each group in a new column."
   ]
  },
  {
   "cell_type": "code",
   "execution_count": 14,
   "id": "26fe4c9e",
   "metadata": {},
   "outputs": [
    {
     "data": {
      "text/html": [
       "<div>\n",
       "<style scoped>\n",
       "    .dataframe tbody tr th:only-of-type {\n",
       "        vertical-align: middle;\n",
       "    }\n",
       "\n",
       "    .dataframe tbody tr th {\n",
       "        vertical-align: top;\n",
       "    }\n",
       "\n",
       "    .dataframe thead th {\n",
       "        text-align: right;\n",
       "    }\n",
       "</style>\n",
       "<table border=\"1\" class=\"dataframe\">\n",
       "  <thead>\n",
       "    <tr style=\"text-align: right;\">\n",
       "      <th></th>\n",
       "      <th>ID</th>\n",
       "      <th>NumberOfIntegers</th>\n",
       "      <th>DataStructure</th>\n",
       "      <th>insert()</th>\n",
       "      <th>ds_insert()</th>\n",
       "    </tr>\n",
       "  </thead>\n",
       "  <tbody>\n",
       "    <tr>\n",
       "      <th>0</th>\n",
       "      <td>0</td>\n",
       "      <td>100000</td>\n",
       "      <td>ArrayList</td>\n",
       "      <td>6.75</td>\n",
       "      <td>ArrayList_Initialized</td>\n",
       "    </tr>\n",
       "    <tr>\n",
       "      <th>1</th>\n",
       "      <td>1</td>\n",
       "      <td>100000</td>\n",
       "      <td>ArrayList_Initialized</td>\n",
       "      <td>2.94</td>\n",
       "      <td>ArrayList_Initialized</td>\n",
       "    </tr>\n",
       "    <tr>\n",
       "      <th>2</th>\n",
       "      <td>2</td>\n",
       "      <td>100000</td>\n",
       "      <td>LinkedList</td>\n",
       "      <td>8.39</td>\n",
       "      <td>ArrayList_Initialized</td>\n",
       "    </tr>\n",
       "    <tr>\n",
       "      <th>3</th>\n",
       "      <td>3</td>\n",
       "      <td>100000</td>\n",
       "      <td>Vector</td>\n",
       "      <td>7.39</td>\n",
       "      <td>ArrayList_Initialized</td>\n",
       "    </tr>\n",
       "    <tr>\n",
       "      <th>4</th>\n",
       "      <td>4</td>\n",
       "      <td>100000</td>\n",
       "      <td>Vector_Initialized</td>\n",
       "      <td>2.96</td>\n",
       "      <td>ArrayList_Initialized</td>\n",
       "    </tr>\n",
       "    <tr>\n",
       "      <th>...</th>\n",
       "      <td>...</td>\n",
       "      <td>...</td>\n",
       "      <td>...</td>\n",
       "      <td>...</td>\n",
       "      <td>...</td>\n",
       "    </tr>\n",
       "    <tr>\n",
       "      <th>995</th>\n",
       "      <td>995</td>\n",
       "      <td>10050000</td>\n",
       "      <td>ArrayList</td>\n",
       "      <td>17.17</td>\n",
       "      <td>LinkedList</td>\n",
       "    </tr>\n",
       "    <tr>\n",
       "      <th>996</th>\n",
       "      <td>996</td>\n",
       "      <td>10050000</td>\n",
       "      <td>ArrayList_Initialized</td>\n",
       "      <td>14.21</td>\n",
       "      <td>LinkedList</td>\n",
       "    </tr>\n",
       "    <tr>\n",
       "      <th>997</th>\n",
       "      <td>997</td>\n",
       "      <td>10050000</td>\n",
       "      <td>LinkedList</td>\n",
       "      <td>6.86</td>\n",
       "      <td>LinkedList</td>\n",
       "    </tr>\n",
       "    <tr>\n",
       "      <th>998</th>\n",
       "      <td>998</td>\n",
       "      <td>10050000</td>\n",
       "      <td>Vector</td>\n",
       "      <td>10.05</td>\n",
       "      <td>LinkedList</td>\n",
       "    </tr>\n",
       "    <tr>\n",
       "      <th>999</th>\n",
       "      <td>999</td>\n",
       "      <td>10050000</td>\n",
       "      <td>Vector_Initialized</td>\n",
       "      <td>8.65</td>\n",
       "      <td>LinkedList</td>\n",
       "    </tr>\n",
       "  </tbody>\n",
       "</table>\n",
       "<p>1000 rows × 5 columns</p>\n",
       "</div>"
      ],
      "text/plain": [
       "      ID  NumberOfIntegers          DataStructure  insert()  \\\n",
       "0      0            100000              ArrayList      6.75   \n",
       "1      1            100000  ArrayList_Initialized      2.94   \n",
       "2      2            100000             LinkedList      8.39   \n",
       "3      3            100000                 Vector      7.39   \n",
       "4      4            100000     Vector_Initialized      2.96   \n",
       "..   ...               ...                    ...       ...   \n",
       "995  995          10050000              ArrayList     17.17   \n",
       "996  996          10050000  ArrayList_Initialized     14.21   \n",
       "997  997          10050000             LinkedList      6.86   \n",
       "998  998          10050000                 Vector     10.05   \n",
       "999  999          10050000     Vector_Initialized      8.65   \n",
       "\n",
       "               ds_insert()  \n",
       "0    ArrayList_Initialized  \n",
       "1    ArrayList_Initialized  \n",
       "2    ArrayList_Initialized  \n",
       "3    ArrayList_Initialized  \n",
       "4    ArrayList_Initialized  \n",
       "..                     ...  \n",
       "995             LinkedList  \n",
       "996             LinkedList  \n",
       "997             LinkedList  \n",
       "998             LinkedList  \n",
       "999             LinkedList  \n",
       "\n",
       "[1000 rows x 5 columns]"
      ]
     },
     "execution_count": 14,
     "metadata": {},
     "output_type": "execute_result"
    }
   ],
   "source": [
    "df_with_recommended_insert"
   ]
  },
  {
   "cell_type": "markdown",
   "id": "3f5bbb09",
   "metadata": {},
   "source": [
    "### Do this to all the groups"
   ]
  },
  {
   "cell_type": "markdown",
   "id": "bcc5e297",
   "metadata": {},
   "source": [
    "#### Get dfs split into each function(insert(), insertAt(), etc.)"
   ]
  },
  {
   "cell_type": "code",
   "execution_count": 15,
   "id": "3265bbe6",
   "metadata": {},
   "outputs": [],
   "source": [
    "def get_dfs():\n",
    "    cols = ['insert()', 'insertAt()', 'contains()', 'indexOf()', 'get()', 'delete()']\n",
    "    return [df[['ID', 'NumberOfIntegers', 'DataStructure', col]] for col in cols]"
   ]
  },
  {
   "cell_type": "code",
   "execution_count": 16,
   "id": "2744a367",
   "metadata": {},
   "outputs": [
    {
     "data": {
      "text/plain": [
       "[      ID  NumberOfIntegers          DataStructure  insert()\n",
       " 0      0            100000              ArrayList      6.75\n",
       " 1      1            100000  ArrayList_Initialized      2.94\n",
       " 2      2            100000             LinkedList      8.39\n",
       " 3      3            100000                 Vector      7.39\n",
       " 4      4            100000     Vector_Initialized      2.96\n",
       " ..   ...               ...                    ...       ...\n",
       " 995  995          10050000              ArrayList     17.17\n",
       " 996  996          10050000  ArrayList_Initialized     14.21\n",
       " 997  997          10050000             LinkedList      6.86\n",
       " 998  998          10050000                 Vector     10.05\n",
       " 999  999          10050000     Vector_Initialized      8.65\n",
       " \n",
       " [1000 rows x 4 columns],\n",
       "       ID  NumberOfIntegers          DataStructure  insertAt()\n",
       " 0      0            100000              ArrayList       10.76\n",
       " 1      1            100000  ArrayList_Initialized        5.23\n",
       " 2      2            100000             LinkedList        1.57\n",
       " 3      3            100000                 Vector       10.81\n",
       " 4      4            100000     Vector_Initialized        5.18\n",
       " ..   ...               ...                    ...         ...\n",
       " 995  995          10050000              ArrayList      992.62\n",
       " 996  996          10050000  ArrayList_Initialized     1078.29\n",
       " 997  997          10050000             LinkedList       64.81\n",
       " 998  998          10050000                 Vector     1016.33\n",
       " 999  999          10050000     Vector_Initialized     1027.03\n",
       " \n",
       " [1000 rows x 4 columns]]"
      ]
     },
     "execution_count": 16,
     "metadata": {},
     "output_type": "execute_result"
    }
   ],
   "source": [
    "split_dfs = get_dfs()\n",
    "split_dfs[0:2]"
   ]
  },
  {
   "cell_type": "code",
   "execution_count": 17,
   "id": "2db2448b",
   "metadata": {},
   "outputs": [
    {
     "name": "stderr",
     "output_type": "stream",
     "text": [
      "/tmp/ipykernel_467/2356634724.py:10: SettingWithCopyWarning: \n",
      "A value is trying to be set on a copy of a slice from a DataFrame.\n",
      "Try using .loc[row_indexer,col_indexer] = value instead\n",
      "\n",
      "See the caveats in the documentation: https://pandas.pydata.org/pandas-docs/stable/user_guide/indexing.html#returning-a-view-versus-a-copy\n",
      "  split_df[new_cols[index]] = split_df['NumberOfIntegers'].map(mappings[index])\n"
     ]
    }
   ],
   "source": [
    "# mapping = dict(zip(num_of_int_arr, col_arr))\n",
    "# df_with_recommended_insert[\"ds_insert()\"] = df_with_recommended_insert['NumberOfIntegers'].map(mapping)\n",
    "# col_arr = min_dfs[0]['DataStructure'].to_numpy()\n",
    "\n",
    "min_datastructures = [min_df['DataStructure'].to_numpy() for min_df in min_dfs]\n",
    "mappings = [dict(zip(num_of_int_arr, min_df)) for min_df in min_datastructures]\n",
    "new_cols = ['ds_insert()', 'ds_insertAt()', 'ds_contains()', 'ds_indexOf()', 'ds_get()', 'ds_delete()']\n",
    "\n",
    "for index, split_df in enumerate(split_dfs):\n",
    "    split_df[new_cols[index]] = split_df['NumberOfIntegers'].map(mappings[index])\n",
    "# processed_dfs = [split_df['NumberOfIntegers'].map(mappings[index]) for index, split_df in enumerate(split_dfs)]"
   ]
  },
  {
   "cell_type": "code",
   "execution_count": 18,
   "id": "372cac0a",
   "metadata": {},
   "outputs": [
    {
     "data": {
      "text/plain": [
       "[      ID  NumberOfIntegers          DataStructure  insert()  \\\n",
       " 0      0            100000              ArrayList      6.75   \n",
       " 1      1            100000  ArrayList_Initialized      2.94   \n",
       " 2      2            100000             LinkedList      8.39   \n",
       " 3      3            100000                 Vector      7.39   \n",
       " 4      4            100000     Vector_Initialized      2.96   \n",
       " ..   ...               ...                    ...       ...   \n",
       " 995  995          10050000              ArrayList     17.17   \n",
       " 996  996          10050000  ArrayList_Initialized     14.21   \n",
       " 997  997          10050000             LinkedList      6.86   \n",
       " 998  998          10050000                 Vector     10.05   \n",
       " 999  999          10050000     Vector_Initialized      8.65   \n",
       " \n",
       "                ds_insert()  \n",
       " 0    ArrayList_Initialized  \n",
       " 1    ArrayList_Initialized  \n",
       " 2    ArrayList_Initialized  \n",
       " 3    ArrayList_Initialized  \n",
       " 4    ArrayList_Initialized  \n",
       " ..                     ...  \n",
       " 995             LinkedList  \n",
       " 996             LinkedList  \n",
       " 997             LinkedList  \n",
       " 998             LinkedList  \n",
       " 999             LinkedList  \n",
       " \n",
       " [1000 rows x 5 columns],\n",
       "       ID  NumberOfIntegers          DataStructure  insertAt() ds_insertAt()\n",
       " 0      0            100000              ArrayList       10.76    LinkedList\n",
       " 1      1            100000  ArrayList_Initialized        5.23    LinkedList\n",
       " 2      2            100000             LinkedList        1.57    LinkedList\n",
       " 3      3            100000                 Vector       10.81    LinkedList\n",
       " 4      4            100000     Vector_Initialized        5.18    LinkedList\n",
       " ..   ...               ...                    ...         ...           ...\n",
       " 995  995          10050000              ArrayList      992.62    LinkedList\n",
       " 996  996          10050000  ArrayList_Initialized     1078.29    LinkedList\n",
       " 997  997          10050000             LinkedList       64.81    LinkedList\n",
       " 998  998          10050000                 Vector     1016.33    LinkedList\n",
       " 999  999          10050000     Vector_Initialized     1027.03    LinkedList\n",
       " \n",
       " [1000 rows x 5 columns]]"
      ]
     },
     "execution_count": 18,
     "metadata": {},
     "output_type": "execute_result"
    }
   ],
   "source": [
    "split_dfs[0:2]"
   ]
  },
  {
   "cell_type": "markdown",
   "id": "12c0cc40",
   "metadata": {},
   "source": [
    "## Classification"
   ]
  },
  {
   "cell_type": "markdown",
   "id": "a9f4acbd",
   "metadata": {},
   "source": [
    "### Method to get the trained model info"
   ]
  },
  {
   "cell_type": "code",
   "execution_count": 19,
   "id": "d84dff49",
   "metadata": {},
   "outputs": [],
   "source": [
    "import sklearn.metrics as metrics\n",
    "\n",
    "def print_model_performance(model, X_test, y_test):\n",
    "    y_pred = model.predict(X_test)\n",
    "    print('Accuracy score:\\n', metrics.accuracy_score(y_test, y_pred))\n",
    "    print('Confusion matrix:\\n', metrics.confusion_matrix(y_test, y_pred))\n",
    "    print('Classification report:\\n', metrics.classification_report(y_test, y_pred, digits=4))\n",
    "    print('Precision:\\n',metrics.precision_score(y_test, y_pred, average=None))\n",
    "    print('Recall:\\n',metrics.recall_score(y_test, y_pred, average=None))"
   ]
  },
  {
   "cell_type": "markdown",
   "id": "ea5fddd9",
   "metadata": {},
   "source": [
    "### split train input and output data"
   ]
  },
  {
   "cell_type": "code",
   "execution_count": 20,
   "id": "c58b6672",
   "metadata": {},
   "outputs": [],
   "source": [
    "df_insert = split_dfs[0]\n",
    "\n",
    "# encoding data structures so it can be used as an input parameter\n",
    "dic = {\"ArrayList\": 1, \"ArrayList_Initialized\": 2, \"LinkedList\": 3, \"Vector\": 4, \"Vector_Initialized\": 5}\n",
    "df_insert = df_insert.replace({\"DataStructure\": dic})"
   ]
  },
  {
   "cell_type": "code",
   "execution_count": 21,
   "id": "647ecbcc",
   "metadata": {},
   "outputs": [
    {
     "name": "stdout",
     "output_type": "stream",
     "text": [
      "(1000, 5)\n",
      "5\n"
     ]
    }
   ],
   "source": [
    "print(df_insert.shape)\n",
    "\n",
    "num_of_classes = len(df_insert['ds_insert()'].unique())\n",
    "print(num_of_classes)"
   ]
  },
  {
   "cell_type": "code",
   "execution_count": 22,
   "id": "eba685b7",
   "metadata": {
    "scrolled": true
   },
   "outputs": [
    {
     "name": "stdout",
     "output_type": "stream",
     "text": [
      "(1000, 3)\n",
      "(1000,)\n"
     ]
    }
   ],
   "source": [
    "# split train input and output data\n",
    "X = df_insert.drop(axis=0, columns=['ID', 'ds_insert()'])\n",
    "Y = df_insert['ds_insert()']\n",
    "\n",
    "# Print the shape of X and Y\n",
    "print(X.shape)\n",
    "print(Y.shape)"
   ]
  },
  {
   "cell_type": "code",
   "execution_count": 23,
   "id": "9ef9077f",
   "metadata": {
    "scrolled": true
   },
   "outputs": [
    {
     "data": {
      "text/html": [
       "<div>\n",
       "<style scoped>\n",
       "    .dataframe tbody tr th:only-of-type {\n",
       "        vertical-align: middle;\n",
       "    }\n",
       "\n",
       "    .dataframe tbody tr th {\n",
       "        vertical-align: top;\n",
       "    }\n",
       "\n",
       "    .dataframe thead th {\n",
       "        text-align: right;\n",
       "    }\n",
       "</style>\n",
       "<table border=\"1\" class=\"dataframe\">\n",
       "  <thead>\n",
       "    <tr style=\"text-align: right;\">\n",
       "      <th></th>\n",
       "      <th>NumberOfIntegers</th>\n",
       "      <th>DataStructure</th>\n",
       "      <th>insert()</th>\n",
       "    </tr>\n",
       "  </thead>\n",
       "  <tbody>\n",
       "    <tr>\n",
       "      <th>0</th>\n",
       "      <td>100000</td>\n",
       "      <td>1</td>\n",
       "      <td>6.75</td>\n",
       "    </tr>\n",
       "    <tr>\n",
       "      <th>1</th>\n",
       "      <td>100000</td>\n",
       "      <td>2</td>\n",
       "      <td>2.94</td>\n",
       "    </tr>\n",
       "    <tr>\n",
       "      <th>2</th>\n",
       "      <td>100000</td>\n",
       "      <td>3</td>\n",
       "      <td>8.39</td>\n",
       "    </tr>\n",
       "    <tr>\n",
       "      <th>3</th>\n",
       "      <td>100000</td>\n",
       "      <td>4</td>\n",
       "      <td>7.39</td>\n",
       "    </tr>\n",
       "    <tr>\n",
       "      <th>4</th>\n",
       "      <td>100000</td>\n",
       "      <td>5</td>\n",
       "      <td>2.96</td>\n",
       "    </tr>\n",
       "    <tr>\n",
       "      <th>...</th>\n",
       "      <td>...</td>\n",
       "      <td>...</td>\n",
       "      <td>...</td>\n",
       "    </tr>\n",
       "    <tr>\n",
       "      <th>995</th>\n",
       "      <td>10050000</td>\n",
       "      <td>1</td>\n",
       "      <td>17.17</td>\n",
       "    </tr>\n",
       "    <tr>\n",
       "      <th>996</th>\n",
       "      <td>10050000</td>\n",
       "      <td>2</td>\n",
       "      <td>14.21</td>\n",
       "    </tr>\n",
       "    <tr>\n",
       "      <th>997</th>\n",
       "      <td>10050000</td>\n",
       "      <td>3</td>\n",
       "      <td>6.86</td>\n",
       "    </tr>\n",
       "    <tr>\n",
       "      <th>998</th>\n",
       "      <td>10050000</td>\n",
       "      <td>4</td>\n",
       "      <td>10.05</td>\n",
       "    </tr>\n",
       "    <tr>\n",
       "      <th>999</th>\n",
       "      <td>10050000</td>\n",
       "      <td>5</td>\n",
       "      <td>8.65</td>\n",
       "    </tr>\n",
       "  </tbody>\n",
       "</table>\n",
       "<p>1000 rows × 3 columns</p>\n",
       "</div>"
      ],
      "text/plain": [
       "     NumberOfIntegers  DataStructure  insert()\n",
       "0              100000              1      6.75\n",
       "1              100000              2      2.94\n",
       "2              100000              3      8.39\n",
       "3              100000              4      7.39\n",
       "4              100000              5      2.96\n",
       "..                ...            ...       ...\n",
       "995          10050000              1     17.17\n",
       "996          10050000              2     14.21\n",
       "997          10050000              3      6.86\n",
       "998          10050000              4     10.05\n",
       "999          10050000              5      8.65\n",
       "\n",
       "[1000 rows x 3 columns]"
      ]
     },
     "execution_count": 23,
     "metadata": {},
     "output_type": "execute_result"
    }
   ],
   "source": [
    "X"
   ]
  },
  {
   "cell_type": "code",
   "execution_count": 24,
   "id": "7d0e1d7a",
   "metadata": {},
   "outputs": [
    {
     "data": {
      "text/plain": [
       "0      ArrayList_Initialized\n",
       "1      ArrayList_Initialized\n",
       "2      ArrayList_Initialized\n",
       "3      ArrayList_Initialized\n",
       "4      ArrayList_Initialized\n",
       "               ...          \n",
       "995               LinkedList\n",
       "996               LinkedList\n",
       "997               LinkedList\n",
       "998               LinkedList\n",
       "999               LinkedList\n",
       "Name: ds_insert(), Length: 1000, dtype: object"
      ]
     },
     "execution_count": 24,
     "metadata": {},
     "output_type": "execute_result"
    }
   ],
   "source": [
    "Y"
   ]
  },
  {
   "cell_type": "code",
   "execution_count": 25,
   "id": "9d2afc36",
   "metadata": {},
   "outputs": [],
   "source": [
    "from sklearn.model_selection import train_test_split"
   ]
  },
  {
   "cell_type": "markdown",
   "id": "3686ecb0",
   "metadata": {},
   "source": [
    "### Split into training and test sets"
   ]
  },
  {
   "cell_type": "code",
   "execution_count": 26,
   "id": "5a45d153",
   "metadata": {},
   "outputs": [],
   "source": [
    "# Split into training and test sets\n",
    "X_train, X_test, y_train, y_test = train_test_split(X, Y, test_size=0.33, random_state=65)"
   ]
  },
  {
   "cell_type": "markdown",
   "id": "fc3edc5c",
   "metadata": {},
   "source": [
    "## DecisionTreeClassifier from Sklearn"
   ]
  },
  {
   "cell_type": "code",
   "execution_count": 27,
   "id": "76f10959",
   "metadata": {},
   "outputs": [
    {
     "data": {
      "text/plain": [
       "DecisionTreeClassifier(criterion='entropy', random_state=65)"
      ]
     },
     "execution_count": 27,
     "metadata": {},
     "output_type": "execute_result"
    }
   ],
   "source": [
    "from sklearn.tree import DecisionTreeClassifier\n",
    "\n",
    "dt_sk = DecisionTreeClassifier(criterion=\"entropy\", random_state=65)   \n",
    "dt_sk.fit(X_train, y_train)\n",
    "\n",
    "# print(dt_sk)\n",
    "# print_model_performance(dt_sk, X_test, y_test)"
   ]
  },
  {
   "cell_type": "code",
   "execution_count": 28,
   "id": "71a2ef7c",
   "metadata": {},
   "outputs": [],
   "source": [
    "# from sklearn.metrics import classification_report, confusion_matrix\n",
    "\n",
    "# print(classification_report(y_test, dt_classifier.predict(X_test)))\n",
    "# print(confusion_matrix(y_test, dt_classifier.predict(X_test)))"
   ]
  },
  {
   "cell_type": "markdown",
   "id": "b6b9609b",
   "metadata": {},
   "source": [
    "### Predicting"
   ]
  },
  {
   "cell_type": "code",
   "execution_count": 29,
   "id": "a7ccd894",
   "metadata": {},
   "outputs": [
    {
     "data": {
      "text/html": [
       "<div>\n",
       "<style scoped>\n",
       "    .dataframe tbody tr th:only-of-type {\n",
       "        vertical-align: middle;\n",
       "    }\n",
       "\n",
       "    .dataframe tbody tr th {\n",
       "        vertical-align: top;\n",
       "    }\n",
       "\n",
       "    .dataframe thead th {\n",
       "        text-align: right;\n",
       "    }\n",
       "</style>\n",
       "<table border=\"1\" class=\"dataframe\">\n",
       "  <thead>\n",
       "    <tr style=\"text-align: right;\">\n",
       "      <th></th>\n",
       "      <th>Expected Output</th>\n",
       "      <th>Predicted Output</th>\n",
       "    </tr>\n",
       "  </thead>\n",
       "  <tbody>\n",
       "    <tr>\n",
       "      <th>662</th>\n",
       "      <td>Vector_Initialized</td>\n",
       "      <td>Vector</td>\n",
       "    </tr>\n",
       "    <tr>\n",
       "      <th>414</th>\n",
       "      <td>ArrayList</td>\n",
       "      <td>ArrayList</td>\n",
       "    </tr>\n",
       "    <tr>\n",
       "      <th>707</th>\n",
       "      <td>ArrayList_Initialized</td>\n",
       "      <td>ArrayList_Initialized</td>\n",
       "    </tr>\n",
       "    <tr>\n",
       "      <th>280</th>\n",
       "      <td>ArrayList_Initialized</td>\n",
       "      <td>ArrayList_Initialized</td>\n",
       "    </tr>\n",
       "    <tr>\n",
       "      <th>609</th>\n",
       "      <td>LinkedList</td>\n",
       "      <td>ArrayList_Initialized</td>\n",
       "    </tr>\n",
       "    <tr>\n",
       "      <th>449</th>\n",
       "      <td>LinkedList</td>\n",
       "      <td>LinkedList</td>\n",
       "    </tr>\n",
       "    <tr>\n",
       "      <th>855</th>\n",
       "      <td>LinkedList</td>\n",
       "      <td>LinkedList</td>\n",
       "    </tr>\n",
       "    <tr>\n",
       "      <th>908</th>\n",
       "      <td>Vector_Initialized</td>\n",
       "      <td>LinkedList</td>\n",
       "    </tr>\n",
       "    <tr>\n",
       "      <th>110</th>\n",
       "      <td>LinkedList</td>\n",
       "      <td>LinkedList</td>\n",
       "    </tr>\n",
       "    <tr>\n",
       "      <th>776</th>\n",
       "      <td>LinkedList</td>\n",
       "      <td>LinkedList</td>\n",
       "    </tr>\n",
       "    <tr>\n",
       "      <th>253</th>\n",
       "      <td>ArrayList_Initialized</td>\n",
       "      <td>ArrayList_Initialized</td>\n",
       "    </tr>\n",
       "    <tr>\n",
       "      <th>87</th>\n",
       "      <td>LinkedList</td>\n",
       "      <td>LinkedList</td>\n",
       "    </tr>\n",
       "    <tr>\n",
       "      <th>618</th>\n",
       "      <td>LinkedList</td>\n",
       "      <td>LinkedList</td>\n",
       "    </tr>\n",
       "    <tr>\n",
       "      <th>681</th>\n",
       "      <td>ArrayList_Initialized</td>\n",
       "      <td>ArrayList_Initialized</td>\n",
       "    </tr>\n",
       "    <tr>\n",
       "      <th>439</th>\n",
       "      <td>ArrayList</td>\n",
       "      <td>ArrayList</td>\n",
       "    </tr>\n",
       "    <tr>\n",
       "      <th>289</th>\n",
       "      <td>LinkedList</td>\n",
       "      <td>LinkedList</td>\n",
       "    </tr>\n",
       "    <tr>\n",
       "      <th>186</th>\n",
       "      <td>ArrayList</td>\n",
       "      <td>ArrayList</td>\n",
       "    </tr>\n",
       "    <tr>\n",
       "      <th>742</th>\n",
       "      <td>ArrayList_Initialized</td>\n",
       "      <td>LinkedList</td>\n",
       "    </tr>\n",
       "    <tr>\n",
       "      <th>840</th>\n",
       "      <td>ArrayList_Initialized</td>\n",
       "      <td>ArrayList_Initialized</td>\n",
       "    </tr>\n",
       "    <tr>\n",
       "      <th>573</th>\n",
       "      <td>ArrayList_Initialized</td>\n",
       "      <td>ArrayList_Initialized</td>\n",
       "    </tr>\n",
       "  </tbody>\n",
       "</table>\n",
       "</div>"
      ],
      "text/plain": [
       "           Expected Output       Predicted Output\n",
       "662     Vector_Initialized                 Vector\n",
       "414              ArrayList              ArrayList\n",
       "707  ArrayList_Initialized  ArrayList_Initialized\n",
       "280  ArrayList_Initialized  ArrayList_Initialized\n",
       "609             LinkedList  ArrayList_Initialized\n",
       "449             LinkedList             LinkedList\n",
       "855             LinkedList             LinkedList\n",
       "908     Vector_Initialized             LinkedList\n",
       "110             LinkedList             LinkedList\n",
       "776             LinkedList             LinkedList\n",
       "253  ArrayList_Initialized  ArrayList_Initialized\n",
       "87              LinkedList             LinkedList\n",
       "618             LinkedList             LinkedList\n",
       "681  ArrayList_Initialized  ArrayList_Initialized\n",
       "439              ArrayList              ArrayList\n",
       "289             LinkedList             LinkedList\n",
       "186              ArrayList              ArrayList\n",
       "742  ArrayList_Initialized             LinkedList\n",
       "840  ArrayList_Initialized  ArrayList_Initialized\n",
       "573  ArrayList_Initialized  ArrayList_Initialized"
      ]
     },
     "execution_count": 29,
     "metadata": {},
     "output_type": "execute_result"
    }
   ],
   "source": [
    "val = dt_sk.predict(X_test)\n",
    "\n",
    "output = pd.DataFrame()\n",
    "output['Expected Output'] = y_test\n",
    "output['Predicted Output'] = val\n",
    "output.head(20)"
   ]
  },
  {
   "cell_type": "markdown",
   "id": "851e7ccc",
   "metadata": {},
   "source": [
    "## xgboost"
   ]
  },
  {
   "cell_type": "code",
   "execution_count": 91,
   "id": "2dd1a6d8",
   "metadata": {},
   "outputs": [],
   "source": [
    "# Split into training and test sets\n",
    "X_train, X_test, y_train, y_test = train_test_split(X, Y, test_size=0.33, random_state=1)"
   ]
  },
  {
   "cell_type": "code",
   "execution_count": 96,
   "id": "8de186e8",
   "metadata": {
    "scrolled": false
   },
   "outputs": [
    {
     "name": "stderr",
     "output_type": "stream",
     "text": [
      "/home/janithahn/anaconda3/envs/ml/lib/python3.8/site-packages/xgboost/sklearn.py:1224: UserWarning: The use of label encoder in XGBClassifier is deprecated and will be removed in a future release. To remove this warning, do the following: 1) Pass option use_label_encoder=False when constructing XGBClassifier object; and 2) Encode your labels (y) as integers starting with 0, i.e. 0, 1, 2, ..., [num_class - 1].\n",
      "  warnings.warn(label_encoder_deprecation_msg, UserWarning)\n"
     ]
    },
    {
     "name": "stdout",
     "output_type": "stream",
     "text": [
      "Accuracy score:\n",
      " 0.803030303030303\n",
      "Confusion matrix:\n",
      " [[  5   2   4   0   1]\n",
      " [  1  91  15   1   4]\n",
      " [  0  14 139   1   1]\n",
      " [  0   9   2   7   2]\n",
      " [  0   4   3   1  23]]\n",
      "Classification report:\n",
      "                        precision    recall  f1-score   support\n",
      "\n",
      "            ArrayList     0.8333    0.4167    0.5556        12\n",
      "ArrayList_Initialized     0.7583    0.8125    0.7845       112\n",
      "           LinkedList     0.8528    0.8968    0.8742       155\n",
      "               Vector     0.7000    0.3500    0.4667        20\n",
      "   Vector_Initialized     0.7419    0.7419    0.7419        31\n",
      "\n",
      "             accuracy                         0.8030       330\n",
      "            macro avg     0.7773    0.6436    0.6846       330\n",
      "         weighted avg     0.8003    0.8030    0.7950       330\n",
      "\n",
      "Precision:\n",
      " [0.83333333 0.75833333 0.85276074 0.7        0.74193548]\n",
      "Recall:\n",
      " [0.41666667 0.8125     0.89677419 0.35       0.74193548]\n"
     ]
    }
   ],
   "source": [
    "from xgboost import XGBClassifier\n",
    "\n",
    "# Create a classifier\n",
    "xgb_a = XGBClassifier(\n",
    "                          booster='gbtree', \n",
    "                          objective='multi:softprob', \n",
    "                          random_state=2, \n",
    "                          eval_metric=\"auc\", \n",
    "                          num_class=num_of_classes,\n",
    "                          # n_estimators=50000\n",
    "                      )\n",
    "\n",
    "# define the datasets to evaluate each iteration\n",
    "evalset = [(X_train, y_train), (X_test, y_test)]\n",
    "\n",
    "# Fit the classifier with the training data\n",
    "xgb_a.fit(X_train, y_train, eval_metric=['merror','mlogloss'], eval_set=evalset, verbose=False)\n",
    "\n",
    "print_model_performance(xgb_a, X_test, y_test)"
   ]
  },
  {
   "cell_type": "code",
   "execution_count": 97,
   "id": "8bb1d6a6",
   "metadata": {
    "scrolled": true
   },
   "outputs": [
    {
     "data": {
      "image/png": "[encoded data removed]",
      "text/plain": [
       "<Figure size 432x288 with 1 Axes>"
      ]
     },
     "metadata": {
      "needs_background": "light"
     },
     "output_type": "display_data"
    }
   ],
   "source": [
    "# retrieve performance metrics\n",
    "results = xgb_a.evals_result()\n",
    "\n",
    "# plot learning curves\n",
    "plt.plot(results['validation_0']['mlogloss'], label='train')\n",
    "plt.plot(results['validation_1']['mlogloss'], label='test')\n",
    "# show the legend\n",
    "plt.legend()\n",
    "# show the plot\n",
    "plt.show()"
   ]
  },
  {
   "cell_type": "code",
   "execution_count": 99,
   "id": "7d2babfd",
   "metadata": {},
   "outputs": [
    {
     "data": {
      "image/png": "[encoded data removed]",
      "text/plain": [
       "<Figure size 432x288 with 1 Axes>"
      ]
     },
     "metadata": {
      "needs_background": "light"
     },
     "output_type": "display_data"
    }
   ],
   "source": [
    "# retrieve performance metrics\n",
    "results = xgb_a.evals_result()\n",
    "\n",
    "# plot learning curves\n",
    "plt.plot(results['validation_0']['merror'], label='train')\n",
    "plt.plot(results['validation_1']['merror'], label='test')\n",
    "# show the legend\n",
    "plt.legend()\n",
    "# show the plot\n",
    "plt.show()"
   ]
  },
  {
   "cell_type": "code",
   "execution_count": 100,
   "id": "05f6135a",
   "metadata": {
    "scrolled": true
   },
   "outputs": [
    {
     "data": {
      "text/plain": [
       "0.7908128037721687"
      ]
     },
     "execution_count": 100,
     "metadata": {},
     "output_type": "execute_result"
    }
   ],
   "source": [
    "from sklearn.metrics import roc_auc_score\n",
    "from sklearn import preprocessing\n",
    "\n",
    "# Use trained model to predict output of test dataset\n",
    "val = xgb_a.predict(X_test)\n",
    "\n",
    "lb = preprocessing.LabelBinarizer()\n",
    "lb.fit(y_test)\n",
    "\n",
    "y_test_lb = lb.transform(y_test)\n",
    "val_lb = lb.transform(val)\n",
    "\n",
    "roc_auc_score(y_test_lb, val_lb, average='macro')"
   ]
  },
  {
   "cell_type": "code",
   "execution_count": 101,
   "id": "6f16bf54",
   "metadata": {},
   "outputs": [
    {
     "data": {
      "text/plain": [
       "array(['Vector_Initialized'], dtype=object)"
      ]
     },
     "execution_count": 101,
     "metadata": {},
     "output_type": "execute_result"
    }
   ],
   "source": [
    "# proba_single = xgb_a.predict([[1005020, 2.94]])\n",
    "row = pd.DataFrame(X_test.iloc[1]).T\n",
    "row['NumberOfIntegers'] = 100000\n",
    "row['DataStructure'] = 4\n",
    "row['insert()'] = 1.94\n",
    "proba_single = xgb_a.predict(row)\n",
    "proba_single"
   ]
  },
  {
   "cell_type": "code",
   "execution_count": 37,
   "id": "bab4370b",
   "metadata": {
    "scrolled": false
   },
   "outputs": [
    {
     "data": {
      "text/html": [
       "<div>\n",
       "<style scoped>\n",
       "    .dataframe tbody tr th:only-of-type {\n",
       "        vertical-align: middle;\n",
       "    }\n",
       "\n",
       "    .dataframe tbody tr th {\n",
       "        vertical-align: top;\n",
       "    }\n",
       "\n",
       "    .dataframe thead th {\n",
       "        text-align: right;\n",
       "    }\n",
       "</style>\n",
       "<table border=\"1\" class=\"dataframe\">\n",
       "  <thead>\n",
       "    <tr style=\"text-align: right;\">\n",
       "      <th></th>\n",
       "      <th>Expected Output</th>\n",
       "      <th>Predicted Output</th>\n",
       "    </tr>\n",
       "  </thead>\n",
       "  <tbody>\n",
       "    <tr>\n",
       "      <th>662</th>\n",
       "      <td>Vector_Initialized</td>\n",
       "      <td>Vector_Initialized</td>\n",
       "    </tr>\n",
       "    <tr>\n",
       "      <th>414</th>\n",
       "      <td>ArrayList</td>\n",
       "      <td>ArrayList</td>\n",
       "    </tr>\n",
       "    <tr>\n",
       "      <th>707</th>\n",
       "      <td>ArrayList_Initialized</td>\n",
       "      <td>ArrayList_Initialized</td>\n",
       "    </tr>\n",
       "    <tr>\n",
       "      <th>280</th>\n",
       "      <td>ArrayList_Initialized</td>\n",
       "      <td>ArrayList_Initialized</td>\n",
       "    </tr>\n",
       "    <tr>\n",
       "      <th>609</th>\n",
       "      <td>LinkedList</td>\n",
       "      <td>ArrayList_Initialized</td>\n",
       "    </tr>\n",
       "    <tr>\n",
       "      <th>449</th>\n",
       "      <td>LinkedList</td>\n",
       "      <td>LinkedList</td>\n",
       "    </tr>\n",
       "    <tr>\n",
       "      <th>855</th>\n",
       "      <td>LinkedList</td>\n",
       "      <td>LinkedList</td>\n",
       "    </tr>\n",
       "    <tr>\n",
       "      <th>908</th>\n",
       "      <td>Vector_Initialized</td>\n",
       "      <td>Vector_Initialized</td>\n",
       "    </tr>\n",
       "    <tr>\n",
       "      <th>110</th>\n",
       "      <td>LinkedList</td>\n",
       "      <td>LinkedList</td>\n",
       "    </tr>\n",
       "    <tr>\n",
       "      <th>776</th>\n",
       "      <td>LinkedList</td>\n",
       "      <td>LinkedList</td>\n",
       "    </tr>\n",
       "    <tr>\n",
       "      <th>253</th>\n",
       "      <td>ArrayList_Initialized</td>\n",
       "      <td>ArrayList_Initialized</td>\n",
       "    </tr>\n",
       "    <tr>\n",
       "      <th>87</th>\n",
       "      <td>LinkedList</td>\n",
       "      <td>LinkedList</td>\n",
       "    </tr>\n",
       "    <tr>\n",
       "      <th>618</th>\n",
       "      <td>LinkedList</td>\n",
       "      <td>LinkedList</td>\n",
       "    </tr>\n",
       "    <tr>\n",
       "      <th>681</th>\n",
       "      <td>ArrayList_Initialized</td>\n",
       "      <td>ArrayList_Initialized</td>\n",
       "    </tr>\n",
       "    <tr>\n",
       "      <th>439</th>\n",
       "      <td>ArrayList</td>\n",
       "      <td>ArrayList</td>\n",
       "    </tr>\n",
       "    <tr>\n",
       "      <th>289</th>\n",
       "      <td>LinkedList</td>\n",
       "      <td>LinkedList</td>\n",
       "    </tr>\n",
       "    <tr>\n",
       "      <th>186</th>\n",
       "      <td>ArrayList</td>\n",
       "      <td>ArrayList</td>\n",
       "    </tr>\n",
       "    <tr>\n",
       "      <th>742</th>\n",
       "      <td>ArrayList_Initialized</td>\n",
       "      <td>LinkedList</td>\n",
       "    </tr>\n",
       "    <tr>\n",
       "      <th>840</th>\n",
       "      <td>ArrayList_Initialized</td>\n",
       "      <td>ArrayList_Initialized</td>\n",
       "    </tr>\n",
       "    <tr>\n",
       "      <th>573</th>\n",
       "      <td>ArrayList_Initialized</td>\n",
       "      <td>ArrayList_Initialized</td>\n",
       "    </tr>\n",
       "  </tbody>\n",
       "</table>\n",
       "</div>"
      ],
      "text/plain": [
       "           Expected Output       Predicted Output\n",
       "662     Vector_Initialized     Vector_Initialized\n",
       "414              ArrayList              ArrayList\n",
       "707  ArrayList_Initialized  ArrayList_Initialized\n",
       "280  ArrayList_Initialized  ArrayList_Initialized\n",
       "609             LinkedList  ArrayList_Initialized\n",
       "449             LinkedList             LinkedList\n",
       "855             LinkedList             LinkedList\n",
       "908     Vector_Initialized     Vector_Initialized\n",
       "110             LinkedList             LinkedList\n",
       "776             LinkedList             LinkedList\n",
       "253  ArrayList_Initialized  ArrayList_Initialized\n",
       "87              LinkedList             LinkedList\n",
       "618             LinkedList             LinkedList\n",
       "681  ArrayList_Initialized  ArrayList_Initialized\n",
       "439              ArrayList              ArrayList\n",
       "289             LinkedList             LinkedList\n",
       "186              ArrayList              ArrayList\n",
       "742  ArrayList_Initialized             LinkedList\n",
       "840  ArrayList_Initialized  ArrayList_Initialized\n",
       "573  ArrayList_Initialized  ArrayList_Initialized"
      ]
     },
     "execution_count": 37,
     "metadata": {},
     "output_type": "execute_result"
    }
   ],
   "source": [
    "output = pd.DataFrame()\n",
    "output['Expected Output'] = y_test\n",
    "output['Predicted Output'] = val\n",
    "output.head(20)"
   ]
  },
  {
   "cell_type": "markdown",
   "id": "fcbe3cfb",
   "metadata": {},
   "source": [
    "------"
   ]
  },
  {
   "cell_type": "markdown",
   "id": "eb64baf5",
   "metadata": {},
   "source": [
    "## Considering a set of models to evaluate the accuracy of each model"
   ]
  },
  {
   "cell_type": "code",
   "execution_count": 38,
   "id": "af895e7f",
   "metadata": {},
   "outputs": [],
   "source": [
    "from xgboost import XGBClassifier\n",
    "from lightgbm import LGBMClassifier\n",
    "from sklearn.ensemble import (RandomForestClassifier,\n",
    "                              AdaBoostClassifier,\n",
    "                              GradientBoostingClassifier)"
   ]
  },
  {
   "cell_type": "code",
   "execution_count": 39,
   "id": "4082c4fe",
   "metadata": {},
   "outputs": [],
   "source": [
    "# Split into training and test sets\n",
    "X_train, X_test, y_train, y_test = train_test_split(X, Y, test_size=0.33, random_state=65)"
   ]
  },
  {
   "cell_type": "markdown",
   "id": "0feba15c",
   "metadata": {},
   "source": [
    "#### XGBClassifier"
   ]
  },
  {
   "cell_type": "code",
   "execution_count": 56,
   "id": "a1c6bfc5",
   "metadata": {
    "scrolled": false
   },
   "outputs": [
    {
     "name": "stderr",
     "output_type": "stream",
     "text": [
      "/home/janithahn/anaconda3/envs/ml/lib/python3.8/site-packages/xgboost/sklearn.py:1224: UserWarning: The use of label encoder in XGBClassifier is deprecated and will be removed in a future release. To remove this warning, do the following: 1) Pass option use_label_encoder=False when constructing XGBClassifier object; and 2) Encode your labels (y) as integers starting with 0, i.e. 0, 1, 2, ..., [num_class - 1].\n",
      "  warnings.warn(label_encoder_deprecation_msg, UserWarning)\n"
     ]
    },
    {
     "name": "stdout",
     "output_type": "stream",
     "text": [
      "[16:23:37] WARNING: ../src/learner.cc:576: \n",
      "Parameters: { \"colsample_level\" } might not be used.\n",
      "\n",
      "  This could be a false alarm, with some parameters getting used by language bindings but\n",
      "  then being mistakenly passed down to XGBoost core, or some parameter actually being used\n",
      "  but getting flagged wrongly here. Please open an issue if you find any such cases.\n",
      "\n",
      "\n",
      "Accuracy score:\n",
      " 0.8818181818181818\n",
      "Confusion matrix:\n",
      " [[  9   0   0   0   0]\n",
      " [  0  99   9   3   0]\n",
      " [  0   5 153   0   1]\n",
      " [  0   2   1   5   3]\n",
      " [  0   6   9   0  25]]\n",
      "Classification report:\n",
      "                        precision    recall  f1-score   support\n",
      "\n",
      "            ArrayList     1.0000    1.0000    1.0000         9\n",
      "ArrayList_Initialized     0.8839    0.8919    0.8879       111\n",
      "           LinkedList     0.8895    0.9623    0.9245       159\n",
      "               Vector     0.6250    0.4545    0.5263        11\n",
      "   Vector_Initialized     0.8621    0.6250    0.7246        40\n",
      "\n",
      "             accuracy                         0.8818       330\n",
      "            macro avg     0.8521    0.7867    0.8127       330\n",
      "         weighted avg     0.8785    0.8818    0.8767       330\n",
      "\n",
      "Precision:\n",
      " [1.         0.88392857 0.88953488 0.625      0.86206897]\n",
      "Recall:\n",
      " [1.         0.89189189 0.96226415 0.45454545 0.625     ]\n"
     ]
    }
   ],
   "source": [
    "xgb_b = XGBClassifier(n_estimators=50000,\n",
    "                    tree_method='hist',\n",
    "                    subsample=0.67,\n",
    "                    colsample_level=0.06,\n",
    "                    n_jobs=6,\n",
    "                    random_state=65)\n",
    "\n",
    "# define the datasets to evaluate each iteration\n",
    "evalset = [(X_train, y_train), (X_test, y_test)]\n",
    "\n",
    "# Fit the classifier with the training data\n",
    "xgb_b.fit(X_train, y_train, eval_metric=['merror','mlogloss'], eval_set=evalset, verbose=False)\n",
    "\n",
    "print_model_performance(xgb_b, X_test, y_test)"
   ]
  },
  {
   "cell_type": "code",
   "execution_count": 41,
   "id": "695866df",
   "metadata": {},
   "outputs": [],
   "source": [
    "# Saving the model\n",
    "# xgb_b.save_model('xgb_b.bst')"
   ]
  },
  {
   "cell_type": "code",
   "execution_count": 42,
   "id": "d3f3dbec",
   "metadata": {},
   "outputs": [],
   "source": [
    "# Loading the model\n",
    "# loaded_model_xgb_b = XGBClassifier()\n",
    "# loaded_model_xgb_b.load_model(\"xgb_b.txt\")"
   ]
  },
  {
   "cell_type": "code",
   "execution_count": 57,
   "id": "3e10380e",
   "metadata": {},
   "outputs": [
    {
     "data": {
      "image/png": "[encoded data removed]",
      "text/plain": [
       "<Figure size 432x288 with 1 Axes>"
      ]
     },
     "metadata": {
      "needs_background": "light"
     },
     "output_type": "display_data"
    }
   ],
   "source": [
    "# retrieve performance metrics\n",
    "results = xgb_b.evals_result()\n",
    "\n",
    "# plot learning curves\n",
    "plt.plot(results['validation_0']['mlogloss'], label='train')\n",
    "plt.plot(results['validation_1']['mlogloss'], label='test')\n",
    "# show the legend\n",
    "plt.legend()\n",
    "# show the plot\n",
    "plt.show()"
   ]
  },
  {
   "cell_type": "code",
   "execution_count": 45,
   "id": "cafaf531",
   "metadata": {},
   "outputs": [
    {
     "data": {
      "image/png": "[encoded data removed]",
      "text/plain": [
       "<Figure size 432x288 with 1 Axes>"
      ]
     },
     "metadata": {
      "needs_background": "light"
     },
     "output_type": "display_data"
    }
   ],
   "source": [
    "# retrieve performance metrics\n",
    "results = xgb_b.evals_result()\n",
    "\n",
    "# plot learning curves\n",
    "plt.plot(results['validation_0']['merror'], label='train')\n",
    "plt.plot(results['validation_1']['merror'], label='test')\n",
    "# show the legend\n",
    "plt.legend()\n",
    "# show the plot\n",
    "plt.show()"
   ]
  },
  {
   "cell_type": "code",
   "execution_count": 46,
   "id": "ae361080",
   "metadata": {
    "scrolled": true
   },
   "outputs": [
    {
     "name": "stdout",
     "output_type": "stream",
     "text": [
      "[[4.9165341e-05 8.3732271e-01 1.3091055e-02 3.8913207e-05 1.4949813e-01]]\n",
      "['ArrayList_Initialized']\n"
     ]
    }
   ],
   "source": [
    "row = pd.DataFrame(X_test.iloc[1]).T\n",
    "row['NumberOfIntegers'] = 100000\n",
    "row['DataStructure'] = 1\n",
    "row['insert()'] = 2.94\n",
    "\n",
    "single = xgb_b.predict(row)\n",
    "proba_single = xgb_b.predict_proba(row)\n",
    "\n",
    "print(proba_single)\n",
    "print(single)"
   ]
  },
  {
   "cell_type": "markdown",
   "id": "7207b07f",
   "metadata": {},
   "source": [
    "#### LGBMClassifier"
   ]
  },
  {
   "cell_type": "code",
   "execution_count": 47,
   "id": "9079f6c3",
   "metadata": {
    "scrolled": false
   },
   "outputs": [],
   "source": [
    "lgbm = LGBMClassifier(n_estimators=2000,\n",
    "                      feature_fraction=0.06,\n",
    "                      bagging_fraction=0.67,\n",
    "                      bagging_freq=1,\n",
    "                      verbose=0,\n",
    "                      n_jobs=6,\n",
    "                      random_state=55)\n",
    "\n",
    "# Fit the classifier with the training data\n",
    "# lgbm.fit(X_train, y_train)\n",
    "\n",
    "# print_model_performance(lgbm, X_test, y_test)"
   ]
  },
  {
   "cell_type": "markdown",
   "id": "95443d6b",
   "metadata": {},
   "source": [
    "#### GradientBoostingClassifier"
   ]
  },
  {
   "cell_type": "code",
   "execution_count": 48,
   "id": "921af7cd",
   "metadata": {},
   "outputs": [],
   "source": [
    "gbm = GradientBoostingClassifier(n_estimators=2000,\n",
    "                                 subsample=0.67,\n",
    "                                 max_features=0.06,\n",
    "                                 validation_fraction=0.1,\n",
    "                                 n_iter_no_change=15,\n",
    "                                 verbose=0,\n",
    "                                 random_state=1234)\n",
    "\n",
    "# Fit the classifier with the training data\n",
    "# gbm.fit(X_train, y_train)\n",
    "\n",
    "# print_model_performance(gbm, X_test, y_test)"
   ]
  },
  {
   "cell_type": "markdown",
   "id": "265925db",
   "metadata": {},
   "source": [
    "#### AdaBoostClassifier"
   ]
  },
  {
   "cell_type": "code",
   "execution_count": 49,
   "id": "a8398300",
   "metadata": {},
   "outputs": [],
   "source": [
    "base_estim = DecisionTreeClassifier(max_depth=1, max_features=0.06)\n",
    "ab = AdaBoostClassifier(base_estimator=base_estim,\n",
    "                        n_estimators=500,\n",
    "                        learning_rate=0.5,\n",
    "                        random_state=1234)\n",
    "\n",
    "# Fit the classifier with the training data\n",
    "# ab.fit(X_train, y_train)\n",
    "\n",
    "# print_model_performance(ab, X_test, y_test)"
   ]
  },
  {
   "cell_type": "markdown",
   "id": "ee29387f",
   "metadata": {},
   "source": [
    "#### RandomForestClassifier"
   ]
  },
  {
   "cell_type": "code",
   "execution_count": 50,
   "id": "2df772ec",
   "metadata": {
    "scrolled": true
   },
   "outputs": [],
   "source": [
    "rf = RandomForestClassifier(n_estimators=2000,\n",
    "                            max_features=0.06,\n",
    "                            n_jobs=6,\n",
    "                            random_state=1234)\n",
    "\n",
    "# Fit the classifier with the training data\n",
    "# rf.fit(X_train, y_train)\n",
    "\n",
    "# print_model_performance(rf, X_test, y_test)"
   ]
  },
  {
   "cell_type": "markdown",
   "id": "6c8d77e8",
   "metadata": {},
   "source": [
    "#### DecisionTreeClassifier"
   ]
  },
  {
   "cell_type": "code",
   "execution_count": 51,
   "id": "48bdda12",
   "metadata": {},
   "outputs": [],
   "source": [
    "dt = DecisionTreeClassifier(max_depth=12, random_state=1234)\n",
    "\n",
    "# Fit the classifier with the training data\n",
    "# dt.fit(X_train, y_train)\n",
    "\n",
    "# print_model_performance(dt, X_test, y_test)"
   ]
  },
  {
   "cell_type": "markdown",
   "id": "67a0dd49",
   "metadata": {},
   "source": [
    "### Evaluating the resutls"
   ]
  },
  {
   "cell_type": "code",
   "execution_count": 52,
   "id": "8fc043f9",
   "metadata": {},
   "outputs": [
    {
     "name": "stderr",
     "output_type": "stream",
     "text": [
      "/home/janithahn/anaconda3/envs/ml/lib/python3.8/site-packages/xgboost/sklearn.py:1224: UserWarning: The use of label encoder in XGBClassifier is deprecated and will be removed in a future release. To remove this warning, do the following: 1) Pass option use_label_encoder=False when constructing XGBClassifier object; and 2) Encode your labels (y) as integers starting with 0, i.e. 0, 1, 2, ..., [num_class - 1].\n",
      "  warnings.warn(label_encoder_deprecation_msg, UserWarning)\n"
     ]
    },
    {
     "name": "stdout",
     "output_type": "stream",
     "text": [
      "[14:57:40] WARNING: ../src/learner.cc:576: \n",
      "Parameters: { \"colsample_level\" } might not be used.\n",
      "\n",
      "  This could be a false alarm, with some parameters getting used by language bindings but\n",
      "  then being mistakenly passed down to XGBoost core, or some parameter actually being used\n",
      "  but getting flagged wrongly here. Please open an issue if you find any such cases.\n",
      "\n",
      "\n",
      "[14:57:40] WARNING: ../src/learner.cc:1115: Starting in XGBoost 1.3.0, the default evaluation metric used with the objective 'multi:softprob' was changed from 'merror' to 'mlogloss'. Explicitly set eval_metric if you'd like to restore the old behavior.\n"
     ]
    }
   ],
   "source": [
    "# Setting up our results dataframe\n",
    "df_results = pd.DataFrame(columns=['accuracy'])\n",
    "# df_results = pd.pivot_table(df_results, index=['name'], values=['accuracy'],aggfunc='sum')\n",
    "\n",
    "models = [dt, rf, ab, gbm, xgb_a, xgb_b]\n",
    "model_names = [i.__class__.__name__ for i in models]\n",
    "es_models = ['XGBClassifier']\n",
    "\n",
    "for m, n in zip(models, model_names):\n",
    "    \n",
    "#     if n in es_models:\n",
    "#         m.fit(X_train,\n",
    "#               y_train,\n",
    "#               eval_set = [(X_test, y_test)],\n",
    "#               early_stopping_rounds=15,\n",
    "#               verbose=0\n",
    "#              )\n",
    "#     else:\n",
    "#         m.fit(X_train, y_train)\n",
    "\n",
    "    m.fit(X_train, y_train)\n",
    "        \n",
    "    accuracy = np.mean(m.predict(X_test) == y_test)\n",
    "        \n",
    "    df_results.loc[n] = [accuracy]\n",
    "    \n",
    "    del m"
   ]
  },
  {
   "cell_type": "code",
   "execution_count": 53,
   "id": "ea82b743",
   "metadata": {},
   "outputs": [
    {
     "data": {
      "text/html": [
       "<div>\n",
       "<style scoped>\n",
       "    .dataframe tbody tr th:only-of-type {\n",
       "        vertical-align: middle;\n",
       "    }\n",
       "\n",
       "    .dataframe tbody tr th {\n",
       "        vertical-align: top;\n",
       "    }\n",
       "\n",
       "    .dataframe thead th {\n",
       "        text-align: right;\n",
       "    }\n",
       "</style>\n",
       "<table border=\"1\" class=\"dataframe\">\n",
       "  <thead>\n",
       "    <tr style=\"text-align: right;\">\n",
       "      <th></th>\n",
       "      <th>accuracy</th>\n",
       "    </tr>\n",
       "  </thead>\n",
       "  <tbody>\n",
       "    <tr>\n",
       "      <th>DecisionTreeClassifier</th>\n",
       "      <td>0.663636</td>\n",
       "    </tr>\n",
       "    <tr>\n",
       "      <th>RandomForestClassifier</th>\n",
       "      <td>0.642424</td>\n",
       "    </tr>\n",
       "    <tr>\n",
       "      <th>AdaBoostClassifier</th>\n",
       "      <td>0.393939</td>\n",
       "    </tr>\n",
       "    <tr>\n",
       "      <th>GradientBoostingClassifier</th>\n",
       "      <td>0.715152</td>\n",
       "    </tr>\n",
       "    <tr>\n",
       "      <th>XGBClassifier</th>\n",
       "      <td>0.881818</td>\n",
       "    </tr>\n",
       "  </tbody>\n",
       "</table>\n",
       "</div>"
      ],
      "text/plain": [
       "                            accuracy\n",
       "DecisionTreeClassifier      0.663636\n",
       "RandomForestClassifier      0.642424\n",
       "AdaBoostClassifier          0.393939\n",
       "GradientBoostingClassifier  0.715152\n",
       "XGBClassifier               0.881818"
      ]
     },
     "execution_count": 53,
     "metadata": {},
     "output_type": "execute_result"
    }
   ],
   "source": [
    "df_results"
   ]
  },
  {
   "cell_type": "code",
   "execution_count": null,
   "id": "572c1dac",
   "metadata": {},
   "outputs": [],
   "source": []
  }
 ],
 "metadata": {
  "kernelspec": {
   "display_name": "Python 3 (ipykernel)",
   "language": "python",
   "name": "python3"
  },
  "language_info": {
   "codemirror_mode": {
    "name": "ipython",
    "version": 3
   },
   "file_extension": ".py",
   "mimetype": "text/x-python",
   "name": "python",
   "nbconvert_exporter": "python",
   "pygments_lexer": "ipython3",
   "version": "3.8.12"
  }
 },
 "nbformat": 4,
 "nbformat_minor": 5
}
