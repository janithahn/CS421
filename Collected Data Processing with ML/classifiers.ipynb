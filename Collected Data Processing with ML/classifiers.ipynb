{
 "cells": [
  {
   "cell_type": "code",
   "execution_count": 1,
   "id": "c5a2cf96",
   "metadata": {},
   "outputs": [],
   "source": [
    "import pandas as pd\n",
    "import seaborn as sns\n",
    "import numpy as np"
   ]
  },
  {
   "cell_type": "markdown",
   "id": "9df1d85d",
   "metadata": {},
   "source": [
    "## Reading data from the CSV"
   ]
  },
  {
   "cell_type": "code",
   "execution_count": 2,
   "id": "a586a5c5",
   "metadata": {},
   "outputs": [],
   "source": [
    "pd.set_option(\"display.max.columns\", None)\n",
    "df = pd.read_csv('./data/runtime_200steps_with_ids.csv')"
   ]
  },
  {
   "cell_type": "code",
   "execution_count": 3,
   "id": "b287c3e7",
   "metadata": {
    "scrolled": true
   },
   "outputs": [
    {
     "data": {
      "text/html": [
       "<div>\n",
       "<style scoped>\n",
       "    .dataframe tbody tr th:only-of-type {\n",
       "        vertical-align: middle;\n",
       "    }\n",
       "\n",
       "    .dataframe tbody tr th {\n",
       "        vertical-align: top;\n",
       "    }\n",
       "\n",
       "    .dataframe thead th {\n",
       "        text-align: right;\n",
       "    }\n",
       "</style>\n",
       "<table border=\"1\" class=\"dataframe\">\n",
       "  <thead>\n",
       "    <tr style=\"text-align: right;\">\n",
       "      <th></th>\n",
       "      <th>ID</th>\n",
       "      <th>NumberOfIntegers</th>\n",
       "      <th>DataStructure</th>\n",
       "      <th>insert()</th>\n",
       "      <th>insertAt()</th>\n",
       "      <th>contains()</th>\n",
       "      <th>indexOf()</th>\n",
       "      <th>get()</th>\n",
       "      <th>delete()</th>\n",
       "    </tr>\n",
       "  </thead>\n",
       "  <tbody>\n",
       "    <tr>\n",
       "      <th>0</th>\n",
       "      <td>0</td>\n",
       "      <td>100000</td>\n",
       "      <td>ArrayList</td>\n",
       "      <td>6.75</td>\n",
       "      <td>10.76</td>\n",
       "      <td>3.08</td>\n",
       "      <td>3.13</td>\n",
       "      <td>0.11</td>\n",
       "      <td>10.86</td>\n",
       "    </tr>\n",
       "    <tr>\n",
       "      <th>1</th>\n",
       "      <td>1</td>\n",
       "      <td>100000</td>\n",
       "      <td>ArrayList_Initialized</td>\n",
       "      <td>2.94</td>\n",
       "      <td>5.23</td>\n",
       "      <td>0.28</td>\n",
       "      <td>0.26</td>\n",
       "      <td>0.07</td>\n",
       "      <td>5.09</td>\n",
       "    </tr>\n",
       "    <tr>\n",
       "      <th>2</th>\n",
       "      <td>2</td>\n",
       "      <td>100000</td>\n",
       "      <td>LinkedList</td>\n",
       "      <td>8.39</td>\n",
       "      <td>1.57</td>\n",
       "      <td>2.80</td>\n",
       "      <td>0.84</td>\n",
       "      <td>1.50</td>\n",
       "      <td>0.17</td>\n",
       "    </tr>\n",
       "    <tr>\n",
       "      <th>3</th>\n",
       "      <td>3</td>\n",
       "      <td>100000</td>\n",
       "      <td>Vector</td>\n",
       "      <td>7.39</td>\n",
       "      <td>10.81</td>\n",
       "      <td>2.67</td>\n",
       "      <td>3.13</td>\n",
       "      <td>0.16</td>\n",
       "      <td>14.04</td>\n",
       "    </tr>\n",
       "    <tr>\n",
       "      <th>4</th>\n",
       "      <td>4</td>\n",
       "      <td>100000</td>\n",
       "      <td>Vector_Initialized</td>\n",
       "      <td>2.96</td>\n",
       "      <td>5.18</td>\n",
       "      <td>0.27</td>\n",
       "      <td>0.26</td>\n",
       "      <td>0.07</td>\n",
       "      <td>5.10</td>\n",
       "    </tr>\n",
       "    <tr>\n",
       "      <th>5</th>\n",
       "      <td>5</td>\n",
       "      <td>150000</td>\n",
       "      <td>ArrayList</td>\n",
       "      <td>5.44</td>\n",
       "      <td>12.70</td>\n",
       "      <td>0.62</td>\n",
       "      <td>0.62</td>\n",
       "      <td>0.12</td>\n",
       "      <td>12.77</td>\n",
       "    </tr>\n",
       "    <tr>\n",
       "      <th>6</th>\n",
       "      <td>6</td>\n",
       "      <td>150000</td>\n",
       "      <td>ArrayList_Initialized</td>\n",
       "      <td>4.16</td>\n",
       "      <td>12.73</td>\n",
       "      <td>0.61</td>\n",
       "      <td>0.60</td>\n",
       "      <td>0.12</td>\n",
       "      <td>12.76</td>\n",
       "    </tr>\n",
       "    <tr>\n",
       "      <th>7</th>\n",
       "      <td>7</td>\n",
       "      <td>150000</td>\n",
       "      <td>LinkedList</td>\n",
       "      <td>8.57</td>\n",
       "      <td>1.50</td>\n",
       "      <td>2.13</td>\n",
       "      <td>2.12</td>\n",
       "      <td>1.45</td>\n",
       "      <td>0.11</td>\n",
       "    </tr>\n",
       "    <tr>\n",
       "      <th>8</th>\n",
       "      <td>8</td>\n",
       "      <td>150000</td>\n",
       "      <td>Vector</td>\n",
       "      <td>4.90</td>\n",
       "      <td>11.94</td>\n",
       "      <td>1.00</td>\n",
       "      <td>0.73</td>\n",
       "      <td>0.15</td>\n",
       "      <td>11.99</td>\n",
       "    </tr>\n",
       "    <tr>\n",
       "      <th>9</th>\n",
       "      <td>9</td>\n",
       "      <td>150000</td>\n",
       "      <td>Vector_Initialized</td>\n",
       "      <td>1.74</td>\n",
       "      <td>12.37</td>\n",
       "      <td>0.54</td>\n",
       "      <td>0.57</td>\n",
       "      <td>0.10</td>\n",
       "      <td>11.47</td>\n",
       "    </tr>\n",
       "    <tr>\n",
       "      <th>10</th>\n",
       "      <td>10</td>\n",
       "      <td>200000</td>\n",
       "      <td>ArrayList</td>\n",
       "      <td>2.97</td>\n",
       "      <td>20.61</td>\n",
       "      <td>0.97</td>\n",
       "      <td>0.90</td>\n",
       "      <td>0.13</td>\n",
       "      <td>20.31</td>\n",
       "    </tr>\n",
       "    <tr>\n",
       "      <th>11</th>\n",
       "      <td>11</td>\n",
       "      <td>200000</td>\n",
       "      <td>ArrayList_Initialized</td>\n",
       "      <td>2.17</td>\n",
       "      <td>20.08</td>\n",
       "      <td>0.91</td>\n",
       "      <td>0.89</td>\n",
       "      <td>0.13</td>\n",
       "      <td>20.26</td>\n",
       "    </tr>\n",
       "    <tr>\n",
       "      <th>12</th>\n",
       "      <td>12</td>\n",
       "      <td>200000</td>\n",
       "      <td>LinkedList</td>\n",
       "      <td>2.13</td>\n",
       "      <td>2.31</td>\n",
       "      <td>3.27</td>\n",
       "      <td>3.27</td>\n",
       "      <td>2.25</td>\n",
       "      <td>0.13</td>\n",
       "    </tr>\n",
       "    <tr>\n",
       "      <th>13</th>\n",
       "      <td>13</td>\n",
       "      <td>200000</td>\n",
       "      <td>Vector</td>\n",
       "      <td>2.58</td>\n",
       "      <td>20.17</td>\n",
       "      <td>0.96</td>\n",
       "      <td>0.92</td>\n",
       "      <td>0.15</td>\n",
       "      <td>20.49</td>\n",
       "    </tr>\n",
       "    <tr>\n",
       "      <th>14</th>\n",
       "      <td>14</td>\n",
       "      <td>200000</td>\n",
       "      <td>Vector_Initialized</td>\n",
       "      <td>2.43</td>\n",
       "      <td>20.25</td>\n",
       "      <td>0.91</td>\n",
       "      <td>0.89</td>\n",
       "      <td>0.14</td>\n",
       "      <td>20.23</td>\n",
       "    </tr>\n",
       "    <tr>\n",
       "      <th>15</th>\n",
       "      <td>15</td>\n",
       "      <td>250000</td>\n",
       "      <td>ArrayList</td>\n",
       "      <td>2.48</td>\n",
       "      <td>31.32</td>\n",
       "      <td>1.50</td>\n",
       "      <td>1.41</td>\n",
       "      <td>0.17</td>\n",
       "      <td>31.52</td>\n",
       "    </tr>\n",
       "    <tr>\n",
       "      <th>16</th>\n",
       "      <td>16</td>\n",
       "      <td>250000</td>\n",
       "      <td>ArrayList_Initialized</td>\n",
       "      <td>2.04</td>\n",
       "      <td>31.88</td>\n",
       "      <td>1.43</td>\n",
       "      <td>1.44</td>\n",
       "      <td>0.17</td>\n",
       "      <td>31.82</td>\n",
       "    </tr>\n",
       "    <tr>\n",
       "      <th>17</th>\n",
       "      <td>17</td>\n",
       "      <td>250000</td>\n",
       "      <td>LinkedList</td>\n",
       "      <td>2.48</td>\n",
       "      <td>3.95</td>\n",
       "      <td>5.54</td>\n",
       "      <td>5.15</td>\n",
       "      <td>3.52</td>\n",
       "      <td>0.15</td>\n",
       "    </tr>\n",
       "    <tr>\n",
       "      <th>18</th>\n",
       "      <td>18</td>\n",
       "      <td>250000</td>\n",
       "      <td>Vector</td>\n",
       "      <td>1.90</td>\n",
       "      <td>31.44</td>\n",
       "      <td>1.45</td>\n",
       "      <td>1.42</td>\n",
       "      <td>0.16</td>\n",
       "      <td>32.42</td>\n",
       "    </tr>\n",
       "    <tr>\n",
       "      <th>19</th>\n",
       "      <td>19</td>\n",
       "      <td>250000</td>\n",
       "      <td>Vector_Initialized</td>\n",
       "      <td>1.72</td>\n",
       "      <td>32.18</td>\n",
       "      <td>1.49</td>\n",
       "      <td>1.76</td>\n",
       "      <td>0.18</td>\n",
       "      <td>32.15</td>\n",
       "    </tr>\n",
       "  </tbody>\n",
       "</table>\n",
       "</div>"
      ],
      "text/plain": [
       "    ID  NumberOfIntegers          DataStructure  insert()  insertAt()  \\\n",
       "0    0            100000              ArrayList      6.75       10.76   \n",
       "1    1            100000  ArrayList_Initialized      2.94        5.23   \n",
       "2    2            100000             LinkedList      8.39        1.57   \n",
       "3    3            100000                 Vector      7.39       10.81   \n",
       "4    4            100000     Vector_Initialized      2.96        5.18   \n",
       "5    5            150000              ArrayList      5.44       12.70   \n",
       "6    6            150000  ArrayList_Initialized      4.16       12.73   \n",
       "7    7            150000             LinkedList      8.57        1.50   \n",
       "8    8            150000                 Vector      4.90       11.94   \n",
       "9    9            150000     Vector_Initialized      1.74       12.37   \n",
       "10  10            200000              ArrayList      2.97       20.61   \n",
       "11  11            200000  ArrayList_Initialized      2.17       20.08   \n",
       "12  12            200000             LinkedList      2.13        2.31   \n",
       "13  13            200000                 Vector      2.58       20.17   \n",
       "14  14            200000     Vector_Initialized      2.43       20.25   \n",
       "15  15            250000              ArrayList      2.48       31.32   \n",
       "16  16            250000  ArrayList_Initialized      2.04       31.88   \n",
       "17  17            250000             LinkedList      2.48        3.95   \n",
       "18  18            250000                 Vector      1.90       31.44   \n",
       "19  19            250000     Vector_Initialized      1.72       32.18   \n",
       "\n",
       "    contains()  indexOf()  get()  delete()  \n",
       "0         3.08       3.13   0.11     10.86  \n",
       "1         0.28       0.26   0.07      5.09  \n",
       "2         2.80       0.84   1.50      0.17  \n",
       "3         2.67       3.13   0.16     14.04  \n",
       "4         0.27       0.26   0.07      5.10  \n",
       "5         0.62       0.62   0.12     12.77  \n",
       "6         0.61       0.60   0.12     12.76  \n",
       "7         2.13       2.12   1.45      0.11  \n",
       "8         1.00       0.73   0.15     11.99  \n",
       "9         0.54       0.57   0.10     11.47  \n",
       "10        0.97       0.90   0.13     20.31  \n",
       "11        0.91       0.89   0.13     20.26  \n",
       "12        3.27       3.27   2.25      0.13  \n",
       "13        0.96       0.92   0.15     20.49  \n",
       "14        0.91       0.89   0.14     20.23  \n",
       "15        1.50       1.41   0.17     31.52  \n",
       "16        1.43       1.44   0.17     31.82  \n",
       "17        5.54       5.15   3.52      0.15  \n",
       "18        1.45       1.42   0.16     32.42  \n",
       "19        1.49       1.76   0.18     32.15  "
      ]
     },
     "execution_count": 3,
     "metadata": {},
     "output_type": "execute_result"
    }
   ],
   "source": [
    "df.head(20)"
   ]
  },
  {
   "cell_type": "markdown",
   "id": "05130986",
   "metadata": {},
   "source": [
    "## Observing data"
   ]
  },
  {
   "cell_type": "code",
   "execution_count": 4,
   "id": "db645272",
   "metadata": {
    "scrolled": true
   },
   "outputs": [
    {
     "data": {
      "text/plain": [
       "ID                  1000\n",
       "NumberOfIntegers    1000\n",
       "DataStructure       1000\n",
       "insert()            1000\n",
       "insertAt()          1000\n",
       "contains()          1000\n",
       "indexOf()           1000\n",
       "get()               1000\n",
       "delete()            1000\n",
       "dtype: int64"
      ]
     },
     "execution_count": 4,
     "metadata": {},
     "output_type": "execute_result"
    }
   ],
   "source": [
    "df.count()"
   ]
  },
  {
   "cell_type": "code",
   "execution_count": 5,
   "id": "95990809",
   "metadata": {},
   "outputs": [
    {
     "name": "stdout",
     "output_type": "stream",
     "text": [
      "<class 'pandas.core.frame.DataFrame'>\n",
      "RangeIndex: 1000 entries, 0 to 999\n",
      "Data columns (total 9 columns):\n",
      " #   Column            Non-Null Count  Dtype  \n",
      "---  ------            --------------  -----  \n",
      " 0   ID                1000 non-null   int64  \n",
      " 1   NumberOfIntegers  1000 non-null   int64  \n",
      " 2   DataStructure     1000 non-null   object \n",
      " 3   insert()          1000 non-null   float64\n",
      " 4   insertAt()        1000 non-null   float64\n",
      " 5   contains()        1000 non-null   float64\n",
      " 6   indexOf()         1000 non-null   float64\n",
      " 7   get()             1000 non-null   float64\n",
      " 8   delete()          1000 non-null   float64\n",
      "dtypes: float64(6), int64(2), object(1)\n",
      "memory usage: 70.4+ KB\n"
     ]
    }
   ],
   "source": [
    "df.info()"
   ]
  },
  {
   "cell_type": "code",
   "execution_count": 6,
   "id": "6bdd01b1",
   "metadata": {
    "scrolled": true
   },
   "outputs": [
    {
     "data": {
      "text/html": [
       "<div>\n",
       "<style scoped>\n",
       "    .dataframe tbody tr th:only-of-type {\n",
       "        vertical-align: middle;\n",
       "    }\n",
       "\n",
       "    .dataframe tbody tr th {\n",
       "        vertical-align: top;\n",
       "    }\n",
       "\n",
       "    .dataframe thead th {\n",
       "        text-align: right;\n",
       "    }\n",
       "</style>\n",
       "<table border=\"1\" class=\"dataframe\">\n",
       "  <thead>\n",
       "    <tr style=\"text-align: right;\">\n",
       "      <th></th>\n",
       "      <th>ID</th>\n",
       "      <th>NumberOfIntegers</th>\n",
       "      <th>insert()</th>\n",
       "      <th>insertAt()</th>\n",
       "      <th>contains()</th>\n",
       "      <th>indexOf()</th>\n",
       "      <th>get()</th>\n",
       "      <th>delete()</th>\n",
       "    </tr>\n",
       "  </thead>\n",
       "  <tbody>\n",
       "    <tr>\n",
       "      <th>count</th>\n",
       "      <td>1000.000000</td>\n",
       "      <td>1.000000e+03</td>\n",
       "      <td>1000.000000</td>\n",
       "      <td>1000.000000</td>\n",
       "      <td>1000.000000</td>\n",
       "      <td>1000.00000</td>\n",
       "      <td>1000.000000</td>\n",
       "      <td>1000.000000</td>\n",
       "    </tr>\n",
       "    <tr>\n",
       "      <th>mean</th>\n",
       "      <td>499.500000</td>\n",
       "      <td>5.075000e+06</td>\n",
       "      <td>19.853940</td>\n",
       "      <td>779.721220</td>\n",
       "      <td>42.044260</td>\n",
       "      <td>41.72680</td>\n",
       "      <td>12.052490</td>\n",
       "      <td>770.837040</td>\n",
       "    </tr>\n",
       "    <tr>\n",
       "      <th>std</th>\n",
       "      <td>288.819436</td>\n",
       "      <td>2.888160e+06</td>\n",
       "      <td>28.391663</td>\n",
       "      <td>412.256122</td>\n",
       "      <td>27.596254</td>\n",
       "      <td>27.12717</td>\n",
       "      <td>24.881496</td>\n",
       "      <td>436.463398</td>\n",
       "    </tr>\n",
       "    <tr>\n",
       "      <th>min</th>\n",
       "      <td>0.000000</td>\n",
       "      <td>1.000000e+05</td>\n",
       "      <td>1.720000</td>\n",
       "      <td>1.500000</td>\n",
       "      <td>0.270000</td>\n",
       "      <td>0.26000</td>\n",
       "      <td>0.000000</td>\n",
       "      <td>0.030000</td>\n",
       "    </tr>\n",
       "    <tr>\n",
       "      <th>25%</th>\n",
       "      <td>249.750000</td>\n",
       "      <td>2.587500e+06</td>\n",
       "      <td>10.920000</td>\n",
       "      <td>443.332500</td>\n",
       "      <td>30.027500</td>\n",
       "      <td>30.04000</td>\n",
       "      <td>0.010000</td>\n",
       "      <td>440.197500</td>\n",
       "    </tr>\n",
       "    <tr>\n",
       "      <th>50%</th>\n",
       "      <td>499.500000</td>\n",
       "      <td>5.075000e+06</td>\n",
       "      <td>15.260000</td>\n",
       "      <td>1006.920000</td>\n",
       "      <td>31.540000</td>\n",
       "      <td>31.53500</td>\n",
       "      <td>0.020000</td>\n",
       "      <td>1013.260000</td>\n",
       "    </tr>\n",
       "    <tr>\n",
       "      <th>75%</th>\n",
       "      <td>749.250000</td>\n",
       "      <td>7.562500e+06</td>\n",
       "      <td>20.092500</td>\n",
       "      <td>1023.147500</td>\n",
       "      <td>33.995000</td>\n",
       "      <td>33.72500</td>\n",
       "      <td>0.062500</td>\n",
       "      <td>1026.745000</td>\n",
       "    </tr>\n",
       "    <tr>\n",
       "      <th>max</th>\n",
       "      <td>999.000000</td>\n",
       "      <td>1.005000e+07</td>\n",
       "      <td>400.860000</td>\n",
       "      <td>1675.160000</td>\n",
       "      <td>135.800000</td>\n",
       "      <td>116.63000</td>\n",
       "      <td>93.260000</td>\n",
       "      <td>1622.290000</td>\n",
       "    </tr>\n",
       "  </tbody>\n",
       "</table>\n",
       "</div>"
      ],
      "text/plain": [
       "                ID  NumberOfIntegers     insert()   insertAt()   contains()  \\\n",
       "count  1000.000000      1.000000e+03  1000.000000  1000.000000  1000.000000   \n",
       "mean    499.500000      5.075000e+06    19.853940   779.721220    42.044260   \n",
       "std     288.819436      2.888160e+06    28.391663   412.256122    27.596254   \n",
       "min       0.000000      1.000000e+05     1.720000     1.500000     0.270000   \n",
       "25%     249.750000      2.587500e+06    10.920000   443.332500    30.027500   \n",
       "50%     499.500000      5.075000e+06    15.260000  1006.920000    31.540000   \n",
       "75%     749.250000      7.562500e+06    20.092500  1023.147500    33.995000   \n",
       "max     999.000000      1.005000e+07   400.860000  1675.160000   135.800000   \n",
       "\n",
       "        indexOf()        get()     delete()  \n",
       "count  1000.00000  1000.000000  1000.000000  \n",
       "mean     41.72680    12.052490   770.837040  \n",
       "std      27.12717    24.881496   436.463398  \n",
       "min       0.26000     0.000000     0.030000  \n",
       "25%      30.04000     0.010000   440.197500  \n",
       "50%      31.53500     0.020000  1013.260000  \n",
       "75%      33.72500     0.062500  1026.745000  \n",
       "max     116.63000    93.260000  1622.290000  "
      ]
     },
     "execution_count": 6,
     "metadata": {},
     "output_type": "execute_result"
    }
   ],
   "source": [
    "df.describe()"
   ]
  },
  {
   "cell_type": "code",
   "execution_count": 7,
   "id": "dd91019c",
   "metadata": {
    "scrolled": true
   },
   "outputs": [
    {
     "name": "stdout",
     "output_type": "stream",
     "text": [
      "(1000, 9)\n"
     ]
    }
   ],
   "source": [
    "print(df.shape)"
   ]
  },
  {
   "cell_type": "markdown",
   "id": "07ff775a",
   "metadata": {},
   "source": [
    "### Taking the unique classes from the datset"
   ]
  },
  {
   "cell_type": "code",
   "execution_count": 8,
   "id": "40ee8980",
   "metadata": {
    "scrolled": true
   },
   "outputs": [
    {
     "name": "stdout",
     "output_type": "stream",
     "text": [
      "5\n"
     ]
    }
   ],
   "source": [
    "num_of_classes = len(df.DataStructure.unique())\n",
    "print(num_of_classes)"
   ]
  },
  {
   "cell_type": "markdown",
   "id": "2aaa2fbb",
   "metadata": {},
   "source": [
    "### Groupby the class"
   ]
  },
  {
   "cell_type": "code",
   "execution_count": 9,
   "id": "bbc0d17f",
   "metadata": {
    "scrolled": true
   },
   "outputs": [
    {
     "data": {
      "text/html": [
       "<div>\n",
       "<style scoped>\n",
       "    .dataframe tbody tr th:only-of-type {\n",
       "        vertical-align: middle;\n",
       "    }\n",
       "\n",
       "    .dataframe tbody tr th {\n",
       "        vertical-align: top;\n",
       "    }\n",
       "\n",
       "    .dataframe thead th {\n",
       "        text-align: right;\n",
       "    }\n",
       "</style>\n",
       "<table border=\"1\" class=\"dataframe\">\n",
       "  <thead>\n",
       "    <tr style=\"text-align: right;\">\n",
       "      <th></th>\n",
       "      <th></th>\n",
       "      <th>ID</th>\n",
       "      <th>NumberOfIntegers</th>\n",
       "      <th>DataStructure</th>\n",
       "      <th>insert()</th>\n",
       "      <th>insertAt()</th>\n",
       "      <th>contains()</th>\n",
       "      <th>indexOf()</th>\n",
       "      <th>get()</th>\n",
       "      <th>delete()</th>\n",
       "    </tr>\n",
       "    <tr>\n",
       "      <th>DataStructure</th>\n",
       "      <th></th>\n",
       "      <th></th>\n",
       "      <th></th>\n",
       "      <th></th>\n",
       "      <th></th>\n",
       "      <th></th>\n",
       "      <th></th>\n",
       "      <th></th>\n",
       "      <th></th>\n",
       "      <th></th>\n",
       "    </tr>\n",
       "  </thead>\n",
       "  <tbody>\n",
       "    <tr>\n",
       "      <th rowspan=\"5\" valign=\"top\">ArrayList</th>\n",
       "      <th>0</th>\n",
       "      <td>755</td>\n",
       "      <td>7650000</td>\n",
       "      <td>ArrayList</td>\n",
       "      <td>65.82</td>\n",
       "      <td>1019.58</td>\n",
       "      <td>30.67</td>\n",
       "      <td>31.01</td>\n",
       "      <td>0.01</td>\n",
       "      <td>1025.18</td>\n",
       "    </tr>\n",
       "    <tr>\n",
       "      <th>1</th>\n",
       "      <td>380</td>\n",
       "      <td>3900000</td>\n",
       "      <td>ArrayList</td>\n",
       "      <td>22.14</td>\n",
       "      <td>1003.14</td>\n",
       "      <td>30.19</td>\n",
       "      <td>30.07</td>\n",
       "      <td>0.01</td>\n",
       "      <td>1002.30</td>\n",
       "    </tr>\n",
       "    <tr>\n",
       "      <th>2</th>\n",
       "      <td>230</td>\n",
       "      <td>2400000</td>\n",
       "      <td>ArrayList</td>\n",
       "      <td>11.10</td>\n",
       "      <td>1017.75</td>\n",
       "      <td>29.74</td>\n",
       "      <td>30.05</td>\n",
       "      <td>0.01</td>\n",
       "      <td>1086.25</td>\n",
       "    </tr>\n",
       "    <tr>\n",
       "      <th>3</th>\n",
       "      <td>175</td>\n",
       "      <td>1850000</td>\n",
       "      <td>ArrayList</td>\n",
       "      <td>14.82</td>\n",
       "      <td>985.85</td>\n",
       "      <td>29.43</td>\n",
       "      <td>28.25</td>\n",
       "      <td>0.01</td>\n",
       "      <td>986.76</td>\n",
       "    </tr>\n",
       "    <tr>\n",
       "      <th>4</th>\n",
       "      <td>775</td>\n",
       "      <td>7850000</td>\n",
       "      <td>ArrayList</td>\n",
       "      <td>21.61</td>\n",
       "      <td>1034.64</td>\n",
       "      <td>29.63</td>\n",
       "      <td>30.92</td>\n",
       "      <td>0.01</td>\n",
       "      <td>1017.64</td>\n",
       "    </tr>\n",
       "    <tr>\n",
       "      <th>...</th>\n",
       "      <th>...</th>\n",
       "      <td>...</td>\n",
       "      <td>...</td>\n",
       "      <td>...</td>\n",
       "      <td>...</td>\n",
       "      <td>...</td>\n",
       "      <td>...</td>\n",
       "      <td>...</td>\n",
       "      <td>...</td>\n",
       "      <td>...</td>\n",
       "    </tr>\n",
       "    <tr>\n",
       "      <th rowspan=\"5\" valign=\"top\">Vector_Initialized</th>\n",
       "      <th>195</th>\n",
       "      <td>559</td>\n",
       "      <td>5650000</td>\n",
       "      <td>Vector_Initialized</td>\n",
       "      <td>12.30</td>\n",
       "      <td>1018.86</td>\n",
       "      <td>32.66</td>\n",
       "      <td>32.71</td>\n",
       "      <td>0.02</td>\n",
       "      <td>998.06</td>\n",
       "    </tr>\n",
       "    <tr>\n",
       "      <th>196</th>\n",
       "      <td>774</td>\n",
       "      <td>7800000</td>\n",
       "      <td>Vector_Initialized</td>\n",
       "      <td>8.22</td>\n",
       "      <td>1024.14</td>\n",
       "      <td>32.49</td>\n",
       "      <td>30.84</td>\n",
       "      <td>0.03</td>\n",
       "      <td>1021.43</td>\n",
       "    </tr>\n",
       "    <tr>\n",
       "      <th>197</th>\n",
       "      <td>819</td>\n",
       "      <td>8250000</td>\n",
       "      <td>Vector_Initialized</td>\n",
       "      <td>17.18</td>\n",
       "      <td>1025.75</td>\n",
       "      <td>32.80</td>\n",
       "      <td>33.06</td>\n",
       "      <td>0.02</td>\n",
       "      <td>1012.40</td>\n",
       "    </tr>\n",
       "    <tr>\n",
       "      <th>198</th>\n",
       "      <td>114</td>\n",
       "      <td>1200000</td>\n",
       "      <td>Vector_Initialized</td>\n",
       "      <td>26.02</td>\n",
       "      <td>993.09</td>\n",
       "      <td>29.29</td>\n",
       "      <td>30.08</td>\n",
       "      <td>0.02</td>\n",
       "      <td>993.09</td>\n",
       "    </tr>\n",
       "    <tr>\n",
       "      <th>199</th>\n",
       "      <td>404</td>\n",
       "      <td>4100000</td>\n",
       "      <td>Vector_Initialized</td>\n",
       "      <td>16.38</td>\n",
       "      <td>1016.04</td>\n",
       "      <td>34.15</td>\n",
       "      <td>31.61</td>\n",
       "      <td>0.03</td>\n",
       "      <td>1014.57</td>\n",
       "    </tr>\n",
       "  </tbody>\n",
       "</table>\n",
       "<p>1000 rows × 9 columns</p>\n",
       "</div>"
      ],
      "text/plain": [
       "                         ID  NumberOfIntegers       DataStructure  insert()  \\\n",
       "DataStructure                                                                 \n",
       "ArrayList          0    755           7650000           ArrayList     65.82   \n",
       "                   1    380           3900000           ArrayList     22.14   \n",
       "                   2    230           2400000           ArrayList     11.10   \n",
       "                   3    175           1850000           ArrayList     14.82   \n",
       "                   4    775           7850000           ArrayList     21.61   \n",
       "...                     ...               ...                 ...       ...   \n",
       "Vector_Initialized 195  559           5650000  Vector_Initialized     12.30   \n",
       "                   196  774           7800000  Vector_Initialized      8.22   \n",
       "                   197  819           8250000  Vector_Initialized     17.18   \n",
       "                   198  114           1200000  Vector_Initialized     26.02   \n",
       "                   199  404           4100000  Vector_Initialized     16.38   \n",
       "\n",
       "                        insertAt()  contains()  indexOf()  get()  delete()  \n",
       "DataStructure                                                               \n",
       "ArrayList          0       1019.58       30.67      31.01   0.01   1025.18  \n",
       "                   1       1003.14       30.19      30.07   0.01   1002.30  \n",
       "                   2       1017.75       29.74      30.05   0.01   1086.25  \n",
       "                   3        985.85       29.43      28.25   0.01    986.76  \n",
       "                   4       1034.64       29.63      30.92   0.01   1017.64  \n",
       "...                            ...         ...        ...    ...       ...  \n",
       "Vector_Initialized 195     1018.86       32.66      32.71   0.02    998.06  \n",
       "                   196     1024.14       32.49      30.84   0.03   1021.43  \n",
       "                   197     1025.75       32.80      33.06   0.02   1012.40  \n",
       "                   198      993.09       29.29      30.08   0.02    993.09  \n",
       "                   199     1016.04       34.15      31.61   0.03   1014.57  \n",
       "\n",
       "[1000 rows x 9 columns]"
      ]
     },
     "execution_count": 9,
     "metadata": {},
     "output_type": "execute_result"
    }
   ],
   "source": [
    "g = df.groupby('DataStructure')\n",
    "g.apply(lambda x: x.sample(g.size().min()).reset_index(drop=True))"
   ]
  },
  {
   "cell_type": "markdown",
   "id": "c5f3c51c",
   "metadata": {},
   "source": [
    "#### Plotting all the groups"
   ]
  },
  {
   "cell_type": "code",
   "execution_count": 10,
   "id": "b9ff2927",
   "metadata": {
    "scrolled": false
   },
   "outputs": [
    {
     "data": {
      "text/plain": [
       "array([<AxesSubplot:ylabel='None'>], dtype=object)"
      ]
     },
     "execution_count": 10,
     "metadata": {},
     "output_type": "execute_result"
    },
    {
     "data": {
      "image/png": "[encoded data removed]",
      "text/plain": [
       "<Figure size 576x432 with 1 Axes>"
      ]
     },
     "metadata": {},
     "output_type": "display_data"
    }
   ],
   "source": [
    "df_plot = df.groupby('DataStructure').size()\n",
    "df_plot.plot.pie(subplots=True, figsize=(8, 6))"
   ]
  },
  {
   "cell_type": "markdown",
   "id": "a7ed1856",
   "metadata": {},
   "source": [
    "### Combing similar classes together"
   ]
  },
  {
   "cell_type": "code",
   "execution_count": 11,
   "id": "52087d8f",
   "metadata": {
    "scrolled": false
   },
   "outputs": [
    {
     "data": {
      "text/html": [
       "<div>\n",
       "<style scoped>\n",
       "    .dataframe tbody tr th:only-of-type {\n",
       "        vertical-align: middle;\n",
       "    }\n",
       "\n",
       "    .dataframe tbody tr th {\n",
       "        vertical-align: top;\n",
       "    }\n",
       "\n",
       "    .dataframe thead th {\n",
       "        text-align: right;\n",
       "    }\n",
       "</style>\n",
       "<table border=\"1\" class=\"dataframe\">\n",
       "  <thead>\n",
       "    <tr style=\"text-align: right;\">\n",
       "      <th></th>\n",
       "      <th>ID</th>\n",
       "      <th>NumberOfIntegers</th>\n",
       "      <th>DataStructure</th>\n",
       "      <th>insert()</th>\n",
       "      <th>insertAt()</th>\n",
       "      <th>contains()</th>\n",
       "      <th>indexOf()</th>\n",
       "      <th>get()</th>\n",
       "      <th>delete()</th>\n",
       "    </tr>\n",
       "  </thead>\n",
       "  <tbody>\n",
       "    <tr>\n",
       "      <th>0</th>\n",
       "      <td>0</td>\n",
       "      <td>100000</td>\n",
       "      <td>ArrayList</td>\n",
       "      <td>6.75</td>\n",
       "      <td>10.76</td>\n",
       "      <td>3.08</td>\n",
       "      <td>3.13</td>\n",
       "      <td>0.11</td>\n",
       "      <td>10.86</td>\n",
       "    </tr>\n",
       "    <tr>\n",
       "      <th>1</th>\n",
       "      <td>1</td>\n",
       "      <td>100000</td>\n",
       "      <td>ArrayList</td>\n",
       "      <td>2.94</td>\n",
       "      <td>5.23</td>\n",
       "      <td>0.28</td>\n",
       "      <td>0.26</td>\n",
       "      <td>0.07</td>\n",
       "      <td>5.09</td>\n",
       "    </tr>\n",
       "    <tr>\n",
       "      <th>2</th>\n",
       "      <td>2</td>\n",
       "      <td>100000</td>\n",
       "      <td>LinkedList</td>\n",
       "      <td>8.39</td>\n",
       "      <td>1.57</td>\n",
       "      <td>2.80</td>\n",
       "      <td>0.84</td>\n",
       "      <td>1.50</td>\n",
       "      <td>0.17</td>\n",
       "    </tr>\n",
       "    <tr>\n",
       "      <th>3</th>\n",
       "      <td>3</td>\n",
       "      <td>100000</td>\n",
       "      <td>Vector</td>\n",
       "      <td>7.39</td>\n",
       "      <td>10.81</td>\n",
       "      <td>2.67</td>\n",
       "      <td>3.13</td>\n",
       "      <td>0.16</td>\n",
       "      <td>14.04</td>\n",
       "    </tr>\n",
       "    <tr>\n",
       "      <th>4</th>\n",
       "      <td>4</td>\n",
       "      <td>100000</td>\n",
       "      <td>Vector</td>\n",
       "      <td>2.96</td>\n",
       "      <td>5.18</td>\n",
       "      <td>0.27</td>\n",
       "      <td>0.26</td>\n",
       "      <td>0.07</td>\n",
       "      <td>5.10</td>\n",
       "    </tr>\n",
       "  </tbody>\n",
       "</table>\n",
       "</div>"
      ],
      "text/plain": [
       "   ID  NumberOfIntegers DataStructure  insert()  insertAt()  contains()  \\\n",
       "0   0            100000     ArrayList      6.75       10.76        3.08   \n",
       "1   1            100000     ArrayList      2.94        5.23        0.28   \n",
       "2   2            100000    LinkedList      8.39        1.57        2.80   \n",
       "3   3            100000        Vector      7.39       10.81        2.67   \n",
       "4   4            100000        Vector      2.96        5.18        0.27   \n",
       "\n",
       "   indexOf()  get()  delete()  \n",
       "0       3.13   0.11     10.86  \n",
       "1       0.26   0.07      5.09  \n",
       "2       0.84   1.50      0.17  \n",
       "3       3.13   0.16     14.04  \n",
       "4       0.26   0.07      5.10  "
      ]
     },
     "execution_count": 11,
     "metadata": {},
     "output_type": "execute_result"
    }
   ],
   "source": [
    "df_processed = df\n",
    "# df_processed.drop(df.index[df['DataStructure'] == 'ArrayList'], inplace = True)\n",
    "# df_processed.drop(df.index[df['DataStructure'] == 'Vector'], inplace = True)\n",
    "# df_processed.drop(df.index[df['DataStructure'] == 'LinkedList'], inplace = True)\n",
    "df_processed['DataStructure'] = df['DataStructure'].replace(['Vector_Initialized'],'Vector')\n",
    "df_processed['DataStructure'] = df['DataStructure'].replace(['ArrayList_Initialized'],'ArrayList')\n",
    "df_processed.head()"
   ]
  },
  {
   "cell_type": "markdown",
   "id": "e9eaebc1",
   "metadata": {},
   "source": [
    "## Classification"
   ]
  },
  {
   "cell_type": "markdown",
   "id": "cbf4b781",
   "metadata": {},
   "source": [
    "### Method to get the trained model info"
   ]
  },
  {
   "cell_type": "code",
   "execution_count": 12,
   "id": "4d37669b",
   "metadata": {},
   "outputs": [],
   "source": [
    "import sklearn.metrics as metrics\n",
    "\n",
    "def print_model_performance(model, X_test, y_test):\n",
    "    y_pred = model.predict(X_test)\n",
    "    print('Accuracy score:\\n', metrics.accuracy_score(y_test, y_pred))\n",
    "    print('Confusion matrix:\\n', metrics.confusion_matrix(y_test, y_pred))\n",
    "    print('Classification report:\\n', metrics.classification_report(y_test, y_pred, digits=4))\n",
    "    print('Precision:\\n',metrics.precision_score(y_test, y_pred, average=None))\n",
    "    print('Recall:\\n',metrics.recall_score(y_test, y_pred, average=None))"
   ]
  },
  {
   "cell_type": "markdown",
   "id": "1270f2cb",
   "metadata": {},
   "source": [
    "### split train input and output data"
   ]
  },
  {
   "cell_type": "code",
   "execution_count": 13,
   "id": "8727de48",
   "metadata": {},
   "outputs": [
    {
     "name": "stdout",
     "output_type": "stream",
     "text": [
      "(1000, 7)\n",
      "(1000,)\n"
     ]
    }
   ],
   "source": [
    "# split train input and output data\n",
    "X = df_processed.drop(axis=0, columns=['DataStructure', 'ID'])\n",
    "Y = df_processed.DataStructure\n",
    "\n",
    "# Print the shape of X and Y\n",
    "print(X.shape)\n",
    "print(Y.shape)"
   ]
  },
  {
   "cell_type": "code",
   "execution_count": 14,
   "id": "cef949d6",
   "metadata": {},
   "outputs": [],
   "source": [
    "from sklearn.model_selection import train_test_split"
   ]
  },
  {
   "cell_type": "markdown",
   "id": "123e27a8",
   "metadata": {},
   "source": [
    "### Split into training and test sets"
   ]
  },
  {
   "cell_type": "code",
   "execution_count": 15,
   "id": "b6d37508",
   "metadata": {},
   "outputs": [],
   "source": [
    "# Split into training and test sets\n",
    "X_train, X_test, y_train, y_test = train_test_split(X, Y, test_size=0.33, random_state=27)"
   ]
  },
  {
   "cell_type": "markdown",
   "id": "df41cecb",
   "metadata": {},
   "source": [
    "### Using the DecisionTreeClassifier from Sklearn"
   ]
  },
  {
   "cell_type": "code",
   "execution_count": 16,
   "id": "20800452",
   "metadata": {
    "scrolled": true
   },
   "outputs": [
    {
     "name": "stdout",
     "output_type": "stream",
     "text": [
      "DecisionTreeClassifier(criterion='entropy', max_depth=6, random_state=7)\n",
      "Accuracy score:\n",
      " 0.9575757575757575\n",
      "Confusion matrix:\n",
      " [[119   0   8]\n",
      " [  0  68   0]\n",
      " [  6   0 129]]\n",
      "Classification report:\n",
      "               precision    recall  f1-score   support\n",
      "\n",
      "   ArrayList     0.9520    0.9370    0.9444       127\n",
      "  LinkedList     1.0000    1.0000    1.0000        68\n",
      "      Vector     0.9416    0.9556    0.9485       135\n",
      "\n",
      "    accuracy                         0.9576       330\n",
      "   macro avg     0.9645    0.9642    0.9643       330\n",
      "weighted avg     0.9576    0.9576    0.9576       330\n",
      "\n",
      "Precision:\n",
      " [0.952      1.         0.94160584]\n",
      "Recall:\n",
      " [0.93700787 1.         0.95555556]\n"
     ]
    }
   ],
   "source": [
    "from sklearn.tree import DecisionTreeClassifier\n",
    "\n",
    "dt_classifier = DecisionTreeClassifier(criterion=\"entropy\", max_depth=6, random_state=7)   \n",
    "dt_classifier.fit(X_train, y_train)\n",
    "\n",
    "print(dt_classifier)\n",
    "print_model_performance(dt_classifier, X_test, y_test)"
   ]
  },
  {
   "cell_type": "markdown",
   "id": "d0f29d15",
   "metadata": {},
   "source": [
    "#### Viewing the test dataset"
   ]
  },
  {
   "cell_type": "code",
   "execution_count": 17,
   "id": "64de9828",
   "metadata": {
    "scrolled": true
   },
   "outputs": [
    {
     "data": {
      "text/html": [
       "<div>\n",
       "<style scoped>\n",
       "    .dataframe tbody tr th:only-of-type {\n",
       "        vertical-align: middle;\n",
       "    }\n",
       "\n",
       "    .dataframe tbody tr th {\n",
       "        vertical-align: top;\n",
       "    }\n",
       "\n",
       "    .dataframe thead th {\n",
       "        text-align: right;\n",
       "    }\n",
       "</style>\n",
       "<table border=\"1\" class=\"dataframe\">\n",
       "  <thead>\n",
       "    <tr style=\"text-align: right;\">\n",
       "      <th></th>\n",
       "      <th>NumberOfIntegers</th>\n",
       "      <th>insert()</th>\n",
       "      <th>insertAt()</th>\n",
       "      <th>contains()</th>\n",
       "      <th>indexOf()</th>\n",
       "      <th>get()</th>\n",
       "      <th>delete()</th>\n",
       "    </tr>\n",
       "  </thead>\n",
       "  <tbody>\n",
       "    <tr>\n",
       "      <th>754</th>\n",
       "      <td>7600000</td>\n",
       "      <td>17.86</td>\n",
       "      <td>1006.93</td>\n",
       "      <td>29.61</td>\n",
       "      <td>30.10</td>\n",
       "      <td>0.02</td>\n",
       "      <td>1010.68</td>\n",
       "    </tr>\n",
       "    <tr>\n",
       "      <th>768</th>\n",
       "      <td>7750000</td>\n",
       "      <td>17.99</td>\n",
       "      <td>993.87</td>\n",
       "      <td>31.85</td>\n",
       "      <td>30.78</td>\n",
       "      <td>0.02</td>\n",
       "      <td>1026.49</td>\n",
       "    </tr>\n",
       "    <tr>\n",
       "      <th>23</th>\n",
       "      <td>300000</td>\n",
       "      <td>4.98</td>\n",
       "      <td>45.55</td>\n",
       "      <td>2.12</td>\n",
       "      <td>2.07</td>\n",
       "      <td>0.20</td>\n",
       "      <td>46.06</td>\n",
       "    </tr>\n",
       "    <tr>\n",
       "      <th>47</th>\n",
       "      <td>550000</td>\n",
       "      <td>10.32</td>\n",
       "      <td>16.91</td>\n",
       "      <td>24.43</td>\n",
       "      <td>24.87</td>\n",
       "      <td>16.78</td>\n",
       "      <td>0.32</td>\n",
       "    </tr>\n",
       "    <tr>\n",
       "      <th>453</th>\n",
       "      <td>4600000</td>\n",
       "      <td>18.12</td>\n",
       "      <td>1014.12</td>\n",
       "      <td>30.19</td>\n",
       "      <td>31.22</td>\n",
       "      <td>0.02</td>\n",
       "      <td>1005.48</td>\n",
       "    </tr>\n",
       "  </tbody>\n",
       "</table>\n",
       "</div>"
      ],
      "text/plain": [
       "     NumberOfIntegers  insert()  insertAt()  contains()  indexOf()  get()  \\\n",
       "754           7600000     17.86     1006.93       29.61      30.10   0.02   \n",
       "768           7750000     17.99      993.87       31.85      30.78   0.02   \n",
       "23             300000      4.98       45.55        2.12       2.07   0.20   \n",
       "47             550000     10.32       16.91       24.43      24.87  16.78   \n",
       "453           4600000     18.12     1014.12       30.19      31.22   0.02   \n",
       "\n",
       "     delete()  \n",
       "754   1010.68  \n",
       "768   1026.49  \n",
       "23      46.06  \n",
       "47       0.32  \n",
       "453   1005.48  "
      ]
     },
     "execution_count": 17,
     "metadata": {},
     "output_type": "execute_result"
    }
   ],
   "source": [
    "X_test.head()"
   ]
  },
  {
   "cell_type": "markdown",
   "id": "a6035c51",
   "metadata": {},
   "source": [
    "### Method to convert probability array into an array of arrays with class names of possible data structures"
   ]
  },
  {
   "cell_type": "code",
   "execution_count": 18,
   "id": "10eedeb0",
   "metadata": {},
   "outputs": [],
   "source": [
    "def get_possible_classes(prob_array, clf):\n",
    "    labels = clf.classes_\n",
    "    # return_val =  [labels[index] if prob_val!=0 else prob_val for arr in prob_array for index, prob_val in enumerate(arr)]\n",
    "    return_val = [[str(labels[index] + \": \" + str(prob_val)) for index, prob_val in enumerate(arr) if prob_val != 0] for arr in prob_array]\n",
    "    # return np.array(return_val).reshape(-1, 3)\n",
    "    return return_val"
   ]
  },
  {
   "cell_type": "markdown",
   "id": "75ed7001",
   "metadata": {},
   "source": [
    "### Predicting"
   ]
  },
  {
   "cell_type": "code",
   "execution_count": 19,
   "id": "d8e45707",
   "metadata": {
    "scrolled": false
   },
   "outputs": [
    {
     "data": {
      "text/html": [
       "<div>\n",
       "<style scoped>\n",
       "    .dataframe tbody tr th:only-of-type {\n",
       "        vertical-align: middle;\n",
       "    }\n",
       "\n",
       "    .dataframe tbody tr th {\n",
       "        vertical-align: top;\n",
       "    }\n",
       "\n",
       "    .dataframe thead th {\n",
       "        text-align: right;\n",
       "    }\n",
       "</style>\n",
       "<table border=\"1\" class=\"dataframe\">\n",
       "  <thead>\n",
       "    <tr style=\"text-align: right;\">\n",
       "      <th></th>\n",
       "      <th>Expected Output</th>\n",
       "      <th>Predicted Output</th>\n",
       "    </tr>\n",
       "  </thead>\n",
       "  <tbody>\n",
       "    <tr>\n",
       "      <th>754</th>\n",
       "      <td>Vector</td>\n",
       "      <td>Vector</td>\n",
       "    </tr>\n",
       "    <tr>\n",
       "      <th>768</th>\n",
       "      <td>Vector</td>\n",
       "      <td>Vector</td>\n",
       "    </tr>\n",
       "    <tr>\n",
       "      <th>23</th>\n",
       "      <td>Vector</td>\n",
       "      <td>ArrayList</td>\n",
       "    </tr>\n",
       "    <tr>\n",
       "      <th>47</th>\n",
       "      <td>LinkedList</td>\n",
       "      <td>LinkedList</td>\n",
       "    </tr>\n",
       "    <tr>\n",
       "      <th>453</th>\n",
       "      <td>Vector</td>\n",
       "      <td>Vector</td>\n",
       "    </tr>\n",
       "    <tr>\n",
       "      <th>459</th>\n",
       "      <td>Vector</td>\n",
       "      <td>Vector</td>\n",
       "    </tr>\n",
       "    <tr>\n",
       "      <th>713</th>\n",
       "      <td>Vector</td>\n",
       "      <td>Vector</td>\n",
       "    </tr>\n",
       "    <tr>\n",
       "      <th>732</th>\n",
       "      <td>LinkedList</td>\n",
       "      <td>LinkedList</td>\n",
       "    </tr>\n",
       "    <tr>\n",
       "      <th>432</th>\n",
       "      <td>LinkedList</td>\n",
       "      <td>LinkedList</td>\n",
       "    </tr>\n",
       "    <tr>\n",
       "      <th>774</th>\n",
       "      <td>Vector</td>\n",
       "      <td>Vector</td>\n",
       "    </tr>\n",
       "    <tr>\n",
       "      <th>256</th>\n",
       "      <td>ArrayList</td>\n",
       "      <td>ArrayList</td>\n",
       "    </tr>\n",
       "    <tr>\n",
       "      <th>672</th>\n",
       "      <td>LinkedList</td>\n",
       "      <td>LinkedList</td>\n",
       "    </tr>\n",
       "    <tr>\n",
       "      <th>700</th>\n",
       "      <td>ArrayList</td>\n",
       "      <td>ArrayList</td>\n",
       "    </tr>\n",
       "    <tr>\n",
       "      <th>550</th>\n",
       "      <td>ArrayList</td>\n",
       "      <td>Vector</td>\n",
       "    </tr>\n",
       "    <tr>\n",
       "      <th>457</th>\n",
       "      <td>LinkedList</td>\n",
       "      <td>LinkedList</td>\n",
       "    </tr>\n",
       "    <tr>\n",
       "      <th>202</th>\n",
       "      <td>LinkedList</td>\n",
       "      <td>LinkedList</td>\n",
       "    </tr>\n",
       "    <tr>\n",
       "      <th>643</th>\n",
       "      <td>Vector</td>\n",
       "      <td>Vector</td>\n",
       "    </tr>\n",
       "    <tr>\n",
       "      <th>97</th>\n",
       "      <td>LinkedList</td>\n",
       "      <td>LinkedList</td>\n",
       "    </tr>\n",
       "    <tr>\n",
       "      <th>292</th>\n",
       "      <td>LinkedList</td>\n",
       "      <td>LinkedList</td>\n",
       "    </tr>\n",
       "    <tr>\n",
       "      <th>113</th>\n",
       "      <td>Vector</td>\n",
       "      <td>Vector</td>\n",
       "    </tr>\n",
       "  </tbody>\n",
       "</table>\n",
       "</div>"
      ],
      "text/plain": [
       "    Expected Output Predicted Output\n",
       "754          Vector           Vector\n",
       "768          Vector           Vector\n",
       "23           Vector        ArrayList\n",
       "47       LinkedList       LinkedList\n",
       "453          Vector           Vector\n",
       "459          Vector           Vector\n",
       "713          Vector           Vector\n",
       "732      LinkedList       LinkedList\n",
       "432      LinkedList       LinkedList\n",
       "774          Vector           Vector\n",
       "256       ArrayList        ArrayList\n",
       "672      LinkedList       LinkedList\n",
       "700       ArrayList        ArrayList\n",
       "550       ArrayList           Vector\n",
       "457      LinkedList       LinkedList\n",
       "202      LinkedList       LinkedList\n",
       "643          Vector           Vector\n",
       "97       LinkedList       LinkedList\n",
       "292      LinkedList       LinkedList\n",
       "113          Vector           Vector"
      ]
     },
     "execution_count": 19,
     "metadata": {},
     "output_type": "execute_result"
    }
   ],
   "source": [
    "val = dt_classifier.predict(X_test)\n",
    "\n",
    "output = pd.DataFrame()\n",
    "output['Expected Output'] = y_test\n",
    "output['Predicted Output'] = val\n",
    "output.head(20)"
   ]
  },
  {
   "cell_type": "markdown",
   "id": "06bfcb4e",
   "metadata": {},
   "source": [
    "### Predicting the probabilities"
   ]
  },
  {
   "cell_type": "code",
   "execution_count": 20,
   "id": "6d9a0c06",
   "metadata": {},
   "outputs": [
    {
     "data": {
      "text/html": [
       "<div>\n",
       "<style scoped>\n",
       "    .dataframe tbody tr th:only-of-type {\n",
       "        vertical-align: middle;\n",
       "    }\n",
       "\n",
       "    .dataframe tbody tr th {\n",
       "        vertical-align: top;\n",
       "    }\n",
       "\n",
       "    .dataframe thead th {\n",
       "        text-align: right;\n",
       "    }\n",
       "</style>\n",
       "<table border=\"1\" class=\"dataframe\">\n",
       "  <thead>\n",
       "    <tr style=\"text-align: right;\">\n",
       "      <th></th>\n",
       "      <th>Expected Output</th>\n",
       "      <th>Predicted Output</th>\n",
       "    </tr>\n",
       "  </thead>\n",
       "  <tbody>\n",
       "    <tr>\n",
       "      <th>754</th>\n",
       "      <td>Vector</td>\n",
       "      <td>[Vector: 1.0]</td>\n",
       "    </tr>\n",
       "    <tr>\n",
       "      <th>768</th>\n",
       "      <td>Vector</td>\n",
       "      <td>[Vector: 1.0]</td>\n",
       "    </tr>\n",
       "    <tr>\n",
       "      <th>23</th>\n",
       "      <td>Vector</td>\n",
       "      <td>[ArrayList: 0.5217391304347826, Vector: 0.4782...</td>\n",
       "    </tr>\n",
       "    <tr>\n",
       "      <th>47</th>\n",
       "      <td>LinkedList</td>\n",
       "      <td>[LinkedList: 1.0]</td>\n",
       "    </tr>\n",
       "    <tr>\n",
       "      <th>453</th>\n",
       "      <td>Vector</td>\n",
       "      <td>[Vector: 1.0]</td>\n",
       "    </tr>\n",
       "    <tr>\n",
       "      <th>459</th>\n",
       "      <td>Vector</td>\n",
       "      <td>[Vector: 1.0]</td>\n",
       "    </tr>\n",
       "    <tr>\n",
       "      <th>713</th>\n",
       "      <td>Vector</td>\n",
       "      <td>[Vector: 1.0]</td>\n",
       "    </tr>\n",
       "    <tr>\n",
       "      <th>732</th>\n",
       "      <td>LinkedList</td>\n",
       "      <td>[LinkedList: 1.0]</td>\n",
       "    </tr>\n",
       "    <tr>\n",
       "      <th>432</th>\n",
       "      <td>LinkedList</td>\n",
       "      <td>[LinkedList: 1.0]</td>\n",
       "    </tr>\n",
       "    <tr>\n",
       "      <th>774</th>\n",
       "      <td>Vector</td>\n",
       "      <td>[Vector: 1.0]</td>\n",
       "    </tr>\n",
       "    <tr>\n",
       "      <th>256</th>\n",
       "      <td>ArrayList</td>\n",
       "      <td>[ArrayList: 1.0]</td>\n",
       "    </tr>\n",
       "    <tr>\n",
       "      <th>672</th>\n",
       "      <td>LinkedList</td>\n",
       "      <td>[LinkedList: 1.0]</td>\n",
       "    </tr>\n",
       "    <tr>\n",
       "      <th>700</th>\n",
       "      <td>ArrayList</td>\n",
       "      <td>[ArrayList: 1.0]</td>\n",
       "    </tr>\n",
       "    <tr>\n",
       "      <th>550</th>\n",
       "      <td>ArrayList</td>\n",
       "      <td>[Vector: 1.0]</td>\n",
       "    </tr>\n",
       "    <tr>\n",
       "      <th>457</th>\n",
       "      <td>LinkedList</td>\n",
       "      <td>[LinkedList: 1.0]</td>\n",
       "    </tr>\n",
       "    <tr>\n",
       "      <th>202</th>\n",
       "      <td>LinkedList</td>\n",
       "      <td>[LinkedList: 1.0]</td>\n",
       "    </tr>\n",
       "    <tr>\n",
       "      <th>643</th>\n",
       "      <td>Vector</td>\n",
       "      <td>[Vector: 1.0]</td>\n",
       "    </tr>\n",
       "    <tr>\n",
       "      <th>97</th>\n",
       "      <td>LinkedList</td>\n",
       "      <td>[LinkedList: 1.0]</td>\n",
       "    </tr>\n",
       "    <tr>\n",
       "      <th>292</th>\n",
       "      <td>LinkedList</td>\n",
       "      <td>[LinkedList: 1.0]</td>\n",
       "    </tr>\n",
       "    <tr>\n",
       "      <th>113</th>\n",
       "      <td>Vector</td>\n",
       "      <td>[Vector: 1.0]</td>\n",
       "    </tr>\n",
       "  </tbody>\n",
       "</table>\n",
       "</div>"
      ],
      "text/plain": [
       "    Expected Output                                   Predicted Output\n",
       "754          Vector                                      [Vector: 1.0]\n",
       "768          Vector                                      [Vector: 1.0]\n",
       "23           Vector  [ArrayList: 0.5217391304347826, Vector: 0.4782...\n",
       "47       LinkedList                                  [LinkedList: 1.0]\n",
       "453          Vector                                      [Vector: 1.0]\n",
       "459          Vector                                      [Vector: 1.0]\n",
       "713          Vector                                      [Vector: 1.0]\n",
       "732      LinkedList                                  [LinkedList: 1.0]\n",
       "432      LinkedList                                  [LinkedList: 1.0]\n",
       "774          Vector                                      [Vector: 1.0]\n",
       "256       ArrayList                                   [ArrayList: 1.0]\n",
       "672      LinkedList                                  [LinkedList: 1.0]\n",
       "700       ArrayList                                   [ArrayList: 1.0]\n",
       "550       ArrayList                                      [Vector: 1.0]\n",
       "457      LinkedList                                  [LinkedList: 1.0]\n",
       "202      LinkedList                                  [LinkedList: 1.0]\n",
       "643          Vector                                      [Vector: 1.0]\n",
       "97       LinkedList                                  [LinkedList: 1.0]\n",
       "292      LinkedList                                  [LinkedList: 1.0]\n",
       "113          Vector                                      [Vector: 1.0]"
      ]
     },
     "execution_count": 20,
     "metadata": {},
     "output_type": "execute_result"
    }
   ],
   "source": [
    "proba_X_test = dt_classifier.predict_proba(X_test)\n",
    "\n",
    "arr = get_possible_classes(proba_X_test, dt_classifier)\n",
    "\n",
    "output = pd.DataFrame()\n",
    "output['Expected Output'] = y_test\n",
    "output['Predicted Output'] = arr\n",
    "output.head(20)"
   ]
  },
  {
   "cell_type": "markdown",
   "id": "beb9be71",
   "metadata": {},
   "source": [
    "#### Conisidering individual values"
   ]
  },
  {
   "cell_type": "code",
   "execution_count": 356,
   "id": "c03b3d74",
   "metadata": {
    "scrolled": true
   },
   "outputs": [
    {
     "data": {
      "text/plain": [
       "NumberOfIntegers    3850000.00\n",
       "insert()                143.40\n",
       "insertAt()             1052.05\n",
       "contains()               29.90\n",
       "indexOf()                30.15\n",
       "get()                     0.02\n",
       "delete()               1014.51\n",
       "Name: 378, dtype: float64"
      ]
     },
     "execution_count": 356,
     "metadata": {},
     "output_type": "execute_result"
    }
   ],
   "source": [
    "# first value of the test dataset\n",
    "X_test.iloc[300]"
   ]
  },
  {
   "cell_type": "code",
   "execution_count": 357,
   "id": "7e422f04",
   "metadata": {
    "scrolled": false
   },
   "outputs": [
    {
     "data": {
      "text/html": [
       "<div>\n",
       "<style scoped>\n",
       "    .dataframe tbody tr th:only-of-type {\n",
       "        vertical-align: middle;\n",
       "    }\n",
       "\n",
       "    .dataframe tbody tr th {\n",
       "        vertical-align: top;\n",
       "    }\n",
       "\n",
       "    .dataframe thead th {\n",
       "        text-align: right;\n",
       "    }\n",
       "</style>\n",
       "<table border=\"1\" class=\"dataframe\">\n",
       "  <thead>\n",
       "    <tr style=\"text-align: right;\">\n",
       "      <th></th>\n",
       "      <th>NumberOfIntegers</th>\n",
       "      <th>insert()</th>\n",
       "      <th>insertAt()</th>\n",
       "      <th>contains()</th>\n",
       "      <th>indexOf()</th>\n",
       "      <th>get()</th>\n",
       "      <th>delete()</th>\n",
       "    </tr>\n",
       "  </thead>\n",
       "  <tbody>\n",
       "    <tr>\n",
       "      <th>97</th>\n",
       "      <td>1050000</td>\n",
       "      <td>20.61</td>\n",
       "      <td>63.55</td>\n",
       "      <td>96.07</td>\n",
       "      <td>97.17</td>\n",
       "      <td>87.58</td>\n",
       "      <td>0.21</td>\n",
       "    </tr>\n",
       "    <tr>\n",
       "      <th>95</th>\n",
       "      <td>1050000</td>\n",
       "      <td>27.65</td>\n",
       "      <td>968.47</td>\n",
       "      <td>27.70</td>\n",
       "      <td>28.03</td>\n",
       "      <td>0.01</td>\n",
       "      <td>985.19</td>\n",
       "    </tr>\n",
       "    <tr>\n",
       "      <th>99</th>\n",
       "      <td>1050000</td>\n",
       "      <td>23.89</td>\n",
       "      <td>971.41</td>\n",
       "      <td>29.73</td>\n",
       "      <td>30.34</td>\n",
       "      <td>0.02</td>\n",
       "      <td>992.26</td>\n",
       "    </tr>\n",
       "  </tbody>\n",
       "</table>\n",
       "</div>"
      ],
      "text/plain": [
       "    NumberOfIntegers  insert()  insertAt()  contains()  indexOf()  get()  \\\n",
       "97           1050000     20.61       63.55       96.07      97.17  87.58   \n",
       "95           1050000     27.65      968.47       27.70      28.03   0.01   \n",
       "99           1050000     23.89      971.41       29.73      30.34   0.02   \n",
       "\n",
       "    delete()  \n",
       "97      0.21  \n",
       "95    985.19  \n",
       "99    992.26  "
      ]
     },
     "execution_count": 357,
     "metadata": {},
     "output_type": "execute_result"
    }
   ],
   "source": [
    "X_test_2 = X_test.loc[X_test['NumberOfIntegers'] == 1050000]\n",
    "X_test_2"
   ]
  },
  {
   "cell_type": "code",
   "execution_count": 358,
   "id": "9a603be4",
   "metadata": {},
   "outputs": [
    {
     "data": {
      "text/plain": [
       "NumberOfIntegers    1050000.00\n",
       "insert()                 23.89\n",
       "insertAt()              971.41\n",
       "contains()               29.73\n",
       "indexOf()                30.34\n",
       "get()                     0.02\n",
       "delete()                992.26\n",
       "Name: 99, dtype: float64"
      ]
     },
     "execution_count": 358,
     "metadata": {},
     "output_type": "execute_result"
    }
   ],
   "source": [
    "X_test_2.iloc[2]"
   ]
  },
  {
   "cell_type": "code",
   "execution_count": 402,
   "id": "fcec7b20",
   "metadata": {
    "scrolled": true
   },
   "outputs": [
    {
     "data": {
      "text/plain": [
       "[['LinkedList: 1.0']]"
      ]
     },
     "execution_count": 402,
     "metadata": {},
     "output_type": "execute_result"
    }
   ],
   "source": [
    "# [[7600000, 17.86, 1006.93, 29.61, 30.10, 0.02, 1010.68]]\n",
    "# [[300000, 4.98, 45.55, 2.12, 2.07, 0.20, 46.06]]\n",
    "\n",
    "# proba_single = dt_classifier.predict_proba([X_test.iloc[2]])\n",
    "# proba_single = dt_classifier.predict_proba([[300000, 4.98, 45.55, 2.12, 2.07, 0.20, 46.06]])\n",
    "# proba_single = dt_classifier.predict_proba([[300000, 4.98, 0, 0, 0, 0.20, 0]])\n",
    "proba_single = dt_classifier.predict_proba([[1005020, 20.61, 0, 0, 0, 87.58, 0]])\n",
    "\n",
    "arr = get_possible_classes(proba_single, dt_classifier)\n",
    "arr"
   ]
  },
  {
   "cell_type": "markdown",
   "id": "2bde52ea",
   "metadata": {},
   "source": [
    "## Using XGBClassifier from Xgboost"
   ]
  },
  {
   "cell_type": "code",
   "execution_count": 360,
   "id": "27eb59a3",
   "metadata": {},
   "outputs": [
    {
     "name": "stderr",
     "output_type": "stream",
     "text": [
      "/home/janithahn/anaconda3/envs/ml/lib/python3.8/site-packages/xgboost/sklearn.py:1224: UserWarning: The use of label encoder in XGBClassifier is deprecated and will be removed in a future release. To remove this warning, do the following: 1) Pass option use_label_encoder=False when constructing XGBClassifier object; and 2) Encode your labels (y) as integers starting with 0, i.e. 0, 1, 2, ..., [num_class - 1].\n",
      "  warnings.warn(label_encoder_deprecation_msg, UserWarning)\n"
     ]
    },
    {
     "data": {
      "text/plain": [
       "XGBClassifier(base_score=0.5, booster='gbtree', colsample_bylevel=1,\n",
       "              colsample_bynode=1, colsample_bytree=1, enable_categorical=False,\n",
       "              eval_metric='auc', gamma=0, gpu_id=-1, importance_type=None,\n",
       "              interaction_constraints='', learning_rate=0.300000012,\n",
       "              max_delta_step=0, max_depth=6, min_child_weight=1, missing=nan,\n",
       "              monotone_constraints='()', n_estimators=100, n_jobs=8,\n",
       "              num_class=5, num_parallel_tree=1, objective='multi:softprob',\n",
       "              predictor='auto', random_state=42, reg_alpha=0, reg_lambda=1,\n",
       "              scale_pos_weight=None, subsample=1, tree_method='exact',\n",
       "              validate_parameters=1, ...)"
      ]
     },
     "execution_count": 360,
     "metadata": {},
     "output_type": "execute_result"
    }
   ],
   "source": [
    "from xgboost import XGBClassifier\n",
    "\n",
    "# Create a classifier\n",
    "xgb = XGBClassifier(booster='gbtree', objective='multi:softprob', random_state=42, eval_metric=\"auc\", num_class=num_of_classes)\n",
    "\n",
    "# Fit the classifier with the training data\n",
    "xgb.fit(X_train, y_train)"
   ]
  },
  {
   "cell_type": "code",
   "execution_count": 361,
   "id": "9e6938ee",
   "metadata": {},
   "outputs": [
    {
     "data": {
      "text/plain": [
       "0.9744413616438234"
      ]
     },
     "execution_count": 361,
     "metadata": {},
     "output_type": "execute_result"
    }
   ],
   "source": [
    "from sklearn.metrics import roc_auc_score\n",
    "from sklearn import preprocessing\n",
    "\n",
    "# Use trained model to predict output of test dataset\n",
    "val = xgb.predict(X_test)\n",
    "\n",
    "lb = preprocessing.LabelBinarizer()\n",
    "lb.fit(y_test)\n",
    "\n",
    "y_test_lb = lb.transform(y_test)\n",
    "val_lb = lb.transform(val)\n",
    "\n",
    "roc_auc_score(y_test_lb, val_lb, average='macro')"
   ]
  },
  {
   "cell_type": "code",
   "execution_count": 362,
   "id": "f78d045f",
   "metadata": {},
   "outputs": [
    {
     "data": {
      "text/html": [
       "<div>\n",
       "<style scoped>\n",
       "    .dataframe tbody tr th:only-of-type {\n",
       "        vertical-align: middle;\n",
       "    }\n",
       "\n",
       "    .dataframe tbody tr th {\n",
       "        vertical-align: top;\n",
       "    }\n",
       "\n",
       "    .dataframe thead th {\n",
       "        text-align: right;\n",
       "    }\n",
       "</style>\n",
       "<table border=\"1\" class=\"dataframe\">\n",
       "  <thead>\n",
       "    <tr style=\"text-align: right;\">\n",
       "      <th></th>\n",
       "      <th>Expected Output</th>\n",
       "      <th>Predicted Output</th>\n",
       "    </tr>\n",
       "  </thead>\n",
       "  <tbody>\n",
       "    <tr>\n",
       "      <th>754</th>\n",
       "      <td>Vector</td>\n",
       "      <td>Vector</td>\n",
       "    </tr>\n",
       "    <tr>\n",
       "      <th>768</th>\n",
       "      <td>Vector</td>\n",
       "      <td>Vector</td>\n",
       "    </tr>\n",
       "    <tr>\n",
       "      <th>23</th>\n",
       "      <td>Vector</td>\n",
       "      <td>ArrayList</td>\n",
       "    </tr>\n",
       "    <tr>\n",
       "      <th>47</th>\n",
       "      <td>LinkedList</td>\n",
       "      <td>LinkedList</td>\n",
       "    </tr>\n",
       "    <tr>\n",
       "      <th>453</th>\n",
       "      <td>Vector</td>\n",
       "      <td>Vector</td>\n",
       "    </tr>\n",
       "    <tr>\n",
       "      <th>459</th>\n",
       "      <td>Vector</td>\n",
       "      <td>Vector</td>\n",
       "    </tr>\n",
       "    <tr>\n",
       "      <th>713</th>\n",
       "      <td>Vector</td>\n",
       "      <td>Vector</td>\n",
       "    </tr>\n",
       "    <tr>\n",
       "      <th>732</th>\n",
       "      <td>LinkedList</td>\n",
       "      <td>LinkedList</td>\n",
       "    </tr>\n",
       "    <tr>\n",
       "      <th>432</th>\n",
       "      <td>LinkedList</td>\n",
       "      <td>LinkedList</td>\n",
       "    </tr>\n",
       "    <tr>\n",
       "      <th>774</th>\n",
       "      <td>Vector</td>\n",
       "      <td>Vector</td>\n",
       "    </tr>\n",
       "    <tr>\n",
       "      <th>256</th>\n",
       "      <td>ArrayList</td>\n",
       "      <td>ArrayList</td>\n",
       "    </tr>\n",
       "    <tr>\n",
       "      <th>672</th>\n",
       "      <td>LinkedList</td>\n",
       "      <td>LinkedList</td>\n",
       "    </tr>\n",
       "    <tr>\n",
       "      <th>700</th>\n",
       "      <td>ArrayList</td>\n",
       "      <td>ArrayList</td>\n",
       "    </tr>\n",
       "    <tr>\n",
       "      <th>550</th>\n",
       "      <td>ArrayList</td>\n",
       "      <td>Vector</td>\n",
       "    </tr>\n",
       "    <tr>\n",
       "      <th>457</th>\n",
       "      <td>LinkedList</td>\n",
       "      <td>LinkedList</td>\n",
       "    </tr>\n",
       "    <tr>\n",
       "      <th>202</th>\n",
       "      <td>LinkedList</td>\n",
       "      <td>LinkedList</td>\n",
       "    </tr>\n",
       "    <tr>\n",
       "      <th>643</th>\n",
       "      <td>Vector</td>\n",
       "      <td>Vector</td>\n",
       "    </tr>\n",
       "    <tr>\n",
       "      <th>97</th>\n",
       "      <td>LinkedList</td>\n",
       "      <td>LinkedList</td>\n",
       "    </tr>\n",
       "    <tr>\n",
       "      <th>292</th>\n",
       "      <td>LinkedList</td>\n",
       "      <td>LinkedList</td>\n",
       "    </tr>\n",
       "    <tr>\n",
       "      <th>113</th>\n",
       "      <td>Vector</td>\n",
       "      <td>Vector</td>\n",
       "    </tr>\n",
       "  </tbody>\n",
       "</table>\n",
       "</div>"
      ],
      "text/plain": [
       "    Expected Output Predicted Output\n",
       "754          Vector           Vector\n",
       "768          Vector           Vector\n",
       "23           Vector        ArrayList\n",
       "47       LinkedList       LinkedList\n",
       "453          Vector           Vector\n",
       "459          Vector           Vector\n",
       "713          Vector           Vector\n",
       "732      LinkedList       LinkedList\n",
       "432      LinkedList       LinkedList\n",
       "774          Vector           Vector\n",
       "256       ArrayList        ArrayList\n",
       "672      LinkedList       LinkedList\n",
       "700       ArrayList        ArrayList\n",
       "550       ArrayList           Vector\n",
       "457      LinkedList       LinkedList\n",
       "202      LinkedList       LinkedList\n",
       "643          Vector           Vector\n",
       "97       LinkedList       LinkedList\n",
       "292      LinkedList       LinkedList\n",
       "113          Vector           Vector"
      ]
     },
     "execution_count": 362,
     "metadata": {},
     "output_type": "execute_result"
    }
   ],
   "source": [
    "# val = xgb.predict_proba(X_test)\n",
    "# val = get_possible_classes(val, xgb)\n",
    "\n",
    "output = pd.DataFrame()\n",
    "output['Expected Output'] = y_test\n",
    "output['Predicted Output'] = val\n",
    "output.head(20)"
   ]
  },
  {
   "cell_type": "code",
   "execution_count": 363,
   "id": "831fe5d9",
   "metadata": {},
   "outputs": [
    {
     "data": {
      "text/plain": [
       "[['ArrayList: 0.0032731884', 'LinkedList: 0.0005097438', 'Vector: 0.9962171'],\n",
       " ['ArrayList: 0.0010235916', 'LinkedList: 0.0004410793', 'Vector: 0.9985353'],\n",
       " ['ArrayList: 0.9668013', 'LinkedList: 0.0015189371', 'Vector: 0.031679757'],\n",
       " ['ArrayList: 0.0014962889', 'LinkedList: 0.9982993', 'Vector: 0.0002044883'],\n",
       " ['ArrayList: 0.004851529', 'LinkedList: 0.00053820986', 'Vector: 0.9946103'],\n",
       " ['ArrayList: 0.0017184196', 'LinkedList: 0.000314767', 'Vector: 0.9979668'],\n",
       " ['ArrayList: 0.0010988724', 'LinkedList: 0.00027143184', 'Vector: 0.9986297'],\n",
       " ['ArrayList: 0.00023712574',\n",
       "  'LinkedList: 0.9995547',\n",
       "  'Vector: 0.00020812945'],\n",
       " ['ArrayList: 0.000237123', 'LinkedList: 0.9995432', 'Vector: 0.00021976499'],\n",
       " ['ArrayList: 0.0007064605', 'LinkedList: 0.00015911188', 'Vector: 0.9991345'],\n",
       " ['ArrayList: 0.99836534',\n",
       "  'LinkedList: 0.00019614099',\n",
       "  'Vector: 0.0014385737'],\n",
       " ['ArrayList: 0.00023712574',\n",
       "  'LinkedList: 0.9995547',\n",
       "  'Vector: 0.00020812945'],\n",
       " ['ArrayList: 0.9964618', 'LinkedList: 0.00030152986', 'Vector: 0.0032366994'],\n",
       " ['ArrayList: 0.00808552', 'LinkedList: 0.0005120311', 'Vector: 0.99140245'],\n",
       " ['ArrayList: 0.00023712455',\n",
       "  'LinkedList: 0.9995497',\n",
       "  'Vector: 0.00021314352'],\n",
       " ['ArrayList: 0.00024102697',\n",
       "  'LinkedList: 0.9995509',\n",
       "  'Vector: 0.00020809016'],\n",
       " ['ArrayList: 0.0010193783', 'LinkedList: 0.000249297', 'Vector: 0.9987313'],\n",
       " ['ArrayList: 0.00024102697',\n",
       "  'LinkedList: 0.9995509',\n",
       "  'Vector: 0.00020809016'],\n",
       " ['ArrayList: 0.00024102814',\n",
       "  'LinkedList: 0.99955577',\n",
       "  'Vector: 0.00020319497'],\n",
       " ['ArrayList: 0.0031653484', 'LinkedList: 0.00030889077', 'Vector: 0.9965257'],\n",
       " ['ArrayList: 0.9948737', 'LinkedList: 0.0003682144', 'Vector: 0.004758076'],\n",
       " ['ArrayList: 0.000237123', 'LinkedList: 0.9995432', 'Vector: 0.00021976499'],\n",
       " ['ArrayList: 0.0006692243', 'LinkedList: 0.00014223356', 'Vector: 0.9991885'],\n",
       " ['ArrayList: 0.00023712455',\n",
       "  'LinkedList: 0.9995497',\n",
       "  'Vector: 0.00021314352'],\n",
       " ['ArrayList: 0.8732703', 'LinkedList: 0.0013574093', 'Vector: 0.12537228'],\n",
       " ['ArrayList: 0.9987143', 'LinkedList: 0.00023303882', 'Vector: 0.00105263'],\n",
       " ['ArrayList: 0.9978004', 'LinkedList: 0.00022381202', 'Vector: 0.0019757191'],\n",
       " ['ArrayList: 0.9973815', 'LinkedList: 0.00021269658', 'Vector: 0.0024058244'],\n",
       " ['ArrayList: 0.0011520797', 'LinkedList: 0.00015817177', 'Vector: 0.9986897'],\n",
       " ['ArrayList: 0.00081752817',\n",
       "  'LinkedList: 0.00022892846',\n",
       "  'Vector: 0.99895346'],\n",
       " ['ArrayList: 0.004753813', 'LinkedList: 0.00036180817', 'Vector: 0.9948843'],\n",
       " ['ArrayList: 0.99905616',\n",
       "  'LinkedList: 0.00013520462',\n",
       "  'Vector: 0.00080864254'],\n",
       " ['ArrayList: 0.9978004', 'LinkedList: 0.00022381202', 'Vector: 0.0019757191'],\n",
       " ['ArrayList: 0.0016639754', 'LinkedList: 0.00031341775', 'Vector: 0.9980227'],\n",
       " ['ArrayList: 0.9974421', 'LinkedList: 0.00023510668', 'Vector: 0.0023228198'],\n",
       " ['ArrayList: 0.0010939224',\n",
       "  'LinkedList: 0.00020411186',\n",
       "  'Vector: 0.99870193'],\n",
       " ['ArrayList: 0.99748755',\n",
       "  'LinkedList: 0.00016067548',\n",
       "  'Vector: 0.0023518007'],\n",
       " ['ArrayList: 0.9957599', 'LinkedList: 0.00037239373', 'Vector: 0.0038677002'],\n",
       " ['ArrayList: 0.026610624', 'LinkedList: 0.00083919894', 'Vector: 0.97255015'],\n",
       " ['ArrayList: 0.0008176117', 'LinkedList: 0.0002745073', 'Vector: 0.9989079'],\n",
       " ['ArrayList: 0.0013760527', 'LinkedList: 0.00030958068', 'Vector: 0.9983144'],\n",
       " ['ArrayList: 0.00081752817',\n",
       "  'LinkedList: 0.00022892846',\n",
       "  'Vector: 0.99895346'],\n",
       " ['ArrayList: 0.00076222233',\n",
       "  'LinkedList: 0.0002229944',\n",
       "  'Vector: 0.99901474'],\n",
       " ['ArrayList: 0.0010836552', 'LinkedList: 0.0001634901', 'Vector: 0.99875283'],\n",
       " ['ArrayList: 0.9979603', 'LinkedList: 0.0002285624', 'Vector: 0.0018110552'],\n",
       " ['ArrayList: 0.0024179202',\n",
       "  'LinkedList: 0.00030832447',\n",
       "  'Vector: 0.99727374'],\n",
       " ['ArrayList: 0.004558546', 'LinkedList: 0.00038943035', 'Vector: 0.99505204'],\n",
       " ['ArrayList: 0.99868387', 'LinkedList: 0.0003285992', 'Vector: 0.0009875068'],\n",
       " ['ArrayList: 0.99761534',\n",
       "  'LinkedList: 0.00029430576',\n",
       "  'Vector: 0.0020904015'],\n",
       " ['ArrayList: 0.9957599', 'LinkedList: 0.00037239373', 'Vector: 0.0038677002'],\n",
       " ['ArrayList: 0.99706405',\n",
       "  'LinkedList: 0.00019664994',\n",
       "  'Vector: 0.0027393491'],\n",
       " ['ArrayList: 0.034583904', 'LinkedList: 0.0008836397', 'Vector: 0.96453243'],\n",
       " ['ArrayList: 0.20070444', 'LinkedList: 0.0011754758', 'Vector: 0.79812'],\n",
       " ['ArrayList: 0.000237123', 'LinkedList: 0.9995432', 'Vector: 0.00021976499'],\n",
       " ['ArrayList: 0.00026673594',\n",
       "  'LinkedList: 0.9995285',\n",
       "  'Vector: 0.00020474009'],\n",
       " ['ArrayList: 0.003099438', 'LinkedList: 0.00038148343', 'Vector: 0.9965191'],\n",
       " ['ArrayList: 0.0016271238', 'LinkedList: 0.0004973083', 'Vector: 0.9978756'],\n",
       " ['ArrayList: 0.0007477126', 'LinkedList: 0.00018525921', 'Vector: 0.999067'],\n",
       " ['ArrayList: 0.0005915587', 'LinkedList: 0.00014612058', 'Vector: 0.9992623'],\n",
       " ['ArrayList: 0.99737215',\n",
       "  'LinkedList: 0.00030325167',\n",
       "  'Vector: 0.0023246359'],\n",
       " ['ArrayList: 0.00024102416',\n",
       "  'LinkedList: 0.99953926',\n",
       "  'Vector: 0.00021976412'],\n",
       " ['ArrayList: 0.99900717',\n",
       "  'LinkedList: 0.0001382735',\n",
       "  'Vector: 0.00085453794'],\n",
       " ['ArrayList: 0.00023712455',\n",
       "  'LinkedList: 0.9995497',\n",
       "  'Vector: 0.00021314352'],\n",
       " ['ArrayList: 0.9977071', 'LinkedList: 0.0002711555', 'Vector: 0.0020216983'],\n",
       " ['ArrayList: 0.00023712574',\n",
       "  'LinkedList: 0.9995547',\n",
       "  'Vector: 0.00020812945'],\n",
       " ['ArrayList: 0.0014474103',\n",
       "  'LinkedList: 0.00024449624',\n",
       "  'Vector: 0.99830806'],\n",
       " ['ArrayList: 0.9991015', 'LinkedList: 0.00016433028', 'Vector: 0.0007342272'],\n",
       " ['ArrayList: 0.000237123', 'LinkedList: 0.9995432', 'Vector: 0.00021976499'],\n",
       " ['ArrayList: 0.00067140063',\n",
       "  'LinkedList: 0.00016816147',\n",
       "  'Vector: 0.9991604'],\n",
       " ['ArrayList: 0.9961349', 'LinkedList: 0.00027803436', 'Vector: 0.0035871456'],\n",
       " ['ArrayList: 0.99815446', 'LinkedList: 0.0002435214', 'Vector: 0.0016019519'],\n",
       " ['ArrayList: 0.9982728', 'LinkedList: 0.00017434293', 'Vector: 0.0015528216'],\n",
       " ['ArrayList: 0.000237123', 'LinkedList: 0.9995432', 'Vector: 0.00021976499'],\n",
       " ['ArrayList: 0.9743439', 'LinkedList: 0.0018633597', 'Vector: 0.023792777'],\n",
       " ['ArrayList: 0.0009725144',\n",
       "  'LinkedList: 0.00021760055',\n",
       "  'Vector: 0.99880993'],\n",
       " ['ArrayList: 0.00024102416',\n",
       "  'LinkedList: 0.99953926',\n",
       "  'Vector: 0.00021976412'],\n",
       " ['ArrayList: 0.0006318443', 'LinkedList: 0.00016657956', 'Vector: 0.9992016'],\n",
       " ['ArrayList: 0.000237123', 'LinkedList: 0.9995432', 'Vector: 0.00021976499'],\n",
       " ['ArrayList: 0.000237123', 'LinkedList: 0.9995432', 'Vector: 0.00021976499'],\n",
       " ['ArrayList: 0.9985262', 'LinkedList: 0.00014502417', 'Vector: 0.0013287261'],\n",
       " ['ArrayList: 0.004409756', 'LinkedList: 0.000294554', 'Vector: 0.9952957'],\n",
       " ['ArrayList: 0.0019835662',\n",
       "  'LinkedList: 0.00041627642',\n",
       "  'Vector: 0.99760014'],\n",
       " ['ArrayList: 0.000412863', 'LinkedList: 0.00014733268', 'Vector: 0.9994398'],\n",
       " ['ArrayList: 0.0015829322',\n",
       "  'LinkedList: 0.00028218317',\n",
       "  'Vector: 0.99813485'],\n",
       " ['ArrayList: 0.99498194', 'LinkedList: 0.00036044567', 'Vector: 0.004657686'],\n",
       " ['ArrayList: 0.99836534',\n",
       "  'LinkedList: 0.00019614099',\n",
       "  'Vector: 0.0014385737'],\n",
       " ['ArrayList: 0.00092773634',\n",
       "  'LinkedList: 0.00023855707',\n",
       "  'Vector: 0.9988337'],\n",
       " ['ArrayList: 0.00023712574',\n",
       "  'LinkedList: 0.9995547',\n",
       "  'Vector: 0.00020812945'],\n",
       " ['ArrayList: 0.00023712577',\n",
       "  'LinkedList: 0.9995548',\n",
       "  'Vector: 0.00020809098'],\n",
       " ['ArrayList: 0.9978022', 'LinkedList: 0.00020620081', 'Vector: 0.0019915984'],\n",
       " ['ArrayList: 0.0024036677',\n",
       "  'LinkedList: 0.00048629518',\n",
       "  'Vector: 0.99711007'],\n",
       " ['ArrayList: 0.0010482119', 'LinkedList: 0.00031361106', 'Vector: 0.9986382'],\n",
       " ['ArrayList: 0.00024102814',\n",
       "  'LinkedList: 0.99955577',\n",
       "  'Vector: 0.00020319497'],\n",
       " ['ArrayList: 0.9985776', 'LinkedList: 0.00015467597', 'Vector: 0.0012677002'],\n",
       " ['ArrayList: 0.9974226', 'LinkedList: 0.00037301553', 'Vector: 0.0022043772'],\n",
       " ['ArrayList: 0.00036563128',\n",
       "  'LinkedList: 0.00013295766',\n",
       "  'Vector: 0.99950135'],\n",
       " ['ArrayList: 0.9969228', 'LinkedList: 0.00021257118', 'Vector: 0.0028645925'],\n",
       " ['ArrayList: 0.99359447', 'LinkedList: 0.00048792336', 'Vector: 0.005917667'],\n",
       " ['ArrayList: 0.0018233426', 'LinkedList: 0.00025235966', 'Vector: 0.9979243'],\n",
       " ['ArrayList: 0.9988152', 'LinkedList: 0.00024300677', 'Vector: 0.000941865'],\n",
       " ['ArrayList: 0.9975809', 'LinkedList: 0.00030886065', 'Vector: 0.002110262'],\n",
       " ['ArrayList: 0.00023712455',\n",
       "  'LinkedList: 0.9995497',\n",
       "  'Vector: 0.00021314352'],\n",
       " ['ArrayList: 0.00023712455',\n",
       "  'LinkedList: 0.9995497',\n",
       "  'Vector: 0.00021314352'],\n",
       " ['ArrayList: 0.000237123', 'LinkedList: 0.9995432', 'Vector: 0.00021976499'],\n",
       " ['ArrayList: 0.9984946', 'LinkedList: 0.00014526263', 'Vector: 0.001360054'],\n",
       " ['ArrayList: 0.0008708066', 'LinkedList: 0.9987985', 'Vector: 0.0003306599'],\n",
       " ['ArrayList: 0.997398', 'LinkedList: 0.00027107148', 'Vector: 0.002330874'],\n",
       " ['ArrayList: 0.00063245225',\n",
       "  'LinkedList: 0.00014646948',\n",
       "  'Vector: 0.9992211'],\n",
       " ['ArrayList: 0.997398', 'LinkedList: 0.00027107148', 'Vector: 0.002330874'],\n",
       " ['ArrayList: 0.00023712574',\n",
       "  'LinkedList: 0.9995547',\n",
       "  'Vector: 0.00020812945'],\n",
       " ['ArrayList: 0.9981578', 'LinkedList: 0.00022389217', 'Vector: 0.0016183067'],\n",
       " ['ArrayList: 0.00060573564',\n",
       "  'LinkedList: 0.00014135534',\n",
       "  'Vector: 0.99925286'],\n",
       " ['ArrayList: 0.0009350404', 'LinkedList: 0.00020921572', 'Vector: 0.9988557'],\n",
       " ['ArrayList: 0.00024102814',\n",
       "  'LinkedList: 0.99955577',\n",
       "  'Vector: 0.00020319497'],\n",
       " ['ArrayList: 0.99811435',\n",
       "  'LinkedList: 0.00019188087',\n",
       "  'Vector: 0.0016938435'],\n",
       " ['ArrayList: 0.99813074', 'LinkedList: 0.0002141017', 'Vector: 0.0016552018'],\n",
       " ['ArrayList: 0.9984748', 'LinkedList: 0.000165038', 'Vector: 0.0013601807'],\n",
       " ['ArrayList: 0.00023712574',\n",
       "  'LinkedList: 0.9995547',\n",
       "  'Vector: 0.00020812945'],\n",
       " ['ArrayList: 0.0018046593', 'LinkedList: 0.0002433267', 'Vector: 0.99795204'],\n",
       " ['ArrayList: 0.0006857907', 'LinkedList: 0.00019140384', 'Vector: 0.9991228'],\n",
       " ['ArrayList: 0.00092773634',\n",
       "  'LinkedList: 0.00023855707',\n",
       "  'Vector: 0.9988337'],\n",
       " ['ArrayList: 0.00024102416',\n",
       "  'LinkedList: 0.99953926',\n",
       "  'Vector: 0.00021976412'],\n",
       " ['ArrayList: 0.9989095', 'LinkedList: 0.00019474408', 'Vector: 0.000895768'],\n",
       " ['ArrayList: 0.99850416',\n",
       "  'LinkedList: 0.00018657038',\n",
       "  'Vector: 0.0013092939'],\n",
       " ['ArrayList: 0.00084120396',\n",
       "  'LinkedList: 0.00018095793',\n",
       "  'Vector: 0.9989779'],\n",
       " ['ArrayList: 0.0013721996',\n",
       "  'LinkedList: 0.00020317845',\n",
       "  'Vector: 0.99842465'],\n",
       " ['ArrayList: 0.013108444', 'LinkedList: 0.0008943318', 'Vector: 0.9859972'],\n",
       " ['ArrayList: 0.9984762', 'LinkedList: 0.00015115987', 'Vector: 0.0013726429'],\n",
       " ['ArrayList: 0.00023712455',\n",
       "  'LinkedList: 0.9995497',\n",
       "  'Vector: 0.00021314352'],\n",
       " ['ArrayList: 0.00024102814',\n",
       "  'LinkedList: 0.99955577',\n",
       "  'Vector: 0.00020319497'],\n",
       " ['ArrayList: 0.00024102814',\n",
       "  'LinkedList: 0.99955577',\n",
       "  'Vector: 0.00020319497'],\n",
       " ['ArrayList: 0.00023712455',\n",
       "  'LinkedList: 0.9995497',\n",
       "  'Vector: 0.00021314352'],\n",
       " ['ArrayList: 0.00024102416',\n",
       "  'LinkedList: 0.99953926',\n",
       "  'Vector: 0.00021976412'],\n",
       " ['ArrayList: 0.41615084', 'LinkedList: 0.0061669145', 'Vector: 0.57768226'],\n",
       " ['ArrayList: 0.99883777',\n",
       "  'LinkedList: 0.00017300568',\n",
       "  'Vector: 0.0009892416'],\n",
       " ['ArrayList: 0.9981742', 'LinkedList: 0.00019710428', 'Vector: 0.0016287435'],\n",
       " ['ArrayList: 0.0007262264', 'LinkedList: 0.00015354806', 'Vector: 0.9991202'],\n",
       " ['ArrayList: 0.9983632', 'LinkedList: 0.00018552212', 'Vector: 0.0014512991'],\n",
       " ['ArrayList: 0.07576318', 'LinkedList: 0.0017045053', 'Vector: 0.9225324'],\n",
       " ['ArrayList: 0.00024102814',\n",
       "  'LinkedList: 0.99955577',\n",
       "  'Vector: 0.00020319497'],\n",
       " ['ArrayList: 0.9986456', 'LinkedList: 0.0002049285', 'Vector: 0.0011494416'],\n",
       " ['ArrayList: 0.005257771', 'LinkedList: 0.00044299872', 'Vector: 0.9942992'],\n",
       " ['ArrayList: 0.00024102814',\n",
       "  'LinkedList: 0.99955577',\n",
       "  'Vector: 0.00020319497'],\n",
       " ['ArrayList: 0.9982597', 'LinkedList: 0.0001911364', 'Vector: 0.0015491273'],\n",
       " ['ArrayList: 0.00023712455',\n",
       "  'LinkedList: 0.9995497',\n",
       "  'Vector: 0.00021314352'],\n",
       " ['ArrayList: 0.0022204136', 'LinkedList: 0.0003660016', 'Vector: 0.9974136'],\n",
       " ['ArrayList: 0.00084120396',\n",
       "  'LinkedList: 0.00018095793',\n",
       "  'Vector: 0.9989779'],\n",
       " ['ArrayList: 0.99841166',\n",
       "  'LinkedList: 0.00016162357',\n",
       "  'Vector: 0.0014267453'],\n",
       " ['ArrayList: 0.9969844', 'LinkedList: 0.00024430346', 'Vector: 0.0027713152'],\n",
       " ['ArrayList: 0.9987884', 'LinkedList: 0.00012473227', 'Vector: 0.001086862'],\n",
       " ['ArrayList: 0.00024102697',\n",
       "  'LinkedList: 0.9995509',\n",
       "  'Vector: 0.00020809016'],\n",
       " ['ArrayList: 0.99775773',\n",
       "  'LinkedList: 0.00027678694',\n",
       "  'Vector: 0.0019654885'],\n",
       " ['ArrayList: 0.0005535334',\n",
       "  'LinkedList: 0.00014731196',\n",
       "  'Vector: 0.99929917'],\n",
       " ['ArrayList: 0.0014356542', 'LinkedList: 0.0004020193', 'Vector: 0.9981623'],\n",
       " ['ArrayList: 0.99873215',\n",
       "  'LinkedList: 0.00022588551',\n",
       "  'Vector: 0.0010419395'],\n",
       " ['ArrayList: 0.99868315',\n",
       "  'LinkedList: 0.00020417772',\n",
       "  'Vector: 0.0011126726'],\n",
       " ['ArrayList: 0.9987733', 'LinkedList: 0.00015791129', 'Vector: 0.0010688017'],\n",
       " ['ArrayList: 0.0008675626', 'LinkedList: 0.00016950814', 'Vector: 0.9989629'],\n",
       " ['ArrayList: 0.00023712574',\n",
       "  'LinkedList: 0.9995547',\n",
       "  'Vector: 0.00020812945'],\n",
       " ['ArrayList: 0.0013115164', 'LinkedList: 0.0002459458', 'Vector: 0.9984426'],\n",
       " ['ArrayList: 0.0011274357', 'LinkedList: 0.00026990465', 'Vector: 0.9986027'],\n",
       " ['ArrayList: 0.9987018', 'LinkedList: 0.00017613219', 'Vector: 0.0011220485'],\n",
       " ['ArrayList: 0.00023712455',\n",
       "  'LinkedList: 0.9995497',\n",
       "  'Vector: 0.00021314352'],\n",
       " ['ArrayList: 0.0011970323',\n",
       "  'LinkedList: 0.00015085885',\n",
       "  'Vector: 0.99865216'],\n",
       " ['ArrayList: 0.1027033', 'LinkedList: 0.0024585763', 'Vector: 0.8948381'],\n",
       " ['ArrayList: 0.0006712575', 'LinkedList: 0.0001285307', 'Vector: 0.9992003'],\n",
       " ['ArrayList: 0.0010482119', 'LinkedList: 0.00031361106', 'Vector: 0.9986382'],\n",
       " ['ArrayList: 0.0011274357', 'LinkedList: 0.00026990465', 'Vector: 0.9986027'],\n",
       " ['ArrayList: 0.002485278', 'LinkedList: 0.0005689292', 'Vector: 0.9969458'],\n",
       " ['ArrayList: 0.00081752817',\n",
       "  'LinkedList: 0.00022892846',\n",
       "  'Vector: 0.99895346'],\n",
       " ['ArrayList: 0.00072353263',\n",
       "  'LinkedList: 0.00017413273',\n",
       "  'Vector: 0.99910235'],\n",
       " ['ArrayList: 0.00023712455',\n",
       "  'LinkedList: 0.9995497',\n",
       "  'Vector: 0.00021314352'],\n",
       " ['ArrayList: 0.00077821664',\n",
       "  'LinkedList: 0.00016472215',\n",
       "  'Vector: 0.9990571'],\n",
       " ['ArrayList: 0.00023712574',\n",
       "  'LinkedList: 0.9995547',\n",
       "  'Vector: 0.00020812945'],\n",
       " ['ArrayList: 0.0009026767', 'LinkedList: 0.0002495794', 'Vector: 0.9988477'],\n",
       " ['ArrayList: 0.99776864', 'LinkedList: 0.0001793794', 'Vector: 0.0020519628'],\n",
       " ['ArrayList: 0.9987564', 'LinkedList: 0.00024062922', 'Vector: 0.0010029058'],\n",
       " ['ArrayList: 0.0013265422',\n",
       "  'LinkedList: 0.00030504217',\n",
       "  'Vector: 0.99836844'],\n",
       " ['ArrayList: 0.00026673594',\n",
       "  'LinkedList: 0.9995285',\n",
       "  'Vector: 0.00020474009'],\n",
       " ['ArrayList: 0.007584642', 'LinkedList: 0.0005568453', 'Vector: 0.99185854'],\n",
       " ['ArrayList: 0.00076222233',\n",
       "  'LinkedList: 0.0002229944',\n",
       "  'Vector: 0.99901474'],\n",
       " ['ArrayList: 0.00023712455',\n",
       "  'LinkedList: 0.9995497',\n",
       "  'Vector: 0.00021314352'],\n",
       " ['ArrayList: 0.00051155133',\n",
       "  'LinkedList: 0.00014875681',\n",
       "  'Vector: 0.99933964'],\n",
       " ['ArrayList: 0.00023712574',\n",
       "  'LinkedList: 0.9995547',\n",
       "  'Vector: 0.00020812945'],\n",
       " ['ArrayList: 0.00024102814',\n",
       "  'LinkedList: 0.99955577',\n",
       "  'Vector: 0.00020319497'],\n",
       " ['ArrayList: 0.004538078', 'LinkedList: 0.00057895074', 'Vector: 0.99488294'],\n",
       " ['ArrayList: 0.0005030275', 'LinkedList: 0.0001551754', 'Vector: 0.9993418'],\n",
       " ['ArrayList: 0.034723267', 'LinkedList: 0.0010640273', 'Vector: 0.9642127'],\n",
       " ['ArrayList: 0.000237123', 'LinkedList: 0.9995432', 'Vector: 0.00021976499'],\n",
       " ['ArrayList: 0.000237123', 'LinkedList: 0.9995432', 'Vector: 0.00021976499'],\n",
       " ['ArrayList: 0.0009979102', 'LinkedList: 0.0001606242', 'Vector: 0.99884146'],\n",
       " ['ArrayList: 0.00024102697',\n",
       "  'LinkedList: 0.9995509',\n",
       "  'Vector: 0.00020809016'],\n",
       " ['ArrayList: 0.9976162', 'LinkedList: 0.00027113076', 'Vector: 0.00211274'],\n",
       " ['ArrayList: 0.9982919', 'LinkedList: 0.00027986546', 'Vector: 0.0014282786'],\n",
       " ['ArrayList: 0.000237123', 'LinkedList: 0.9995432', 'Vector: 0.00021976499'],\n",
       " ['ArrayList: 0.998536', 'LinkedList: 0.00017658982', 'Vector: 0.0012874717'],\n",
       " ['ArrayList: 0.00023712574',\n",
       "  'LinkedList: 0.9995547',\n",
       "  'Vector: 0.00020812945'],\n",
       " ['ArrayList: 0.0010482119', 'LinkedList: 0.00031361106', 'Vector: 0.9986382'],\n",
       " ['ArrayList: 0.997398', 'LinkedList: 0.00027107148', 'Vector: 0.002330874'],\n",
       " ['ArrayList: 0.0018783134',\n",
       "  'LinkedList: 0.00052209344',\n",
       "  'Vector: 0.99759954'],\n",
       " ['ArrayList: 0.00024102814',\n",
       "  'LinkedList: 0.99955577',\n",
       "  'Vector: 0.00020319497'],\n",
       " ['ArrayList: 0.00092657836', 'LinkedList: 0.0002288736', 'Vector: 0.9988445'],\n",
       " ['ArrayList: 0.9987503', 'LinkedList: 0.00016146066', 'Vector: 0.0010881666'],\n",
       " ['ArrayList: 0.00074948894',\n",
       "  'LinkedList: 0.00019008113',\n",
       "  'Vector: 0.99906045'],\n",
       " ['ArrayList: 0.00024102416',\n",
       "  'LinkedList: 0.99953926',\n",
       "  'Vector: 0.00021976412'],\n",
       " ['ArrayList: 0.0017625425', 'LinkedList: 0.0004107336', 'Vector: 0.99782676'],\n",
       " ['ArrayList: 0.0005838553', 'LinkedList: 0.00019243408', 'Vector: 0.9992237'],\n",
       " ['ArrayList: 0.0008023202', 'LinkedList: 0.0002715559', 'Vector: 0.9989261'],\n",
       " ['ArrayList: 0.0011035895', 'LinkedList: 0.00028801212', 'Vector: 0.9986084'],\n",
       " ['ArrayList: 0.9972119', 'LinkedList: 0.00023980135', 'Vector: 0.0025483351'],\n",
       " ['ArrayList: 0.99855846',\n",
       "  'LinkedList: 0.00021928211',\n",
       "  'Vector: 0.0012222272'],\n",
       " ['ArrayList: 0.00023712574',\n",
       "  'LinkedList: 0.9995547',\n",
       "  'Vector: 0.00020812945'],\n",
       " ['ArrayList: 0.99812466',\n",
       "  'LinkedList: 0.00025778415',\n",
       "  'Vector: 0.0016175688'],\n",
       " ['ArrayList: 0.0019461181', 'LinkedList: 0.000332465', 'Vector: 0.9977214'],\n",
       " ['ArrayList: 0.99812824',\n",
       "  'LinkedList: 0.00015367221',\n",
       "  'Vector: 0.0017181468'],\n",
       " ['ArrayList: 0.99868363',\n",
       "  'LinkedList: 0.00013633278',\n",
       "  'Vector: 0.0011799794'],\n",
       " ['ArrayList: 0.0009563351', 'LinkedList: 0.0001970098', 'Vector: 0.99884665'],\n",
       " ['ArrayList: 0.00023712574',\n",
       "  'LinkedList: 0.9995547',\n",
       "  'Vector: 0.00020812945'],\n",
       " ['ArrayList: 0.0008941994', 'LinkedList: 0.0002176176', 'Vector: 0.9988882'],\n",
       " ['ArrayList: 0.0015199636', 'LinkedList: 0.0004882992', 'Vector: 0.9979918'],\n",
       " ['ArrayList: 0.0008672124',\n",
       "  'LinkedList: 0.00019403937',\n",
       "  'Vector: 0.99893874'],\n",
       " ['ArrayList: 0.00024102416',\n",
       "  'LinkedList: 0.99953926',\n",
       "  'Vector: 0.00021976412'],\n",
       " ['ArrayList: 0.0006857907', 'LinkedList: 0.00019140384', 'Vector: 0.9991228'],\n",
       " ['ArrayList: 0.00023712574',\n",
       "  'LinkedList: 0.9995547',\n",
       "  'Vector: 0.00020812945'],\n",
       " ['ArrayList: 0.00023712574',\n",
       "  'LinkedList: 0.9995547',\n",
       "  'Vector: 0.00020812945'],\n",
       " ['ArrayList: 0.00023712455',\n",
       "  'LinkedList: 0.9995497',\n",
       "  'Vector: 0.00021314352'],\n",
       " ['ArrayList: 0.0021412466', 'LinkedList: 0.00031045498', 'Vector: 0.9975483'],\n",
       " ['ArrayList: 0.00024102814',\n",
       "  'LinkedList: 0.99955577',\n",
       "  'Vector: 0.00020319497'],\n",
       " ['ArrayList: 0.0037545236', 'LinkedList: 0.000579367', 'Vector: 0.995666'],\n",
       " ['ArrayList: 0.9985268', 'LinkedList: 0.00020490412', 'Vector: 0.001268244'],\n",
       " ['ArrayList: 0.0018788106',\n",
       "  'LinkedList: 0.00015578301',\n",
       "  'Vector: 0.99796546'],\n",
       " ['ArrayList: 0.001286257', 'LinkedList: 0.00015956406', 'Vector: 0.99855417'],\n",
       " ['ArrayList: 0.0024992246', 'LinkedList: 0.0003727742', 'Vector: 0.99712807'],\n",
       " ['ArrayList: 0.00337397', 'LinkedList: 0.0006306463', 'Vector: 0.9959954'],\n",
       " ['ArrayList: 0.99880004', 'LinkedList: 0.0002579586', 'Vector: 0.0009419792'],\n",
       " ['ArrayList: 0.99801326',\n",
       "  'LinkedList: 0.00020830256',\n",
       "  'Vector: 0.0017784036'],\n",
       " ['ArrayList: 0.99837095',\n",
       "  'LinkedList: 0.00027133588',\n",
       "  'Vector: 0.0013577732'],\n",
       " ['ArrayList: 0.998565', 'LinkedList: 0.00019725555', 'Vector: 0.0012377581'],\n",
       " ['ArrayList: 0.001626705', 'LinkedList: 0.00048668854', 'Vector: 0.9978866'],\n",
       " ['ArrayList: 0.9979961', 'LinkedList: 0.00031701184', 'Vector: 0.0016869692'],\n",
       " ['ArrayList: 0.99840254',\n",
       "  'LinkedList: 0.00018761081',\n",
       "  'Vector: 0.0014098864'],\n",
       " ['ArrayList: 0.9978429', 'LinkedList: 0.00018232381', 'Vector: 0.0019747156'],\n",
       " ['ArrayList: 0.9976591', 'LinkedList: 0.00023548637', 'Vector: 0.0021054097'],\n",
       " ['ArrayList: 0.0010495399',\n",
       "  'LinkedList: 0.00023779884',\n",
       "  'Vector: 0.99871266'],\n",
       " ['ArrayList: 0.9982743', 'LinkedList: 0.00016469075', 'Vector: 0.0015610395'],\n",
       " ['ArrayList: 0.99815446', 'LinkedList: 0.0002435214', 'Vector: 0.0016019519'],\n",
       " ['ArrayList: 0.00056175876',\n",
       "  'LinkedList: 0.00016475782',\n",
       "  'Vector: 0.9992735'],\n",
       " ['ArrayList: 0.9982377', 'LinkedList: 0.00024511217', 'Vector: 0.0015171937'],\n",
       " ['ArrayList: 0.99915373',\n",
       "  'LinkedList: 0.00013338315',\n",
       "  'Vector: 0.0007128497'],\n",
       " ['ArrayList: 0.0010482119', 'LinkedList: 0.00031361106', 'Vector: 0.9986382'],\n",
       " ['ArrayList: 0.9981621', 'LinkedList: 0.00022389313', 'Vector: 0.0016139919'],\n",
       " ['ArrayList: 0.06089233', 'LinkedList: 0.00212309', 'Vector: 0.93698454'],\n",
       " ['ArrayList: 0.00024102697',\n",
       "  'LinkedList: 0.9995509',\n",
       "  'Vector: 0.00020809016'],\n",
       " ['ArrayList: 0.99610484',\n",
       "  'LinkedList: 0.00032180484',\n",
       "  'Vector: 0.0035733646'],\n",
       " ['ArrayList: 0.99776137',\n",
       "  'LinkedList: 0.00014765022',\n",
       "  'Vector: 0.0020909407'],\n",
       " ['ArrayList: 0.9987589', 'LinkedList: 0.00019492411', 'Vector: 0.001046118'],\n",
       " ['ArrayList: 0.9988753', 'LinkedList: 0.0001537126', 'Vector: 0.0009709359'],\n",
       " ['ArrayList: 0.9986401', 'LinkedList: 0.0002649601', 'Vector: 0.0010949406'],\n",
       " ['ArrayList: 0.9972119', 'LinkedList: 0.00023980135', 'Vector: 0.0025483351'],\n",
       " ['ArrayList: 0.9965552', 'LinkedList: 0.00025740336', 'Vector: 0.0031873952'],\n",
       " ['ArrayList: 0.0008956715',\n",
       "  'LinkedList: 0.00019862823',\n",
       "  'Vector: 0.99890566'],\n",
       " ['ArrayList: 0.00040295604',\n",
       "  'LinkedList: 0.00015847223',\n",
       "  'Vector: 0.9994386'],\n",
       " ['ArrayList: 0.0023448404', 'LinkedList: 0.0003111649', 'Vector: 0.99734396'],\n",
       " ['ArrayList: 0.113941014', 'LinkedList: 0.0041211173', 'Vector: 0.8819378'],\n",
       " ['ArrayList: 0.0009474948', 'LinkedList: 0.00028347786', 'Vector: 0.998769'],\n",
       " ['ArrayList: 0.002049723', 'LinkedList: 0.00022318812', 'Vector: 0.9977271'],\n",
       " ['ArrayList: 0.0010555983',\n",
       "  'LinkedList: 0.00027722665',\n",
       "  'Vector: 0.99866724'],\n",
       " ['ArrayList: 0.99842656',\n",
       "  'LinkedList: 0.00023053234',\n",
       "  'Vector: 0.0013429199'],\n",
       " ['ArrayList: 0.99781406', 'LinkedList: 0.00021640128', 'Vector: 0.001969554'],\n",
       " ['ArrayList: 0.00024102697',\n",
       "  'LinkedList: 0.9995509',\n",
       "  'Vector: 0.00020809016'],\n",
       " ['ArrayList: 0.0018469242', 'LinkedList: 0.00029497794', 'Vector: 0.9978581'],\n",
       " ['ArrayList: 0.001577406', 'LinkedList: 0.00036109955', 'Vector: 0.9980615'],\n",
       " ['ArrayList: 0.99562895', 'LinkedList: 0.00029202187', 'Vector: 0.004079035'],\n",
       " ['ArrayList: 0.0009474948', 'LinkedList: 0.00028347786', 'Vector: 0.998769'],\n",
       " ['ArrayList: 0.99668056',\n",
       "  'LinkedList: 0.00023891093',\n",
       "  'Vector: 0.0030805266'],\n",
       " ['ArrayList: 0.7467351', 'LinkedList: 0.0023659973', 'Vector: 0.25089887'],\n",
       " ['ArrayList: 0.00023712574',\n",
       "  'LinkedList: 0.9995547',\n",
       "  'Vector: 0.00020812945'],\n",
       " ['ArrayList: 0.0023969638',\n",
       "  'LinkedList: 0.00030565207',\n",
       "  'Vector: 0.99729735'],\n",
       " ['ArrayList: 0.99668735',\n",
       "  'LinkedList: 0.00017918501',\n",
       "  'Vector: 0.0031334667'],\n",
       " ['ArrayList: 0.0010482119', 'LinkedList: 0.00031361106', 'Vector: 0.9986382'],\n",
       " ['ArrayList: 0.9992379', 'LinkedList: 0.0001286129', 'Vector: 0.00063345284'],\n",
       " ['ArrayList: 0.00083735056',\n",
       "  'LinkedList: 0.00027608217',\n",
       "  'Vector: 0.9988865'],\n",
       " ['ArrayList: 0.99805874',\n",
       "  'LinkedList: 0.00019976322',\n",
       "  'Vector: 0.0017414596'],\n",
       " ['ArrayList: 0.0010988724', 'LinkedList: 0.00027143184', 'Vector: 0.9986297'],\n",
       " ['ArrayList: 0.99824584', 'LinkedList: 0.0001896219', 'Vector: 0.0015645128'],\n",
       " ['ArrayList: 0.0008215827',\n",
       "  'LinkedList: 0.00016103628',\n",
       "  'Vector: 0.99901736'],\n",
       " ['ArrayList: 0.9988042', 'LinkedList: 0.00020915446', 'Vector: 0.00098662'],\n",
       " ['ArrayList: 0.00056498917',\n",
       "  'LinkedList: 0.00025435837',\n",
       "  'Vector: 0.9991806'],\n",
       " ['ArrayList: 0.9977526', 'LinkedList: 0.0002504611', 'Vector: 0.0019969214'],\n",
       " ['ArrayList: 0.9978467', 'LinkedList: 0.00016974476', 'Vector: 0.0019835136'],\n",
       " ['ArrayList: 0.99798536', 'LinkedList: 0.0002238535', 'Vector: 0.0017907623'],\n",
       " ['ArrayList: 0.997398', 'LinkedList: 0.00027107148', 'Vector: 0.002330874'],\n",
       " ['ArrayList: 0.9467554', 'LinkedList: 0.0019468314', 'Vector: 0.05129773'],\n",
       " ['ArrayList: 0.99822503', 'LinkedList: 0.0001900211', 'Vector: 0.0015850043'],\n",
       " ['ArrayList: 0.021999868', 'LinkedList: 0.00086494815', 'Vector: 0.9771352'],\n",
       " ['ArrayList: 0.027632285', 'LinkedList: 0.0008617434', 'Vector: 0.97150594'],\n",
       " ['ArrayList: 0.00023712455',\n",
       "  'LinkedList: 0.9995497',\n",
       "  'Vector: 0.00021314352'],\n",
       " ['ArrayList: 0.0010727858',\n",
       "  'LinkedList: 0.00015596159',\n",
       "  'Vector: 0.99877125'],\n",
       " ['ArrayList: 0.00040295604',\n",
       "  'LinkedList: 0.00015847223',\n",
       "  'Vector: 0.9994386'],\n",
       " ['ArrayList: 0.6683393', 'LinkedList: 0.0006244605', 'Vector: 0.33103627'],\n",
       " ['ArrayList: 0.0038951342', 'LinkedList: 0.00040442444', 'Vector: 0.9957004'],\n",
       " ['ArrayList: 0.99876946',\n",
       "  'LinkedList: 0.00018304095',\n",
       "  'Vector: 0.0010474758'],\n",
       " ['ArrayList: 0.997292', 'LinkedList: 0.00019591665', 'Vector: 0.0025120883'],\n",
       " ['ArrayList: 0.002752252', 'LinkedList: 0.0003372308', 'Vector: 0.9969105'],\n",
       " ['ArrayList: 0.9986141', 'LinkedList: 0.00028125098', 'Vector: 0.0011046842'],\n",
       " ['ArrayList: 0.0018654672', 'LinkedList: 0.00029051473', 'Vector: 0.997844'],\n",
       " ['ArrayList: 0.9987257', 'LinkedList: 0.00026826034', 'Vector: 0.0010059647'],\n",
       " ['ArrayList: 0.00034709228',\n",
       "  'LinkedList: 0.00013954316',\n",
       "  'Vector: 0.9995134'],\n",
       " ['ArrayList: 0.99843997', 'LinkedList: 0.0001579887', 'Vector: 0.0014020677'],\n",
       " ['ArrayList: 0.9990736', 'LinkedList: 0.0001766849', 'Vector: 0.0007496465'],\n",
       " ['ArrayList: 0.005097247', 'LinkedList: 0.00037132684', 'Vector: 0.9945314'],\n",
       " ['ArrayList: 0.000237123', 'LinkedList: 0.9995432', 'Vector: 0.00021976499'],\n",
       " ['ArrayList: 0.99910647',\n",
       "  'LinkedList: 0.00017887939',\n",
       "  'Vector: 0.0007146706'],\n",
       " ['ArrayList: 0.0011232228', 'LinkedList: 0.00017802183', 'Vector: 0.9986987'],\n",
       " ['ArrayList: 0.99824905',\n",
       "  'LinkedList: 0.00015825825',\n",
       "  'Vector: 0.0015927734'],\n",
       " ['ArrayList: 0.0012942725', 'LinkedList: 0.00029568764', 'Vector: 0.99841'],\n",
       " ['ArrayList: 0.9969902', 'LinkedList: 0.00029849765', 'Vector: 0.0027112674'],\n",
       " ['ArrayList: 0.002228819', 'LinkedList: 0.00030351072', 'Vector: 0.99746764'],\n",
       " ['ArrayList: 0.00056175876',\n",
       "  'LinkedList: 0.00016475782',\n",
       "  'Vector: 0.9992735'],\n",
       " ['ArrayList: 0.0009187132', 'LinkedList: 0.00018595588', 'Vector: 0.9988953'],\n",
       " ['ArrayList: 0.0020284946', 'LinkedList: 0.0002386362', 'Vector: 0.9977329'],\n",
       " ['ArrayList: 0.00068448775',\n",
       "  'LinkedList: 0.00018045832',\n",
       "  'Vector: 0.9991351'],\n",
       " ['ArrayList: 0.99883777',\n",
       "  'LinkedList: 0.00017300568',\n",
       "  'Vector: 0.0009892416'],\n",
       " ['ArrayList: 0.002171453', 'LinkedList: 0.00030801457', 'Vector: 0.9975205'],\n",
       " ['ArrayList: 0.9976591', 'LinkedList: 0.00023548637', 'Vector: 0.0021054097'],\n",
       " ['ArrayList: 0.0011970323',\n",
       "  'LinkedList: 0.00015085885',\n",
       "  'Vector: 0.99865216'],\n",
       " ['ArrayList: 0.9979386', 'LinkedList: 0.00015959593', 'Vector: 0.0019018183'],\n",
       " ['ArrayList: 0.9986462', 'LinkedList: 0.0001961827', 'Vector: 0.0011576811'],\n",
       " ['ArrayList: 0.9988524', 'LinkedList: 0.00023063067', 'Vector: 0.0009170137'],\n",
       " ['ArrayList: 0.00023712574',\n",
       "  'LinkedList: 0.9995547',\n",
       "  'Vector: 0.00020812945']]"
      ]
     },
     "execution_count": 363,
     "metadata": {},
     "output_type": "execute_result"
    }
   ],
   "source": [
    "proba_single = xgb.predict_proba(X_test)\n",
    "\n",
    "arr = get_possible_classes(proba_single, xgb)\n",
    "arr"
   ]
  },
  {
   "cell_type": "markdown",
   "id": "1524720f",
   "metadata": {},
   "source": [
    "## Turicreate"
   ]
  },
  {
   "cell_type": "code",
   "execution_count": 364,
   "id": "37bc88da",
   "metadata": {},
   "outputs": [],
   "source": [
    "import turicreate"
   ]
  },
  {
   "cell_type": "code",
   "execution_count": 366,
   "id": "47953ffd",
   "metadata": {
    "scrolled": true
   },
   "outputs": [],
   "source": [
    "# data = turicreate.SFrame.read_csv('./data/runtime_200steps.csv')\n",
    "data = turicreate.SFrame(df_processed)"
   ]
  },
  {
   "cell_type": "code",
   "execution_count": 367,
   "id": "f6461db5",
   "metadata": {},
   "outputs": [
    {
     "data": {
      "text/html": [
       "<div style=\"max-height:1000px;max-width:1500px;overflow:auto;\"><table frame=\"box\" rules=\"cols\">\n",
       "    <tr>\n",
       "        <th style=\"padding-left: 1em; padding-right: 1em; text-align: center\">ID</th>\n",
       "        <th style=\"padding-left: 1em; padding-right: 1em; text-align: center\">NumberOfIntegers</th>\n",
       "        <th style=\"padding-left: 1em; padding-right: 1em; text-align: center\">DataStructure</th>\n",
       "        <th style=\"padding-left: 1em; padding-right: 1em; text-align: center\">insert()</th>\n",
       "        <th style=\"padding-left: 1em; padding-right: 1em; text-align: center\">insertAt()</th>\n",
       "        <th style=\"padding-left: 1em; padding-right: 1em; text-align: center\">contains()</th>\n",
       "        <th style=\"padding-left: 1em; padding-right: 1em; text-align: center\">indexOf()</th>\n",
       "        <th style=\"padding-left: 1em; padding-right: 1em; text-align: center\">get()</th>\n",
       "        <th style=\"padding-left: 1em; padding-right: 1em; text-align: center\">delete()</th>\n",
       "    </tr>\n",
       "    <tr>\n",
       "        <td style=\"padding-left: 1em; padding-right: 1em; text-align: center; vertical-align: top\">0</td>\n",
       "        <td style=\"padding-left: 1em; padding-right: 1em; text-align: center; vertical-align: top\">100000</td>\n",
       "        <td style=\"padding-left: 1em; padding-right: 1em; text-align: center; vertical-align: top\">ArrayList</td>\n",
       "        <td style=\"padding-left: 1em; padding-right: 1em; text-align: center; vertical-align: top\">6.75</td>\n",
       "        <td style=\"padding-left: 1em; padding-right: 1em; text-align: center; vertical-align: top\">10.76</td>\n",
       "        <td style=\"padding-left: 1em; padding-right: 1em; text-align: center; vertical-align: top\">3.08</td>\n",
       "        <td style=\"padding-left: 1em; padding-right: 1em; text-align: center; vertical-align: top\">3.13</td>\n",
       "        <td style=\"padding-left: 1em; padding-right: 1em; text-align: center; vertical-align: top\">0.11</td>\n",
       "        <td style=\"padding-left: 1em; padding-right: 1em; text-align: center; vertical-align: top\">10.86</td>\n",
       "    </tr>\n",
       "    <tr>\n",
       "        <td style=\"padding-left: 1em; padding-right: 1em; text-align: center; vertical-align: top\">1</td>\n",
       "        <td style=\"padding-left: 1em; padding-right: 1em; text-align: center; vertical-align: top\">100000</td>\n",
       "        <td style=\"padding-left: 1em; padding-right: 1em; text-align: center; vertical-align: top\">ArrayList</td>\n",
       "        <td style=\"padding-left: 1em; padding-right: 1em; text-align: center; vertical-align: top\">2.94</td>\n",
       "        <td style=\"padding-left: 1em; padding-right: 1em; text-align: center; vertical-align: top\">5.23</td>\n",
       "        <td style=\"padding-left: 1em; padding-right: 1em; text-align: center; vertical-align: top\">0.28</td>\n",
       "        <td style=\"padding-left: 1em; padding-right: 1em; text-align: center; vertical-align: top\">0.26</td>\n",
       "        <td style=\"padding-left: 1em; padding-right: 1em; text-align: center; vertical-align: top\">0.07</td>\n",
       "        <td style=\"padding-left: 1em; padding-right: 1em; text-align: center; vertical-align: top\">5.09</td>\n",
       "    </tr>\n",
       "    <tr>\n",
       "        <td style=\"padding-left: 1em; padding-right: 1em; text-align: center; vertical-align: top\">2</td>\n",
       "        <td style=\"padding-left: 1em; padding-right: 1em; text-align: center; vertical-align: top\">100000</td>\n",
       "        <td style=\"padding-left: 1em; padding-right: 1em; text-align: center; vertical-align: top\">LinkedList</td>\n",
       "        <td style=\"padding-left: 1em; padding-right: 1em; text-align: center; vertical-align: top\">8.39</td>\n",
       "        <td style=\"padding-left: 1em; padding-right: 1em; text-align: center; vertical-align: top\">1.57</td>\n",
       "        <td style=\"padding-left: 1em; padding-right: 1em; text-align: center; vertical-align: top\">2.8</td>\n",
       "        <td style=\"padding-left: 1em; padding-right: 1em; text-align: center; vertical-align: top\">0.84</td>\n",
       "        <td style=\"padding-left: 1em; padding-right: 1em; text-align: center; vertical-align: top\">1.5</td>\n",
       "        <td style=\"padding-left: 1em; padding-right: 1em; text-align: center; vertical-align: top\">0.17</td>\n",
       "    </tr>\n",
       "    <tr>\n",
       "        <td style=\"padding-left: 1em; padding-right: 1em; text-align: center; vertical-align: top\">3</td>\n",
       "        <td style=\"padding-left: 1em; padding-right: 1em; text-align: center; vertical-align: top\">100000</td>\n",
       "        <td style=\"padding-left: 1em; padding-right: 1em; text-align: center; vertical-align: top\">Vector</td>\n",
       "        <td style=\"padding-left: 1em; padding-right: 1em; text-align: center; vertical-align: top\">7.39</td>\n",
       "        <td style=\"padding-left: 1em; padding-right: 1em; text-align: center; vertical-align: top\">10.81</td>\n",
       "        <td style=\"padding-left: 1em; padding-right: 1em; text-align: center; vertical-align: top\">2.67</td>\n",
       "        <td style=\"padding-left: 1em; padding-right: 1em; text-align: center; vertical-align: top\">3.13</td>\n",
       "        <td style=\"padding-left: 1em; padding-right: 1em; text-align: center; vertical-align: top\">0.16</td>\n",
       "        <td style=\"padding-left: 1em; padding-right: 1em; text-align: center; vertical-align: top\">14.04</td>\n",
       "    </tr>\n",
       "    <tr>\n",
       "        <td style=\"padding-left: 1em; padding-right: 1em; text-align: center; vertical-align: top\">4</td>\n",
       "        <td style=\"padding-left: 1em; padding-right: 1em; text-align: center; vertical-align: top\">100000</td>\n",
       "        <td style=\"padding-left: 1em; padding-right: 1em; text-align: center; vertical-align: top\">Vector</td>\n",
       "        <td style=\"padding-left: 1em; padding-right: 1em; text-align: center; vertical-align: top\">2.96</td>\n",
       "        <td style=\"padding-left: 1em; padding-right: 1em; text-align: center; vertical-align: top\">5.18</td>\n",
       "        <td style=\"padding-left: 1em; padding-right: 1em; text-align: center; vertical-align: top\">0.27</td>\n",
       "        <td style=\"padding-left: 1em; padding-right: 1em; text-align: center; vertical-align: top\">0.26</td>\n",
       "        <td style=\"padding-left: 1em; padding-right: 1em; text-align: center; vertical-align: top\">0.07</td>\n",
       "        <td style=\"padding-left: 1em; padding-right: 1em; text-align: center; vertical-align: top\">5.1</td>\n",
       "    </tr>\n",
       "    <tr>\n",
       "        <td style=\"padding-left: 1em; padding-right: 1em; text-align: center; vertical-align: top\">5</td>\n",
       "        <td style=\"padding-left: 1em; padding-right: 1em; text-align: center; vertical-align: top\">150000</td>\n",
       "        <td style=\"padding-left: 1em; padding-right: 1em; text-align: center; vertical-align: top\">ArrayList</td>\n",
       "        <td style=\"padding-left: 1em; padding-right: 1em; text-align: center; vertical-align: top\">5.44</td>\n",
       "        <td style=\"padding-left: 1em; padding-right: 1em; text-align: center; vertical-align: top\">12.7</td>\n",
       "        <td style=\"padding-left: 1em; padding-right: 1em; text-align: center; vertical-align: top\">0.62</td>\n",
       "        <td style=\"padding-left: 1em; padding-right: 1em; text-align: center; vertical-align: top\">0.62</td>\n",
       "        <td style=\"padding-left: 1em; padding-right: 1em; text-align: center; vertical-align: top\">0.12</td>\n",
       "        <td style=\"padding-left: 1em; padding-right: 1em; text-align: center; vertical-align: top\">12.77</td>\n",
       "    </tr>\n",
       "    <tr>\n",
       "        <td style=\"padding-left: 1em; padding-right: 1em; text-align: center; vertical-align: top\">6</td>\n",
       "        <td style=\"padding-left: 1em; padding-right: 1em; text-align: center; vertical-align: top\">150000</td>\n",
       "        <td style=\"padding-left: 1em; padding-right: 1em; text-align: center; vertical-align: top\">ArrayList</td>\n",
       "        <td style=\"padding-left: 1em; padding-right: 1em; text-align: center; vertical-align: top\">4.16</td>\n",
       "        <td style=\"padding-left: 1em; padding-right: 1em; text-align: center; vertical-align: top\">12.73</td>\n",
       "        <td style=\"padding-left: 1em; padding-right: 1em; text-align: center; vertical-align: top\">0.61</td>\n",
       "        <td style=\"padding-left: 1em; padding-right: 1em; text-align: center; vertical-align: top\">0.6</td>\n",
       "        <td style=\"padding-left: 1em; padding-right: 1em; text-align: center; vertical-align: top\">0.12</td>\n",
       "        <td style=\"padding-left: 1em; padding-right: 1em; text-align: center; vertical-align: top\">12.76</td>\n",
       "    </tr>\n",
       "    <tr>\n",
       "        <td style=\"padding-left: 1em; padding-right: 1em; text-align: center; vertical-align: top\">7</td>\n",
       "        <td style=\"padding-left: 1em; padding-right: 1em; text-align: center; vertical-align: top\">150000</td>\n",
       "        <td style=\"padding-left: 1em; padding-right: 1em; text-align: center; vertical-align: top\">LinkedList</td>\n",
       "        <td style=\"padding-left: 1em; padding-right: 1em; text-align: center; vertical-align: top\">8.57</td>\n",
       "        <td style=\"padding-left: 1em; padding-right: 1em; text-align: center; vertical-align: top\">1.5</td>\n",
       "        <td style=\"padding-left: 1em; padding-right: 1em; text-align: center; vertical-align: top\">2.13</td>\n",
       "        <td style=\"padding-left: 1em; padding-right: 1em; text-align: center; vertical-align: top\">2.12</td>\n",
       "        <td style=\"padding-left: 1em; padding-right: 1em; text-align: center; vertical-align: top\">1.45</td>\n",
       "        <td style=\"padding-left: 1em; padding-right: 1em; text-align: center; vertical-align: top\">0.11</td>\n",
       "    </tr>\n",
       "    <tr>\n",
       "        <td style=\"padding-left: 1em; padding-right: 1em; text-align: center; vertical-align: top\">8</td>\n",
       "        <td style=\"padding-left: 1em; padding-right: 1em; text-align: center; vertical-align: top\">150000</td>\n",
       "        <td style=\"padding-left: 1em; padding-right: 1em; text-align: center; vertical-align: top\">Vector</td>\n",
       "        <td style=\"padding-left: 1em; padding-right: 1em; text-align: center; vertical-align: top\">4.9</td>\n",
       "        <td style=\"padding-left: 1em; padding-right: 1em; text-align: center; vertical-align: top\">11.94</td>\n",
       "        <td style=\"padding-left: 1em; padding-right: 1em; text-align: center; vertical-align: top\">1.0</td>\n",
       "        <td style=\"padding-left: 1em; padding-right: 1em; text-align: center; vertical-align: top\">0.73</td>\n",
       "        <td style=\"padding-left: 1em; padding-right: 1em; text-align: center; vertical-align: top\">0.15</td>\n",
       "        <td style=\"padding-left: 1em; padding-right: 1em; text-align: center; vertical-align: top\">11.99</td>\n",
       "    </tr>\n",
       "    <tr>\n",
       "        <td style=\"padding-left: 1em; padding-right: 1em; text-align: center; vertical-align: top\">9</td>\n",
       "        <td style=\"padding-left: 1em; padding-right: 1em; text-align: center; vertical-align: top\">150000</td>\n",
       "        <td style=\"padding-left: 1em; padding-right: 1em; text-align: center; vertical-align: top\">Vector</td>\n",
       "        <td style=\"padding-left: 1em; padding-right: 1em; text-align: center; vertical-align: top\">1.74</td>\n",
       "        <td style=\"padding-left: 1em; padding-right: 1em; text-align: center; vertical-align: top\">12.37</td>\n",
       "        <td style=\"padding-left: 1em; padding-right: 1em; text-align: center; vertical-align: top\">0.54</td>\n",
       "        <td style=\"padding-left: 1em; padding-right: 1em; text-align: center; vertical-align: top\">0.57</td>\n",
       "        <td style=\"padding-left: 1em; padding-right: 1em; text-align: center; vertical-align: top\">0.1</td>\n",
       "        <td style=\"padding-left: 1em; padding-right: 1em; text-align: center; vertical-align: top\">11.47</td>\n",
       "    </tr>\n",
       "</table>\n",
       "[1000 rows x 9 columns]<br/>Note: Only the head of the SFrame is printed.<br/>You can use print_rows(num_rows=m, num_columns=n) to print more rows and columns.\n",
       "</div>"
      ],
      "text/plain": [
       "Columns:\n",
       "\tID\tint\n",
       "\tNumberOfIntegers\tint\n",
       "\tDataStructure\tstr\n",
       "\tinsert()\tfloat\n",
       "\tinsertAt()\tfloat\n",
       "\tcontains()\tfloat\n",
       "\tindexOf()\tfloat\n",
       "\tget()\tfloat\n",
       "\tdelete()\tfloat\n",
       "\n",
       "Rows: 1000\n",
       "\n",
       "Data:\n",
       "+----+------------------+---------------+----------+------------+------------+\n",
       "| ID | NumberOfIntegers | DataStructure | insert() | insertAt() | contains() |\n",
       "+----+------------------+---------------+----------+------------+------------+\n",
       "| 0  |      100000      |   ArrayList   |   6.75   |   10.76    |    3.08    |\n",
       "| 1  |      100000      |   ArrayList   |   2.94   |    5.23    |    0.28    |\n",
       "| 2  |      100000      |   LinkedList  |   8.39   |    1.57    |    2.8     |\n",
       "| 3  |      100000      |     Vector    |   7.39   |   10.81    |    2.67    |\n",
       "| 4  |      100000      |     Vector    |   2.96   |    5.18    |    0.27    |\n",
       "| 5  |      150000      |   ArrayList   |   5.44   |    12.7    |    0.62    |\n",
       "| 6  |      150000      |   ArrayList   |   4.16   |   12.73    |    0.61    |\n",
       "| 7  |      150000      |   LinkedList  |   8.57   |    1.5     |    2.13    |\n",
       "| 8  |      150000      |     Vector    |   4.9    |   11.94    |    1.0     |\n",
       "| 9  |      150000      |     Vector    |   1.74   |   12.37    |    0.54    |\n",
       "+----+------------------+---------------+----------+------------+------------+\n",
       "+-----------+-------+----------+\n",
       "| indexOf() | get() | delete() |\n",
       "+-----------+-------+----------+\n",
       "|    3.13   |  0.11 |  10.86   |\n",
       "|    0.26   |  0.07 |   5.09   |\n",
       "|    0.84   |  1.5  |   0.17   |\n",
       "|    3.13   |  0.16 |  14.04   |\n",
       "|    0.26   |  0.07 |   5.1    |\n",
       "|    0.62   |  0.12 |  12.77   |\n",
       "|    0.6    |  0.12 |  12.76   |\n",
       "|    2.12   |  1.45 |   0.11   |\n",
       "|    0.73   |  0.15 |  11.99   |\n",
       "|    0.57   |  0.1  |  11.47   |\n",
       "+-----------+-------+----------+\n",
       "[1000 rows x 9 columns]\n",
       "Note: Only the head of the SFrame is printed.\n",
       "You can use print_rows(num_rows=m, num_columns=n) to print more rows and columns."
      ]
     },
     "execution_count": 367,
     "metadata": {},
     "output_type": "execute_result"
    }
   ],
   "source": [
    "data"
   ]
  },
  {
   "cell_type": "code",
   "execution_count": 388,
   "id": "ffea6385",
   "metadata": {
    "scrolled": true
   },
   "outputs": [
    {
     "data": {
      "text/html": [
       "<pre>Starting ball tree nearest neighbors model training.</pre>"
      ],
      "text/plain": [
       "Starting ball tree nearest neighbors model training."
      ]
     },
     "metadata": {},
     "output_type": "display_data"
    },
    {
     "data": {
      "text/html": [
       "<pre>+------------+--------------+</pre>"
      ],
      "text/plain": [
       "+------------+--------------+"
      ]
     },
     "metadata": {},
     "output_type": "display_data"
    },
    {
     "data": {
      "text/html": [
       "<pre>| Tree level | Elapsed Time |</pre>"
      ],
      "text/plain": [
       "| Tree level | Elapsed Time |"
      ]
     },
     "metadata": {},
     "output_type": "display_data"
    },
    {
     "data": {
      "text/html": [
       "<pre>+------------+--------------+</pre>"
      ],
      "text/plain": [
       "+------------+--------------+"
      ]
     },
     "metadata": {},
     "output_type": "display_data"
    },
    {
     "data": {
      "text/html": [
       "<pre>| 0          | 99us         |</pre>"
      ],
      "text/plain": [
       "| 0          | 99us         |"
      ]
     },
     "metadata": {},
     "output_type": "display_data"
    },
    {
     "data": {
      "text/html": [
       "<pre>+------------+--------------+</pre>"
      ],
      "text/plain": [
       "+------------+--------------+"
      ]
     },
     "metadata": {},
     "output_type": "display_data"
    }
   ],
   "source": [
    "knn_model = turicreate.nearest_neighbors.create(data,\n",
    "                                               features = ['NumberOfIntegers'],\n",
    "                                               label = 'ID')"
   ]
  },
  {
   "cell_type": "code",
   "execution_count": 389,
   "id": "b1605a5f",
   "metadata": {},
   "outputs": [
    {
     "name": "stdout",
     "output_type": "stream",
     "text": [
      "Class                          : NearestNeighborsModel\n",
      "\n",
      "Attributes\n",
      "----------\n",
      "Method                         : ball_tree\n",
      "Number of distance components  : 1\n",
      "Number of examples             : 1000\n",
      "Number of feature columns      : 1\n",
      "Number of unpacked features    : 1\n",
      "Distance                       : euclidean\n",
      "Total training time (seconds)  : 0.0167\n",
      "\n",
      "Ball Tree Attributes\n",
      "--------------------\n",
      "Tree depth                     : 1\n",
      "Leaf size                      : 1000\n",
      "\n"
     ]
    }
   ],
   "source": [
    "knn_model.summary()"
   ]
  },
  {
   "cell_type": "code",
   "execution_count": 390,
   "id": "6d2fdf8d",
   "metadata": {
    "scrolled": true
   },
   "outputs": [
    {
     "data": {
      "text/html": [
       "<html lang=\"en\">                                                     <head>                                                               <style>                                                              .sframe {                                                            font-size: 12px;                                                   font-family: HelveticaNeue;                                        border: 1px solid silver;                                        }                                                                  .sframe thead th {                                                   background: #F7F7F7;                                               font-family: HelveticaNeue-Medium;                                 font-size: 14px;                                                   line-height: 16.8px;                                               padding-top: 16px;                                                 padding-bottom: 16px;                                              padding-left: 10px;                                                padding-right: 38px;                                               border-top: 1px solid #E9E9E9;                                     border-bottom: 1px solid #E9E9E9;                                  white-space: nowrap;                                               overflow: hidden;                                                  text-overflow:ellipsis;                                            text-align:center;                                                 font-weight:normal;                                              }                                                                  .sframe tbody th {                                                   background: #FFFFFF;                                               text-align:left;                                                   font-weight:normal;                                                border-right: 1px solid #E9E9E9;                                 }                                                                  .sframe td {                                                         background: #FFFFFF;                                               padding-left: 10px;                                                padding-right: 38px;                                               padding-top: 14px;                                                 padding-bottom: 14px;                                              border-bottom: 1px solid #E9E9E9;                                  max-height: 0px;                                                   transition: max-height 5s ease-out;                                vertical-align: middle;                                            font-family: HelveticaNeue;                                        font-size: 12px;                                                   line-height: 16.8px;                                               background: #FFFFFF;                                             }                                                                  .sframe tr {                                                         padding-left: 10px;                                                padding-right: 38px;                                               padding-top: 14px;                                                 padding-bottom: 14px;                                              border-bottom: 1px solid #E9E9E9;                                  max-height: 0px;                                                   transition: max-height 5s ease-out;                                vertical-align: middle;                                            font-family: HelveticaNeue;                                        font-size: 12px;                                                   line-height: 16.8px;                                               background: #FFFFFF;                                             }                                                                  .sframe tr:hover {                                                   background: silver;                                              },                                                               </style>                                                         </head>                                                            <body>                                                               <h1>  </h1>                                             <table border=\"1\" class=\"dataframe sframe\">\n",
       "  <thead>\n",
       "    <tr style=\"text-align: right;\">\n",
       "      <th></th>\n",
       "      <th>ID</th>\n",
       "      <th>NumberOfIntegers</th>\n",
       "      <th>DataStructure</th>\n",
       "      <th>insert()</th>\n",
       "      <th>insertAt()</th>\n",
       "      <th>contains()</th>\n",
       "      <th>indexOf()</th>\n",
       "      <th>get()</th>\n",
       "      <th>delete()</th>\n",
       "    </tr>\n",
       "  </thead>\n",
       "  <tbody>\n",
       "    <tr>\n",
       "      <th>0</th>\n",
       "      <td>99</td>\n",
       "      <td>1050000</td>\n",
       "      <td>Vector</td>\n",
       "      <td>23.89</td>\n",
       "      <td>971.41</td>\n",
       "      <td>29.73</td>\n",
       "      <td>30.34</td>\n",
       "      <td>0.02</td>\n",
       "      <td>992.26</td>\n",
       "    </tr>\n",
       "  </tbody>\n",
       "</table>                          </body>                                                          </html>"
      ],
      "text/plain": [
       "<IPython.core.display.HTML object>"
      ]
     },
     "metadata": {},
     "output_type": "display_data"
    }
   ],
   "source": [
    "single_data = data[99:100]\n",
    "single_data.explore()"
   ]
  },
  {
   "cell_type": "code",
   "execution_count": 396,
   "id": "d17b9bfb",
   "metadata": {},
   "outputs": [
    {
     "data": {
      "text/html": [
       "<div style=\"max-height:1000px;max-width:1500px;overflow:auto;\"><table frame=\"box\" rules=\"cols\">\n",
       "    <tr>\n",
       "        <th style=\"padding-left: 1em; padding-right: 1em; text-align: center\">ID</th>\n",
       "        <th style=\"padding-left: 1em; padding-right: 1em; text-align: center\">NumberOfIntegers</th>\n",
       "        <th style=\"padding-left: 1em; padding-right: 1em; text-align: center\">DataStructure</th>\n",
       "        <th style=\"padding-left: 1em; padding-right: 1em; text-align: center\">insert()</th>\n",
       "        <th style=\"padding-left: 1em; padding-right: 1em; text-align: center\">insertAt()</th>\n",
       "        <th style=\"padding-left: 1em; padding-right: 1em; text-align: center\">contains()</th>\n",
       "        <th style=\"padding-left: 1em; padding-right: 1em; text-align: center\">indexOf()</th>\n",
       "        <th style=\"padding-left: 1em; padding-right: 1em; text-align: center\">get()</th>\n",
       "        <th style=\"padding-left: 1em; padding-right: 1em; text-align: center\">delete()</th>\n",
       "    </tr>\n",
       "    <tr>\n",
       "        <td style=\"padding-left: 1em; padding-right: 1em; text-align: center; vertical-align: top\">99</td>\n",
       "        <td style=\"padding-left: 1em; padding-right: 1em; text-align: center; vertical-align: top\">910500</td>\n",
       "        <td style=\"padding-left: 1em; padding-right: 1em; text-align: center; vertical-align: top\">Vector</td>\n",
       "        <td style=\"padding-left: 1em; padding-right: 1em; text-align: center; vertical-align: top\">23.89</td>\n",
       "        <td style=\"padding-left: 1em; padding-right: 1em; text-align: center; vertical-align: top\">0.0</td>\n",
       "        <td style=\"padding-left: 1em; padding-right: 1em; text-align: center; vertical-align: top\">0.0</td>\n",
       "        <td style=\"padding-left: 1em; padding-right: 1em; text-align: center; vertical-align: top\">0.0</td>\n",
       "        <td style=\"padding-left: 1em; padding-right: 1em; text-align: center; vertical-align: top\">0.02</td>\n",
       "        <td style=\"padding-left: 1em; padding-right: 1em; text-align: center; vertical-align: top\">0.0</td>\n",
       "    </tr>\n",
       "</table>\n",
       "[1 rows x 9 columns]<br/>\n",
       "</div>"
      ],
      "text/plain": [
       "Columns:\n",
       "\tID\tint\n",
       "\tNumberOfIntegers\tint\n",
       "\tDataStructure\tstr\n",
       "\tinsert()\tfloat\n",
       "\tinsertAt()\tfloat\n",
       "\tcontains()\tfloat\n",
       "\tindexOf()\tfloat\n",
       "\tget()\tfloat\n",
       "\tdelete()\tfloat\n",
       "\n",
       "Rows: 1\n",
       "\n",
       "Data:\n",
       "+----+------------------+---------------+----------+------------+------------+\n",
       "| ID | NumberOfIntegers | DataStructure | insert() | insertAt() | contains() |\n",
       "+----+------------------+---------------+----------+------------+------------+\n",
       "| 99 |      910500      |     Vector    |  23.89   |    0.0     |    0.0     |\n",
       "+----+------------------+---------------+----------+------------+------------+\n",
       "+-----------+-------+----------+\n",
       "| indexOf() | get() | delete() |\n",
       "+-----------+-------+----------+\n",
       "|    0.0    |  0.02 |   0.0    |\n",
       "+-----------+-------+----------+\n",
       "[1 rows x 9 columns]"
      ]
     },
     "execution_count": 396,
     "metadata": {},
     "output_type": "execute_result"
    }
   ],
   "source": [
    "single_data['NumberOfIntegers'] = 910500\n",
    "# single_data['DataStructure'] = 'LinkedList'\n",
    "single_data['insertAt()'] = 0.0\n",
    "single_data['contains()'] = 0.0\n",
    "single_data['indexOf()'] = 0.0\n",
    "single_data['delete()'] = 0.0\n",
    "single_data"
   ]
  },
  {
   "cell_type": "code",
   "execution_count": 397,
   "id": "88e073c3",
   "metadata": {
    "scrolled": true
   },
   "outputs": [
    {
     "data": {
      "text/html": [
       "<pre>+--------------+-------------+--------------+</pre>"
      ],
      "text/plain": [
       "+--------------+-------------+--------------+"
      ]
     },
     "metadata": {},
     "output_type": "display_data"
    },
    {
     "data": {
      "text/html": [
       "<pre>| Query points | % Complete. | Elapsed Time |</pre>"
      ],
      "text/plain": [
       "| Query points | % Complete. | Elapsed Time |"
      ]
     },
     "metadata": {},
     "output_type": "display_data"
    },
    {
     "data": {
      "text/html": [
       "<pre>+--------------+-------------+--------------+</pre>"
      ],
      "text/plain": [
       "+--------------+-------------+--------------+"
      ]
     },
     "metadata": {},
     "output_type": "display_data"
    },
    {
     "data": {
      "text/html": [
       "<pre>| 1            | 100         | 615us        |</pre>"
      ],
      "text/plain": [
       "| 1            | 100         | 615us        |"
      ]
     },
     "metadata": {},
     "output_type": "display_data"
    },
    {
     "data": {
      "text/html": [
       "<pre>| Done         |             | 730us        |</pre>"
      ],
      "text/plain": [
       "| Done         |             | 730us        |"
      ]
     },
     "metadata": {},
     "output_type": "display_data"
    },
    {
     "data": {
      "text/html": [
       "<pre>+--------------+-------------+--------------+</pre>"
      ],
      "text/plain": [
       "+--------------+-------------+--------------+"
      ]
     },
     "metadata": {},
     "output_type": "display_data"
    },
    {
     "data": {
      "text/html": [
       "<div style=\"max-height:1000px;max-width:1500px;overflow:auto;\"><table frame=\"box\" rules=\"cols\">\n",
       "    <tr>\n",
       "        <th style=\"padding-left: 1em; padding-right: 1em; text-align: center\">query_label</th>\n",
       "        <th style=\"padding-left: 1em; padding-right: 1em; text-align: center\">reference_label</th>\n",
       "        <th style=\"padding-left: 1em; padding-right: 1em; text-align: center\">distance</th>\n",
       "        <th style=\"padding-left: 1em; padding-right: 1em; text-align: center\">rank</th>\n",
       "    </tr>\n",
       "    <tr>\n",
       "        <td style=\"padding-left: 1em; padding-right: 1em; text-align: center; vertical-align: top\">0</td>\n",
       "        <td style=\"padding-left: 1em; padding-right: 1em; text-align: center; vertical-align: top\">80</td>\n",
       "        <td style=\"padding-left: 1em; padding-right: 1em; text-align: center; vertical-align: top\">10500.0</td>\n",
       "        <td style=\"padding-left: 1em; padding-right: 1em; text-align: center; vertical-align: top\">1</td>\n",
       "    </tr>\n",
       "    <tr>\n",
       "        <td style=\"padding-left: 1em; padding-right: 1em; text-align: center; vertical-align: top\">0</td>\n",
       "        <td style=\"padding-left: 1em; padding-right: 1em; text-align: center; vertical-align: top\">81</td>\n",
       "        <td style=\"padding-left: 1em; padding-right: 1em; text-align: center; vertical-align: top\">10500.0</td>\n",
       "        <td style=\"padding-left: 1em; padding-right: 1em; text-align: center; vertical-align: top\">2</td>\n",
       "    </tr>\n",
       "    <tr>\n",
       "        <td style=\"padding-left: 1em; padding-right: 1em; text-align: center; vertical-align: top\">0</td>\n",
       "        <td style=\"padding-left: 1em; padding-right: 1em; text-align: center; vertical-align: top\">82</td>\n",
       "        <td style=\"padding-left: 1em; padding-right: 1em; text-align: center; vertical-align: top\">10500.0</td>\n",
       "        <td style=\"padding-left: 1em; padding-right: 1em; text-align: center; vertical-align: top\">3</td>\n",
       "    </tr>\n",
       "    <tr>\n",
       "        <td style=\"padding-left: 1em; padding-right: 1em; text-align: center; vertical-align: top\">0</td>\n",
       "        <td style=\"padding-left: 1em; padding-right: 1em; text-align: center; vertical-align: top\">83</td>\n",
       "        <td style=\"padding-left: 1em; padding-right: 1em; text-align: center; vertical-align: top\">10500.0</td>\n",
       "        <td style=\"padding-left: 1em; padding-right: 1em; text-align: center; vertical-align: top\">4</td>\n",
       "    </tr>\n",
       "    <tr>\n",
       "        <td style=\"padding-left: 1em; padding-right: 1em; text-align: center; vertical-align: top\">0</td>\n",
       "        <td style=\"padding-left: 1em; padding-right: 1em; text-align: center; vertical-align: top\">84</td>\n",
       "        <td style=\"padding-left: 1em; padding-right: 1em; text-align: center; vertical-align: top\">10500.0</td>\n",
       "        <td style=\"padding-left: 1em; padding-right: 1em; text-align: center; vertical-align: top\">5</td>\n",
       "    </tr>\n",
       "</table>\n",
       "[5 rows x 4 columns]<br/>\n",
       "</div>"
      ],
      "text/plain": [
       "Columns:\n",
       "\tquery_label\tint\n",
       "\treference_label\tint\n",
       "\tdistance\tfloat\n",
       "\trank\tint\n",
       "\n",
       "Rows: 5\n",
       "\n",
       "Data:\n",
       "+-------------+-----------------+----------+------+\n",
       "| query_label | reference_label | distance | rank |\n",
       "+-------------+-----------------+----------+------+\n",
       "|      0      |        80       | 10500.0  |  1   |\n",
       "|      0      |        81       | 10500.0  |  2   |\n",
       "|      0      |        82       | 10500.0  |  3   |\n",
       "|      0      |        83       | 10500.0  |  4   |\n",
       "|      0      |        84       | 10500.0  |  5   |\n",
       "+-------------+-----------------+----------+------+\n",
       "[5 rows x 4 columns]"
      ]
     },
     "execution_count": 397,
     "metadata": {},
     "output_type": "execute_result"
    }
   ],
   "source": [
    "knn_model.query(single_data)"
   ]
  },
  {
   "cell_type": "code",
   "execution_count": 398,
   "id": "f744f810",
   "metadata": {},
   "outputs": [],
   "source": [
    "def get_rows_from_labels(query_result):\n",
    "    return data.filter_by(query_result['reference_label'], 'ID')"
   ]
  },
  {
   "cell_type": "code",
   "execution_count": 399,
   "id": "da78eac3",
   "metadata": {},
   "outputs": [
    {
     "data": {
      "text/html": [
       "<pre>+--------------+-------------+--------------+</pre>"
      ],
      "text/plain": [
       "+--------------+-------------+--------------+"
      ]
     },
     "metadata": {},
     "output_type": "display_data"
    },
    {
     "data": {
      "text/html": [
       "<pre>| Query points | % Complete. | Elapsed Time |</pre>"
      ],
      "text/plain": [
       "| Query points | % Complete. | Elapsed Time |"
      ]
     },
     "metadata": {},
     "output_type": "display_data"
    },
    {
     "data": {
      "text/html": [
       "<pre>+--------------+-------------+--------------+</pre>"
      ],
      "text/plain": [
       "+--------------+-------------+--------------+"
      ]
     },
     "metadata": {},
     "output_type": "display_data"
    },
    {
     "data": {
      "text/html": [
       "<pre>| 1            | 100         | 585us        |</pre>"
      ],
      "text/plain": [
       "| 1            | 100         | 585us        |"
      ]
     },
     "metadata": {},
     "output_type": "display_data"
    },
    {
     "data": {
      "text/html": [
       "<pre>| Done         |             | 758us        |</pre>"
      ],
      "text/plain": [
       "| Done         |             | 758us        |"
      ]
     },
     "metadata": {},
     "output_type": "display_data"
    },
    {
     "data": {
      "text/html": [
       "<pre>+--------------+-------------+--------------+</pre>"
      ],
      "text/plain": [
       "+--------------+-------------+--------------+"
      ]
     },
     "metadata": {},
     "output_type": "display_data"
    },
    {
     "data": {
      "text/html": [
       "<div style=\"max-height:1000px;max-width:1500px;overflow:auto;\"><table frame=\"box\" rules=\"cols\">\n",
       "    <tr>\n",
       "        <th style=\"padding-left: 1em; padding-right: 1em; text-align: center\">ID</th>\n",
       "        <th style=\"padding-left: 1em; padding-right: 1em; text-align: center\">NumberOfIntegers</th>\n",
       "        <th style=\"padding-left: 1em; padding-right: 1em; text-align: center\">DataStructure</th>\n",
       "        <th style=\"padding-left: 1em; padding-right: 1em; text-align: center\">insert()</th>\n",
       "        <th style=\"padding-left: 1em; padding-right: 1em; text-align: center\">insertAt()</th>\n",
       "        <th style=\"padding-left: 1em; padding-right: 1em; text-align: center\">contains()</th>\n",
       "        <th style=\"padding-left: 1em; padding-right: 1em; text-align: center\">indexOf()</th>\n",
       "        <th style=\"padding-left: 1em; padding-right: 1em; text-align: center\">get()</th>\n",
       "        <th style=\"padding-left: 1em; padding-right: 1em; text-align: center\">delete()</th>\n",
       "    </tr>\n",
       "    <tr>\n",
       "        <td style=\"padding-left: 1em; padding-right: 1em; text-align: center; vertical-align: top\">80</td>\n",
       "        <td style=\"padding-left: 1em; padding-right: 1em; text-align: center; vertical-align: top\">900000</td>\n",
       "        <td style=\"padding-left: 1em; padding-right: 1em; text-align: center; vertical-align: top\">ArrayList</td>\n",
       "        <td style=\"padding-left: 1em; padding-right: 1em; text-align: center; vertical-align: top\">17.1</td>\n",
       "        <td style=\"padding-left: 1em; padding-right: 1em; text-align: center; vertical-align: top\">722.36</td>\n",
       "        <td style=\"padding-left: 1em; padding-right: 1em; text-align: center; vertical-align: top\">20.88</td>\n",
       "        <td style=\"padding-left: 1em; padding-right: 1em; text-align: center; vertical-align: top\">20.77</td>\n",
       "        <td style=\"padding-left: 1em; padding-right: 1em; text-align: center; vertical-align: top\">0.01</td>\n",
       "        <td style=\"padding-left: 1em; padding-right: 1em; text-align: center; vertical-align: top\">719.93</td>\n",
       "    </tr>\n",
       "    <tr>\n",
       "        <td style=\"padding-left: 1em; padding-right: 1em; text-align: center; vertical-align: top\">81</td>\n",
       "        <td style=\"padding-left: 1em; padding-right: 1em; text-align: center; vertical-align: top\">900000</td>\n",
       "        <td style=\"padding-left: 1em; padding-right: 1em; text-align: center; vertical-align: top\">ArrayList</td>\n",
       "        <td style=\"padding-left: 1em; padding-right: 1em; text-align: center; vertical-align: top\">13.36</td>\n",
       "        <td style=\"padding-left: 1em; padding-right: 1em; text-align: center; vertical-align: top\">701.1</td>\n",
       "        <td style=\"padding-left: 1em; padding-right: 1em; text-align: center; vertical-align: top\">21.23</td>\n",
       "        <td style=\"padding-left: 1em; padding-right: 1em; text-align: center; vertical-align: top\">20.94</td>\n",
       "        <td style=\"padding-left: 1em; padding-right: 1em; text-align: center; vertical-align: top\">0.01</td>\n",
       "        <td style=\"padding-left: 1em; padding-right: 1em; text-align: center; vertical-align: top\">717.23</td>\n",
       "    </tr>\n",
       "    <tr>\n",
       "        <td style=\"padding-left: 1em; padding-right: 1em; text-align: center; vertical-align: top\">82</td>\n",
       "        <td style=\"padding-left: 1em; padding-right: 1em; text-align: center; vertical-align: top\">900000</td>\n",
       "        <td style=\"padding-left: 1em; padding-right: 1em; text-align: center; vertical-align: top\">LinkedList</td>\n",
       "        <td style=\"padding-left: 1em; padding-right: 1em; text-align: center; vertical-align: top\">11.61</td>\n",
       "        <td style=\"padding-left: 1em; padding-right: 1em; text-align: center; vertical-align: top\">46.15</td>\n",
       "        <td style=\"padding-left: 1em; padding-right: 1em; text-align: center; vertical-align: top\">68.39</td>\n",
       "        <td style=\"padding-left: 1em; padding-right: 1em; text-align: center; vertical-align: top\">68.56</td>\n",
       "        <td style=\"padding-left: 1em; padding-right: 1em; text-align: center; vertical-align: top\">45.56</td>\n",
       "        <td style=\"padding-left: 1em; padding-right: 1em; text-align: center; vertical-align: top\">0.1</td>\n",
       "    </tr>\n",
       "    <tr>\n",
       "        <td style=\"padding-left: 1em; padding-right: 1em; text-align: center; vertical-align: top\">83</td>\n",
       "        <td style=\"padding-left: 1em; padding-right: 1em; text-align: center; vertical-align: top\">900000</td>\n",
       "        <td style=\"padding-left: 1em; padding-right: 1em; text-align: center; vertical-align: top\">Vector</td>\n",
       "        <td style=\"padding-left: 1em; padding-right: 1em; text-align: center; vertical-align: top\">17.21</td>\n",
       "        <td style=\"padding-left: 1em; padding-right: 1em; text-align: center; vertical-align: top\">706.49</td>\n",
       "        <td style=\"padding-left: 1em; padding-right: 1em; text-align: center; vertical-align: top\">22.54</td>\n",
       "        <td style=\"padding-left: 1em; padding-right: 1em; text-align: center; vertical-align: top\">21.97</td>\n",
       "        <td style=\"padding-left: 1em; padding-right: 1em; text-align: center; vertical-align: top\">0.02</td>\n",
       "        <td style=\"padding-left: 1em; padding-right: 1em; text-align: center; vertical-align: top\">725.7</td>\n",
       "    </tr>\n",
       "    <tr>\n",
       "        <td style=\"padding-left: 1em; padding-right: 1em; text-align: center; vertical-align: top\">84</td>\n",
       "        <td style=\"padding-left: 1em; padding-right: 1em; text-align: center; vertical-align: top\">900000</td>\n",
       "        <td style=\"padding-left: 1em; padding-right: 1em; text-align: center; vertical-align: top\">Vector</td>\n",
       "        <td style=\"padding-left: 1em; padding-right: 1em; text-align: center; vertical-align: top\">13.46</td>\n",
       "        <td style=\"padding-left: 1em; padding-right: 1em; text-align: center; vertical-align: top\">741.18</td>\n",
       "        <td style=\"padding-left: 1em; padding-right: 1em; text-align: center; vertical-align: top\">22.77</td>\n",
       "        <td style=\"padding-left: 1em; padding-right: 1em; text-align: center; vertical-align: top\">24.17</td>\n",
       "        <td style=\"padding-left: 1em; padding-right: 1em; text-align: center; vertical-align: top\">0.02</td>\n",
       "        <td style=\"padding-left: 1em; padding-right: 1em; text-align: center; vertical-align: top\">736.65</td>\n",
       "    </tr>\n",
       "</table>\n",
       "[5 rows x 9 columns]<br/>\n",
       "</div>"
      ],
      "text/plain": [
       "Columns:\n",
       "\tID\tint\n",
       "\tNumberOfIntegers\tint\n",
       "\tDataStructure\tstr\n",
       "\tinsert()\tfloat\n",
       "\tinsertAt()\tfloat\n",
       "\tcontains()\tfloat\n",
       "\tindexOf()\tfloat\n",
       "\tget()\tfloat\n",
       "\tdelete()\tfloat\n",
       "\n",
       "Rows: 5\n",
       "\n",
       "Data:\n",
       "+----+------------------+---------------+----------+------------+------------+\n",
       "| ID | NumberOfIntegers | DataStructure | insert() | insertAt() | contains() |\n",
       "+----+------------------+---------------+----------+------------+------------+\n",
       "| 80 |      900000      |   ArrayList   |   17.1   |   722.36   |   20.88    |\n",
       "| 81 |      900000      |   ArrayList   |  13.36   |   701.1    |   21.23    |\n",
       "| 82 |      900000      |   LinkedList  |  11.61   |   46.15    |   68.39    |\n",
       "| 83 |      900000      |     Vector    |  17.21   |   706.49   |   22.54    |\n",
       "| 84 |      900000      |     Vector    |  13.46   |   741.18   |   22.77    |\n",
       "+----+------------------+---------------+----------+------------+------------+\n",
       "+-----------+-------+----------+\n",
       "| indexOf() | get() | delete() |\n",
       "+-----------+-------+----------+\n",
       "|   20.77   |  0.01 |  719.93  |\n",
       "|   20.94   |  0.01 |  717.23  |\n",
       "|   68.56   | 45.56 |   0.1    |\n",
       "|   21.97   |  0.02 |  725.7   |\n",
       "|   24.17   |  0.02 |  736.65  |\n",
       "+-----------+-------+----------+\n",
       "[5 rows x 9 columns]"
      ]
     },
     "execution_count": 399,
     "metadata": {},
     "output_type": "execute_result"
    }
   ],
   "source": [
    "results = get_rows_from_labels(knn_model.query(single_data))\n",
    "results"
   ]
  },
  {
   "cell_type": "code",
   "execution_count": 395,
   "id": "048bb3fd",
   "metadata": {},
   "outputs": [],
   "source": [
    "# [[7600000, 17.86, 1006.93, 29.61, 30.10, 0.02, 1010.68]]\n",
    "# [[300000, 4.98, 45.55, 2.12, 2.07, 0.20, 46.06]]\n",
    "# [[1000000, 20.61, 0, 0, 0, 87.58, 0]]\n",
    "# knn_model.query(turicreate.SFrame([[1000000, 20.61, 0, 0, 0, 87.58, 0]]))"
   ]
  },
  {
   "cell_type": "code",
   "execution_count": 400,
   "id": "4db0de4f",
   "metadata": {},
   "outputs": [
    {
     "data": {
      "text/html": [
       "<pre>Starting ball tree nearest neighbors model training.</pre>"
      ],
      "text/plain": [
       "Starting ball tree nearest neighbors model training."
      ]
     },
     "metadata": {},
     "output_type": "display_data"
    },
    {
     "data": {
      "text/html": [
       "<pre>+------------+--------------+</pre>"
      ],
      "text/plain": [
       "+------------+--------------+"
      ]
     },
     "metadata": {},
     "output_type": "display_data"
    },
    {
     "data": {
      "text/html": [
       "<pre>| Tree level | Elapsed Time |</pre>"
      ],
      "text/plain": [
       "| Tree level | Elapsed Time |"
      ]
     },
     "metadata": {},
     "output_type": "display_data"
    },
    {
     "data": {
      "text/html": [
       "<pre>+------------+--------------+</pre>"
      ],
      "text/plain": [
       "+------------+--------------+"
      ]
     },
     "metadata": {},
     "output_type": "display_data"
    },
    {
     "data": {
      "text/html": [
       "<pre>| 0          | 192us        |</pre>"
      ],
      "text/plain": [
       "| 0          | 192us        |"
      ]
     },
     "metadata": {},
     "output_type": "display_data"
    },
    {
     "data": {
      "text/html": [
       "<pre>+------------+--------------+</pre>"
      ],
      "text/plain": [
       "+------------+--------------+"
      ]
     },
     "metadata": {},
     "output_type": "display_data"
    }
   ],
   "source": [
    " nnc_model = turicreate.nearest_neighbor_classifier.create(data, target='DataStructure', features=['NumberOfIntegers', 'insert()', 'insertAt()', 'contains()', 'indexOf()', 'get()', 'delete()'])"
   ]
  },
  {
   "cell_type": "code",
   "execution_count": 401,
   "id": "cda1e068",
   "metadata": {
    "scrolled": true
   },
   "outputs": [
    {
     "name": "stdout",
     "output_type": "stream",
     "text": [
      "WARNING: Ignoring `roc_curve`. Not supported for multi-class classification.\n"
     ]
    },
    {
     "data": {
      "text/html": [
       "<pre>+--------------+-------------+--------------+</pre>"
      ],
      "text/plain": [
       "+--------------+-------------+--------------+"
      ]
     },
     "metadata": {},
     "output_type": "display_data"
    },
    {
     "data": {
      "text/html": [
       "<pre>| Query points | % Complete. | Elapsed Time |</pre>"
      ],
      "text/plain": [
       "| Query points | % Complete. | Elapsed Time |"
      ]
     },
     "metadata": {},
     "output_type": "display_data"
    },
    {
     "data": {
      "text/html": [
       "<pre>+--------------+-------------+--------------+</pre>"
      ],
      "text/plain": [
       "+--------------+-------------+--------------+"
      ]
     },
     "metadata": {},
     "output_type": "display_data"
    },
    {
     "data": {
      "text/html": [
       "<pre>| 1            | 0           | 947us        |</pre>"
      ],
      "text/plain": [
       "| 1            | 0           | 947us        |"
      ]
     },
     "metadata": {},
     "output_type": "display_data"
    },
    {
     "data": {
      "text/html": [
       "<pre>| Done         |             | 22.055ms     |</pre>"
      ],
      "text/plain": [
       "| Done         |             | 22.055ms     |"
      ]
     },
     "metadata": {},
     "output_type": "display_data"
    },
    {
     "data": {
      "text/html": [
       "<pre>+--------------+-------------+--------------+</pre>"
      ],
      "text/plain": [
       "+--------------+-------------+--------------+"
      ]
     },
     "metadata": {},
     "output_type": "display_data"
    },
    {
     "data": {
      "text/html": [
       "<pre>+--------------+-------------+--------------+</pre>"
      ],
      "text/plain": [
       "+--------------+-------------+--------------+"
      ]
     },
     "metadata": {},
     "output_type": "display_data"
    },
    {
     "data": {
      "text/html": [
       "<pre>| Query points | % Complete. | Elapsed Time |</pre>"
      ],
      "text/plain": [
       "| Query points | % Complete. | Elapsed Time |"
      ]
     },
     "metadata": {},
     "output_type": "display_data"
    },
    {
     "data": {
      "text/html": [
       "<pre>+--------------+-------------+--------------+</pre>"
      ],
      "text/plain": [
       "+--------------+-------------+--------------+"
      ]
     },
     "metadata": {},
     "output_type": "display_data"
    },
    {
     "data": {
      "text/html": [
       "<pre>| 1            | 0           | 732us        |</pre>"
      ],
      "text/plain": [
       "| 1            | 0           | 732us        |"
      ]
     },
     "metadata": {},
     "output_type": "display_data"
    },
    {
     "data": {
      "text/html": [
       "<pre>| Done         |             | 26.875ms     |</pre>"
      ],
      "text/plain": [
       "| Done         |             | 26.875ms     |"
      ]
     },
     "metadata": {},
     "output_type": "display_data"
    },
    {
     "data": {
      "text/html": [
       "<pre>+--------------+-------------+--------------+</pre>"
      ],
      "text/plain": [
       "+--------------+-------------+--------------+"
      ]
     },
     "metadata": {},
     "output_type": "display_data"
    },
    {
     "data": {
      "text/plain": [
       "{'accuracy': 0.373,\n",
       " 'confusion_matrix': Columns:\n",
       " \ttarget_label\tstr\n",
       " \tpredicted_label\tstr\n",
       " \tcount\tint\n",
       " \n",
       " Rows: 6\n",
       " \n",
       " Data:\n",
       " +--------------+-----------------+-------+\n",
       " | target_label | predicted_label | count |\n",
       " +--------------+-----------------+-------+\n",
       " |  ArrayList   |      Vector     |  215  |\n",
       " |    Vector    |    ArrayList    |  212  |\n",
       " |  LinkedList  |      Vector     |  112  |\n",
       " |  ArrayList   |    ArrayList    |  185  |\n",
       " |  LinkedList  |    ArrayList    |   88  |\n",
       " |    Vector    |      Vector     |  188  |\n",
       " +--------------+-----------------+-------+\n",
       " [6 rows x 3 columns]}"
      ]
     },
     "execution_count": 401,
     "metadata": {},
     "output_type": "execute_result"
    }
   ],
   "source": [
    "nnc_model.evaluate(data)"
   ]
  },
  {
   "cell_type": "code",
   "execution_count": null,
   "id": "36326f2f",
   "metadata": {},
   "outputs": [],
   "source": []
  }
 ],
 "metadata": {
  "kernelspec": {
   "display_name": "Python 3 (ipykernel)",
   "language": "python",
   "name": "python3"
  },
  "language_info": {
   "codemirror_mode": {
    "name": "ipython",
    "version": 3
   },
   "file_extension": ".py",
   "mimetype": "text/x-python",
   "name": "python",
   "nbconvert_exporter": "python",
   "pygments_lexer": "ipython3",
   "version": "3.8.12"
  }
 },
 "nbformat": 4,
 "nbformat_minor": 5
}
