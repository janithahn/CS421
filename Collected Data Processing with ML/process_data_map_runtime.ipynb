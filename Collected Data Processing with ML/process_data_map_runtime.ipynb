{
 "cells": [
  {
   "cell_type": "code",
   "execution_count": 1,
   "id": "98a5ed7a",
   "metadata": {},
   "outputs": [],
   "source": [
    "import pandas as pd\n",
    "import seaborn as sns\n",
    "import numpy as np\n",
    "import matplotlib.pyplot as plt"
   ]
  },
  {
   "cell_type": "code",
   "execution_count": 2,
   "id": "23169c55",
   "metadata": {},
   "outputs": [],
   "source": [
    "pd.set_option(\"display.max.columns\", None)\n",
    "df = pd.read_csv('./data/data.csv')\n",
    "df = df.dropna()"
   ]
  },
  {
   "cell_type": "code",
   "execution_count": 3,
   "id": "a57ec6ea",
   "metadata": {
    "scrolled": true
   },
   "outputs": [
    {
     "data": {
      "text/html": [
       "<div>\n",
       "<style scoped>\n",
       "    .dataframe tbody tr th:only-of-type {\n",
       "        vertical-align: middle;\n",
       "    }\n",
       "\n",
       "    .dataframe tbody tr th {\n",
       "        vertical-align: top;\n",
       "    }\n",
       "\n",
       "    .dataframe thead th {\n",
       "        text-align: right;\n",
       "    }\n",
       "</style>\n",
       "<table border=\"1\" class=\"dataframe\">\n",
       "  <thead>\n",
       "    <tr style=\"text-align: right;\">\n",
       "      <th></th>\n",
       "      <th>NumberOfIntegers</th>\n",
       "      <th>DataStructure</th>\n",
       "      <th>put()</th>\n",
       "      <th>replace()</th>\n",
       "      <th>containsKey()</th>\n",
       "      <th>containsValue()</th>\n",
       "      <th>get()</th>\n",
       "      <th>remove()</th>\n",
       "    </tr>\n",
       "  </thead>\n",
       "  <tbody>\n",
       "    <tr>\n",
       "      <th>1</th>\n",
       "      <td>100000.0</td>\n",
       "      <td>HashMap</td>\n",
       "      <td>16.32</td>\n",
       "      <td>0.31</td>\n",
       "      <td>0.13</td>\n",
       "      <td>620.35</td>\n",
       "      <td>0.26</td>\n",
       "      <td>0.18</td>\n",
       "    </tr>\n",
       "    <tr>\n",
       "      <th>2</th>\n",
       "      <td>100000.0</td>\n",
       "      <td>HashMap_Initialized</td>\n",
       "      <td>5.07</td>\n",
       "      <td>0.29</td>\n",
       "      <td>0.10</td>\n",
       "      <td>749.16</td>\n",
       "      <td>0.23</td>\n",
       "      <td>0.13</td>\n",
       "    </tr>\n",
       "    <tr>\n",
       "      <th>3</th>\n",
       "      <td>100000.0</td>\n",
       "      <td>LinkedHashMap</td>\n",
       "      <td>11.61</td>\n",
       "      <td>0.30</td>\n",
       "      <td>0.10</td>\n",
       "      <td>234.36</td>\n",
       "      <td>0.29</td>\n",
       "      <td>0.19</td>\n",
       "    </tr>\n",
       "    <tr>\n",
       "      <th>4</th>\n",
       "      <td>100000.0</td>\n",
       "      <td>LinkedHashMap_Initialized</td>\n",
       "      <td>10.98</td>\n",
       "      <td>0.31</td>\n",
       "      <td>0.09</td>\n",
       "      <td>232.99</td>\n",
       "      <td>0.27</td>\n",
       "      <td>0.11</td>\n",
       "    </tr>\n",
       "    <tr>\n",
       "      <th>5</th>\n",
       "      <td>100000.0</td>\n",
       "      <td>TreeMap</td>\n",
       "      <td>46.77</td>\n",
       "      <td>0.66</td>\n",
       "      <td>0.45</td>\n",
       "      <td>1342.56</td>\n",
       "      <td>0.58</td>\n",
       "      <td>0.59</td>\n",
       "    </tr>\n",
       "    <tr>\n",
       "      <th>7</th>\n",
       "      <td>110000.0</td>\n",
       "      <td>HashMap</td>\n",
       "      <td>9.97</td>\n",
       "      <td>0.27</td>\n",
       "      <td>0.10</td>\n",
       "      <td>727.30</td>\n",
       "      <td>0.25</td>\n",
       "      <td>0.11</td>\n",
       "    </tr>\n",
       "    <tr>\n",
       "      <th>8</th>\n",
       "      <td>110000.0</td>\n",
       "      <td>HashMap_Initialized</td>\n",
       "      <td>7.15</td>\n",
       "      <td>0.35</td>\n",
       "      <td>0.10</td>\n",
       "      <td>1074.21</td>\n",
       "      <td>0.29</td>\n",
       "      <td>0.12</td>\n",
       "    </tr>\n",
       "    <tr>\n",
       "      <th>9</th>\n",
       "      <td>110000.0</td>\n",
       "      <td>LinkedHashMap</td>\n",
       "      <td>10.92</td>\n",
       "      <td>0.31</td>\n",
       "      <td>0.10</td>\n",
       "      <td>368.72</td>\n",
       "      <td>0.31</td>\n",
       "      <td>0.12</td>\n",
       "    </tr>\n",
       "    <tr>\n",
       "      <th>10</th>\n",
       "      <td>110000.0</td>\n",
       "      <td>LinkedHashMap_Initialized</td>\n",
       "      <td>11.51</td>\n",
       "      <td>0.38</td>\n",
       "      <td>0.12</td>\n",
       "      <td>340.60</td>\n",
       "      <td>0.31</td>\n",
       "      <td>0.17</td>\n",
       "    </tr>\n",
       "    <tr>\n",
       "      <th>11</th>\n",
       "      <td>110000.0</td>\n",
       "      <td>TreeMap</td>\n",
       "      <td>79.82</td>\n",
       "      <td>1.21</td>\n",
       "      <td>0.67</td>\n",
       "      <td>3186.49</td>\n",
       "      <td>0.99</td>\n",
       "      <td>1.00</td>\n",
       "    </tr>\n",
       "  </tbody>\n",
       "</table>\n",
       "</div>"
      ],
      "text/plain": [
       "    NumberOfIntegers              DataStructure  put()  replace()  \\\n",
       "1           100000.0                    HashMap  16.32       0.31   \n",
       "2           100000.0        HashMap_Initialized   5.07       0.29   \n",
       "3           100000.0              LinkedHashMap  11.61       0.30   \n",
       "4           100000.0  LinkedHashMap_Initialized  10.98       0.31   \n",
       "5           100000.0                    TreeMap  46.77       0.66   \n",
       "7           110000.0                    HashMap   9.97       0.27   \n",
       "8           110000.0        HashMap_Initialized   7.15       0.35   \n",
       "9           110000.0              LinkedHashMap  10.92       0.31   \n",
       "10          110000.0  LinkedHashMap_Initialized  11.51       0.38   \n",
       "11          110000.0                    TreeMap  79.82       1.21   \n",
       "\n",
       "    containsKey()  containsValue()  get()  remove()  \n",
       "1            0.13           620.35   0.26      0.18  \n",
       "2            0.10           749.16   0.23      0.13  \n",
       "3            0.10           234.36   0.29      0.19  \n",
       "4            0.09           232.99   0.27      0.11  \n",
       "5            0.45          1342.56   0.58      0.59  \n",
       "7            0.10           727.30   0.25      0.11  \n",
       "8            0.10          1074.21   0.29      0.12  \n",
       "9            0.10           368.72   0.31      0.12  \n",
       "10           0.12           340.60   0.31      0.17  \n",
       "11           0.67          3186.49   0.99      1.00  "
      ]
     },
     "execution_count": 3,
     "metadata": {},
     "output_type": "execute_result"
    }
   ],
   "source": [
    "df.head(10)"
   ]
  },
  {
   "cell_type": "markdown",
   "id": "7dc510c1",
   "metadata": {},
   "source": [
    "### Grouping the values by NumberOfIntegers"
   ]
  },
  {
   "cell_type": "code",
   "execution_count": 4,
   "id": "fd37ac12",
   "metadata": {
    "scrolled": true
   },
   "outputs": [
    {
     "data": {
      "text/html": [
       "<div>\n",
       "<style scoped>\n",
       "    .dataframe tbody tr th:only-of-type {\n",
       "        vertical-align: middle;\n",
       "    }\n",
       "\n",
       "    .dataframe tbody tr th {\n",
       "        vertical-align: top;\n",
       "    }\n",
       "\n",
       "    .dataframe thead th {\n",
       "        text-align: right;\n",
       "    }\n",
       "</style>\n",
       "<table border=\"1\" class=\"dataframe\">\n",
       "  <thead>\n",
       "    <tr style=\"text-align: right;\">\n",
       "      <th></th>\n",
       "      <th></th>\n",
       "      <th>NumberOfIntegers</th>\n",
       "      <th>DataStructure</th>\n",
       "      <th>put()</th>\n",
       "      <th>replace()</th>\n",
       "      <th>containsKey()</th>\n",
       "      <th>containsValue()</th>\n",
       "      <th>get()</th>\n",
       "      <th>remove()</th>\n",
       "    </tr>\n",
       "    <tr>\n",
       "      <th>NumberOfIntegers</th>\n",
       "      <th></th>\n",
       "      <th></th>\n",
       "      <th></th>\n",
       "      <th></th>\n",
       "      <th></th>\n",
       "      <th></th>\n",
       "      <th></th>\n",
       "      <th></th>\n",
       "      <th></th>\n",
       "    </tr>\n",
       "  </thead>\n",
       "  <tbody>\n",
       "    <tr>\n",
       "      <th rowspan=\"5\" valign=\"top\">100000.0</th>\n",
       "      <th>0</th>\n",
       "      <td>100000.0</td>\n",
       "      <td>HashMap_Initialized</td>\n",
       "      <td>5.07</td>\n",
       "      <td>0.29</td>\n",
       "      <td>0.10</td>\n",
       "      <td>749.16</td>\n",
       "      <td>0.23</td>\n",
       "      <td>0.13</td>\n",
       "    </tr>\n",
       "    <tr>\n",
       "      <th>1</th>\n",
       "      <td>100000.0</td>\n",
       "      <td>TreeMap</td>\n",
       "      <td>46.77</td>\n",
       "      <td>0.66</td>\n",
       "      <td>0.45</td>\n",
       "      <td>1342.56</td>\n",
       "      <td>0.58</td>\n",
       "      <td>0.59</td>\n",
       "    </tr>\n",
       "    <tr>\n",
       "      <th>2</th>\n",
       "      <td>100000.0</td>\n",
       "      <td>HashMap</td>\n",
       "      <td>16.32</td>\n",
       "      <td>0.31</td>\n",
       "      <td>0.13</td>\n",
       "      <td>620.35</td>\n",
       "      <td>0.26</td>\n",
       "      <td>0.18</td>\n",
       "    </tr>\n",
       "    <tr>\n",
       "      <th>3</th>\n",
       "      <td>100000.0</td>\n",
       "      <td>LinkedHashMap</td>\n",
       "      <td>11.61</td>\n",
       "      <td>0.30</td>\n",
       "      <td>0.10</td>\n",
       "      <td>234.36</td>\n",
       "      <td>0.29</td>\n",
       "      <td>0.19</td>\n",
       "    </tr>\n",
       "    <tr>\n",
       "      <th>4</th>\n",
       "      <td>100000.0</td>\n",
       "      <td>LinkedHashMap_Initialized</td>\n",
       "      <td>10.98</td>\n",
       "      <td>0.31</td>\n",
       "      <td>0.09</td>\n",
       "      <td>232.99</td>\n",
       "      <td>0.27</td>\n",
       "      <td>0.11</td>\n",
       "    </tr>\n",
       "    <tr>\n",
       "      <th rowspan=\"5\" valign=\"top\">110000.0</th>\n",
       "      <th>0</th>\n",
       "      <td>110000.0</td>\n",
       "      <td>HashMap_Initialized</td>\n",
       "      <td>7.15</td>\n",
       "      <td>0.35</td>\n",
       "      <td>0.10</td>\n",
       "      <td>1074.21</td>\n",
       "      <td>0.29</td>\n",
       "      <td>0.12</td>\n",
       "    </tr>\n",
       "    <tr>\n",
       "      <th>1</th>\n",
       "      <td>110000.0</td>\n",
       "      <td>LinkedHashMap_Initialized</td>\n",
       "      <td>11.51</td>\n",
       "      <td>0.38</td>\n",
       "      <td>0.12</td>\n",
       "      <td>340.60</td>\n",
       "      <td>0.31</td>\n",
       "      <td>0.17</td>\n",
       "    </tr>\n",
       "    <tr>\n",
       "      <th>2</th>\n",
       "      <td>110000.0</td>\n",
       "      <td>LinkedHashMap</td>\n",
       "      <td>10.92</td>\n",
       "      <td>0.31</td>\n",
       "      <td>0.10</td>\n",
       "      <td>368.72</td>\n",
       "      <td>0.31</td>\n",
       "      <td>0.12</td>\n",
       "    </tr>\n",
       "    <tr>\n",
       "      <th>3</th>\n",
       "      <td>110000.0</td>\n",
       "      <td>HashMap</td>\n",
       "      <td>9.97</td>\n",
       "      <td>0.27</td>\n",
       "      <td>0.10</td>\n",
       "      <td>727.30</td>\n",
       "      <td>0.25</td>\n",
       "      <td>0.11</td>\n",
       "    </tr>\n",
       "    <tr>\n",
       "      <th>4</th>\n",
       "      <td>110000.0</td>\n",
       "      <td>TreeMap</td>\n",
       "      <td>79.82</td>\n",
       "      <td>1.21</td>\n",
       "      <td>0.67</td>\n",
       "      <td>3186.49</td>\n",
       "      <td>0.99</td>\n",
       "      <td>1.00</td>\n",
       "    </tr>\n",
       "  </tbody>\n",
       "</table>\n",
       "</div>"
      ],
      "text/plain": [
       "                    NumberOfIntegers              DataStructure  put()  \\\n",
       "NumberOfIntegers                                                         \n",
       "100000.0         0          100000.0        HashMap_Initialized   5.07   \n",
       "                 1          100000.0                    TreeMap  46.77   \n",
       "                 2          100000.0                    HashMap  16.32   \n",
       "                 3          100000.0              LinkedHashMap  11.61   \n",
       "                 4          100000.0  LinkedHashMap_Initialized  10.98   \n",
       "110000.0         0          110000.0        HashMap_Initialized   7.15   \n",
       "                 1          110000.0  LinkedHashMap_Initialized  11.51   \n",
       "                 2          110000.0              LinkedHashMap  10.92   \n",
       "                 3          110000.0                    HashMap   9.97   \n",
       "                 4          110000.0                    TreeMap  79.82   \n",
       "\n",
       "                    replace()  containsKey()  containsValue()  get()  remove()  \n",
       "NumberOfIntegers                                                                \n",
       "100000.0         0       0.29           0.10           749.16   0.23      0.13  \n",
       "                 1       0.66           0.45          1342.56   0.58      0.59  \n",
       "                 2       0.31           0.13           620.35   0.26      0.18  \n",
       "                 3       0.30           0.10           234.36   0.29      0.19  \n",
       "                 4       0.31           0.09           232.99   0.27      0.11  \n",
       "110000.0         0       0.35           0.10          1074.21   0.29      0.12  \n",
       "                 1       0.38           0.12           340.60   0.31      0.17  \n",
       "                 2       0.31           0.10           368.72   0.31      0.12  \n",
       "                 3       0.27           0.10           727.30   0.25      0.11  \n",
       "                 4       1.21           0.67          3186.49   0.99      1.00  "
      ]
     },
     "execution_count": 4,
     "metadata": {},
     "output_type": "execute_result"
    }
   ],
   "source": [
    "g = df.groupby('NumberOfIntegers')\n",
    "# g.apply(lambda x: x).head(10)\n",
    "g.apply(lambda x: x.sample(g.size().min()).reset_index(drop=True)).head(10)"
   ]
  },
  {
   "cell_type": "markdown",
   "id": "0586e5b8",
   "metadata": {},
   "source": [
    "### Taking the minmum value of the insert() column of each group"
   ]
  },
  {
   "cell_type": "code",
   "execution_count": 6,
   "id": "ff2f74b8",
   "metadata": {
    "scrolled": true
   },
   "outputs": [
    {
     "data": {
      "text/plain": [
       "NumberOfIntegers\n",
       "100000.0     5.07\n",
       "110000.0     7.15\n",
       "120000.0     7.64\n",
       "130000.0     6.38\n",
       "140000.0     5.96\n",
       "            ...  \n",
       "750000.0    50.17\n",
       "760000.0    55.89\n",
       "770000.0    76.37\n",
       "780000.0    71.61\n",
       "790000.0    92.96\n",
       "Name: put(), Length: 70, dtype: float64"
      ]
     },
     "execution_count": 6,
     "metadata": {},
     "output_type": "execute_result"
    }
   ],
   "source": [
    "df.groupby('NumberOfIntegers')['put()'].min()"
   ]
  },
  {
   "cell_type": "markdown",
   "id": "3c252f11",
   "metadata": {},
   "source": [
    "### Viewing the entire rows of above values"
   ]
  },
  {
   "cell_type": "markdown",
   "id": "4bf83c9e",
   "metadata": {},
   "source": [
    "We need to take the minimum value of each column separately for each group, and consider it as the best data structure for that number of insert values. For example, below, we have considered the insert() column, and taken the minimum run-time for each group. The data structure that values belongs is the best data structure for that particular group in terms of insert() operation."
   ]
  },
  {
   "cell_type": "code",
   "execution_count": 7,
   "id": "34ce74fe",
   "metadata": {
    "scrolled": true
   },
   "outputs": [
    {
     "data": {
      "text/html": [
       "<div>\n",
       "<style scoped>\n",
       "    .dataframe tbody tr th:only-of-type {\n",
       "        vertical-align: middle;\n",
       "    }\n",
       "\n",
       "    .dataframe tbody tr th {\n",
       "        vertical-align: top;\n",
       "    }\n",
       "\n",
       "    .dataframe thead th {\n",
       "        text-align: right;\n",
       "    }\n",
       "</style>\n",
       "<table border=\"1\" class=\"dataframe\">\n",
       "  <thead>\n",
       "    <tr style=\"text-align: right;\">\n",
       "      <th></th>\n",
       "      <th>DataStructure</th>\n",
       "      <th>put()</th>\n",
       "    </tr>\n",
       "  </thead>\n",
       "  <tbody>\n",
       "    <tr>\n",
       "      <th>2</th>\n",
       "      <td>HashMap_Initialized</td>\n",
       "      <td>5.07</td>\n",
       "    </tr>\n",
       "    <tr>\n",
       "      <th>8</th>\n",
       "      <td>HashMap_Initialized</td>\n",
       "      <td>7.15</td>\n",
       "    </tr>\n",
       "    <tr>\n",
       "      <th>16</th>\n",
       "      <td>LinkedHashMap_Initialized</td>\n",
       "      <td>7.64</td>\n",
       "    </tr>\n",
       "    <tr>\n",
       "      <th>22</th>\n",
       "      <td>LinkedHashMap_Initialized</td>\n",
       "      <td>6.38</td>\n",
       "    </tr>\n",
       "    <tr>\n",
       "      <th>26</th>\n",
       "      <td>HashMap_Initialized</td>\n",
       "      <td>5.96</td>\n",
       "    </tr>\n",
       "    <tr>\n",
       "      <th>...</th>\n",
       "      <td>...</td>\n",
       "      <td>...</td>\n",
       "    </tr>\n",
       "    <tr>\n",
       "      <th>392</th>\n",
       "      <td>HashMap_Initialized</td>\n",
       "      <td>50.17</td>\n",
       "    </tr>\n",
       "    <tr>\n",
       "      <th>398</th>\n",
       "      <td>HashMap_Initialized</td>\n",
       "      <td>55.89</td>\n",
       "    </tr>\n",
       "    <tr>\n",
       "      <th>404</th>\n",
       "      <td>HashMap_Initialized</td>\n",
       "      <td>76.37</td>\n",
       "    </tr>\n",
       "    <tr>\n",
       "      <th>409</th>\n",
       "      <td>HashMap</td>\n",
       "      <td>71.61</td>\n",
       "    </tr>\n",
       "    <tr>\n",
       "      <th>416</th>\n",
       "      <td>HashMap_Initialized</td>\n",
       "      <td>92.96</td>\n",
       "    </tr>\n",
       "  </tbody>\n",
       "</table>\n",
       "<p>70 rows × 2 columns</p>\n",
       "</div>"
      ],
      "text/plain": [
       "                 DataStructure  put()\n",
       "2          HashMap_Initialized   5.07\n",
       "8          HashMap_Initialized   7.15\n",
       "16   LinkedHashMap_Initialized   7.64\n",
       "22   LinkedHashMap_Initialized   6.38\n",
       "26         HashMap_Initialized   5.96\n",
       "..                         ...    ...\n",
       "392        HashMap_Initialized  50.17\n",
       "398        HashMap_Initialized  55.89\n",
       "404        HashMap_Initialized  76.37\n",
       "409                    HashMap  71.61\n",
       "416        HashMap_Initialized  92.96\n",
       "\n",
       "[70 rows x 2 columns]"
      ]
     },
     "execution_count": 7,
     "metadata": {},
     "output_type": "execute_result"
    }
   ],
   "source": [
    "df.loc[df.groupby('NumberOfIntegers')['put()'].idxmin()][['DataStructure', 'put()']]"
   ]
  },
  {
   "cell_type": "markdown",
   "id": "2d682eb5",
   "metadata": {},
   "source": [
    "### Method that returns individual grouped dfs with min value of the relevant column"
   ]
  },
  {
   "cell_type": "code",
   "execution_count": 8,
   "id": "d2291fa0",
   "metadata": {},
   "outputs": [],
   "source": [
    "cols = ['put()', 'replace()', 'containsKey()', 'containsValue()', 'get()', 'remove()']\n",
    "def get_min_dfs():\n",
    "    return [df.loc[df.groupby('NumberOfIntegers')[col].idxmin()][['NumberOfIntegers', 'DataStructure', col]] for col in cols]"
   ]
  },
  {
   "cell_type": "code",
   "execution_count": 9,
   "id": "97030c83",
   "metadata": {
    "scrolled": false
   },
   "outputs": [
    {
     "data": {
      "text/plain": [
       "[     NumberOfIntegers              DataStructure  put()\n",
       " 2            100000.0        HashMap_Initialized   5.07\n",
       " 8            110000.0        HashMap_Initialized   7.15\n",
       " 16           120000.0  LinkedHashMap_Initialized   7.64\n",
       " 22           130000.0  LinkedHashMap_Initialized   6.38\n",
       " 26           140000.0        HashMap_Initialized   5.96\n",
       " ..                ...                        ...    ...\n",
       " 392          750000.0        HashMap_Initialized  50.17\n",
       " 398          760000.0        HashMap_Initialized  55.89\n",
       " 404          770000.0        HashMap_Initialized  76.37\n",
       " 409          780000.0                    HashMap  71.61\n",
       " 416          790000.0        HashMap_Initialized  92.96\n",
       " \n",
       " [70 rows x 3 columns],\n",
       "      NumberOfIntegers              DataStructure  replace()\n",
       " 2            100000.0        HashMap_Initialized       0.29\n",
       " 7            110000.0                    HashMap       0.27\n",
       " 13           120000.0                    HashMap       0.34\n",
       " 19           130000.0                    HashMap       0.41\n",
       " 27           140000.0              LinkedHashMap       0.35\n",
       " ..                ...                        ...        ...\n",
       " 392          750000.0        HashMap_Initialized       1.38\n",
       " 397          760000.0                    HashMap       1.04\n",
       " 403          770000.0                    HashMap       2.16\n",
       " 412          780000.0  LinkedHashMap_Initialized       2.27\n",
       " 416          790000.0        HashMap_Initialized       1.74\n",
       " \n",
       " [70 rows x 3 columns]]"
      ]
     },
     "execution_count": 9,
     "metadata": {},
     "output_type": "execute_result"
    }
   ],
   "source": [
    "min_dfs = get_min_dfs()\n",
    "min_dfs[0:2]"
   ]
  },
  {
   "cell_type": "markdown",
   "id": "35b690a8",
   "metadata": {},
   "source": [
    "### Adding a new 'recommended' column"
   ]
  },
  {
   "cell_type": "markdown",
   "id": "0f9bb08d",
   "metadata": {},
   "source": [
    "Adding a new recommended column to the original dataset with the recommended data structure. Next, consider mapping all the groups(NumberOfIntegers) to their best data structure(here, we have taken the inser() column)."
   ]
  },
  {
   "cell_type": "code",
   "execution_count": 10,
   "id": "fe40737c",
   "metadata": {
    "scrolled": false
   },
   "outputs": [],
   "source": [
    "# converting the columns to arrays\n",
    "num_of_int_arr = min_dfs[0]['NumberOfIntegers'].to_numpy()\n",
    "col_arr = min_dfs[0]['DataStructure'].to_numpy()"
   ]
  },
  {
   "cell_type": "markdown",
   "id": "6199227e",
   "metadata": {},
   "source": [
    "Now, add a new column to save the recommended or the best data structures from each group, and add that value to other rows of each group as well."
   ]
  },
  {
   "cell_type": "markdown",
   "id": "8c0bd3bb",
   "metadata": {},
   "source": [
    "Below, we can see that the data structure that has minimum 'insert()' run-time has been added to the every row of each group in a new column."
   ]
  },
  {
   "cell_type": "markdown",
   "id": "9ea6dd55",
   "metadata": {},
   "source": [
    "### Do this to all the groups"
   ]
  },
  {
   "cell_type": "markdown",
   "id": "3d62fb23",
   "metadata": {},
   "source": [
    "#### Get dfs split into each function(insert(), insertAt(), etc.)"
   ]
  },
  {
   "cell_type": "code",
   "execution_count": 11,
   "id": "00d487d3",
   "metadata": {},
   "outputs": [],
   "source": [
    "def get_dfs():\n",
    "    return [df[['NumberOfIntegers', 'DataStructure', col]] for col in cols]"
   ]
  },
  {
   "cell_type": "code",
   "execution_count": 12,
   "id": "3b7174af",
   "metadata": {},
   "outputs": [],
   "source": [
    "split_dfs = get_dfs()\n",
    "# split_dfs[0:2]"
   ]
  },
  {
   "cell_type": "code",
   "execution_count": 13,
   "id": "3e27b73b",
   "metadata": {
    "scrolled": true
   },
   "outputs": [
    {
     "name": "stderr",
     "output_type": "stream",
     "text": [
      "/tmp/ipykernel_402/509006722.py:6: SettingWithCopyWarning: \n",
      "A value is trying to be set on a copy of a slice from a DataFrame.\n",
      "Try using .loc[row_indexer,col_indexer] = value instead\n",
      "\n",
      "See the caveats in the documentation: https://pandas.pydata.org/pandas-docs/stable/user_guide/indexing.html#returning-a-view-versus-a-copy\n",
      "  split_df[new_cols[index]] = split_df['NumberOfIntegers'].map(mappings[index])\n"
     ]
    }
   ],
   "source": [
    "min_datastructures = [min_df['DataStructure'].to_numpy() for min_df in min_dfs] # list of data structures with the minimum value\n",
    "mappings = [dict(zip(num_of_int_arr, min_df)) for min_df in min_datastructures] # list of mappings\n",
    "new_cols = ['ds_put()', 'ds_replace()', 'ds_containsKey()', 'ds_containsValue()', 'ds_get()', 'ds_remove()']\n",
    "\n",
    "for index, split_df in enumerate(split_dfs):\n",
    "    split_df[new_cols[index]] = split_df['NumberOfIntegers'].map(mappings[index])"
   ]
  },
  {
   "cell_type": "code",
   "execution_count": 14,
   "id": "77559789",
   "metadata": {
    "scrolled": false
   },
   "outputs": [
    {
     "data": {
      "text/html": [
       "<div>\n",
       "<style scoped>\n",
       "    .dataframe tbody tr th:only-of-type {\n",
       "        vertical-align: middle;\n",
       "    }\n",
       "\n",
       "    .dataframe tbody tr th {\n",
       "        vertical-align: top;\n",
       "    }\n",
       "\n",
       "    .dataframe thead th {\n",
       "        text-align: right;\n",
       "    }\n",
       "</style>\n",
       "<table border=\"1\" class=\"dataframe\">\n",
       "  <thead>\n",
       "    <tr style=\"text-align: right;\">\n",
       "      <th></th>\n",
       "      <th>NumberOfIntegers</th>\n",
       "      <th>DataStructure</th>\n",
       "      <th>put()</th>\n",
       "      <th>ds_put()</th>\n",
       "    </tr>\n",
       "  </thead>\n",
       "  <tbody>\n",
       "    <tr>\n",
       "      <th>1</th>\n",
       "      <td>100000.0</td>\n",
       "      <td>HashMap</td>\n",
       "      <td>16.32</td>\n",
       "      <td>HashMap_Initialized</td>\n",
       "    </tr>\n",
       "    <tr>\n",
       "      <th>2</th>\n",
       "      <td>100000.0</td>\n",
       "      <td>HashMap_Initialized</td>\n",
       "      <td>5.07</td>\n",
       "      <td>HashMap_Initialized</td>\n",
       "    </tr>\n",
       "    <tr>\n",
       "      <th>3</th>\n",
       "      <td>100000.0</td>\n",
       "      <td>LinkedHashMap</td>\n",
       "      <td>11.61</td>\n",
       "      <td>HashMap_Initialized</td>\n",
       "    </tr>\n",
       "    <tr>\n",
       "      <th>4</th>\n",
       "      <td>100000.0</td>\n",
       "      <td>LinkedHashMap_Initialized</td>\n",
       "      <td>10.98</td>\n",
       "      <td>HashMap_Initialized</td>\n",
       "    </tr>\n",
       "    <tr>\n",
       "      <th>5</th>\n",
       "      <td>100000.0</td>\n",
       "      <td>TreeMap</td>\n",
       "      <td>46.77</td>\n",
       "      <td>HashMap_Initialized</td>\n",
       "    </tr>\n",
       "    <tr>\n",
       "      <th>7</th>\n",
       "      <td>110000.0</td>\n",
       "      <td>HashMap</td>\n",
       "      <td>9.97</td>\n",
       "      <td>HashMap_Initialized</td>\n",
       "    </tr>\n",
       "    <tr>\n",
       "      <th>8</th>\n",
       "      <td>110000.0</td>\n",
       "      <td>HashMap_Initialized</td>\n",
       "      <td>7.15</td>\n",
       "      <td>HashMap_Initialized</td>\n",
       "    </tr>\n",
       "    <tr>\n",
       "      <th>9</th>\n",
       "      <td>110000.0</td>\n",
       "      <td>LinkedHashMap</td>\n",
       "      <td>10.92</td>\n",
       "      <td>HashMap_Initialized</td>\n",
       "    </tr>\n",
       "    <tr>\n",
       "      <th>10</th>\n",
       "      <td>110000.0</td>\n",
       "      <td>LinkedHashMap_Initialized</td>\n",
       "      <td>11.51</td>\n",
       "      <td>HashMap_Initialized</td>\n",
       "    </tr>\n",
       "    <tr>\n",
       "      <th>11</th>\n",
       "      <td>110000.0</td>\n",
       "      <td>TreeMap</td>\n",
       "      <td>79.82</td>\n",
       "      <td>HashMap_Initialized</td>\n",
       "    </tr>\n",
       "    <tr>\n",
       "      <th>13</th>\n",
       "      <td>120000.0</td>\n",
       "      <td>HashMap</td>\n",
       "      <td>14.53</td>\n",
       "      <td>LinkedHashMap_Initialized</td>\n",
       "    </tr>\n",
       "    <tr>\n",
       "      <th>14</th>\n",
       "      <td>120000.0</td>\n",
       "      <td>HashMap_Initialized</td>\n",
       "      <td>13.12</td>\n",
       "      <td>LinkedHashMap_Initialized</td>\n",
       "    </tr>\n",
       "    <tr>\n",
       "      <th>15</th>\n",
       "      <td>120000.0</td>\n",
       "      <td>LinkedHashMap</td>\n",
       "      <td>18.84</td>\n",
       "      <td>LinkedHashMap_Initialized</td>\n",
       "    </tr>\n",
       "    <tr>\n",
       "      <th>16</th>\n",
       "      <td>120000.0</td>\n",
       "      <td>LinkedHashMap_Initialized</td>\n",
       "      <td>7.64</td>\n",
       "      <td>LinkedHashMap_Initialized</td>\n",
       "    </tr>\n",
       "    <tr>\n",
       "      <th>17</th>\n",
       "      <td>120000.0</td>\n",
       "      <td>TreeMap</td>\n",
       "      <td>57.37</td>\n",
       "      <td>LinkedHashMap_Initialized</td>\n",
       "    </tr>\n",
       "    <tr>\n",
       "      <th>19</th>\n",
       "      <td>130000.0</td>\n",
       "      <td>HashMap</td>\n",
       "      <td>14.75</td>\n",
       "      <td>LinkedHashMap_Initialized</td>\n",
       "    </tr>\n",
       "    <tr>\n",
       "      <th>20</th>\n",
       "      <td>130000.0</td>\n",
       "      <td>HashMap_Initialized</td>\n",
       "      <td>13.05</td>\n",
       "      <td>LinkedHashMap_Initialized</td>\n",
       "    </tr>\n",
       "    <tr>\n",
       "      <th>21</th>\n",
       "      <td>130000.0</td>\n",
       "      <td>LinkedHashMap</td>\n",
       "      <td>28.86</td>\n",
       "      <td>LinkedHashMap_Initialized</td>\n",
       "    </tr>\n",
       "    <tr>\n",
       "      <th>22</th>\n",
       "      <td>130000.0</td>\n",
       "      <td>LinkedHashMap_Initialized</td>\n",
       "      <td>6.38</td>\n",
       "      <td>LinkedHashMap_Initialized</td>\n",
       "    </tr>\n",
       "    <tr>\n",
       "      <th>23</th>\n",
       "      <td>130000.0</td>\n",
       "      <td>TreeMap</td>\n",
       "      <td>67.86</td>\n",
       "      <td>LinkedHashMap_Initialized</td>\n",
       "    </tr>\n",
       "  </tbody>\n",
       "</table>\n",
       "</div>"
      ],
      "text/plain": [
       "    NumberOfIntegers              DataStructure  put()  \\\n",
       "1           100000.0                    HashMap  16.32   \n",
       "2           100000.0        HashMap_Initialized   5.07   \n",
       "3           100000.0              LinkedHashMap  11.61   \n",
       "4           100000.0  LinkedHashMap_Initialized  10.98   \n",
       "5           100000.0                    TreeMap  46.77   \n",
       "7           110000.0                    HashMap   9.97   \n",
       "8           110000.0        HashMap_Initialized   7.15   \n",
       "9           110000.0              LinkedHashMap  10.92   \n",
       "10          110000.0  LinkedHashMap_Initialized  11.51   \n",
       "11          110000.0                    TreeMap  79.82   \n",
       "13          120000.0                    HashMap  14.53   \n",
       "14          120000.0        HashMap_Initialized  13.12   \n",
       "15          120000.0              LinkedHashMap  18.84   \n",
       "16          120000.0  LinkedHashMap_Initialized   7.64   \n",
       "17          120000.0                    TreeMap  57.37   \n",
       "19          130000.0                    HashMap  14.75   \n",
       "20          130000.0        HashMap_Initialized  13.05   \n",
       "21          130000.0              LinkedHashMap  28.86   \n",
       "22          130000.0  LinkedHashMap_Initialized   6.38   \n",
       "23          130000.0                    TreeMap  67.86   \n",
       "\n",
       "                     ds_put()  \n",
       "1         HashMap_Initialized  \n",
       "2         HashMap_Initialized  \n",
       "3         HashMap_Initialized  \n",
       "4         HashMap_Initialized  \n",
       "5         HashMap_Initialized  \n",
       "7         HashMap_Initialized  \n",
       "8         HashMap_Initialized  \n",
       "9         HashMap_Initialized  \n",
       "10        HashMap_Initialized  \n",
       "11        HashMap_Initialized  \n",
       "13  LinkedHashMap_Initialized  \n",
       "14  LinkedHashMap_Initialized  \n",
       "15  LinkedHashMap_Initialized  \n",
       "16  LinkedHashMap_Initialized  \n",
       "17  LinkedHashMap_Initialized  \n",
       "19  LinkedHashMap_Initialized  \n",
       "20  LinkedHashMap_Initialized  \n",
       "21  LinkedHashMap_Initialized  \n",
       "22  LinkedHashMap_Initialized  \n",
       "23  LinkedHashMap_Initialized  "
      ]
     },
     "execution_count": 14,
     "metadata": {},
     "output_type": "execute_result"
    }
   ],
   "source": [
    "split_dfs[0:1][0].head(20)"
   ]
  },
  {
   "cell_type": "markdown",
   "id": "9675d4ef",
   "metadata": {},
   "source": [
    "## Add a dataframe into a ms word table with docx"
   ]
  },
  {
   "cell_type": "code",
   "execution_count": 15,
   "id": "a60d84be",
   "metadata": {},
   "outputs": [],
   "source": [
    "import docx\n",
    "\n",
    "table_df = split_dfs[0:1][0].head(20)\n",
    "\n",
    "doc = docx.Document()\n",
    "\n",
    "t = doc.add_table(table_df.shape[0]+1, table_df.shape[1])\n",
    "\n",
    "for j in range(table_df.shape[-1]):\n",
    "    t.cell(0,j).text = table_df.columns[j]\n",
    "    \n",
    "for i in range(table_df.shape[0]):\n",
    "    for j in range(table_df.shape[-1]):\n",
    "        t.cell(i+1,j).text = str(table_df.values[i,j])\n",
    "        \n",
    "doc.save('./data/pd_df_map_put_table.docx')"
   ]
  },
  {
   "cell_type": "markdown",
   "id": "2e7a0d0c",
   "metadata": {},
   "source": [
    "## Classification"
   ]
  },
  {
   "cell_type": "markdown",
   "id": "ea1a3046",
   "metadata": {},
   "source": [
    "### Method to get the trained model info"
   ]
  },
  {
   "cell_type": "code",
   "execution_count": 16,
   "id": "c2454337",
   "metadata": {},
   "outputs": [],
   "source": [
    "import sklearn.metrics as metrics\n",
    "\n",
    "def print_model_performance(model, X_test, y_test):\n",
    "    y_pred = model.predict(X_test)\n",
    "    print('Accuracy score:\\n', metrics.accuracy_score(y_test, y_pred))\n",
    "    print('Confusion matrix:\\n', metrics.confusion_matrix(y_test, y_pred))\n",
    "    print('Classification report:\\n', metrics.classification_report(y_test, y_pred, digits=4))\n",
    "    print('Precision:\\n',metrics.precision_score(y_test, y_pred, average=None))\n",
    "    print('Recall:\\n',metrics.recall_score(y_test, y_pred, average=None))"
   ]
  },
  {
   "cell_type": "markdown",
   "id": "32a45394",
   "metadata": {},
   "source": [
    "### Encode the 'DataStructure' column"
   ]
  },
  {
   "cell_type": "code",
   "execution_count": 17,
   "id": "2a38abde",
   "metadata": {},
   "outputs": [],
   "source": [
    "# encoding data structures so it can be used as an input parameter\n",
    "ds_encode_dic = {\"HashMap\": 0, \"HashMap_Initialized\": 1, \"LinkedHashMap\": 2, \"LinkedHashMap_Initialized\": 3, \"TreeMap\": 4}\n",
    "\n",
    "split_dfs = [df.replace({\"DataStructure\": ds_encode_dic}) for df in split_dfs]\n",
    "# split_dfs = [df.replace({new_cols[i]: ds_encode_dic}) for i, df in enumerate(split_dfs)]"
   ]
  },
  {
   "cell_type": "code",
   "execution_count": 18,
   "id": "d6ab14ab",
   "metadata": {},
   "outputs": [
    {
     "data": {
      "text/html": [
       "<div>\n",
       "<style scoped>\n",
       "    .dataframe tbody tr th:only-of-type {\n",
       "        vertical-align: middle;\n",
       "    }\n",
       "\n",
       "    .dataframe tbody tr th {\n",
       "        vertical-align: top;\n",
       "    }\n",
       "\n",
       "    .dataframe thead th {\n",
       "        text-align: right;\n",
       "    }\n",
       "</style>\n",
       "<table border=\"1\" class=\"dataframe\">\n",
       "  <thead>\n",
       "    <tr style=\"text-align: right;\">\n",
       "      <th></th>\n",
       "      <th>NumberOfIntegers</th>\n",
       "      <th>DataStructure</th>\n",
       "      <th>put()</th>\n",
       "      <th>ds_put()</th>\n",
       "    </tr>\n",
       "  </thead>\n",
       "  <tbody>\n",
       "    <tr>\n",
       "      <th>1</th>\n",
       "      <td>100000.0</td>\n",
       "      <td>0</td>\n",
       "      <td>16.32</td>\n",
       "      <td>HashMap_Initialized</td>\n",
       "    </tr>\n",
       "    <tr>\n",
       "      <th>2</th>\n",
       "      <td>100000.0</td>\n",
       "      <td>1</td>\n",
       "      <td>5.07</td>\n",
       "      <td>HashMap_Initialized</td>\n",
       "    </tr>\n",
       "    <tr>\n",
       "      <th>3</th>\n",
       "      <td>100000.0</td>\n",
       "      <td>2</td>\n",
       "      <td>11.61</td>\n",
       "      <td>HashMap_Initialized</td>\n",
       "    </tr>\n",
       "    <tr>\n",
       "      <th>4</th>\n",
       "      <td>100000.0</td>\n",
       "      <td>3</td>\n",
       "      <td>10.98</td>\n",
       "      <td>HashMap_Initialized</td>\n",
       "    </tr>\n",
       "    <tr>\n",
       "      <th>5</th>\n",
       "      <td>100000.0</td>\n",
       "      <td>4</td>\n",
       "      <td>46.77</td>\n",
       "      <td>HashMap_Initialized</td>\n",
       "    </tr>\n",
       "    <tr>\n",
       "      <th>7</th>\n",
       "      <td>110000.0</td>\n",
       "      <td>0</td>\n",
       "      <td>9.97</td>\n",
       "      <td>HashMap_Initialized</td>\n",
       "    </tr>\n",
       "    <tr>\n",
       "      <th>8</th>\n",
       "      <td>110000.0</td>\n",
       "      <td>1</td>\n",
       "      <td>7.15</td>\n",
       "      <td>HashMap_Initialized</td>\n",
       "    </tr>\n",
       "    <tr>\n",
       "      <th>9</th>\n",
       "      <td>110000.0</td>\n",
       "      <td>2</td>\n",
       "      <td>10.92</td>\n",
       "      <td>HashMap_Initialized</td>\n",
       "    </tr>\n",
       "    <tr>\n",
       "      <th>10</th>\n",
       "      <td>110000.0</td>\n",
       "      <td>3</td>\n",
       "      <td>11.51</td>\n",
       "      <td>HashMap_Initialized</td>\n",
       "    </tr>\n",
       "    <tr>\n",
       "      <th>11</th>\n",
       "      <td>110000.0</td>\n",
       "      <td>4</td>\n",
       "      <td>79.82</td>\n",
       "      <td>HashMap_Initialized</td>\n",
       "    </tr>\n",
       "  </tbody>\n",
       "</table>\n",
       "</div>"
      ],
      "text/plain": [
       "    NumberOfIntegers  DataStructure  put()             ds_put()\n",
       "1           100000.0              0  16.32  HashMap_Initialized\n",
       "2           100000.0              1   5.07  HashMap_Initialized\n",
       "3           100000.0              2  11.61  HashMap_Initialized\n",
       "4           100000.0              3  10.98  HashMap_Initialized\n",
       "5           100000.0              4  46.77  HashMap_Initialized\n",
       "7           110000.0              0   9.97  HashMap_Initialized\n",
       "8           110000.0              1   7.15  HashMap_Initialized\n",
       "9           110000.0              2  10.92  HashMap_Initialized\n",
       "10          110000.0              3  11.51  HashMap_Initialized\n",
       "11          110000.0              4  79.82  HashMap_Initialized"
      ]
     },
     "execution_count": 18,
     "metadata": {},
     "output_type": "execute_result"
    }
   ],
   "source": [
    "split_dfs[0:1][0].head(10)"
   ]
  },
  {
   "cell_type": "code",
   "execution_count": 21,
   "id": "d7f02c48",
   "metadata": {
    "scrolled": true
   },
   "outputs": [
    {
     "name": "stdout",
     "output_type": "stream",
     "text": [
      "(350, 4)\n",
      "3\n"
     ]
    }
   ],
   "source": [
    "print(split_dfs[0:1][0].shape)\n",
    "\n",
    "num_of_classes = len(split_dfs[0:1][0]['ds_put()'].unique())\n",
    "print(num_of_classes)"
   ]
  },
  {
   "cell_type": "markdown",
   "id": "d06554e1",
   "metadata": {},
   "source": [
    "### split train input and output data"
   ]
  },
  {
   "cell_type": "code",
   "execution_count": 22,
   "id": "d8b48c00",
   "metadata": {
    "scrolled": true
   },
   "outputs": [],
   "source": [
    "# split train input and output data\n",
    "Xs = []\n",
    "Ys = []\n",
    "\n",
    "for i, df in enumerate(split_dfs):\n",
    "    Xs.append(df.drop(axis=0, columns=[new_cols[i]]))\n",
    "    Ys.append(df[new_cols[i]])"
   ]
  },
  {
   "cell_type": "markdown",
   "id": "5c8e3481",
   "metadata": {},
   "source": [
    "## Xgboost classifier"
   ]
  },
  {
   "cell_type": "code",
   "execution_count": 33,
   "id": "148a086d",
   "metadata": {
    "scrolled": false
   },
   "outputs": [
    {
     "name": "stderr",
     "output_type": "stream",
     "text": [
      "/home/janithahn/anaconda3/envs/ml/lib/python3.8/site-packages/xgboost/sklearn.py:1224: UserWarning: The use of label encoder in XGBClassifier is deprecated and will be removed in a future release. To remove this warning, do the following: 1) Pass option use_label_encoder=False when constructing XGBClassifier object; and 2) Encode your labels (y) as integers starting with 0, i.e. 0, 1, 2, ..., [num_class - 1].\n",
      "  warnings.warn(label_encoder_deprecation_msg, UserWarning)\n"
     ]
    },
    {
     "name": "stdout",
     "output_type": "stream",
     "text": [
      "\n",
      "--------------------------ds_put()--------------------------\n",
      "Accuracy score:\n",
      " 0.9051724137931034\n",
      "Confusion matrix:\n",
      " [[ 3  4  0]\n",
      " [ 3 92  3]\n",
      " [ 0  1 10]]\n",
      "Classification report:\n",
      "                            precision    recall  f1-score   support\n",
      "\n",
      "                  HashMap     0.5000    0.4286    0.4615         7\n",
      "      HashMap_Initialized     0.9485    0.9388    0.9436        98\n",
      "LinkedHashMap_Initialized     0.7692    0.9091    0.8333        11\n",
      "\n",
      "                 accuracy                         0.9052       116\n",
      "                macro avg     0.7392    0.7588    0.7462       116\n",
      "             weighted avg     0.9044    0.9052    0.9040       116\n",
      "\n",
      "Precision:\n",
      " [0.5        0.94845361 0.76923077]\n",
      "Recall:\n",
      " [0.42857143 0.93877551 0.90909091]\n",
      "----------------------------------------------------------------\n"
     ]
    },
    {
     "name": "stderr",
     "output_type": "stream",
     "text": [
      "/home/janithahn/anaconda3/envs/ml/lib/python3.8/site-packages/xgboost/sklearn.py:1224: UserWarning: The use of label encoder in XGBClassifier is deprecated and will be removed in a future release. To remove this warning, do the following: 1) Pass option use_label_encoder=False when constructing XGBClassifier object; and 2) Encode your labels (y) as integers starting with 0, i.e. 0, 1, 2, ..., [num_class - 1].\n",
      "  warnings.warn(label_encoder_deprecation_msg, UserWarning)\n"
     ]
    },
    {
     "name": "stdout",
     "output_type": "stream",
     "text": [
      "\n",
      "--------------------------ds_replace()--------------------------\n",
      "Accuracy score:\n",
      " 0.8620689655172413\n",
      "Confusion matrix:\n",
      " [[25  0  0  1]\n",
      " [ 2 41  1  2]\n",
      " [ 0  0 17  1]\n",
      " [ 3  6  0 17]]\n",
      "Classification report:\n",
      "                            precision    recall  f1-score   support\n",
      "\n",
      "                  HashMap     0.8333    0.9615    0.8929        26\n",
      "      HashMap_Initialized     0.8723    0.8913    0.8817        46\n",
      "            LinkedHashMap     0.9444    0.9444    0.9444        18\n",
      "LinkedHashMap_Initialized     0.8095    0.6538    0.7234        26\n",
      "\n",
      "                 accuracy                         0.8621       116\n",
      "                macro avg     0.8649    0.8628    0.8606       116\n",
      "             weighted avg     0.8607    0.8621    0.8585       116\n",
      "\n",
      "Precision:\n",
      " [0.83333333 0.87234043 0.94444444 0.80952381]\n",
      "Recall:\n",
      " [0.96153846 0.89130435 0.94444444 0.65384615]\n",
      "----------------------------------------------------------------\n"
     ]
    },
    {
     "name": "stderr",
     "output_type": "stream",
     "text": [
      "/home/janithahn/anaconda3/envs/ml/lib/python3.8/site-packages/xgboost/sklearn.py:1224: UserWarning: The use of label encoder in XGBClassifier is deprecated and will be removed in a future release. To remove this warning, do the following: 1) Pass option use_label_encoder=False when constructing XGBClassifier object; and 2) Encode your labels (y) as integers starting with 0, i.e. 0, 1, 2, ..., [num_class - 1].\n",
      "  warnings.warn(label_encoder_deprecation_msg, UserWarning)\n"
     ]
    },
    {
     "name": "stdout",
     "output_type": "stream",
     "text": [
      "\n",
      "--------------------------ds_containsKey()--------------------------\n",
      "Accuracy score:\n",
      " 0.896551724137931\n",
      "Confusion matrix:\n",
      " [[25  1  0  0]\n",
      " [ 4 43  0  0]\n",
      " [ 0  3 16  1]\n",
      " [ 2  0  1 20]]\n",
      "Classification report:\n",
      "                            precision    recall  f1-score   support\n",
      "\n",
      "                  HashMap     0.8065    0.9615    0.8772        26\n",
      "      HashMap_Initialized     0.9149    0.9149    0.9149        47\n",
      "            LinkedHashMap     0.9412    0.8000    0.8649        20\n",
      "LinkedHashMap_Initialized     0.9524    0.8696    0.9091        23\n",
      "\n",
      "                 accuracy                         0.8966       116\n",
      "                macro avg     0.9037    0.8865    0.8915       116\n",
      "             weighted avg     0.9026    0.8966    0.8967       116\n",
      "\n",
      "Precision:\n",
      " [0.80645161 0.91489362 0.94117647 0.95238095]\n",
      "Recall:\n",
      " [0.96153846 0.91489362 0.8        0.86956522]\n",
      "----------------------------------------------------------------\n"
     ]
    },
    {
     "name": "stderr",
     "output_type": "stream",
     "text": [
      "/home/janithahn/anaconda3/envs/ml/lib/python3.8/site-packages/xgboost/sklearn.py:1224: UserWarning: The use of label encoder in XGBClassifier is deprecated and will be removed in a future release. To remove this warning, do the following: 1) Pass option use_label_encoder=False when constructing XGBClassifier object; and 2) Encode your labels (y) as integers starting with 0, i.e. 0, 1, 2, ..., [num_class - 1].\n",
      "  warnings.warn(label_encoder_deprecation_msg, UserWarning)\n"
     ]
    },
    {
     "name": "stdout",
     "output_type": "stream",
     "text": [
      "\n",
      "--------------------------ds_containsValue()--------------------------\n",
      "Accuracy score:\n",
      " 0.9741379310344828\n",
      "Confusion matrix:\n",
      " [[40  3]\n",
      " [ 0 73]]\n",
      "Classification report:\n",
      "                            precision    recall  f1-score   support\n",
      "\n",
      "            LinkedHashMap     1.0000    0.9302    0.9639        43\n",
      "LinkedHashMap_Initialized     0.9605    1.0000    0.9799        73\n",
      "\n",
      "                 accuracy                         0.9741       116\n",
      "                macro avg     0.9803    0.9651    0.9719       116\n",
      "             weighted avg     0.9752    0.9741    0.9739       116\n",
      "\n",
      "Precision:\n",
      " [1.         0.96052632]\n",
      "Recall:\n",
      " [0.93023256 1.        ]\n",
      "----------------------------------------------------------------\n"
     ]
    },
    {
     "name": "stderr",
     "output_type": "stream",
     "text": [
      "/home/janithahn/anaconda3/envs/ml/lib/python3.8/site-packages/xgboost/sklearn.py:1224: UserWarning: The use of label encoder in XGBClassifier is deprecated and will be removed in a future release. To remove this warning, do the following: 1) Pass option use_label_encoder=False when constructing XGBClassifier object; and 2) Encode your labels (y) as integers starting with 0, i.e. 0, 1, 2, ..., [num_class - 1].\n",
      "  warnings.warn(label_encoder_deprecation_msg, UserWarning)\n"
     ]
    },
    {
     "name": "stdout",
     "output_type": "stream",
     "text": [
      "\n",
      "--------------------------ds_get()--------------------------\n",
      "Accuracy score:\n",
      " 0.9482758620689655\n",
      "Confusion matrix:\n",
      " [[51  3  0  0]\n",
      " [ 1 42  0  0]\n",
      " [ 0  1  3  0]\n",
      " [ 0  1  0 14]]\n",
      "Classification report:\n",
      "                            precision    recall  f1-score   support\n",
      "\n",
      "                  HashMap     0.9808    0.9444    0.9623        54\n",
      "      HashMap_Initialized     0.8936    0.9767    0.9333        43\n",
      "            LinkedHashMap     1.0000    0.7500    0.8571         4\n",
      "LinkedHashMap_Initialized     1.0000    0.9333    0.9655        15\n",
      "\n",
      "                 accuracy                         0.9483       116\n",
      "                macro avg     0.9686    0.9011    0.9296       116\n",
      "             weighted avg     0.9516    0.9483    0.9483       116\n",
      "\n",
      "Precision:\n",
      " [0.98076923 0.89361702 1.         1.        ]\n",
      "Recall:\n",
      " [0.94444444 0.97674419 0.75       0.93333333]\n",
      "----------------------------------------------------------------\n"
     ]
    },
    {
     "name": "stderr",
     "output_type": "stream",
     "text": [
      "/home/janithahn/anaconda3/envs/ml/lib/python3.8/site-packages/xgboost/sklearn.py:1224: UserWarning: The use of label encoder in XGBClassifier is deprecated and will be removed in a future release. To remove this warning, do the following: 1) Pass option use_label_encoder=False when constructing XGBClassifier object; and 2) Encode your labels (y) as integers starting with 0, i.e. 0, 1, 2, ..., [num_class - 1].\n",
      "  warnings.warn(label_encoder_deprecation_msg, UserWarning)\n"
     ]
    },
    {
     "name": "stdout",
     "output_type": "stream",
     "text": [
      "\n",
      "--------------------------ds_remove()--------------------------\n",
      "Accuracy score:\n",
      " 0.896551724137931\n",
      "Confusion matrix:\n",
      " [[32  4  0  0]\n",
      " [ 4 67  0  0]\n",
      " [ 0  3  0  0]\n",
      " [ 0  1  0  5]]\n",
      "Classification report:\n",
      "                            precision    recall  f1-score   support\n",
      "\n",
      "                  HashMap     0.8889    0.8889    0.8889        36\n",
      "      HashMap_Initialized     0.8933    0.9437    0.9178        71\n",
      "            LinkedHashMap     0.0000    0.0000    0.0000         3\n",
      "LinkedHashMap_Initialized     1.0000    0.8333    0.9091         6\n",
      "\n",
      "                 accuracy                         0.8966       116\n",
      "                macro avg     0.6956    0.6665    0.6789       116\n",
      "             weighted avg     0.8744    0.8966    0.8846       116\n",
      "\n",
      "Precision:\n",
      " [0.88888889 0.89333333 0.         1.        ]\n",
      "Recall:\n",
      " [0.88888889 0.94366197 0.         0.83333333]\n",
      "----------------------------------------------------------------\n"
     ]
    },
    {
     "name": "stderr",
     "output_type": "stream",
     "text": [
      "/home/janithahn/anaconda3/envs/ml/lib/python3.8/site-packages/sklearn/metrics/_classification.py:1248: UndefinedMetricWarning: Precision and F-score are ill-defined and being set to 0.0 in labels with no predicted samples. Use `zero_division` parameter to control this behavior.\n",
      "  _warn_prf(average, modifier, msg_start, len(result))\n",
      "/home/janithahn/anaconda3/envs/ml/lib/python3.8/site-packages/sklearn/metrics/_classification.py:1248: UndefinedMetricWarning: Precision and F-score are ill-defined and being set to 0.0 in labels with no predicted samples. Use `zero_division` parameter to control this behavior.\n",
      "  _warn_prf(average, modifier, msg_start, len(result))\n",
      "/home/janithahn/anaconda3/envs/ml/lib/python3.8/site-packages/sklearn/metrics/_classification.py:1248: UndefinedMetricWarning: Precision and F-score are ill-defined and being set to 0.0 in labels with no predicted samples. Use `zero_division` parameter to control this behavior.\n",
      "  _warn_prf(average, modifier, msg_start, len(result))\n",
      "/home/janithahn/anaconda3/envs/ml/lib/python3.8/site-packages/sklearn/metrics/_classification.py:1248: UndefinedMetricWarning: Precision is ill-defined and being set to 0.0 in labels with no predicted samples. Use `zero_division` parameter to control this behavior.\n",
      "  _warn_prf(average, modifier, msg_start, len(result))\n"
     ]
    }
   ],
   "source": [
    "from xgboost import XGBClassifier\n",
    "from sklearn.tree import DecisionTreeClassifier\n",
    "from sklearn.model_selection import train_test_split\n",
    "\n",
    "model_dic = {}\n",
    "\n",
    "for X, Y, col_name in zip(Xs, Ys, new_cols):\n",
    "    # Split into training and test sets\n",
    "    X_train, X_test, y_train, y_test = train_test_split(X, Y, test_size=0.33, random_state=1)\n",
    "    \n",
    "    # Create a classifier\n",
    "    xgb = XGBClassifier(\n",
    "                          booster='gbtree', \n",
    "                          objective='multi:softprob', \n",
    "                          random_state=1, \n",
    "                          eval_metric=\"auc\", \n",
    "                          num_class=num_of_classes,\n",
    "                          # n_estimators=2000\n",
    "                          # use_label_encoder=False\n",
    "                        )\n",
    "\n",
    "    # define the datasets to evaluate each iteration\n",
    "    evalset = [(X_train, y_train), (X_test, y_test)]\n",
    "\n",
    "    # Fit the classifier with the training data\n",
    "    xgb.fit(X_train, y_train, eval_metric=['merror','mlogloss'], eval_set=evalset, verbose=False)\n",
    "    \n",
    "    model_dic[col_name] = xgb\n",
    "\n",
    "    print('\\n--------------------------' + col_name + '--------------------------')\n",
    "    print_model_performance(xgb, X_test, y_test)\n",
    "    print('----------------------------------------------------------------')"
   ]
  },
  {
   "cell_type": "markdown",
   "id": "4959ff9e",
   "metadata": {},
   "source": [
    "## Learning curves"
   ]
  },
  {
   "cell_type": "code",
   "execution_count": 34,
   "id": "f10402bf",
   "metadata": {},
   "outputs": [
    {
     "name": "stdout",
     "output_type": "stream",
     "text": [
      "\n",
      "--------------------------ds_put()--------------------------\n"
     ]
    },
    {
     "data": {
      "image/png": "[encoded data removed]",
      "text/plain": [
       "<Figure size 432x288 with 1 Axes>"
      ]
     },
     "metadata": {
      "needs_background": "light"
     },
     "output_type": "display_data"
    },
    {
     "name": "stdout",
     "output_type": "stream",
     "text": [
      "\n",
      "--------------------------ds_replace()--------------------------\n"
     ]
    },
    {
     "data": {
      "image/png": "[encoded data removed]",
      "text/plain": [
       "<Figure size 432x288 with 1 Axes>"
      ]
     },
     "metadata": {
      "needs_background": "light"
     },
     "output_type": "display_data"
    },
    {
     "name": "stdout",
     "output_type": "stream",
     "text": [
      "\n",
      "--------------------------ds_containsKey()--------------------------\n"
     ]
    },
    {
     "data": {
      "image/png": "[encoded data removed]",
      "text/plain": [
       "<Figure size 432x288 with 1 Axes>"
      ]
     },
     "metadata": {
      "needs_background": "light"
     },
     "output_type": "display_data"
    },
    {
     "name": "stdout",
     "output_type": "stream",
     "text": [
      "\n",
      "--------------------------ds_containsValue()--------------------------\n"
     ]
    },
    {
     "data": {
      "image/png": "[encoded data removed]",
      "text/plain": [
       "<Figure size 432x288 with 1 Axes>"
      ]
     },
     "metadata": {
      "needs_background": "light"
     },
     "output_type": "display_data"
    },
    {
     "name": "stdout",
     "output_type": "stream",
     "text": [
      "\n",
      "--------------------------ds_get()--------------------------\n"
     ]
    },
    {
     "data": {
      "image/png": "[encoded data removed]",
      "text/plain": [
       "<Figure size 432x288 with 1 Axes>"
      ]
     },
     "metadata": {
      "needs_background": "light"
     },
     "output_type": "display_data"
    },
    {
     "name": "stdout",
     "output_type": "stream",
     "text": [
      "\n",
      "--------------------------ds_remove()--------------------------\n"
     ]
    },
    {
     "data": {
      "image/png": "[encoded data removed]",
      "text/plain": [
       "<Figure size 432x288 with 1 Axes>"
      ]
     },
     "metadata": {
      "needs_background": "light"
     },
     "output_type": "display_data"
    }
   ],
   "source": [
    "for key, model in model_dic.items():\n",
    "    print('\\n--------------------------' + key + '--------------------------')\n",
    "    \n",
    "    # retrieve performance metrics\n",
    "    results = model.evals_result()\n",
    "\n",
    "    # plot learning curves\n",
    "    plt.plot(results['validation_0']['mlogloss'], label='train')\n",
    "    plt.plot(results['validation_1']['mlogloss'], label='test')\n",
    "    # show the legend\n",
    "    plt.legend()\n",
    "    # show the plot\n",
    "    plt.show()"
   ]
  },
  {
   "cell_type": "code",
   "execution_count": 46,
   "id": "a5ecb909",
   "metadata": {
    "scrolled": true
   },
   "outputs": [],
   "source": [
    "# for key, model in model_dic.items():\n",
    "#     print('\\n--------------------------' + key + '--------------------------')\n",
    "    \n",
    "#     # retrieve performance metrics\n",
    "#     results = model.evals_result()\n",
    "\n",
    "#     # plot learning curves\n",
    "#     plt.plot(results['validation_0']['merror'], label='train')\n",
    "#     plt.plot(results['validation_1']['merror'], label='test')\n",
    "#     # show the legend\n",
    "#     plt.legend()\n",
    "#     # show the plot\n",
    "#     plt.show()"
   ]
  },
  {
   "cell_type": "code",
   "execution_count": 47,
   "id": "8cf0c2f5",
   "metadata": {
    "scrolled": true
   },
   "outputs": [],
   "source": [
    "# from sklearn.metrics import roc_auc_score\n",
    "# from sklearn import preprocessing\n",
    "\n",
    "# # Use trained model to predict output of test dataset\n",
    "# val = xgb.predict(X_test)\n",
    "\n",
    "# lb = preprocessing.LabelBinarizer()\n",
    "# lb.fit(y_test)\n",
    "\n",
    "# y_test_lb = lb.transform(y_test)\n",
    "# val_lb = lb.transform(val)\n",
    "\n",
    "# roc_auc_score(y_test_lb, val_lb, average='macro')"
   ]
  },
  {
   "cell_type": "code",
   "execution_count": 67,
   "id": "771be5b3",
   "metadata": {
    "scrolled": true
   },
   "outputs": [
    {
     "name": "stdout",
     "output_type": "stream",
     "text": [
      "   NumberOfIntegers  DataStructure  insert()\n",
      "0          100000.0            NaN       NaN\n"
     ]
    },
    {
     "data": {
      "text/plain": [
       "array(['Vector_Initialized'], dtype=object)"
      ]
     },
     "execution_count": 67,
     "metadata": {},
     "output_type": "execute_result"
    }
   ],
   "source": [
    "row = pd.DataFrame(columns=['NumberOfIntegers', 'DataStructure', 'insert()'])\n",
    "row = row.append({\n",
    "    'NumberOfIntegers': 100000, \n",
    "    'DataStructure': None, \n",
    "    'insert()': None\n",
    "}, ignore_index = True)\n",
    "print(row)\n",
    "single_predict = model_dic['ds_insert()'].predict(row)\n",
    "single_predict"
   ]
  },
  {
   "cell_type": "markdown",
   "id": "f3817fbd",
   "metadata": {},
   "source": [
    "## Cross validation"
   ]
  },
  {
   "cell_type": "code",
   "execution_count": null,
   "id": "bfaab03e",
   "metadata": {
    "scrolled": false
   },
   "outputs": [],
   "source": [
    "X_test = Xs[0][1]\n",
    "y_test = Xs[0][3]\n",
    "\n",
    "val = model_dic['ds_insert()'].predict(X_test)\n",
    "\n",
    "output = pd.DataFrame()\n",
    "output['Expected Output'] = y_test\n",
    "output['Predicted Output'] = val\n",
    "output.head(20)"
   ]
  }
 ],
 "metadata": {
  "kernelspec": {
   "display_name": "Python 3 (ipykernel)",
   "language": "python",
   "name": "python3"
  },
  "language_info": {
   "codemirror_mode": {
    "name": "ipython",
    "version": 3
   },
   "file_extension": ".py",
   "mimetype": "text/x-python",
   "name": "python",
   "nbconvert_exporter": "python",
   "pygments_lexer": "ipython3",
   "version": "3.8.12"
  }
 },
 "nbformat": 4,
 "nbformat_minor": 5
}
