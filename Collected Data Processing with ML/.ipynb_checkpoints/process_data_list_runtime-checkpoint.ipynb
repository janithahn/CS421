{
 "cells": [
  {
   "cell_type": "code",
   "execution_count": 2,
   "id": "98a5ed7a",
   "metadata": {},
   "outputs": [],
   "source": [
    "import pandas as pd\n",
    "import seaborn as sns\n",
    "import numpy as np\n",
    "import matplotlib.pyplot as plt"
   ]
  },
  {
   "cell_type": "code",
   "execution_count": 8,
   "id": "23169c55",
   "metadata": {},
   "outputs": [],
   "source": [
    "pd.set_option(\"display.max.columns\", None)\n",
    "df = pd.read_csv('./data/runtime_200steps_with_ids.csv')"
   ]
  },
  {
   "cell_type": "code",
   "execution_count": 9,
   "id": "a57ec6ea",
   "metadata": {
    "scrolled": true
   },
   "outputs": [
    {
     "data": {
      "text/html": [
       "<div>\n",
       "<style scoped>\n",
       "    .dataframe tbody tr th:only-of-type {\n",
       "        vertical-align: middle;\n",
       "    }\n",
       "\n",
       "    .dataframe tbody tr th {\n",
       "        vertical-align: top;\n",
       "    }\n",
       "\n",
       "    .dataframe thead th {\n",
       "        text-align: right;\n",
       "    }\n",
       "</style>\n",
       "<table border=\"1\" class=\"dataframe\">\n",
       "  <thead>\n",
       "    <tr style=\"text-align: right;\">\n",
       "      <th></th>\n",
       "      <th>ID</th>\n",
       "      <th>NumberOfIntegers</th>\n",
       "      <th>DataStructure</th>\n",
       "      <th>insert()</th>\n",
       "      <th>insertAt()</th>\n",
       "      <th>contains()</th>\n",
       "      <th>indexOf()</th>\n",
       "      <th>get()</th>\n",
       "      <th>delete()</th>\n",
       "    </tr>\n",
       "  </thead>\n",
       "  <tbody>\n",
       "    <tr>\n",
       "      <th>0</th>\n",
       "      <td>0</td>\n",
       "      <td>100000</td>\n",
       "      <td>ArrayList</td>\n",
       "      <td>6.75</td>\n",
       "      <td>10.76</td>\n",
       "      <td>3.08</td>\n",
       "      <td>3.13</td>\n",
       "      <td>0.11</td>\n",
       "      <td>10.86</td>\n",
       "    </tr>\n",
       "    <tr>\n",
       "      <th>1</th>\n",
       "      <td>1</td>\n",
       "      <td>100000</td>\n",
       "      <td>ArrayList_Initialized</td>\n",
       "      <td>2.94</td>\n",
       "      <td>5.23</td>\n",
       "      <td>0.28</td>\n",
       "      <td>0.26</td>\n",
       "      <td>0.07</td>\n",
       "      <td>5.09</td>\n",
       "    </tr>\n",
       "    <tr>\n",
       "      <th>2</th>\n",
       "      <td>2</td>\n",
       "      <td>100000</td>\n",
       "      <td>LinkedList</td>\n",
       "      <td>8.39</td>\n",
       "      <td>1.57</td>\n",
       "      <td>2.80</td>\n",
       "      <td>0.84</td>\n",
       "      <td>1.50</td>\n",
       "      <td>0.17</td>\n",
       "    </tr>\n",
       "    <tr>\n",
       "      <th>3</th>\n",
       "      <td>3</td>\n",
       "      <td>100000</td>\n",
       "      <td>Vector</td>\n",
       "      <td>7.39</td>\n",
       "      <td>10.81</td>\n",
       "      <td>2.67</td>\n",
       "      <td>3.13</td>\n",
       "      <td>0.16</td>\n",
       "      <td>14.04</td>\n",
       "    </tr>\n",
       "    <tr>\n",
       "      <th>4</th>\n",
       "      <td>4</td>\n",
       "      <td>100000</td>\n",
       "      <td>Vector_Initialized</td>\n",
       "      <td>2.96</td>\n",
       "      <td>5.18</td>\n",
       "      <td>0.27</td>\n",
       "      <td>0.26</td>\n",
       "      <td>0.07</td>\n",
       "      <td>5.10</td>\n",
       "    </tr>\n",
       "    <tr>\n",
       "      <th>5</th>\n",
       "      <td>5</td>\n",
       "      <td>150000</td>\n",
       "      <td>ArrayList</td>\n",
       "      <td>5.44</td>\n",
       "      <td>12.70</td>\n",
       "      <td>0.62</td>\n",
       "      <td>0.62</td>\n",
       "      <td>0.12</td>\n",
       "      <td>12.77</td>\n",
       "    </tr>\n",
       "    <tr>\n",
       "      <th>6</th>\n",
       "      <td>6</td>\n",
       "      <td>150000</td>\n",
       "      <td>ArrayList_Initialized</td>\n",
       "      <td>4.16</td>\n",
       "      <td>12.73</td>\n",
       "      <td>0.61</td>\n",
       "      <td>0.60</td>\n",
       "      <td>0.12</td>\n",
       "      <td>12.76</td>\n",
       "    </tr>\n",
       "    <tr>\n",
       "      <th>7</th>\n",
       "      <td>7</td>\n",
       "      <td>150000</td>\n",
       "      <td>LinkedList</td>\n",
       "      <td>8.57</td>\n",
       "      <td>1.50</td>\n",
       "      <td>2.13</td>\n",
       "      <td>2.12</td>\n",
       "      <td>1.45</td>\n",
       "      <td>0.11</td>\n",
       "    </tr>\n",
       "    <tr>\n",
       "      <th>8</th>\n",
       "      <td>8</td>\n",
       "      <td>150000</td>\n",
       "      <td>Vector</td>\n",
       "      <td>4.90</td>\n",
       "      <td>11.94</td>\n",
       "      <td>1.00</td>\n",
       "      <td>0.73</td>\n",
       "      <td>0.15</td>\n",
       "      <td>11.99</td>\n",
       "    </tr>\n",
       "    <tr>\n",
       "      <th>9</th>\n",
       "      <td>9</td>\n",
       "      <td>150000</td>\n",
       "      <td>Vector_Initialized</td>\n",
       "      <td>1.74</td>\n",
       "      <td>12.37</td>\n",
       "      <td>0.54</td>\n",
       "      <td>0.57</td>\n",
       "      <td>0.10</td>\n",
       "      <td>11.47</td>\n",
       "    </tr>\n",
       "  </tbody>\n",
       "</table>\n",
       "</div>"
      ],
      "text/plain": [
       "   ID  NumberOfIntegers          DataStructure  insert()  insertAt()  \\\n",
       "0   0            100000              ArrayList      6.75       10.76   \n",
       "1   1            100000  ArrayList_Initialized      2.94        5.23   \n",
       "2   2            100000             LinkedList      8.39        1.57   \n",
       "3   3            100000                 Vector      7.39       10.81   \n",
       "4   4            100000     Vector_Initialized      2.96        5.18   \n",
       "5   5            150000              ArrayList      5.44       12.70   \n",
       "6   6            150000  ArrayList_Initialized      4.16       12.73   \n",
       "7   7            150000             LinkedList      8.57        1.50   \n",
       "8   8            150000                 Vector      4.90       11.94   \n",
       "9   9            150000     Vector_Initialized      1.74       12.37   \n",
       "\n",
       "   contains()  indexOf()  get()  delete()  \n",
       "0        3.08       3.13   0.11     10.86  \n",
       "1        0.28       0.26   0.07      5.09  \n",
       "2        2.80       0.84   1.50      0.17  \n",
       "3        2.67       3.13   0.16     14.04  \n",
       "4        0.27       0.26   0.07      5.10  \n",
       "5        0.62       0.62   0.12     12.77  \n",
       "6        0.61       0.60   0.12     12.76  \n",
       "7        2.13       2.12   1.45      0.11  \n",
       "8        1.00       0.73   0.15     11.99  \n",
       "9        0.54       0.57   0.10     11.47  "
      ]
     },
     "execution_count": 9,
     "metadata": {},
     "output_type": "execute_result"
    }
   ],
   "source": [
    "df.head(10)"
   ]
  },
  {
   "cell_type": "markdown",
   "id": "7dc510c1",
   "metadata": {},
   "source": [
    "### Grouping the values by NumberOfIntegers"
   ]
  },
  {
   "cell_type": "code",
   "execution_count": 10,
   "id": "fd37ac12",
   "metadata": {
    "scrolled": true
   },
   "outputs": [
    {
     "data": {
      "text/html": [
       "<div>\n",
       "<style scoped>\n",
       "    .dataframe tbody tr th:only-of-type {\n",
       "        vertical-align: middle;\n",
       "    }\n",
       "\n",
       "    .dataframe tbody tr th {\n",
       "        vertical-align: top;\n",
       "    }\n",
       "\n",
       "    .dataframe thead th {\n",
       "        text-align: right;\n",
       "    }\n",
       "</style>\n",
       "<table border=\"1\" class=\"dataframe\">\n",
       "  <thead>\n",
       "    <tr style=\"text-align: right;\">\n",
       "      <th></th>\n",
       "      <th></th>\n",
       "      <th>ID</th>\n",
       "      <th>NumberOfIntegers</th>\n",
       "      <th>DataStructure</th>\n",
       "      <th>insert()</th>\n",
       "      <th>insertAt()</th>\n",
       "      <th>contains()</th>\n",
       "      <th>indexOf()</th>\n",
       "      <th>get()</th>\n",
       "      <th>delete()</th>\n",
       "    </tr>\n",
       "    <tr>\n",
       "      <th>NumberOfIntegers</th>\n",
       "      <th></th>\n",
       "      <th></th>\n",
       "      <th></th>\n",
       "      <th></th>\n",
       "      <th></th>\n",
       "      <th></th>\n",
       "      <th></th>\n",
       "      <th></th>\n",
       "      <th></th>\n",
       "      <th></th>\n",
       "    </tr>\n",
       "  </thead>\n",
       "  <tbody>\n",
       "    <tr>\n",
       "      <th rowspan=\"5\" valign=\"top\">100000</th>\n",
       "      <th>0</th>\n",
       "      <td>0</td>\n",
       "      <td>100000</td>\n",
       "      <td>ArrayList</td>\n",
       "      <td>6.75</td>\n",
       "      <td>10.76</td>\n",
       "      <td>3.08</td>\n",
       "      <td>3.13</td>\n",
       "      <td>0.11</td>\n",
       "      <td>10.86</td>\n",
       "    </tr>\n",
       "    <tr>\n",
       "      <th>1</th>\n",
       "      <td>4</td>\n",
       "      <td>100000</td>\n",
       "      <td>Vector_Initialized</td>\n",
       "      <td>2.96</td>\n",
       "      <td>5.18</td>\n",
       "      <td>0.27</td>\n",
       "      <td>0.26</td>\n",
       "      <td>0.07</td>\n",
       "      <td>5.10</td>\n",
       "    </tr>\n",
       "    <tr>\n",
       "      <th>2</th>\n",
       "      <td>3</td>\n",
       "      <td>100000</td>\n",
       "      <td>Vector</td>\n",
       "      <td>7.39</td>\n",
       "      <td>10.81</td>\n",
       "      <td>2.67</td>\n",
       "      <td>3.13</td>\n",
       "      <td>0.16</td>\n",
       "      <td>14.04</td>\n",
       "    </tr>\n",
       "    <tr>\n",
       "      <th>3</th>\n",
       "      <td>2</td>\n",
       "      <td>100000</td>\n",
       "      <td>LinkedList</td>\n",
       "      <td>8.39</td>\n",
       "      <td>1.57</td>\n",
       "      <td>2.80</td>\n",
       "      <td>0.84</td>\n",
       "      <td>1.50</td>\n",
       "      <td>0.17</td>\n",
       "    </tr>\n",
       "    <tr>\n",
       "      <th>4</th>\n",
       "      <td>1</td>\n",
       "      <td>100000</td>\n",
       "      <td>ArrayList_Initialized</td>\n",
       "      <td>2.94</td>\n",
       "      <td>5.23</td>\n",
       "      <td>0.28</td>\n",
       "      <td>0.26</td>\n",
       "      <td>0.07</td>\n",
       "      <td>5.09</td>\n",
       "    </tr>\n",
       "    <tr>\n",
       "      <th rowspan=\"5\" valign=\"top\">150000</th>\n",
       "      <th>0</th>\n",
       "      <td>8</td>\n",
       "      <td>150000</td>\n",
       "      <td>Vector</td>\n",
       "      <td>4.90</td>\n",
       "      <td>11.94</td>\n",
       "      <td>1.00</td>\n",
       "      <td>0.73</td>\n",
       "      <td>0.15</td>\n",
       "      <td>11.99</td>\n",
       "    </tr>\n",
       "    <tr>\n",
       "      <th>1</th>\n",
       "      <td>5</td>\n",
       "      <td>150000</td>\n",
       "      <td>ArrayList</td>\n",
       "      <td>5.44</td>\n",
       "      <td>12.70</td>\n",
       "      <td>0.62</td>\n",
       "      <td>0.62</td>\n",
       "      <td>0.12</td>\n",
       "      <td>12.77</td>\n",
       "    </tr>\n",
       "    <tr>\n",
       "      <th>2</th>\n",
       "      <td>9</td>\n",
       "      <td>150000</td>\n",
       "      <td>Vector_Initialized</td>\n",
       "      <td>1.74</td>\n",
       "      <td>12.37</td>\n",
       "      <td>0.54</td>\n",
       "      <td>0.57</td>\n",
       "      <td>0.10</td>\n",
       "      <td>11.47</td>\n",
       "    </tr>\n",
       "    <tr>\n",
       "      <th>3</th>\n",
       "      <td>6</td>\n",
       "      <td>150000</td>\n",
       "      <td>ArrayList_Initialized</td>\n",
       "      <td>4.16</td>\n",
       "      <td>12.73</td>\n",
       "      <td>0.61</td>\n",
       "      <td>0.60</td>\n",
       "      <td>0.12</td>\n",
       "      <td>12.76</td>\n",
       "    </tr>\n",
       "    <tr>\n",
       "      <th>4</th>\n",
       "      <td>7</td>\n",
       "      <td>150000</td>\n",
       "      <td>LinkedList</td>\n",
       "      <td>8.57</td>\n",
       "      <td>1.50</td>\n",
       "      <td>2.13</td>\n",
       "      <td>2.12</td>\n",
       "      <td>1.45</td>\n",
       "      <td>0.11</td>\n",
       "    </tr>\n",
       "  </tbody>\n",
       "</table>\n",
       "</div>"
      ],
      "text/plain": [
       "                    ID  NumberOfIntegers          DataStructure  insert()  \\\n",
       "NumberOfIntegers                                                            \n",
       "100000           0   0            100000              ArrayList      6.75   \n",
       "                 1   4            100000     Vector_Initialized      2.96   \n",
       "                 2   3            100000                 Vector      7.39   \n",
       "                 3   2            100000             LinkedList      8.39   \n",
       "                 4   1            100000  ArrayList_Initialized      2.94   \n",
       "150000           0   8            150000                 Vector      4.90   \n",
       "                 1   5            150000              ArrayList      5.44   \n",
       "                 2   9            150000     Vector_Initialized      1.74   \n",
       "                 3   6            150000  ArrayList_Initialized      4.16   \n",
       "                 4   7            150000             LinkedList      8.57   \n",
       "\n",
       "                    insertAt()  contains()  indexOf()  get()  delete()  \n",
       "NumberOfIntegers                                                        \n",
       "100000           0       10.76        3.08       3.13   0.11     10.86  \n",
       "                 1        5.18        0.27       0.26   0.07      5.10  \n",
       "                 2       10.81        2.67       3.13   0.16     14.04  \n",
       "                 3        1.57        2.80       0.84   1.50      0.17  \n",
       "                 4        5.23        0.28       0.26   0.07      5.09  \n",
       "150000           0       11.94        1.00       0.73   0.15     11.99  \n",
       "                 1       12.70        0.62       0.62   0.12     12.77  \n",
       "                 2       12.37        0.54       0.57   0.10     11.47  \n",
       "                 3       12.73        0.61       0.60   0.12     12.76  \n",
       "                 4        1.50        2.13       2.12   1.45      0.11  "
      ]
     },
     "execution_count": 10,
     "metadata": {},
     "output_type": "execute_result"
    }
   ],
   "source": [
    "g = df.groupby('NumberOfIntegers')\n",
    "# g.apply(lambda x: x).head(10)\n",
    "g.apply(lambda x: x.sample(g.size().min()).reset_index(drop=True)).head(10)"
   ]
  },
  {
   "cell_type": "markdown",
   "id": "0586e5b8",
   "metadata": {},
   "source": [
    "### Taking the minmum value of the insert() column of each group"
   ]
  },
  {
   "cell_type": "code",
   "execution_count": 11,
   "id": "ff2f74b8",
   "metadata": {
    "scrolled": true
   },
   "outputs": [
    {
     "data": {
      "text/plain": [
       "NumberOfIntegers\n",
       "100000       2.94\n",
       "150000       1.74\n",
       "200000       2.13\n",
       "250000       1.72\n",
       "300000       4.32\n",
       "            ...  \n",
       "9850000     19.44\n",
       "9900000      8.42\n",
       "9950000     13.09\n",
       "10000000    11.57\n",
       "10050000     6.86\n",
       "Name: insert(), Length: 200, dtype: float64"
      ]
     },
     "execution_count": 11,
     "metadata": {},
     "output_type": "execute_result"
    }
   ],
   "source": [
    "df.groupby('NumberOfIntegers')['insert()'].min()"
   ]
  },
  {
   "cell_type": "markdown",
   "id": "3c252f11",
   "metadata": {},
   "source": [
    "### Viewing the entire rows of above values"
   ]
  },
  {
   "cell_type": "markdown",
   "id": "4bf83c9e",
   "metadata": {},
   "source": [
    "We need to take the minimum value of each column separately for each group, and consider it as the best data structure for that number of insert values. For example, below, we have considered the insert() column, and taken the minimum run-time for each group. The data structure that values belongs is the best data structure for that particular group in terms of insert() operation."
   ]
  },
  {
   "cell_type": "code",
   "execution_count": 30,
   "id": "34ce74fe",
   "metadata": {
    "scrolled": true
   },
   "outputs": [
    {
     "data": {
      "text/html": [
       "<div>\n",
       "<style scoped>\n",
       "    .dataframe tbody tr th:only-of-type {\n",
       "        vertical-align: middle;\n",
       "    }\n",
       "\n",
       "    .dataframe tbody tr th {\n",
       "        vertical-align: top;\n",
       "    }\n",
       "\n",
       "    .dataframe thead th {\n",
       "        text-align: right;\n",
       "    }\n",
       "</style>\n",
       "<table border=\"1\" class=\"dataframe\">\n",
       "  <thead>\n",
       "    <tr style=\"text-align: right;\">\n",
       "      <th></th>\n",
       "      <th>ID</th>\n",
       "      <th>DataStructure</th>\n",
       "      <th>insert()</th>\n",
       "    </tr>\n",
       "  </thead>\n",
       "  <tbody>\n",
       "    <tr>\n",
       "      <th>1</th>\n",
       "      <td>1</td>\n",
       "      <td>ArrayList_Initialized</td>\n",
       "      <td>2.94</td>\n",
       "    </tr>\n",
       "    <tr>\n",
       "      <th>9</th>\n",
       "      <td>9</td>\n",
       "      <td>Vector_Initialized</td>\n",
       "      <td>1.74</td>\n",
       "    </tr>\n",
       "    <tr>\n",
       "      <th>12</th>\n",
       "      <td>12</td>\n",
       "      <td>LinkedList</td>\n",
       "      <td>2.13</td>\n",
       "    </tr>\n",
       "    <tr>\n",
       "      <th>19</th>\n",
       "      <td>19</td>\n",
       "      <td>Vector_Initialized</td>\n",
       "      <td>1.72</td>\n",
       "    </tr>\n",
       "    <tr>\n",
       "      <th>21</th>\n",
       "      <td>21</td>\n",
       "      <td>ArrayList_Initialized</td>\n",
       "      <td>4.32</td>\n",
       "    </tr>\n",
       "    <tr>\n",
       "      <th>...</th>\n",
       "      <td>...</td>\n",
       "      <td>...</td>\n",
       "      <td>...</td>\n",
       "    </tr>\n",
       "    <tr>\n",
       "      <th>976</th>\n",
       "      <td>976</td>\n",
       "      <td>ArrayList_Initialized</td>\n",
       "      <td>19.44</td>\n",
       "    </tr>\n",
       "    <tr>\n",
       "      <th>981</th>\n",
       "      <td>981</td>\n",
       "      <td>ArrayList_Initialized</td>\n",
       "      <td>8.42</td>\n",
       "    </tr>\n",
       "    <tr>\n",
       "      <th>987</th>\n",
       "      <td>987</td>\n",
       "      <td>LinkedList</td>\n",
       "      <td>13.09</td>\n",
       "    </tr>\n",
       "    <tr>\n",
       "      <th>991</th>\n",
       "      <td>991</td>\n",
       "      <td>ArrayList_Initialized</td>\n",
       "      <td>11.57</td>\n",
       "    </tr>\n",
       "    <tr>\n",
       "      <th>997</th>\n",
       "      <td>997</td>\n",
       "      <td>LinkedList</td>\n",
       "      <td>6.86</td>\n",
       "    </tr>\n",
       "  </tbody>\n",
       "</table>\n",
       "<p>200 rows × 3 columns</p>\n",
       "</div>"
      ],
      "text/plain": [
       "      ID          DataStructure  insert()\n",
       "1      1  ArrayList_Initialized      2.94\n",
       "9      9     Vector_Initialized      1.74\n",
       "12    12             LinkedList      2.13\n",
       "19    19     Vector_Initialized      1.72\n",
       "21    21  ArrayList_Initialized      4.32\n",
       "..   ...                    ...       ...\n",
       "976  976  ArrayList_Initialized     19.44\n",
       "981  981  ArrayList_Initialized      8.42\n",
       "987  987             LinkedList     13.09\n",
       "991  991  ArrayList_Initialized     11.57\n",
       "997  997             LinkedList      6.86\n",
       "\n",
       "[200 rows x 3 columns]"
      ]
     },
     "execution_count": 30,
     "metadata": {},
     "output_type": "execute_result"
    }
   ],
   "source": [
    "df.loc[df.groupby('NumberOfIntegers')['insert()'].idxmin()][['ID', 'DataStructure', 'insert()']]"
   ]
  },
  {
   "cell_type": "markdown",
   "id": "2d682eb5",
   "metadata": {},
   "source": [
    "### Method that returns individual grouped dfs with min value of the relevant column"
   ]
  },
  {
   "cell_type": "code",
   "execution_count": 31,
   "id": "d2291fa0",
   "metadata": {},
   "outputs": [],
   "source": [
    "def get_min_dfs():\n",
    "    cols = ['insert()', 'insertAt()', 'contains()', 'indexOf()', 'get()', 'delete()']\n",
    "    return [df.loc[df.groupby('NumberOfIntegers')[col].idxmin()][['ID', 'NumberOfIntegers', 'DataStructure', col]] for col in cols]"
   ]
  },
  {
   "cell_type": "code",
   "execution_count": 32,
   "id": "97030c83",
   "metadata": {
    "scrolled": false
   },
   "outputs": [
    {
     "data": {
      "text/plain": [
       "[      ID  NumberOfIntegers          DataStructure  insert()\n",
       " 1      1            100000  ArrayList_Initialized      2.94\n",
       " 9      9            150000     Vector_Initialized      1.74\n",
       " 12    12            200000             LinkedList      2.13\n",
       " 19    19            250000     Vector_Initialized      1.72\n",
       " 21    21            300000  ArrayList_Initialized      4.32\n",
       " ..   ...               ...                    ...       ...\n",
       " 976  976           9850000  ArrayList_Initialized     19.44\n",
       " 981  981           9900000  ArrayList_Initialized      8.42\n",
       " 987  987           9950000             LinkedList     13.09\n",
       " 991  991          10000000  ArrayList_Initialized     11.57\n",
       " 997  997          10050000             LinkedList      6.86\n",
       " \n",
       " [200 rows x 4 columns],\n",
       "       ID  NumberOfIntegers DataStructure  insertAt()\n",
       " 2      2            100000    LinkedList        1.57\n",
       " 7      7            150000    LinkedList        1.50\n",
       " 12    12            200000    LinkedList        2.31\n",
       " 17    17            250000    LinkedList        3.95\n",
       " 22    22            300000    LinkedList        5.16\n",
       " ..   ...               ...           ...         ...\n",
       " 977  977           9850000    LinkedList       64.49\n",
       " 982  982           9900000    LinkedList       72.46\n",
       " 987  987           9950000    LinkedList       63.12\n",
       " 992  992          10000000    LinkedList       66.22\n",
       " 997  997          10050000    LinkedList       64.81\n",
       " \n",
       " [200 rows x 4 columns]]"
      ]
     },
     "execution_count": 32,
     "metadata": {},
     "output_type": "execute_result"
    }
   ],
   "source": [
    "min_dfs = get_min_dfs()\n",
    "min_dfs[0:2]"
   ]
  },
  {
   "cell_type": "markdown",
   "id": "35b690a8",
   "metadata": {},
   "source": [
    "### Adding a new 'recommended' column"
   ]
  },
  {
   "cell_type": "markdown",
   "id": "0f9bb08d",
   "metadata": {},
   "source": [
    "Adding a new recommended column to the original dataset with the recommended data structure. Next, consider mapping all the groups(NumberOfIntegers) to their best data structure(here, we have taken the inser() column)."
   ]
  },
  {
   "cell_type": "code",
   "execution_count": 33,
   "id": "fe40737c",
   "metadata": {
    "scrolled": false
   },
   "outputs": [],
   "source": [
    "# converting the columns to arrays\n",
    "num_of_int_arr = min_dfs[0]['NumberOfIntegers'].to_numpy()\n",
    "col_arr = min_dfs[0]['DataStructure'].to_numpy()"
   ]
  },
  {
   "cell_type": "markdown",
   "id": "6199227e",
   "metadata": {},
   "source": [
    "Now, add a new column to save the recommended or the best data structures from each group, and add that value to other rows of each group as well."
   ]
  },
  {
   "cell_type": "markdown",
   "id": "8c0bd3bb",
   "metadata": {},
   "source": [
    "Below, we can see that the data structure that has minimum 'insert()' run-time has been added to the every row of each group in a new column."
   ]
  },
  {
   "cell_type": "markdown",
   "id": "9ea6dd55",
   "metadata": {},
   "source": [
    "### Do this to all the groups"
   ]
  },
  {
   "cell_type": "markdown",
   "id": "3d62fb23",
   "metadata": {},
   "source": [
    "#### Get dfs split into each function(insert(), insertAt(), etc.)"
   ]
  },
  {
   "cell_type": "code",
   "execution_count": 49,
   "id": "00d487d3",
   "metadata": {},
   "outputs": [],
   "source": [
    "cols = ['insert()', 'insertAt()', 'contains()', 'indexOf()', 'get()', 'delete()']\n",
    "def get_dfs():\n",
    "    return [df[['ID', 'NumberOfIntegers', 'DataStructure', col]] for col in cols]"
   ]
  },
  {
   "cell_type": "code",
   "execution_count": 35,
   "id": "3b7174af",
   "metadata": {},
   "outputs": [],
   "source": [
    "split_dfs = get_dfs()\n",
    "# split_dfs[0:2]"
   ]
  },
  {
   "cell_type": "code",
   "execution_count": 36,
   "id": "3e27b73b",
   "metadata": {},
   "outputs": [
    {
     "name": "stderr",
     "output_type": "stream",
     "text": [
      "/tmp/ipykernel_528/2339002868.py:6: SettingWithCopyWarning: \n",
      "A value is trying to be set on a copy of a slice from a DataFrame.\n",
      "Try using .loc[row_indexer,col_indexer] = value instead\n",
      "\n",
      "See the caveats in the documentation: https://pandas.pydata.org/pandas-docs/stable/user_guide/indexing.html#returning-a-view-versus-a-copy\n",
      "  split_df[new_cols[index]] = split_df['NumberOfIntegers'].map(mappings[index])\n"
     ]
    }
   ],
   "source": [
    "min_datastructures = [min_df['DataStructure'].to_numpy() for min_df in min_dfs] # list of data structures with the minimum value\n",
    "mappings = [dict(zip(num_of_int_arr, min_df)) for min_df in min_datastructures] # list of mappings\n",
    "new_cols = ['ds_insert()', 'ds_insertAt()', 'ds_contains()', 'ds_indexOf()', 'ds_get()', 'ds_delete()']\n",
    "\n",
    "for index, split_df in enumerate(split_dfs):\n",
    "    split_df[new_cols[index]] = split_df['NumberOfIntegers'].map(mappings[index])"
   ]
  },
  {
   "cell_type": "code",
   "execution_count": 68,
   "id": "77559789",
   "metadata": {},
   "outputs": [
    {
     "data": {
      "text/html": [
       "<div>\n",
       "<style scoped>\n",
       "    .dataframe tbody tr th:only-of-type {\n",
       "        vertical-align: middle;\n",
       "    }\n",
       "\n",
       "    .dataframe tbody tr th {\n",
       "        vertical-align: top;\n",
       "    }\n",
       "\n",
       "    .dataframe thead th {\n",
       "        text-align: right;\n",
       "    }\n",
       "</style>\n",
       "<table border=\"1\" class=\"dataframe\">\n",
       "  <thead>\n",
       "    <tr style=\"text-align: right;\">\n",
       "      <th></th>\n",
       "      <th>ID</th>\n",
       "      <th>NumberOfIntegers</th>\n",
       "      <th>DataStructure</th>\n",
       "      <th>insert()</th>\n",
       "      <th>ds_insert()</th>\n",
       "    </tr>\n",
       "  </thead>\n",
       "  <tbody>\n",
       "    <tr>\n",
       "      <th>0</th>\n",
       "      <td>0</td>\n",
       "      <td>100000</td>\n",
       "      <td>0</td>\n",
       "      <td>6.75</td>\n",
       "      <td>ArrayList_Initialized</td>\n",
       "    </tr>\n",
       "    <tr>\n",
       "      <th>1</th>\n",
       "      <td>1</td>\n",
       "      <td>100000</td>\n",
       "      <td>1</td>\n",
       "      <td>2.94</td>\n",
       "      <td>ArrayList_Initialized</td>\n",
       "    </tr>\n",
       "    <tr>\n",
       "      <th>2</th>\n",
       "      <td>2</td>\n",
       "      <td>100000</td>\n",
       "      <td>2</td>\n",
       "      <td>8.39</td>\n",
       "      <td>ArrayList_Initialized</td>\n",
       "    </tr>\n",
       "    <tr>\n",
       "      <th>3</th>\n",
       "      <td>3</td>\n",
       "      <td>100000</td>\n",
       "      <td>3</td>\n",
       "      <td>7.39</td>\n",
       "      <td>ArrayList_Initialized</td>\n",
       "    </tr>\n",
       "    <tr>\n",
       "      <th>4</th>\n",
       "      <td>4</td>\n",
       "      <td>100000</td>\n",
       "      <td>4</td>\n",
       "      <td>2.96</td>\n",
       "      <td>ArrayList_Initialized</td>\n",
       "    </tr>\n",
       "    <tr>\n",
       "      <th>5</th>\n",
       "      <td>5</td>\n",
       "      <td>150000</td>\n",
       "      <td>0</td>\n",
       "      <td>5.44</td>\n",
       "      <td>Vector_Initialized</td>\n",
       "    </tr>\n",
       "    <tr>\n",
       "      <th>6</th>\n",
       "      <td>6</td>\n",
       "      <td>150000</td>\n",
       "      <td>1</td>\n",
       "      <td>4.16</td>\n",
       "      <td>Vector_Initialized</td>\n",
       "    </tr>\n",
       "    <tr>\n",
       "      <th>7</th>\n",
       "      <td>7</td>\n",
       "      <td>150000</td>\n",
       "      <td>2</td>\n",
       "      <td>8.57</td>\n",
       "      <td>Vector_Initialized</td>\n",
       "    </tr>\n",
       "    <tr>\n",
       "      <th>8</th>\n",
       "      <td>8</td>\n",
       "      <td>150000</td>\n",
       "      <td>3</td>\n",
       "      <td>4.90</td>\n",
       "      <td>Vector_Initialized</td>\n",
       "    </tr>\n",
       "    <tr>\n",
       "      <th>9</th>\n",
       "      <td>9</td>\n",
       "      <td>150000</td>\n",
       "      <td>4</td>\n",
       "      <td>1.74</td>\n",
       "      <td>Vector_Initialized</td>\n",
       "    </tr>\n",
       "    <tr>\n",
       "      <th>10</th>\n",
       "      <td>10</td>\n",
       "      <td>200000</td>\n",
       "      <td>0</td>\n",
       "      <td>2.97</td>\n",
       "      <td>LinkedList</td>\n",
       "    </tr>\n",
       "    <tr>\n",
       "      <th>11</th>\n",
       "      <td>11</td>\n",
       "      <td>200000</td>\n",
       "      <td>1</td>\n",
       "      <td>2.17</td>\n",
       "      <td>LinkedList</td>\n",
       "    </tr>\n",
       "    <tr>\n",
       "      <th>12</th>\n",
       "      <td>12</td>\n",
       "      <td>200000</td>\n",
       "      <td>2</td>\n",
       "      <td>2.13</td>\n",
       "      <td>LinkedList</td>\n",
       "    </tr>\n",
       "    <tr>\n",
       "      <th>13</th>\n",
       "      <td>13</td>\n",
       "      <td>200000</td>\n",
       "      <td>3</td>\n",
       "      <td>2.58</td>\n",
       "      <td>LinkedList</td>\n",
       "    </tr>\n",
       "    <tr>\n",
       "      <th>14</th>\n",
       "      <td>14</td>\n",
       "      <td>200000</td>\n",
       "      <td>4</td>\n",
       "      <td>2.43</td>\n",
       "      <td>LinkedList</td>\n",
       "    </tr>\n",
       "    <tr>\n",
       "      <th>15</th>\n",
       "      <td>15</td>\n",
       "      <td>250000</td>\n",
       "      <td>0</td>\n",
       "      <td>2.48</td>\n",
       "      <td>Vector_Initialized</td>\n",
       "    </tr>\n",
       "    <tr>\n",
       "      <th>16</th>\n",
       "      <td>16</td>\n",
       "      <td>250000</td>\n",
       "      <td>1</td>\n",
       "      <td>2.04</td>\n",
       "      <td>Vector_Initialized</td>\n",
       "    </tr>\n",
       "    <tr>\n",
       "      <th>17</th>\n",
       "      <td>17</td>\n",
       "      <td>250000</td>\n",
       "      <td>2</td>\n",
       "      <td>2.48</td>\n",
       "      <td>Vector_Initialized</td>\n",
       "    </tr>\n",
       "    <tr>\n",
       "      <th>18</th>\n",
       "      <td>18</td>\n",
       "      <td>250000</td>\n",
       "      <td>3</td>\n",
       "      <td>1.90</td>\n",
       "      <td>Vector_Initialized</td>\n",
       "    </tr>\n",
       "    <tr>\n",
       "      <th>19</th>\n",
       "      <td>19</td>\n",
       "      <td>250000</td>\n",
       "      <td>4</td>\n",
       "      <td>1.72</td>\n",
       "      <td>Vector_Initialized</td>\n",
       "    </tr>\n",
       "  </tbody>\n",
       "</table>\n",
       "</div>"
      ],
      "text/plain": [
       "    ID  NumberOfIntegers  DataStructure  insert()            ds_insert()\n",
       "0    0            100000              0      6.75  ArrayList_Initialized\n",
       "1    1            100000              1      2.94  ArrayList_Initialized\n",
       "2    2            100000              2      8.39  ArrayList_Initialized\n",
       "3    3            100000              3      7.39  ArrayList_Initialized\n",
       "4    4            100000              4      2.96  ArrayList_Initialized\n",
       "5    5            150000              0      5.44     Vector_Initialized\n",
       "6    6            150000              1      4.16     Vector_Initialized\n",
       "7    7            150000              2      8.57     Vector_Initialized\n",
       "8    8            150000              3      4.90     Vector_Initialized\n",
       "9    9            150000              4      1.74     Vector_Initialized\n",
       "10  10            200000              0      2.97             LinkedList\n",
       "11  11            200000              1      2.17             LinkedList\n",
       "12  12            200000              2      2.13             LinkedList\n",
       "13  13            200000              3      2.58             LinkedList\n",
       "14  14            200000              4      2.43             LinkedList\n",
       "15  15            250000              0      2.48     Vector_Initialized\n",
       "16  16            250000              1      2.04     Vector_Initialized\n",
       "17  17            250000              2      2.48     Vector_Initialized\n",
       "18  18            250000              3      1.90     Vector_Initialized\n",
       "19  19            250000              4      1.72     Vector_Initialized"
      ]
     },
     "execution_count": 68,
     "metadata": {},
     "output_type": "execute_result"
    }
   ],
   "source": [
    "split_dfs[0:1][0].head(20)"
   ]
  },
  {
   "cell_type": "markdown",
   "id": "2e7a0d0c",
   "metadata": {},
   "source": [
    "## Classification"
   ]
  },
  {
   "cell_type": "markdown",
   "id": "ea1a3046",
   "metadata": {},
   "source": [
    "### Method to get the trained model info"
   ]
  },
  {
   "cell_type": "code",
   "execution_count": 38,
   "id": "c2454337",
   "metadata": {},
   "outputs": [],
   "source": [
    "import sklearn.metrics as metrics\n",
    "\n",
    "def print_model_performance(model, X_test, y_test):\n",
    "    y_pred = model.predict(X_test)\n",
    "    print('Accuracy score:\\n', metrics.accuracy_score(y_test, y_pred))\n",
    "    print('Confusion matrix:\\n', metrics.confusion_matrix(y_test, y_pred))\n",
    "    print('Classification report:\\n', metrics.classification_report(y_test, y_pred, digits=4))\n",
    "    print('Precision:\\n',metrics.precision_score(y_test, y_pred, average=None))\n",
    "    print('Recall:\\n',metrics.recall_score(y_test, y_pred, average=None))"
   ]
  },
  {
   "cell_type": "markdown",
   "id": "32a45394",
   "metadata": {},
   "source": [
    "### Encode the 'DataStructure' column"
   ]
  },
  {
   "cell_type": "code",
   "execution_count": 39,
   "id": "2a38abde",
   "metadata": {},
   "outputs": [],
   "source": [
    "# encoding data structures so it can be used as an input parameter\n",
    "ds_encode_dic = {\"ArrayList\": 0, \"ArrayList_Initialized\": 1, \"LinkedList\": 2, \"Vector\": 3, \"Vector_Initialized\": 4}\n",
    "\n",
    "split_dfs = [df.replace({\"DataStructure\": ds_encode_dic}) for df in split_dfs]\n",
    "# split_dfs = [df.replace({new_cols[i]: ds_encode_dic}) for i, df in enumerate(split_dfs)]"
   ]
  },
  {
   "cell_type": "code",
   "execution_count": 40,
   "id": "d6ab14ab",
   "metadata": {},
   "outputs": [
    {
     "data": {
      "text/html": [
       "<div>\n",
       "<style scoped>\n",
       "    .dataframe tbody tr th:only-of-type {\n",
       "        vertical-align: middle;\n",
       "    }\n",
       "\n",
       "    .dataframe tbody tr th {\n",
       "        vertical-align: top;\n",
       "    }\n",
       "\n",
       "    .dataframe thead th {\n",
       "        text-align: right;\n",
       "    }\n",
       "</style>\n",
       "<table border=\"1\" class=\"dataframe\">\n",
       "  <thead>\n",
       "    <tr style=\"text-align: right;\">\n",
       "      <th></th>\n",
       "      <th>ID</th>\n",
       "      <th>NumberOfIntegers</th>\n",
       "      <th>DataStructure</th>\n",
       "      <th>insert()</th>\n",
       "      <th>ds_insert()</th>\n",
       "    </tr>\n",
       "  </thead>\n",
       "  <tbody>\n",
       "    <tr>\n",
       "      <th>0</th>\n",
       "      <td>0</td>\n",
       "      <td>100000</td>\n",
       "      <td>0</td>\n",
       "      <td>6.75</td>\n",
       "      <td>ArrayList_Initialized</td>\n",
       "    </tr>\n",
       "    <tr>\n",
       "      <th>1</th>\n",
       "      <td>1</td>\n",
       "      <td>100000</td>\n",
       "      <td>1</td>\n",
       "      <td>2.94</td>\n",
       "      <td>ArrayList_Initialized</td>\n",
       "    </tr>\n",
       "    <tr>\n",
       "      <th>2</th>\n",
       "      <td>2</td>\n",
       "      <td>100000</td>\n",
       "      <td>2</td>\n",
       "      <td>8.39</td>\n",
       "      <td>ArrayList_Initialized</td>\n",
       "    </tr>\n",
       "    <tr>\n",
       "      <th>3</th>\n",
       "      <td>3</td>\n",
       "      <td>100000</td>\n",
       "      <td>3</td>\n",
       "      <td>7.39</td>\n",
       "      <td>ArrayList_Initialized</td>\n",
       "    </tr>\n",
       "    <tr>\n",
       "      <th>4</th>\n",
       "      <td>4</td>\n",
       "      <td>100000</td>\n",
       "      <td>4</td>\n",
       "      <td>2.96</td>\n",
       "      <td>ArrayList_Initialized</td>\n",
       "    </tr>\n",
       "    <tr>\n",
       "      <th>5</th>\n",
       "      <td>5</td>\n",
       "      <td>150000</td>\n",
       "      <td>0</td>\n",
       "      <td>5.44</td>\n",
       "      <td>Vector_Initialized</td>\n",
       "    </tr>\n",
       "    <tr>\n",
       "      <th>6</th>\n",
       "      <td>6</td>\n",
       "      <td>150000</td>\n",
       "      <td>1</td>\n",
       "      <td>4.16</td>\n",
       "      <td>Vector_Initialized</td>\n",
       "    </tr>\n",
       "    <tr>\n",
       "      <th>7</th>\n",
       "      <td>7</td>\n",
       "      <td>150000</td>\n",
       "      <td>2</td>\n",
       "      <td>8.57</td>\n",
       "      <td>Vector_Initialized</td>\n",
       "    </tr>\n",
       "    <tr>\n",
       "      <th>8</th>\n",
       "      <td>8</td>\n",
       "      <td>150000</td>\n",
       "      <td>3</td>\n",
       "      <td>4.90</td>\n",
       "      <td>Vector_Initialized</td>\n",
       "    </tr>\n",
       "    <tr>\n",
       "      <th>9</th>\n",
       "      <td>9</td>\n",
       "      <td>150000</td>\n",
       "      <td>4</td>\n",
       "      <td>1.74</td>\n",
       "      <td>Vector_Initialized</td>\n",
       "    </tr>\n",
       "  </tbody>\n",
       "</table>\n",
       "</div>"
      ],
      "text/plain": [
       "   ID  NumberOfIntegers  DataStructure  insert()            ds_insert()\n",
       "0   0            100000              0      6.75  ArrayList_Initialized\n",
       "1   1            100000              1      2.94  ArrayList_Initialized\n",
       "2   2            100000              2      8.39  ArrayList_Initialized\n",
       "3   3            100000              3      7.39  ArrayList_Initialized\n",
       "4   4            100000              4      2.96  ArrayList_Initialized\n",
       "5   5            150000              0      5.44     Vector_Initialized\n",
       "6   6            150000              1      4.16     Vector_Initialized\n",
       "7   7            150000              2      8.57     Vector_Initialized\n",
       "8   8            150000              3      4.90     Vector_Initialized\n",
       "9   9            150000              4      1.74     Vector_Initialized"
      ]
     },
     "execution_count": 40,
     "metadata": {},
     "output_type": "execute_result"
    }
   ],
   "source": [
    "split_dfs[0:1][0].head(10)"
   ]
  },
  {
   "cell_type": "code",
   "execution_count": 41,
   "id": "d7f02c48",
   "metadata": {
    "scrolled": true
   },
   "outputs": [
    {
     "name": "stdout",
     "output_type": "stream",
     "text": [
      "(1000, 5)\n",
      "5\n"
     ]
    }
   ],
   "source": [
    "print(split_dfs[0:1][0].shape)\n",
    "\n",
    "num_of_classes = len(split_dfs[0:1][0]['ds_insert()'].unique())\n",
    "print(num_of_classes)"
   ]
  },
  {
   "cell_type": "markdown",
   "id": "d06554e1",
   "metadata": {},
   "source": [
    "### split train input and output data"
   ]
  },
  {
   "cell_type": "code",
   "execution_count": 54,
   "id": "d8b48c00",
   "metadata": {
    "scrolled": true
   },
   "outputs": [],
   "source": [
    "# split train input and output data\n",
    "Xs = []\n",
    "Ys = []\n",
    "\n",
    "for i, df in enumerate(split_dfs):\n",
    "    Xs.append(df.drop(axis=0, columns=['ID', new_cols[i]]))\n",
    "    Ys.append(df[new_cols[i]])"
   ]
  },
  {
   "cell_type": "markdown",
   "id": "5c8e3481",
   "metadata": {},
   "source": [
    "## Xgboost classifier"
   ]
  },
  {
   "cell_type": "code",
   "execution_count": 59,
   "id": "148a086d",
   "metadata": {
    "scrolled": false
   },
   "outputs": [
    {
     "name": "stderr",
     "output_type": "stream",
     "text": [
      "/home/janithahn/anaconda3/envs/ml/lib/python3.8/site-packages/xgboost/sklearn.py:1224: UserWarning: The use of label encoder in XGBClassifier is deprecated and will be removed in a future release. To remove this warning, do the following: 1) Pass option use_label_encoder=False when constructing XGBClassifier object; and 2) Encode your labels (y) as integers starting with 0, i.e. 0, 1, 2, ..., [num_class - 1].\n",
      "  warnings.warn(label_encoder_deprecation_msg, UserWarning)\n"
     ]
    },
    {
     "name": "stdout",
     "output_type": "stream",
     "text": [
      "\n",
      "--------------------------ds_insert()--------------------------\n",
      "Accuracy score:\n",
      " 0.803030303030303\n",
      "Confusion matrix:\n",
      " [[  5   2   4   0   1]\n",
      " [  1  91  15   1   4]\n",
      " [  0  14 139   1   1]\n",
      " [  0   9   2   7   2]\n",
      " [  0   4   3   1  23]]\n",
      "Classification report:\n",
      "                        precision    recall  f1-score   support\n",
      "\n",
      "            ArrayList     0.8333    0.4167    0.5556        12\n",
      "ArrayList_Initialized     0.7583    0.8125    0.7845       112\n",
      "           LinkedList     0.8528    0.8968    0.8742       155\n",
      "               Vector     0.7000    0.3500    0.4667        20\n",
      "   Vector_Initialized     0.7419    0.7419    0.7419        31\n",
      "\n",
      "             accuracy                         0.8030       330\n",
      "            macro avg     0.7773    0.6436    0.6846       330\n",
      "         weighted avg     0.8003    0.8030    0.7950       330\n",
      "\n",
      "Precision:\n",
      " [0.83333333 0.75833333 0.85276074 0.7        0.74193548]\n",
      "Recall:\n",
      " [0.41666667 0.8125     0.89677419 0.35       0.74193548]\n",
      "----------------------------------------------------------------\n",
      "\n",
      "--------------------------ds_insertAt()--------------------------\n",
      "Accuracy score:\n",
      " 1.0\n",
      "Confusion matrix:\n",
      " [[330]]\n",
      "Classification report:\n",
      "               precision    recall  f1-score   support\n",
      "\n",
      "  LinkedList     1.0000    1.0000    1.0000       330\n",
      "\n",
      "    accuracy                         1.0000       330\n",
      "   macro avg     1.0000    1.0000    1.0000       330\n",
      "weighted avg     1.0000    1.0000    1.0000       330\n",
      "\n",
      "Precision:\n",
      " [1.]\n",
      "Recall:\n",
      " [1.]\n",
      "----------------------------------------------------------------\n"
     ]
    },
    {
     "name": "stderr",
     "output_type": "stream",
     "text": [
      "/home/janithahn/anaconda3/envs/ml/lib/python3.8/site-packages/xgboost/sklearn.py:1224: UserWarning: The use of label encoder in XGBClassifier is deprecated and will be removed in a future release. To remove this warning, do the following: 1) Pass option use_label_encoder=False when constructing XGBClassifier object; and 2) Encode your labels (y) as integers starting with 0, i.e. 0, 1, 2, ..., [num_class - 1].\n",
      "  warnings.warn(label_encoder_deprecation_msg, UserWarning)\n",
      "/home/janithahn/anaconda3/envs/ml/lib/python3.8/site-packages/xgboost/sklearn.py:1224: UserWarning: The use of label encoder in XGBClassifier is deprecated and will be removed in a future release. To remove this warning, do the following: 1) Pass option use_label_encoder=False when constructing XGBClassifier object; and 2) Encode your labels (y) as integers starting with 0, i.e. 0, 1, 2, ..., [num_class - 1].\n",
      "  warnings.warn(label_encoder_deprecation_msg, UserWarning)\n"
     ]
    },
    {
     "name": "stdout",
     "output_type": "stream",
     "text": [
      "\n",
      "--------------------------ds_contains()--------------------------\n",
      "Accuracy score:\n",
      " 0.9030303030303031\n",
      "Confusion matrix:\n",
      " [[123   1   0   2]\n",
      " [  2  88   1   4]\n",
      " [  6   2  54   1]\n",
      " [  5   7   1  33]]\n",
      "Classification report:\n",
      "                        precision    recall  f1-score   support\n",
      "\n",
      "            ArrayList     0.9044    0.9762    0.9389       126\n",
      "ArrayList_Initialized     0.8980    0.9263    0.9119        95\n",
      "               Vector     0.9643    0.8571    0.9076        63\n",
      "   Vector_Initialized     0.8250    0.7174    0.7674        46\n",
      "\n",
      "             accuracy                         0.9030       330\n",
      "            macro avg     0.8979    0.8693    0.8815       330\n",
      "         weighted avg     0.9029    0.9030    0.9013       330\n",
      "\n",
      "Precision:\n",
      " [0.90441176 0.89795918 0.96428571 0.825     ]\n",
      "Recall:\n",
      " [0.97619048 0.92631579 0.85714286 0.7173913 ]\n",
      "----------------------------------------------------------------\n"
     ]
    },
    {
     "name": "stderr",
     "output_type": "stream",
     "text": [
      "/home/janithahn/anaconda3/envs/ml/lib/python3.8/site-packages/xgboost/sklearn.py:1224: UserWarning: The use of label encoder in XGBClassifier is deprecated and will be removed in a future release. To remove this warning, do the following: 1) Pass option use_label_encoder=False when constructing XGBClassifier object; and 2) Encode your labels (y) as integers starting with 0, i.e. 0, 1, 2, ..., [num_class - 1].\n",
      "  warnings.warn(label_encoder_deprecation_msg, UserWarning)\n"
     ]
    },
    {
     "name": "stdout",
     "output_type": "stream",
     "text": [
      "\n",
      "--------------------------ds_indexOf()--------------------------\n",
      "Accuracy score:\n",
      " 0.8545454545454545\n",
      "Confusion matrix:\n",
      " [[101  10   2   4]\n",
      " [  3 105   1   4]\n",
      " [  7   9  36   0]\n",
      " [  5   3   0  40]]\n",
      "Classification report:\n",
      "                        precision    recall  f1-score   support\n",
      "\n",
      "            ArrayList     0.8707    0.8632    0.8670       117\n",
      "ArrayList_Initialized     0.8268    0.9292    0.8750       113\n",
      "               Vector     0.9231    0.6923    0.7912        52\n",
      "   Vector_Initialized     0.8333    0.8333    0.8333        48\n",
      "\n",
      "             accuracy                         0.8545       330\n",
      "            macro avg     0.8635    0.8295    0.8416       330\n",
      "         weighted avg     0.8585    0.8545    0.8529       330\n",
      "\n",
      "Precision:\n",
      " [0.87068966 0.82677165 0.92307692 0.83333333]\n",
      "Recall:\n",
      " [0.86324786 0.92920354 0.69230769 0.83333333]\n",
      "----------------------------------------------------------------\n",
      "\n",
      "--------------------------ds_get()--------------------------\n",
      "Accuracy score:\n",
      " 0.9757575757575757\n",
      "Confusion matrix:\n",
      " [[310   0   1   0]\n",
      " [  3   5   0   3]\n",
      " [  1   0   5   0]\n",
      " [  0   0   0   2]]\n",
      "Classification report:\n",
      "                        precision    recall  f1-score   support\n",
      "\n",
      "            ArrayList     0.9873    0.9968    0.9920       311\n",
      "ArrayList_Initialized     1.0000    0.4545    0.6250        11\n",
      "               Vector     0.8333    0.8333    0.8333         6\n",
      "   Vector_Initialized     0.4000    1.0000    0.5714         2\n",
      "\n",
      "             accuracy                         0.9758       330\n",
      "            macro avg     0.8051    0.8212    0.7554       330\n",
      "         weighted avg     0.9813    0.9758    0.9743       330\n",
      "\n",
      "Precision:\n",
      " [0.98726115 1.         0.83333333 0.4       ]\n",
      "Recall:\n",
      " [0.99678457 0.45454545 0.83333333 1.        ]\n",
      "----------------------------------------------------------------\n"
     ]
    },
    {
     "name": "stderr",
     "output_type": "stream",
     "text": [
      "/home/janithahn/anaconda3/envs/ml/lib/python3.8/site-packages/xgboost/sklearn.py:1224: UserWarning: The use of label encoder in XGBClassifier is deprecated and will be removed in a future release. To remove this warning, do the following: 1) Pass option use_label_encoder=False when constructing XGBClassifier object; and 2) Encode your labels (y) as integers starting with 0, i.e. 0, 1, 2, ..., [num_class - 1].\n",
      "  warnings.warn(label_encoder_deprecation_msg, UserWarning)\n",
      "/home/janithahn/anaconda3/envs/ml/lib/python3.8/site-packages/xgboost/sklearn.py:1224: UserWarning: The use of label encoder in XGBClassifier is deprecated and will be removed in a future release. To remove this warning, do the following: 1) Pass option use_label_encoder=False when constructing XGBClassifier object; and 2) Encode your labels (y) as integers starting with 0, i.e. 0, 1, 2, ..., [num_class - 1].\n",
      "  warnings.warn(label_encoder_deprecation_msg, UserWarning)\n"
     ]
    },
    {
     "name": "stdout",
     "output_type": "stream",
     "text": [
      "\n",
      "--------------------------ds_delete()--------------------------\n",
      "Accuracy score:\n",
      " 1.0\n",
      "Confusion matrix:\n",
      " [[330]]\n",
      "Classification report:\n",
      "               precision    recall  f1-score   support\n",
      "\n",
      "  LinkedList     1.0000    1.0000    1.0000       330\n",
      "\n",
      "    accuracy                         1.0000       330\n",
      "   macro avg     1.0000    1.0000    1.0000       330\n",
      "weighted avg     1.0000    1.0000    1.0000       330\n",
      "\n",
      "Precision:\n",
      " [1.]\n",
      "Recall:\n",
      " [1.]\n",
      "----------------------------------------------------------------\n"
     ]
    }
   ],
   "source": [
    "from xgboost import XGBClassifier\n",
    "from sklearn.model_selection import train_test_split\n",
    "\n",
    "model_dic = {}\n",
    "\n",
    "for X, Y, col_name in zip(Xs, Ys, new_cols):\n",
    "    # Split into training and test sets\n",
    "    X_train, X_test, y_train, y_test = train_test_split(X, Y, test_size=0.33, random_state=1)\n",
    "    \n",
    "    # Create a classifier\n",
    "    xgb = XGBClassifier(\n",
    "                              booster='gbtree', \n",
    "                              objective='multi:softprob', \n",
    "                              random_state=1, \n",
    "                              eval_metric=\"auc\", \n",
    "                              num_class=num_of_classes,\n",
    "                              # n_estimators=50000\n",
    "                              # use_label_encoder=False\n",
    "                          )\n",
    "\n",
    "    # define the datasets to evaluate each iteration\n",
    "    evalset = [(X_train, y_train), (X_test, y_test)]\n",
    "\n",
    "    # Fit the classifier with the training data\n",
    "    xgb.fit(X_train, y_train, eval_metric=['merror','mlogloss'], eval_set=evalset, verbose=False)\n",
    "    \n",
    "    model_dic[col_name] = xgb\n",
    "\n",
    "    print('\\n--------------------------' + col_name + '--------------------------')\n",
    "    print_model_performance(xgb, X_test, y_test)\n",
    "    print('----------------------------------------------------------------')"
   ]
  },
  {
   "cell_type": "markdown",
   "id": "4959ff9e",
   "metadata": {},
   "source": [
    "## Learning curves"
   ]
  },
  {
   "cell_type": "code",
   "execution_count": 60,
   "id": "f10402bf",
   "metadata": {},
   "outputs": [
    {
     "name": "stdout",
     "output_type": "stream",
     "text": [
      "\n",
      "--------------------------ds_insert()--------------------------\n"
     ]
    },
    {
     "data": {
      "image/png": "[encoded data removed]",
      "text/plain": [
       "<Figure size 432x288 with 1 Axes>"
      ]
     },
     "metadata": {
      "needs_background": "light"
     },
     "output_type": "display_data"
    },
    {
     "name": "stdout",
     "output_type": "stream",
     "text": [
      "\n",
      "--------------------------ds_insertAt()--------------------------\n"
     ]
    },
    {
     "data": {
      "image/png": "[encoded data removed]",
      "text/plain": [
       "<Figure size 432x288 with 1 Axes>"
      ]
     },
     "metadata": {
      "needs_background": "light"
     },
     "output_type": "display_data"
    },
    {
     "name": "stdout",
     "output_type": "stream",
     "text": [
      "\n",
      "--------------------------ds_contains()--------------------------\n"
     ]
    },
    {
     "data": {
      "image/png": "[encoded data removed]",
      "text/plain": [
       "<Figure size 432x288 with 1 Axes>"
      ]
     },
     "metadata": {
      "needs_background": "light"
     },
     "output_type": "display_data"
    },
    {
     "name": "stdout",
     "output_type": "stream",
     "text": [
      "\n",
      "--------------------------ds_indexOf()--------------------------\n"
     ]
    },
    {
     "data": {
      "image/png": "[encoded data removed]",
      "text/plain": [
       "<Figure size 432x288 with 1 Axes>"
      ]
     },
     "metadata": {
      "needs_background": "light"
     },
     "output_type": "display_data"
    },
    {
     "name": "stdout",
     "output_type": "stream",
     "text": [
      "\n",
      "--------------------------ds_get()--------------------------\n"
     ]
    },
    {
     "data": {
      "image/png": "[encoded data removed]",
      "text/plain": [
       "<Figure size 432x288 with 1 Axes>"
      ]
     },
     "metadata": {
      "needs_background": "light"
     },
     "output_type": "display_data"
    },
    {
     "name": "stdout",
     "output_type": "stream",
     "text": [
      "\n",
      "--------------------------ds_delete()--------------------------\n"
     ]
    },
    {
     "data": {
      "image/png": "[encoded data removed]",
      "text/plain": [
       "<Figure size 432x288 with 1 Axes>"
      ]
     },
     "metadata": {
      "needs_background": "light"
     },
     "output_type": "display_data"
    }
   ],
   "source": [
    "for key, model in model_dic.items():\n",
    "    print('\\n--------------------------' + key + '--------------------------')\n",
    "    \n",
    "    # retrieve performance metrics\n",
    "    results = model.evals_result()\n",
    "\n",
    "    # plot learning curves\n",
    "    plt.plot(results['validation_0']['mlogloss'], label='train')\n",
    "    plt.plot(results['validation_1']['mlogloss'], label='test')\n",
    "    # show the legend\n",
    "    plt.legend()\n",
    "    # show the plot\n",
    "    plt.show()"
   ]
  },
  {
   "cell_type": "code",
   "execution_count": 46,
   "id": "a5ecb909",
   "metadata": {
    "scrolled": true
   },
   "outputs": [],
   "source": [
    "# for key, model in model_dic.items():\n",
    "#     print('\\n--------------------------' + key + '--------------------------')\n",
    "    \n",
    "#     # retrieve performance metrics\n",
    "#     results = model.evals_result()\n",
    "\n",
    "#     # plot learning curves\n",
    "#     plt.plot(results['validation_0']['merror'], label='train')\n",
    "#     plt.plot(results['validation_1']['merror'], label='test')\n",
    "#     # show the legend\n",
    "#     plt.legend()\n",
    "#     # show the plot\n",
    "#     plt.show()"
   ]
  },
  {
   "cell_type": "code",
   "execution_count": 47,
   "id": "8cf0c2f5",
   "metadata": {
    "scrolled": true
   },
   "outputs": [],
   "source": [
    "# from sklearn.metrics import roc_auc_score\n",
    "# from sklearn import preprocessing\n",
    "\n",
    "# # Use trained model to predict output of test dataset\n",
    "# val = xgb.predict(X_test)\n",
    "\n",
    "# lb = preprocessing.LabelBinarizer()\n",
    "# lb.fit(y_test)\n",
    "\n",
    "# y_test_lb = lb.transform(y_test)\n",
    "# val_lb = lb.transform(val)\n",
    "\n",
    "# roc_auc_score(y_test_lb, val_lb, average='macro')"
   ]
  },
  {
   "cell_type": "code",
   "execution_count": 67,
   "id": "771be5b3",
   "metadata": {
    "scrolled": true
   },
   "outputs": [
    {
     "name": "stdout",
     "output_type": "stream",
     "text": [
      "   NumberOfIntegers  DataStructure  insert()\n",
      "0          100000.0            NaN       NaN\n"
     ]
    },
    {
     "data": {
      "text/plain": [
       "array(['Vector_Initialized'], dtype=object)"
      ]
     },
     "execution_count": 67,
     "metadata": {},
     "output_type": "execute_result"
    }
   ],
   "source": [
    "row = pd.DataFrame(columns=['NumberOfIntegers', 'DataStructure', 'insert()'])\n",
    "row = row.append({\n",
    "    'NumberOfIntegers': 100000, \n",
    "    'DataStructure': None, \n",
    "    'insert()': None\n",
    "}, ignore_index = True)\n",
    "print(row)\n",
    "single_predict = model_dic['ds_insert()'].predict(row)\n",
    "single_predict"
   ]
  },
  {
   "cell_type": "markdown",
   "id": "f3817fbd",
   "metadata": {},
   "source": [
    "## Cross validation"
   ]
  },
  {
   "cell_type": "code",
   "execution_count": null,
   "id": "bfaab03e",
   "metadata": {
    "scrolled": false
   },
   "outputs": [],
   "source": [
    "X_test = Xs[0][1]\n",
    "y_test = Xs[0][3]\n",
    "\n",
    "val = model_dic['ds_insert()'].predict(X_test)\n",
    "\n",
    "output = pd.DataFrame()\n",
    "output['Expected Output'] = y_test\n",
    "output['Predicted Output'] = val\n",
    "output.head(20)"
   ]
  }
 ],
 "metadata": {
  "kernelspec": {
   "display_name": "Python 3 (ipykernel)",
   "language": "python",
   "name": "python3"
  },
  "language_info": {
   "codemirror_mode": {
    "name": "ipython",
    "version": 3
   },
   "file_extension": ".py",
   "mimetype": "text/x-python",
   "name": "python",
   "nbconvert_exporter": "python",
   "pygments_lexer": "ipython3",
   "version": "3.8.12"
  }
 },
 "nbformat": 4,
 "nbformat_minor": 5
}
