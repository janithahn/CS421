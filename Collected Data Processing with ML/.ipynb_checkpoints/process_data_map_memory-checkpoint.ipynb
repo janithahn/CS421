{
 "cells": [
  {
   "cell_type": "code",
   "execution_count": 39,
   "id": "98a5ed7a",
   "metadata": {},
   "outputs": [],
   "source": [
    "import pandas as pd\n",
    "import seaborn as sns\n",
    "import numpy as np\n",
    "import matplotlib.pyplot as plt"
   ]
  },
  {
   "cell_type": "code",
   "execution_count": 40,
   "id": "23169c55",
   "metadata": {},
   "outputs": [],
   "source": [
    "pd.set_option(\"display.max.columns\", None)\n",
    "df = pd.read_csv('./data/map_runtime_20steps.csv')"
   ]
  },
  {
   "cell_type": "code",
   "execution_count": 41,
   "id": "a57ec6ea",
   "metadata": {
    "scrolled": true
   },
   "outputs": [
    {
     "data": {
      "text/html": [
       "<div>\n",
       "<style scoped>\n",
       "    .dataframe tbody tr th:only-of-type {\n",
       "        vertical-align: middle;\n",
       "    }\n",
       "\n",
       "    .dataframe tbody tr th {\n",
       "        vertical-align: top;\n",
       "    }\n",
       "\n",
       "    .dataframe thead th {\n",
       "        text-align: right;\n",
       "    }\n",
       "</style>\n",
       "<table border=\"1\" class=\"dataframe\">\n",
       "  <thead>\n",
       "    <tr style=\"text-align: right;\">\n",
       "      <th></th>\n",
       "      <th>NumberOfIntegers</th>\n",
       "      <th>DataStructure</th>\n",
       "      <th>put()</th>\n",
       "      <th>replace()</th>\n",
       "      <th>containsKey()</th>\n",
       "      <th>containsValue()</th>\n",
       "      <th>get()</th>\n",
       "      <th>remove()</th>\n",
       "    </tr>\n",
       "  </thead>\n",
       "  <tbody>\n",
       "    <tr>\n",
       "      <th>0</th>\n",
       "      <td>100000</td>\n",
       "      <td>HashMap</td>\n",
       "      <td>16.47</td>\n",
       "      <td>0.33</td>\n",
       "      <td>0.13</td>\n",
       "      <td>646.43</td>\n",
       "      <td>0.28</td>\n",
       "      <td>0.22</td>\n",
       "    </tr>\n",
       "    <tr>\n",
       "      <th>1</th>\n",
       "      <td>100000</td>\n",
       "      <td>HashMap_Initialized</td>\n",
       "      <td>7.37</td>\n",
       "      <td>0.37</td>\n",
       "      <td>0.12</td>\n",
       "      <td>1304.67</td>\n",
       "      <td>0.29</td>\n",
       "      <td>0.17</td>\n",
       "    </tr>\n",
       "    <tr>\n",
       "      <th>2</th>\n",
       "      <td>100000</td>\n",
       "      <td>LinkedHashMap</td>\n",
       "      <td>12.10</td>\n",
       "      <td>0.36</td>\n",
       "      <td>0.11</td>\n",
       "      <td>248.79</td>\n",
       "      <td>0.30</td>\n",
       "      <td>0.20</td>\n",
       "    </tr>\n",
       "    <tr>\n",
       "      <th>3</th>\n",
       "      <td>100000</td>\n",
       "      <td>LinkedHashMap_Initialized</td>\n",
       "      <td>8.94</td>\n",
       "      <td>0.42</td>\n",
       "      <td>0.11</td>\n",
       "      <td>261.50</td>\n",
       "      <td>0.28</td>\n",
       "      <td>0.11</td>\n",
       "    </tr>\n",
       "    <tr>\n",
       "      <th>4</th>\n",
       "      <td>100000</td>\n",
       "      <td>TreeMap</td>\n",
       "      <td>55.90</td>\n",
       "      <td>0.73</td>\n",
       "      <td>0.52</td>\n",
       "      <td>1560.47</td>\n",
       "      <td>0.89</td>\n",
       "      <td>0.65</td>\n",
       "    </tr>\n",
       "    <tr>\n",
       "      <th>5</th>\n",
       "      <td>125000</td>\n",
       "      <td>HashMap</td>\n",
       "      <td>17.43</td>\n",
       "      <td>0.41</td>\n",
       "      <td>0.13</td>\n",
       "      <td>1401.57</td>\n",
       "      <td>0.39</td>\n",
       "      <td>0.14</td>\n",
       "    </tr>\n",
       "    <tr>\n",
       "      <th>6</th>\n",
       "      <td>125000</td>\n",
       "      <td>HashMap_Initialized</td>\n",
       "      <td>13.75</td>\n",
       "      <td>0.43</td>\n",
       "      <td>0.12</td>\n",
       "      <td>2465.70</td>\n",
       "      <td>0.47</td>\n",
       "      <td>0.17</td>\n",
       "    </tr>\n",
       "    <tr>\n",
       "      <th>7</th>\n",
       "      <td>125000</td>\n",
       "      <td>LinkedHashMap</td>\n",
       "      <td>15.49</td>\n",
       "      <td>0.52</td>\n",
       "      <td>0.18</td>\n",
       "      <td>551.33</td>\n",
       "      <td>0.41</td>\n",
       "      <td>0.16</td>\n",
       "    </tr>\n",
       "    <tr>\n",
       "      <th>8</th>\n",
       "      <td>125000</td>\n",
       "      <td>LinkedHashMap_Initialized</td>\n",
       "      <td>19.14</td>\n",
       "      <td>0.46</td>\n",
       "      <td>0.13</td>\n",
       "      <td>469.94</td>\n",
       "      <td>0.55</td>\n",
       "      <td>0.23</td>\n",
       "    </tr>\n",
       "    <tr>\n",
       "      <th>9</th>\n",
       "      <td>125000</td>\n",
       "      <td>TreeMap</td>\n",
       "      <td>69.02</td>\n",
       "      <td>0.85</td>\n",
       "      <td>0.63</td>\n",
       "      <td>3284.89</td>\n",
       "      <td>0.84</td>\n",
       "      <td>0.81</td>\n",
       "    </tr>\n",
       "  </tbody>\n",
       "</table>\n",
       "</div>"
      ],
      "text/plain": [
       "   NumberOfIntegers              DataStructure  put()  replace()  \\\n",
       "0            100000                    HashMap  16.47       0.33   \n",
       "1            100000        HashMap_Initialized   7.37       0.37   \n",
       "2            100000              LinkedHashMap  12.10       0.36   \n",
       "3            100000  LinkedHashMap_Initialized   8.94       0.42   \n",
       "4            100000                    TreeMap  55.90       0.73   \n",
       "5            125000                    HashMap  17.43       0.41   \n",
       "6            125000        HashMap_Initialized  13.75       0.43   \n",
       "7            125000              LinkedHashMap  15.49       0.52   \n",
       "8            125000  LinkedHashMap_Initialized  19.14       0.46   \n",
       "9            125000                    TreeMap  69.02       0.85   \n",
       "\n",
       "   containsKey()  containsValue()  get()  remove()  \n",
       "0           0.13           646.43   0.28      0.22  \n",
       "1           0.12          1304.67   0.29      0.17  \n",
       "2           0.11           248.79   0.30      0.20  \n",
       "3           0.11           261.50   0.28      0.11  \n",
       "4           0.52          1560.47   0.89      0.65  \n",
       "5           0.13          1401.57   0.39      0.14  \n",
       "6           0.12          2465.70   0.47      0.17  \n",
       "7           0.18           551.33   0.41      0.16  \n",
       "8           0.13           469.94   0.55      0.23  \n",
       "9           0.63          3284.89   0.84      0.81  "
      ]
     },
     "execution_count": 41,
     "metadata": {},
     "output_type": "execute_result"
    }
   ],
   "source": [
    "df.head(10)"
   ]
  },
  {
   "cell_type": "markdown",
   "id": "7dc510c1",
   "metadata": {},
   "source": [
    "### Grouping the values by NumberOfIntegers"
   ]
  },
  {
   "cell_type": "code",
   "execution_count": 42,
   "id": "fd37ac12",
   "metadata": {
    "scrolled": true
   },
   "outputs": [
    {
     "data": {
      "text/html": [
       "<div>\n",
       "<style scoped>\n",
       "    .dataframe tbody tr th:only-of-type {\n",
       "        vertical-align: middle;\n",
       "    }\n",
       "\n",
       "    .dataframe tbody tr th {\n",
       "        vertical-align: top;\n",
       "    }\n",
       "\n",
       "    .dataframe thead th {\n",
       "        text-align: right;\n",
       "    }\n",
       "</style>\n",
       "<table border=\"1\" class=\"dataframe\">\n",
       "  <thead>\n",
       "    <tr style=\"text-align: right;\">\n",
       "      <th></th>\n",
       "      <th></th>\n",
       "      <th>NumberOfIntegers</th>\n",
       "      <th>DataStructure</th>\n",
       "      <th>put()</th>\n",
       "      <th>replace()</th>\n",
       "      <th>containsKey()</th>\n",
       "      <th>containsValue()</th>\n",
       "      <th>get()</th>\n",
       "      <th>remove()</th>\n",
       "    </tr>\n",
       "    <tr>\n",
       "      <th>NumberOfIntegers</th>\n",
       "      <th></th>\n",
       "      <th></th>\n",
       "      <th></th>\n",
       "      <th></th>\n",
       "      <th></th>\n",
       "      <th></th>\n",
       "      <th></th>\n",
       "      <th></th>\n",
       "      <th></th>\n",
       "    </tr>\n",
       "  </thead>\n",
       "  <tbody>\n",
       "    <tr>\n",
       "      <th rowspan=\"5\" valign=\"top\">100000</th>\n",
       "      <th>0</th>\n",
       "      <td>100000</td>\n",
       "      <td>TreeMap</td>\n",
       "      <td>55.90</td>\n",
       "      <td>0.73</td>\n",
       "      <td>0.52</td>\n",
       "      <td>1560.47</td>\n",
       "      <td>0.89</td>\n",
       "      <td>0.65</td>\n",
       "    </tr>\n",
       "    <tr>\n",
       "      <th>1</th>\n",
       "      <td>100000</td>\n",
       "      <td>LinkedHashMap_Initialized</td>\n",
       "      <td>8.94</td>\n",
       "      <td>0.42</td>\n",
       "      <td>0.11</td>\n",
       "      <td>261.50</td>\n",
       "      <td>0.28</td>\n",
       "      <td>0.11</td>\n",
       "    </tr>\n",
       "    <tr>\n",
       "      <th>2</th>\n",
       "      <td>100000</td>\n",
       "      <td>LinkedHashMap</td>\n",
       "      <td>12.10</td>\n",
       "      <td>0.36</td>\n",
       "      <td>0.11</td>\n",
       "      <td>248.79</td>\n",
       "      <td>0.30</td>\n",
       "      <td>0.20</td>\n",
       "    </tr>\n",
       "    <tr>\n",
       "      <th>3</th>\n",
       "      <td>100000</td>\n",
       "      <td>HashMap</td>\n",
       "      <td>16.47</td>\n",
       "      <td>0.33</td>\n",
       "      <td>0.13</td>\n",
       "      <td>646.43</td>\n",
       "      <td>0.28</td>\n",
       "      <td>0.22</td>\n",
       "    </tr>\n",
       "    <tr>\n",
       "      <th>4</th>\n",
       "      <td>100000</td>\n",
       "      <td>HashMap_Initialized</td>\n",
       "      <td>7.37</td>\n",
       "      <td>0.37</td>\n",
       "      <td>0.12</td>\n",
       "      <td>1304.67</td>\n",
       "      <td>0.29</td>\n",
       "      <td>0.17</td>\n",
       "    </tr>\n",
       "    <tr>\n",
       "      <th rowspan=\"5\" valign=\"top\">125000</th>\n",
       "      <th>0</th>\n",
       "      <td>125000</td>\n",
       "      <td>TreeMap</td>\n",
       "      <td>69.02</td>\n",
       "      <td>0.85</td>\n",
       "      <td>0.63</td>\n",
       "      <td>3284.89</td>\n",
       "      <td>0.84</td>\n",
       "      <td>0.81</td>\n",
       "    </tr>\n",
       "    <tr>\n",
       "      <th>1</th>\n",
       "      <td>125000</td>\n",
       "      <td>LinkedHashMap</td>\n",
       "      <td>15.49</td>\n",
       "      <td>0.52</td>\n",
       "      <td>0.18</td>\n",
       "      <td>551.33</td>\n",
       "      <td>0.41</td>\n",
       "      <td>0.16</td>\n",
       "    </tr>\n",
       "    <tr>\n",
       "      <th>2</th>\n",
       "      <td>125000</td>\n",
       "      <td>HashMap_Initialized</td>\n",
       "      <td>13.75</td>\n",
       "      <td>0.43</td>\n",
       "      <td>0.12</td>\n",
       "      <td>2465.70</td>\n",
       "      <td>0.47</td>\n",
       "      <td>0.17</td>\n",
       "    </tr>\n",
       "    <tr>\n",
       "      <th>3</th>\n",
       "      <td>125000</td>\n",
       "      <td>LinkedHashMap_Initialized</td>\n",
       "      <td>19.14</td>\n",
       "      <td>0.46</td>\n",
       "      <td>0.13</td>\n",
       "      <td>469.94</td>\n",
       "      <td>0.55</td>\n",
       "      <td>0.23</td>\n",
       "    </tr>\n",
       "    <tr>\n",
       "      <th>4</th>\n",
       "      <td>125000</td>\n",
       "      <td>HashMap</td>\n",
       "      <td>17.43</td>\n",
       "      <td>0.41</td>\n",
       "      <td>0.13</td>\n",
       "      <td>1401.57</td>\n",
       "      <td>0.39</td>\n",
       "      <td>0.14</td>\n",
       "    </tr>\n",
       "  </tbody>\n",
       "</table>\n",
       "</div>"
      ],
      "text/plain": [
       "                    NumberOfIntegers              DataStructure  put()  \\\n",
       "NumberOfIntegers                                                         \n",
       "100000           0            100000                    TreeMap  55.90   \n",
       "                 1            100000  LinkedHashMap_Initialized   8.94   \n",
       "                 2            100000              LinkedHashMap  12.10   \n",
       "                 3            100000                    HashMap  16.47   \n",
       "                 4            100000        HashMap_Initialized   7.37   \n",
       "125000           0            125000                    TreeMap  69.02   \n",
       "                 1            125000              LinkedHashMap  15.49   \n",
       "                 2            125000        HashMap_Initialized  13.75   \n",
       "                 3            125000  LinkedHashMap_Initialized  19.14   \n",
       "                 4            125000                    HashMap  17.43   \n",
       "\n",
       "                    replace()  containsKey()  containsValue()  get()  remove()  \n",
       "NumberOfIntegers                                                                \n",
       "100000           0       0.73           0.52          1560.47   0.89      0.65  \n",
       "                 1       0.42           0.11           261.50   0.28      0.11  \n",
       "                 2       0.36           0.11           248.79   0.30      0.20  \n",
       "                 3       0.33           0.13           646.43   0.28      0.22  \n",
       "                 4       0.37           0.12          1304.67   0.29      0.17  \n",
       "125000           0       0.85           0.63          3284.89   0.84      0.81  \n",
       "                 1       0.52           0.18           551.33   0.41      0.16  \n",
       "                 2       0.43           0.12          2465.70   0.47      0.17  \n",
       "                 3       0.46           0.13           469.94   0.55      0.23  \n",
       "                 4       0.41           0.13          1401.57   0.39      0.14  "
      ]
     },
     "execution_count": 42,
     "metadata": {},
     "output_type": "execute_result"
    }
   ],
   "source": [
    "g = df.groupby('NumberOfIntegers')\n",
    "# g.apply(lambda x: x).head(10)\n",
    "g.apply(lambda x: x.sample(g.size().min()).reset_index(drop=True)).head(10)"
   ]
  },
  {
   "cell_type": "markdown",
   "id": "0586e5b8",
   "metadata": {},
   "source": [
    "### Taking the minmum value of the insert() column of each group"
   ]
  },
  {
   "cell_type": "code",
   "execution_count": 43,
   "id": "ff2f74b8",
   "metadata": {
    "scrolled": true
   },
   "outputs": [
    {
     "data": {
      "text/plain": [
       "NumberOfIntegers\n",
       "100000     7.37\n",
       "125000    13.75\n",
       "150000     8.99\n",
       "175000     9.49\n",
       "200000    15.25\n",
       "225000    15.83\n",
       "250000    21.50\n",
       "275000    22.73\n",
       "300000    22.20\n",
       "325000    13.81\n",
       "350000    18.87\n",
       "375000    25.79\n",
       "400000    26.32\n",
       "425000    29.24\n",
       "450000    27.52\n",
       "475000    30.62\n",
       "500000    40.20\n",
       "525000    38.01\n",
       "550000    50.81\n",
       "575000    48.71\n",
       "Name: put(), dtype: float64"
      ]
     },
     "execution_count": 43,
     "metadata": {},
     "output_type": "execute_result"
    }
   ],
   "source": [
    "df.groupby('NumberOfIntegers')['put()'].min()"
   ]
  },
  {
   "cell_type": "markdown",
   "id": "3c252f11",
   "metadata": {},
   "source": [
    "### Viewing the entire rows of above values"
   ]
  },
  {
   "cell_type": "markdown",
   "id": "4bf83c9e",
   "metadata": {},
   "source": [
    "We need to take the minimum value of each column separately for each group, and consider it as the best data structure for that number of insert values. For example, below, we have considered the insert() column, and taken the minimum run-time for each group. The data structure that values belongs is the best data structure for that particular group in terms of insert() operation."
   ]
  },
  {
   "cell_type": "code",
   "execution_count": 44,
   "id": "34ce74fe",
   "metadata": {
    "scrolled": true
   },
   "outputs": [
    {
     "data": {
      "text/html": [
       "<div>\n",
       "<style scoped>\n",
       "    .dataframe tbody tr th:only-of-type {\n",
       "        vertical-align: middle;\n",
       "    }\n",
       "\n",
       "    .dataframe tbody tr th {\n",
       "        vertical-align: top;\n",
       "    }\n",
       "\n",
       "    .dataframe thead th {\n",
       "        text-align: right;\n",
       "    }\n",
       "</style>\n",
       "<table border=\"1\" class=\"dataframe\">\n",
       "  <thead>\n",
       "    <tr style=\"text-align: right;\">\n",
       "      <th></th>\n",
       "      <th>DataStructure</th>\n",
       "      <th>put()</th>\n",
       "    </tr>\n",
       "  </thead>\n",
       "  <tbody>\n",
       "    <tr>\n",
       "      <th>1</th>\n",
       "      <td>HashMap_Initialized</td>\n",
       "      <td>7.37</td>\n",
       "    </tr>\n",
       "    <tr>\n",
       "      <th>6</th>\n",
       "      <td>HashMap_Initialized</td>\n",
       "      <td>13.75</td>\n",
       "    </tr>\n",
       "    <tr>\n",
       "      <th>13</th>\n",
       "      <td>LinkedHashMap_Initialized</td>\n",
       "      <td>8.99</td>\n",
       "    </tr>\n",
       "    <tr>\n",
       "      <th>16</th>\n",
       "      <td>HashMap_Initialized</td>\n",
       "      <td>9.49</td>\n",
       "    </tr>\n",
       "    <tr>\n",
       "      <th>21</th>\n",
       "      <td>HashMap_Initialized</td>\n",
       "      <td>15.25</td>\n",
       "    </tr>\n",
       "    <tr>\n",
       "      <th>26</th>\n",
       "      <td>HashMap_Initialized</td>\n",
       "      <td>15.83</td>\n",
       "    </tr>\n",
       "    <tr>\n",
       "      <th>31</th>\n",
       "      <td>HashMap_Initialized</td>\n",
       "      <td>21.50</td>\n",
       "    </tr>\n",
       "    <tr>\n",
       "      <th>36</th>\n",
       "      <td>HashMap_Initialized</td>\n",
       "      <td>22.73</td>\n",
       "    </tr>\n",
       "    <tr>\n",
       "      <th>41</th>\n",
       "      <td>HashMap_Initialized</td>\n",
       "      <td>22.20</td>\n",
       "    </tr>\n",
       "    <tr>\n",
       "      <th>46</th>\n",
       "      <td>HashMap_Initialized</td>\n",
       "      <td>13.81</td>\n",
       "    </tr>\n",
       "    <tr>\n",
       "      <th>51</th>\n",
       "      <td>HashMap_Initialized</td>\n",
       "      <td>18.87</td>\n",
       "    </tr>\n",
       "    <tr>\n",
       "      <th>56</th>\n",
       "      <td>HashMap_Initialized</td>\n",
       "      <td>25.79</td>\n",
       "    </tr>\n",
       "    <tr>\n",
       "      <th>61</th>\n",
       "      <td>HashMap_Initialized</td>\n",
       "      <td>26.32</td>\n",
       "    </tr>\n",
       "    <tr>\n",
       "      <th>66</th>\n",
       "      <td>HashMap_Initialized</td>\n",
       "      <td>29.24</td>\n",
       "    </tr>\n",
       "    <tr>\n",
       "      <th>71</th>\n",
       "      <td>HashMap_Initialized</td>\n",
       "      <td>27.52</td>\n",
       "    </tr>\n",
       "    <tr>\n",
       "      <th>76</th>\n",
       "      <td>HashMap_Initialized</td>\n",
       "      <td>30.62</td>\n",
       "    </tr>\n",
       "    <tr>\n",
       "      <th>81</th>\n",
       "      <td>HashMap_Initialized</td>\n",
       "      <td>40.20</td>\n",
       "    </tr>\n",
       "    <tr>\n",
       "      <th>86</th>\n",
       "      <td>HashMap_Initialized</td>\n",
       "      <td>38.01</td>\n",
       "    </tr>\n",
       "    <tr>\n",
       "      <th>91</th>\n",
       "      <td>HashMap_Initialized</td>\n",
       "      <td>50.81</td>\n",
       "    </tr>\n",
       "    <tr>\n",
       "      <th>96</th>\n",
       "      <td>HashMap_Initialized</td>\n",
       "      <td>48.71</td>\n",
       "    </tr>\n",
       "  </tbody>\n",
       "</table>\n",
       "</div>"
      ],
      "text/plain": [
       "                DataStructure  put()\n",
       "1         HashMap_Initialized   7.37\n",
       "6         HashMap_Initialized  13.75\n",
       "13  LinkedHashMap_Initialized   8.99\n",
       "16        HashMap_Initialized   9.49\n",
       "21        HashMap_Initialized  15.25\n",
       "26        HashMap_Initialized  15.83\n",
       "31        HashMap_Initialized  21.50\n",
       "36        HashMap_Initialized  22.73\n",
       "41        HashMap_Initialized  22.20\n",
       "46        HashMap_Initialized  13.81\n",
       "51        HashMap_Initialized  18.87\n",
       "56        HashMap_Initialized  25.79\n",
       "61        HashMap_Initialized  26.32\n",
       "66        HashMap_Initialized  29.24\n",
       "71        HashMap_Initialized  27.52\n",
       "76        HashMap_Initialized  30.62\n",
       "81        HashMap_Initialized  40.20\n",
       "86        HashMap_Initialized  38.01\n",
       "91        HashMap_Initialized  50.81\n",
       "96        HashMap_Initialized  48.71"
      ]
     },
     "execution_count": 44,
     "metadata": {},
     "output_type": "execute_result"
    }
   ],
   "source": [
    "df.loc[df.groupby('NumberOfIntegers')['put()'].idxmin()][['DataStructure', 'put()']]"
   ]
  },
  {
   "cell_type": "markdown",
   "id": "2d682eb5",
   "metadata": {},
   "source": [
    "### Method that returns individual grouped dfs with min value of the relevant column"
   ]
  },
  {
   "cell_type": "code",
   "execution_count": 45,
   "id": "d2291fa0",
   "metadata": {},
   "outputs": [],
   "source": [
    "cols = ['put()', 'replace()', 'containsKey()', 'containsValue()', 'get()', 'remove()']\n",
    "def get_min_dfs():\n",
    "    return [df.loc[df.groupby('NumberOfIntegers')[col].idxmin()][['NumberOfIntegers', 'DataStructure', col]] for col in cols]"
   ]
  },
  {
   "cell_type": "code",
   "execution_count": 46,
   "id": "97030c83",
   "metadata": {
    "scrolled": false
   },
   "outputs": [
    {
     "data": {
      "text/plain": [
       "[    NumberOfIntegers              DataStructure  put()\n",
       " 1             100000        HashMap_Initialized   7.37\n",
       " 6             125000        HashMap_Initialized  13.75\n",
       " 13            150000  LinkedHashMap_Initialized   8.99\n",
       " 16            175000        HashMap_Initialized   9.49\n",
       " 21            200000        HashMap_Initialized  15.25\n",
       " 26            225000        HashMap_Initialized  15.83\n",
       " 31            250000        HashMap_Initialized  21.50\n",
       " 36            275000        HashMap_Initialized  22.73\n",
       " 41            300000        HashMap_Initialized  22.20\n",
       " 46            325000        HashMap_Initialized  13.81\n",
       " 51            350000        HashMap_Initialized  18.87\n",
       " 56            375000        HashMap_Initialized  25.79\n",
       " 61            400000        HashMap_Initialized  26.32\n",
       " 66            425000        HashMap_Initialized  29.24\n",
       " 71            450000        HashMap_Initialized  27.52\n",
       " 76            475000        HashMap_Initialized  30.62\n",
       " 81            500000        HashMap_Initialized  40.20\n",
       " 86            525000        HashMap_Initialized  38.01\n",
       " 91            550000        HashMap_Initialized  50.81\n",
       " 96            575000        HashMap_Initialized  48.71,\n",
       "     NumberOfIntegers              DataStructure  replace()\n",
       " 0             100000                    HashMap       0.33\n",
       " 5             125000                    HashMap       0.41\n",
       " 12            150000              LinkedHashMap       0.41\n",
       " 17            175000              LinkedHashMap       0.56\n",
       " 22            200000              LinkedHashMap       0.63\n",
       " 27            225000              LinkedHashMap       0.76\n",
       " 31            250000        HashMap_Initialized       0.82\n",
       " 38            275000  LinkedHashMap_Initialized       0.66\n",
       " 43            300000  LinkedHashMap_Initialized       0.71\n",
       " 46            325000        HashMap_Initialized       0.45\n",
       " 52            350000              LinkedHashMap       0.63\n",
       " 56            375000        HashMap_Initialized       0.45\n",
       " 61            400000        HashMap_Initialized       0.49\n",
       " 65            425000                    HashMap       0.73\n",
       " 73            450000  LinkedHashMap_Initialized       0.61\n",
       " 77            475000              LinkedHashMap       0.59\n",
       " 83            500000  LinkedHashMap_Initialized       0.87\n",
       " 87            525000              LinkedHashMap       1.01\n",
       " 92            550000              LinkedHashMap       0.77\n",
       " 97            575000              LinkedHashMap       1.12]"
      ]
     },
     "execution_count": 46,
     "metadata": {},
     "output_type": "execute_result"
    }
   ],
   "source": [
    "min_dfs = get_min_dfs()\n",
    "min_dfs[0:2]"
   ]
  },
  {
   "cell_type": "markdown",
   "id": "35b690a8",
   "metadata": {},
   "source": [
    "### Adding a new 'recommended' column"
   ]
  },
  {
   "cell_type": "markdown",
   "id": "0f9bb08d",
   "metadata": {},
   "source": [
    "Adding a new recommended column to the original dataset with the recommended data structure. Next, consider mapping all the groups(NumberOfIntegers) to their best data structure(here, we have taken the inser() column)."
   ]
  },
  {
   "cell_type": "code",
   "execution_count": 47,
   "id": "fe40737c",
   "metadata": {
    "scrolled": false
   },
   "outputs": [],
   "source": [
    "# converting the columns to arrays\n",
    "num_of_int_arr = min_dfs[0]['NumberOfIntegers'].to_numpy()\n",
    "col_arr = min_dfs[0]['DataStructure'].to_numpy()"
   ]
  },
  {
   "cell_type": "markdown",
   "id": "6199227e",
   "metadata": {},
   "source": [
    "Now, add a new column to save the recommended or the best data structures from each group, and add that value to other rows of each group as well."
   ]
  },
  {
   "cell_type": "markdown",
   "id": "8c0bd3bb",
   "metadata": {},
   "source": [
    "Below, we can see that the data structure that has minimum 'insert()' run-time has been added to the every row of each group in a new column."
   ]
  },
  {
   "cell_type": "markdown",
   "id": "9ea6dd55",
   "metadata": {},
   "source": [
    "### Do this to all the groups"
   ]
  },
  {
   "cell_type": "markdown",
   "id": "3d62fb23",
   "metadata": {},
   "source": [
    "#### Get dfs split into each function(insert(), insertAt(), etc.)"
   ]
  },
  {
   "cell_type": "code",
   "execution_count": 48,
   "id": "00d487d3",
   "metadata": {},
   "outputs": [],
   "source": [
    "def get_dfs():\n",
    "    return [df[['NumberOfIntegers', 'DataStructure', col]] for col in cols]"
   ]
  },
  {
   "cell_type": "code",
   "execution_count": 49,
   "id": "3b7174af",
   "metadata": {},
   "outputs": [],
   "source": [
    "split_dfs = get_dfs()\n",
    "# split_dfs[0:2]"
   ]
  },
  {
   "cell_type": "code",
   "execution_count": 50,
   "id": "3e27b73b",
   "metadata": {
    "scrolled": true
   },
   "outputs": [
    {
     "name": "stderr",
     "output_type": "stream",
     "text": [
      "/tmp/ipykernel_101/509006722.py:6: SettingWithCopyWarning: \n",
      "A value is trying to be set on a copy of a slice from a DataFrame.\n",
      "Try using .loc[row_indexer,col_indexer] = value instead\n",
      "\n",
      "See the caveats in the documentation: https://pandas.pydata.org/pandas-docs/stable/user_guide/indexing.html#returning-a-view-versus-a-copy\n",
      "  split_df[new_cols[index]] = split_df['NumberOfIntegers'].map(mappings[index])\n"
     ]
    }
   ],
   "source": [
    "min_datastructures = [min_df['DataStructure'].to_numpy() for min_df in min_dfs] # list of data structures with the minimum value\n",
    "mappings = [dict(zip(num_of_int_arr, min_df)) for min_df in min_datastructures] # list of mappings\n",
    "new_cols = ['ds_put()', 'ds_replace()', 'ds_containsKey()', 'ds_containsValue()', 'ds_get()', 'ds_remove()']\n",
    "\n",
    "for index, split_df in enumerate(split_dfs):\n",
    "    split_df[new_cols[index]] = split_df['NumberOfIntegers'].map(mappings[index])"
   ]
  },
  {
   "cell_type": "code",
   "execution_count": 51,
   "id": "77559789",
   "metadata": {
    "scrolled": false
   },
   "outputs": [
    {
     "data": {
      "text/html": [
       "<div>\n",
       "<style scoped>\n",
       "    .dataframe tbody tr th:only-of-type {\n",
       "        vertical-align: middle;\n",
       "    }\n",
       "\n",
       "    .dataframe tbody tr th {\n",
       "        vertical-align: top;\n",
       "    }\n",
       "\n",
       "    .dataframe thead th {\n",
       "        text-align: right;\n",
       "    }\n",
       "</style>\n",
       "<table border=\"1\" class=\"dataframe\">\n",
       "  <thead>\n",
       "    <tr style=\"text-align: right;\">\n",
       "      <th></th>\n",
       "      <th>NumberOfIntegers</th>\n",
       "      <th>DataStructure</th>\n",
       "      <th>put()</th>\n",
       "      <th>ds_put()</th>\n",
       "    </tr>\n",
       "  </thead>\n",
       "  <tbody>\n",
       "    <tr>\n",
       "      <th>0</th>\n",
       "      <td>100000</td>\n",
       "      <td>HashMap</td>\n",
       "      <td>16.47</td>\n",
       "      <td>HashMap_Initialized</td>\n",
       "    </tr>\n",
       "    <tr>\n",
       "      <th>1</th>\n",
       "      <td>100000</td>\n",
       "      <td>HashMap_Initialized</td>\n",
       "      <td>7.37</td>\n",
       "      <td>HashMap_Initialized</td>\n",
       "    </tr>\n",
       "    <tr>\n",
       "      <th>2</th>\n",
       "      <td>100000</td>\n",
       "      <td>LinkedHashMap</td>\n",
       "      <td>12.10</td>\n",
       "      <td>HashMap_Initialized</td>\n",
       "    </tr>\n",
       "    <tr>\n",
       "      <th>3</th>\n",
       "      <td>100000</td>\n",
       "      <td>LinkedHashMap_Initialized</td>\n",
       "      <td>8.94</td>\n",
       "      <td>HashMap_Initialized</td>\n",
       "    </tr>\n",
       "    <tr>\n",
       "      <th>4</th>\n",
       "      <td>100000</td>\n",
       "      <td>TreeMap</td>\n",
       "      <td>55.90</td>\n",
       "      <td>HashMap_Initialized</td>\n",
       "    </tr>\n",
       "    <tr>\n",
       "      <th>5</th>\n",
       "      <td>125000</td>\n",
       "      <td>HashMap</td>\n",
       "      <td>17.43</td>\n",
       "      <td>HashMap_Initialized</td>\n",
       "    </tr>\n",
       "    <tr>\n",
       "      <th>6</th>\n",
       "      <td>125000</td>\n",
       "      <td>HashMap_Initialized</td>\n",
       "      <td>13.75</td>\n",
       "      <td>HashMap_Initialized</td>\n",
       "    </tr>\n",
       "    <tr>\n",
       "      <th>7</th>\n",
       "      <td>125000</td>\n",
       "      <td>LinkedHashMap</td>\n",
       "      <td>15.49</td>\n",
       "      <td>HashMap_Initialized</td>\n",
       "    </tr>\n",
       "    <tr>\n",
       "      <th>8</th>\n",
       "      <td>125000</td>\n",
       "      <td>LinkedHashMap_Initialized</td>\n",
       "      <td>19.14</td>\n",
       "      <td>HashMap_Initialized</td>\n",
       "    </tr>\n",
       "    <tr>\n",
       "      <th>9</th>\n",
       "      <td>125000</td>\n",
       "      <td>TreeMap</td>\n",
       "      <td>69.02</td>\n",
       "      <td>HashMap_Initialized</td>\n",
       "    </tr>\n",
       "    <tr>\n",
       "      <th>10</th>\n",
       "      <td>150000</td>\n",
       "      <td>HashMap</td>\n",
       "      <td>20.95</td>\n",
       "      <td>LinkedHashMap_Initialized</td>\n",
       "    </tr>\n",
       "    <tr>\n",
       "      <th>11</th>\n",
       "      <td>150000</td>\n",
       "      <td>HashMap_Initialized</td>\n",
       "      <td>11.57</td>\n",
       "      <td>LinkedHashMap_Initialized</td>\n",
       "    </tr>\n",
       "    <tr>\n",
       "      <th>12</th>\n",
       "      <td>150000</td>\n",
       "      <td>LinkedHashMap</td>\n",
       "      <td>12.27</td>\n",
       "      <td>LinkedHashMap_Initialized</td>\n",
       "    </tr>\n",
       "    <tr>\n",
       "      <th>13</th>\n",
       "      <td>150000</td>\n",
       "      <td>LinkedHashMap_Initialized</td>\n",
       "      <td>8.99</td>\n",
       "      <td>LinkedHashMap_Initialized</td>\n",
       "    </tr>\n",
       "    <tr>\n",
       "      <th>14</th>\n",
       "      <td>150000</td>\n",
       "      <td>TreeMap</td>\n",
       "      <td>76.70</td>\n",
       "      <td>LinkedHashMap_Initialized</td>\n",
       "    </tr>\n",
       "    <tr>\n",
       "      <th>15</th>\n",
       "      <td>175000</td>\n",
       "      <td>HashMap</td>\n",
       "      <td>29.50</td>\n",
       "      <td>HashMap_Initialized</td>\n",
       "    </tr>\n",
       "    <tr>\n",
       "      <th>16</th>\n",
       "      <td>175000</td>\n",
       "      <td>HashMap_Initialized</td>\n",
       "      <td>9.49</td>\n",
       "      <td>HashMap_Initialized</td>\n",
       "    </tr>\n",
       "    <tr>\n",
       "      <th>17</th>\n",
       "      <td>175000</td>\n",
       "      <td>LinkedHashMap</td>\n",
       "      <td>12.38</td>\n",
       "      <td>HashMap_Initialized</td>\n",
       "    </tr>\n",
       "    <tr>\n",
       "      <th>18</th>\n",
       "      <td>175000</td>\n",
       "      <td>LinkedHashMap_Initialized</td>\n",
       "      <td>11.41</td>\n",
       "      <td>HashMap_Initialized</td>\n",
       "    </tr>\n",
       "    <tr>\n",
       "      <th>19</th>\n",
       "      <td>175000</td>\n",
       "      <td>TreeMap</td>\n",
       "      <td>94.63</td>\n",
       "      <td>HashMap_Initialized</td>\n",
       "    </tr>\n",
       "  </tbody>\n",
       "</table>\n",
       "</div>"
      ],
      "text/plain": [
       "    NumberOfIntegers              DataStructure  put()  \\\n",
       "0             100000                    HashMap  16.47   \n",
       "1             100000        HashMap_Initialized   7.37   \n",
       "2             100000              LinkedHashMap  12.10   \n",
       "3             100000  LinkedHashMap_Initialized   8.94   \n",
       "4             100000                    TreeMap  55.90   \n",
       "5             125000                    HashMap  17.43   \n",
       "6             125000        HashMap_Initialized  13.75   \n",
       "7             125000              LinkedHashMap  15.49   \n",
       "8             125000  LinkedHashMap_Initialized  19.14   \n",
       "9             125000                    TreeMap  69.02   \n",
       "10            150000                    HashMap  20.95   \n",
       "11            150000        HashMap_Initialized  11.57   \n",
       "12            150000              LinkedHashMap  12.27   \n",
       "13            150000  LinkedHashMap_Initialized   8.99   \n",
       "14            150000                    TreeMap  76.70   \n",
       "15            175000                    HashMap  29.50   \n",
       "16            175000        HashMap_Initialized   9.49   \n",
       "17            175000              LinkedHashMap  12.38   \n",
       "18            175000  LinkedHashMap_Initialized  11.41   \n",
       "19            175000                    TreeMap  94.63   \n",
       "\n",
       "                     ds_put()  \n",
       "0         HashMap_Initialized  \n",
       "1         HashMap_Initialized  \n",
       "2         HashMap_Initialized  \n",
       "3         HashMap_Initialized  \n",
       "4         HashMap_Initialized  \n",
       "5         HashMap_Initialized  \n",
       "6         HashMap_Initialized  \n",
       "7         HashMap_Initialized  \n",
       "8         HashMap_Initialized  \n",
       "9         HashMap_Initialized  \n",
       "10  LinkedHashMap_Initialized  \n",
       "11  LinkedHashMap_Initialized  \n",
       "12  LinkedHashMap_Initialized  \n",
       "13  LinkedHashMap_Initialized  \n",
       "14  LinkedHashMap_Initialized  \n",
       "15        HashMap_Initialized  \n",
       "16        HashMap_Initialized  \n",
       "17        HashMap_Initialized  \n",
       "18        HashMap_Initialized  \n",
       "19        HashMap_Initialized  "
      ]
     },
     "execution_count": 51,
     "metadata": {},
     "output_type": "execute_result"
    }
   ],
   "source": [
    "split_dfs[0:1][0].head(20)"
   ]
  },
  {
   "cell_type": "markdown",
   "id": "9675d4ef",
   "metadata": {},
   "source": [
    "## Add a dataframe into a ms word table with docx"
   ]
  },
  {
   "cell_type": "code",
   "execution_count": 52,
   "id": "a60d84be",
   "metadata": {},
   "outputs": [],
   "source": [
    "import docx\n",
    "\n",
    "table_df = split_dfs[0:1][0].head(20)\n",
    "\n",
    "doc = docx.Document()\n",
    "\n",
    "t = doc.add_table(table_df.shape[0]+1, table_df.shape[1])\n",
    "\n",
    "for j in range(table_df.shape[-1]):\n",
    "    t.cell(0,j).text = table_df.columns[j]\n",
    "    \n",
    "for i in range(table_df.shape[0]):\n",
    "    for j in range(table_df.shape[-1]):\n",
    "        t.cell(i+1,j).text = str(table_df.values[i,j])\n",
    "        \n",
    "doc.save('./data/pd_df_map_put_table.docx')"
   ]
  },
  {
   "cell_type": "markdown",
   "id": "2e7a0d0c",
   "metadata": {},
   "source": [
    "## Classification"
   ]
  },
  {
   "cell_type": "markdown",
   "id": "ea1a3046",
   "metadata": {},
   "source": [
    "### Method to get the trained model info"
   ]
  },
  {
   "cell_type": "code",
   "execution_count": 53,
   "id": "c2454337",
   "metadata": {},
   "outputs": [],
   "source": [
    "import sklearn.metrics as metrics\n",
    "\n",
    "def print_model_performance(model, X_test, y_test):\n",
    "    y_pred = model.predict(X_test)\n",
    "    print('Accuracy score:\\n', metrics.accuracy_score(y_test, y_pred))\n",
    "    print('Confusion matrix:\\n', metrics.confusion_matrix(y_test, y_pred))\n",
    "    print('Classification report:\\n', metrics.classification_report(y_test, y_pred, digits=4))\n",
    "    print('Precision:\\n',metrics.precision_score(y_test, y_pred, average=None))\n",
    "    print('Recall:\\n',metrics.recall_score(y_test, y_pred, average=None))"
   ]
  },
  {
   "cell_type": "markdown",
   "id": "32a45394",
   "metadata": {},
   "source": [
    "### Encode the 'DataStructure' column"
   ]
  },
  {
   "cell_type": "code",
   "execution_count": 54,
   "id": "2a38abde",
   "metadata": {},
   "outputs": [],
   "source": [
    "# encoding data structures so it can be used as an input parameter\n",
    "ds_encode_dic = {\"HashMap\": 0, \"HashMap_Initialized\": 1, \"LinkedHashMap\": 2, \"LinkedHashMap_Initialized\": 3, \"TreeMap\": 4}\n",
    "\n",
    "split_dfs = [df.replace({\"DataStructure\": ds_encode_dic}) for df in split_dfs]\n",
    "# split_dfs = [df.replace({new_cols[i]: ds_encode_dic}) for i, df in enumerate(split_dfs)]"
   ]
  },
  {
   "cell_type": "code",
   "execution_count": 55,
   "id": "d6ab14ab",
   "metadata": {},
   "outputs": [
    {
     "data": {
      "text/html": [
       "<div>\n",
       "<style scoped>\n",
       "    .dataframe tbody tr th:only-of-type {\n",
       "        vertical-align: middle;\n",
       "    }\n",
       "\n",
       "    .dataframe tbody tr th {\n",
       "        vertical-align: top;\n",
       "    }\n",
       "\n",
       "    .dataframe thead th {\n",
       "        text-align: right;\n",
       "    }\n",
       "</style>\n",
       "<table border=\"1\" class=\"dataframe\">\n",
       "  <thead>\n",
       "    <tr style=\"text-align: right;\">\n",
       "      <th></th>\n",
       "      <th>NumberOfIntegers</th>\n",
       "      <th>DataStructure</th>\n",
       "      <th>put()</th>\n",
       "      <th>ds_put()</th>\n",
       "    </tr>\n",
       "  </thead>\n",
       "  <tbody>\n",
       "    <tr>\n",
       "      <th>0</th>\n",
       "      <td>100000</td>\n",
       "      <td>0</td>\n",
       "      <td>16.47</td>\n",
       "      <td>HashMap_Initialized</td>\n",
       "    </tr>\n",
       "    <tr>\n",
       "      <th>1</th>\n",
       "      <td>100000</td>\n",
       "      <td>1</td>\n",
       "      <td>7.37</td>\n",
       "      <td>HashMap_Initialized</td>\n",
       "    </tr>\n",
       "    <tr>\n",
       "      <th>2</th>\n",
       "      <td>100000</td>\n",
       "      <td>2</td>\n",
       "      <td>12.10</td>\n",
       "      <td>HashMap_Initialized</td>\n",
       "    </tr>\n",
       "    <tr>\n",
       "      <th>3</th>\n",
       "      <td>100000</td>\n",
       "      <td>3</td>\n",
       "      <td>8.94</td>\n",
       "      <td>HashMap_Initialized</td>\n",
       "    </tr>\n",
       "    <tr>\n",
       "      <th>4</th>\n",
       "      <td>100000</td>\n",
       "      <td>4</td>\n",
       "      <td>55.90</td>\n",
       "      <td>HashMap_Initialized</td>\n",
       "    </tr>\n",
       "    <tr>\n",
       "      <th>5</th>\n",
       "      <td>125000</td>\n",
       "      <td>0</td>\n",
       "      <td>17.43</td>\n",
       "      <td>HashMap_Initialized</td>\n",
       "    </tr>\n",
       "    <tr>\n",
       "      <th>6</th>\n",
       "      <td>125000</td>\n",
       "      <td>1</td>\n",
       "      <td>13.75</td>\n",
       "      <td>HashMap_Initialized</td>\n",
       "    </tr>\n",
       "    <tr>\n",
       "      <th>7</th>\n",
       "      <td>125000</td>\n",
       "      <td>2</td>\n",
       "      <td>15.49</td>\n",
       "      <td>HashMap_Initialized</td>\n",
       "    </tr>\n",
       "    <tr>\n",
       "      <th>8</th>\n",
       "      <td>125000</td>\n",
       "      <td>3</td>\n",
       "      <td>19.14</td>\n",
       "      <td>HashMap_Initialized</td>\n",
       "    </tr>\n",
       "    <tr>\n",
       "      <th>9</th>\n",
       "      <td>125000</td>\n",
       "      <td>4</td>\n",
       "      <td>69.02</td>\n",
       "      <td>HashMap_Initialized</td>\n",
       "    </tr>\n",
       "  </tbody>\n",
       "</table>\n",
       "</div>"
      ],
      "text/plain": [
       "   NumberOfIntegers  DataStructure  put()             ds_put()\n",
       "0            100000              0  16.47  HashMap_Initialized\n",
       "1            100000              1   7.37  HashMap_Initialized\n",
       "2            100000              2  12.10  HashMap_Initialized\n",
       "3            100000              3   8.94  HashMap_Initialized\n",
       "4            100000              4  55.90  HashMap_Initialized\n",
       "5            125000              0  17.43  HashMap_Initialized\n",
       "6            125000              1  13.75  HashMap_Initialized\n",
       "7            125000              2  15.49  HashMap_Initialized\n",
       "8            125000              3  19.14  HashMap_Initialized\n",
       "9            125000              4  69.02  HashMap_Initialized"
      ]
     },
     "execution_count": 55,
     "metadata": {},
     "output_type": "execute_result"
    }
   ],
   "source": [
    "split_dfs[0:1][0].head(10)"
   ]
  },
  {
   "cell_type": "code",
   "execution_count": 56,
   "id": "d7f02c48",
   "metadata": {
    "scrolled": true
   },
   "outputs": [
    {
     "name": "stdout",
     "output_type": "stream",
     "text": [
      "(100, 4)\n",
      "2\n"
     ]
    }
   ],
   "source": [
    "print(split_dfs[0:1][0].shape)\n",
    "\n",
    "num_of_classes = len(split_dfs[0:1][0]['ds_put()'].unique())\n",
    "print(num_of_classes)"
   ]
  },
  {
   "cell_type": "markdown",
   "id": "d06554e1",
   "metadata": {},
   "source": [
    "### split train input and output data"
   ]
  },
  {
   "cell_type": "code",
   "execution_count": 57,
   "id": "d8b48c00",
   "metadata": {
    "scrolled": true
   },
   "outputs": [],
   "source": [
    "# split train input and output data\n",
    "Xs = []\n",
    "Ys = []\n",
    "\n",
    "for i, df in enumerate(split_dfs):\n",
    "    Xs.append(df.drop(axis=0, columns=[new_cols[i]]))\n",
    "    Ys.append(df[new_cols[i]])"
   ]
  },
  {
   "cell_type": "markdown",
   "id": "5c8e3481",
   "metadata": {},
   "source": [
    "## Xgboost classifier"
   ]
  },
  {
   "cell_type": "code",
   "execution_count": 76,
   "id": "148a086d",
   "metadata": {
    "scrolled": false
   },
   "outputs": [
    {
     "name": "stderr",
     "output_type": "stream",
     "text": [
      "/home/janithahn/anaconda3/envs/ml/lib/python3.8/site-packages/xgboost/sklearn.py:1224: UserWarning: The use of label encoder in XGBClassifier is deprecated and will be removed in a future release. To remove this warning, do the following: 1) Pass option use_label_encoder=False when constructing XGBClassifier object; and 2) Encode your labels (y) as integers starting with 0, i.e. 0, 1, 2, ..., [num_class - 1].\n",
      "  warnings.warn(label_encoder_deprecation_msg, UserWarning)\n",
      "/home/janithahn/anaconda3/envs/ml/lib/python3.8/site-packages/sklearn/metrics/_classification.py:1248: UndefinedMetricWarning: Precision and F-score are ill-defined and being set to 0.0 in labels with no predicted samples. Use `zero_division` parameter to control this behavior.\n",
      "  _warn_prf(average, modifier, msg_start, len(result))\n",
      "/home/janithahn/anaconda3/envs/ml/lib/python3.8/site-packages/sklearn/metrics/_classification.py:1248: UndefinedMetricWarning: Precision and F-score are ill-defined and being set to 0.0 in labels with no predicted samples. Use `zero_division` parameter to control this behavior.\n",
      "  _warn_prf(average, modifier, msg_start, len(result))\n",
      "/home/janithahn/anaconda3/envs/ml/lib/python3.8/site-packages/sklearn/metrics/_classification.py:1248: UndefinedMetricWarning: Precision and F-score are ill-defined and being set to 0.0 in labels with no predicted samples. Use `zero_division` parameter to control this behavior.\n",
      "  _warn_prf(average, modifier, msg_start, len(result))\n",
      "/home/janithahn/anaconda3/envs/ml/lib/python3.8/site-packages/sklearn/metrics/_classification.py:1248: UndefinedMetricWarning: Precision is ill-defined and being set to 0.0 in labels with no predicted samples. Use `zero_division` parameter to control this behavior.\n",
      "  _warn_prf(average, modifier, msg_start, len(result))\n",
      "/home/janithahn/anaconda3/envs/ml/lib/python3.8/site-packages/xgboost/sklearn.py:1224: UserWarning: The use of label encoder in XGBClassifier is deprecated and will be removed in a future release. To remove this warning, do the following: 1) Pass option use_label_encoder=False when constructing XGBClassifier object; and 2) Encode your labels (y) as integers starting with 0, i.e. 0, 1, 2, ..., [num_class - 1].\n",
      "  warnings.warn(label_encoder_deprecation_msg, UserWarning)\n"
     ]
    },
    {
     "name": "stdout",
     "output_type": "stream",
     "text": [
      "\n",
      "--------------------------ds_put()--------------------------\n",
      "Accuracy score:\n",
      " 0.9090909090909091\n",
      "Confusion matrix:\n",
      " [[30  0]\n",
      " [ 3  0]]\n",
      "Classification report:\n",
      "                            precision    recall  f1-score   support\n",
      "\n",
      "      HashMap_Initialized     0.9091    1.0000    0.9524        30\n",
      "LinkedHashMap_Initialized     0.0000    0.0000    0.0000         3\n",
      "\n",
      "                 accuracy                         0.9091        33\n",
      "                macro avg     0.4545    0.5000    0.4762        33\n",
      "             weighted avg     0.8264    0.9091    0.8658        33\n",
      "\n",
      "Precision:\n",
      " [0.90909091 0.        ]\n",
      "Recall:\n",
      " [1. 0.]\n",
      "----------------------------------------------------------------\n",
      "\n",
      "--------------------------ds_replace()--------------------------\n",
      "Accuracy score:\n",
      " 0.9696969696969697\n",
      "Confusion matrix:\n",
      " [[ 3  0  1  0]\n",
      " [ 0  6  0  0]\n",
      " [ 0  0 14  0]\n",
      " [ 0  0  0  9]]\n",
      "Classification report:\n",
      "                            precision    recall  f1-score   support\n",
      "\n",
      "                  HashMap     1.0000    0.7500    0.8571         4\n",
      "      HashMap_Initialized     1.0000    1.0000    1.0000         6\n",
      "            LinkedHashMap     0.9333    1.0000    0.9655        14\n",
      "LinkedHashMap_Initialized     1.0000    1.0000    1.0000         9\n",
      "\n",
      "                 accuracy                         0.9697        33\n",
      "                macro avg     0.9833    0.9375    0.9557        33\n",
      "             weighted avg     0.9717    0.9697    0.9681        33\n",
      "\n",
      "Precision:\n",
      " [1.         1.         0.93333333 1.        ]\n",
      "Recall:\n",
      " [0.75 1.   1.   1.  ]\n",
      "----------------------------------------------------------------\n"
     ]
    },
    {
     "name": "stderr",
     "output_type": "stream",
     "text": [
      "/home/janithahn/anaconda3/envs/ml/lib/python3.8/site-packages/xgboost/sklearn.py:1224: UserWarning: The use of label encoder in XGBClassifier is deprecated and will be removed in a future release. To remove this warning, do the following: 1) Pass option use_label_encoder=False when constructing XGBClassifier object; and 2) Encode your labels (y) as integers starting with 0, i.e. 0, 1, 2, ..., [num_class - 1].\n",
      "  warnings.warn(label_encoder_deprecation_msg, UserWarning)\n",
      "/home/janithahn/anaconda3/envs/ml/lib/python3.8/site-packages/xgboost/sklearn.py:1224: UserWarning: The use of label encoder in XGBClassifier is deprecated and will be removed in a future release. To remove this warning, do the following: 1) Pass option use_label_encoder=False when constructing XGBClassifier object; and 2) Encode your labels (y) as integers starting with 0, i.e. 0, 1, 2, ..., [num_class - 1].\n",
      "  warnings.warn(label_encoder_deprecation_msg, UserWarning)\n"
     ]
    },
    {
     "name": "stdout",
     "output_type": "stream",
     "text": [
      "\n",
      "--------------------------ds_containsKey()--------------------------\n",
      "Accuracy score:\n",
      " 0.9393939393939394\n",
      "Confusion matrix:\n",
      " [[ 3  0  0  0]\n",
      " [ 0 18  0  0]\n",
      " [ 0  2  5  0]\n",
      " [ 0  0  0  5]]\n",
      "Classification report:\n",
      "                            precision    recall  f1-score   support\n",
      "\n",
      "                  HashMap     1.0000    1.0000    1.0000         3\n",
      "      HashMap_Initialized     0.9000    1.0000    0.9474        18\n",
      "            LinkedHashMap     1.0000    0.7143    0.8333         7\n",
      "LinkedHashMap_Initialized     1.0000    1.0000    1.0000         5\n",
      "\n",
      "                 accuracy                         0.9394        33\n",
      "                macro avg     0.9750    0.9286    0.9452        33\n",
      "             weighted avg     0.9455    0.9394    0.9359        33\n",
      "\n",
      "Precision:\n",
      " [1.  0.9 1.  1. ]\n",
      "Recall:\n",
      " [1.         1.         0.71428571 1.        ]\n",
      "----------------------------------------------------------------\n",
      "\n",
      "--------------------------ds_containsValue()--------------------------\n",
      "Accuracy score:\n",
      " 1.0\n",
      "Confusion matrix:\n",
      " [[ 7  0]\n",
      " [ 0 26]]\n",
      "Classification report:\n",
      "                            precision    recall  f1-score   support\n",
      "\n",
      "            LinkedHashMap     1.0000    1.0000    1.0000         7\n",
      "LinkedHashMap_Initialized     1.0000    1.0000    1.0000        26\n",
      "\n",
      "                 accuracy                         1.0000        33\n",
      "                macro avg     1.0000    1.0000    1.0000        33\n",
      "             weighted avg     1.0000    1.0000    1.0000        33\n",
      "\n",
      "Precision:\n",
      " [1. 1.]\n",
      "Recall:\n",
      " [1. 1.]\n",
      "----------------------------------------------------------------\n"
     ]
    },
    {
     "name": "stderr",
     "output_type": "stream",
     "text": [
      "/home/janithahn/anaconda3/envs/ml/lib/python3.8/site-packages/xgboost/sklearn.py:1224: UserWarning: The use of label encoder in XGBClassifier is deprecated and will be removed in a future release. To remove this warning, do the following: 1) Pass option use_label_encoder=False when constructing XGBClassifier object; and 2) Encode your labels (y) as integers starting with 0, i.e. 0, 1, 2, ..., [num_class - 1].\n",
      "  warnings.warn(label_encoder_deprecation_msg, UserWarning)\n",
      "/home/janithahn/anaconda3/envs/ml/lib/python3.8/site-packages/xgboost/sklearn.py:1224: UserWarning: The use of label encoder in XGBClassifier is deprecated and will be removed in a future release. To remove this warning, do the following: 1) Pass option use_label_encoder=False when constructing XGBClassifier object; and 2) Encode your labels (y) as integers starting with 0, i.e. 0, 1, 2, ..., [num_class - 1].\n",
      "  warnings.warn(label_encoder_deprecation_msg, UserWarning)\n"
     ]
    },
    {
     "name": "stdout",
     "output_type": "stream",
     "text": [
      "\n",
      "--------------------------ds_get()--------------------------\n",
      "Accuracy score:\n",
      " 0.9090909090909091\n",
      "Confusion matrix:\n",
      " [[16  0  0  2]\n",
      " [ 1  7  0  0]\n",
      " [ 0  0  4  0]\n",
      " [ 0  0  0  3]]\n",
      "Classification report:\n",
      "                            precision    recall  f1-score   support\n",
      "\n",
      "                  HashMap     0.9412    0.8889    0.9143        18\n",
      "      HashMap_Initialized     1.0000    0.8750    0.9333         8\n",
      "            LinkedHashMap     1.0000    1.0000    1.0000         4\n",
      "LinkedHashMap_Initialized     0.6000    1.0000    0.7500         3\n",
      "\n",
      "                 accuracy                         0.9091        33\n",
      "                macro avg     0.8853    0.9410    0.8994        33\n",
      "             weighted avg     0.9316    0.9091    0.9144        33\n",
      "\n",
      "Precision:\n",
      " [0.94117647 1.         1.         0.6       ]\n",
      "Recall:\n",
      " [0.88888889 0.875      1.         1.        ]\n",
      "----------------------------------------------------------------\n",
      "\n",
      "--------------------------ds_remove()--------------------------\n",
      "Accuracy score:\n",
      " 1.0\n",
      "Confusion matrix:\n",
      " [[15  0  0  0]\n",
      " [ 0 13  0  0]\n",
      " [ 0  0  3  0]\n",
      " [ 0  0  0  2]]\n",
      "Classification report:\n",
      "                            precision    recall  f1-score   support\n",
      "\n",
      "                  HashMap     1.0000    1.0000    1.0000        15\n",
      "      HashMap_Initialized     1.0000    1.0000    1.0000        13\n",
      "            LinkedHashMap     1.0000    1.0000    1.0000         3\n",
      "LinkedHashMap_Initialized     1.0000    1.0000    1.0000         2\n",
      "\n",
      "                 accuracy                         1.0000        33\n",
      "                macro avg     1.0000    1.0000    1.0000        33\n",
      "             weighted avg     1.0000    1.0000    1.0000        33\n",
      "\n",
      "Precision:\n",
      " [1. 1. 1. 1.]\n",
      "Recall:\n",
      " [1. 1. 1. 1.]\n",
      "----------------------------------------------------------------\n"
     ]
    }
   ],
   "source": [
    "from xgboost import XGBClassifier\n",
    "from sklearn.tree import DecisionTreeClassifier\n",
    "from sklearn.model_selection import train_test_split\n",
    "\n",
    "model_dic = {}\n",
    "\n",
    "for X, Y, col_name in zip(Xs, Ys, new_cols):\n",
    "    # Split into training and test sets\n",
    "    X_train, X_test, y_train, y_test = train_test_split(X, Y, test_size=0.33, random_state=42)\n",
    "    \n",
    "    # Create a classifier\n",
    "    xgb = XGBClassifier(\n",
    "                              booster='gbtree', \n",
    "                              objective='multi:softprob', \n",
    "                              random_state=42, \n",
    "                              eval_metric=\"auc\", \n",
    "                              num_class=num_of_classes,\n",
    "                              # n_estimators=5\n",
    "                              # use_label_encoder=False\n",
    "                          )\n",
    "\n",
    "    # define the datasets to evaluate each iteration\n",
    "    evalset = [(X_train, y_train), (X_test, y_test)]\n",
    "\n",
    "    # Fit the classifier with the training data\n",
    "    xgb.fit(X_train, y_train, eval_metric=['merror','mlogloss'], eval_set=evalset, verbose=False)\n",
    "    \n",
    "    model_dic[col_name] = xgb\n",
    "\n",
    "    print('\\n--------------------------' + col_name + '--------------------------')\n",
    "    print_model_performance(xgb, X_test, y_test)\n",
    "    print('----------------------------------------------------------------')"
   ]
  },
  {
   "cell_type": "markdown",
   "id": "4959ff9e",
   "metadata": {},
   "source": [
    "## Learning curves"
   ]
  },
  {
   "cell_type": "code",
   "execution_count": 59,
   "id": "f10402bf",
   "metadata": {},
   "outputs": [
    {
     "name": "stdout",
     "output_type": "stream",
     "text": [
      "\n",
      "--------------------------ds_put()--------------------------\n"
     ]
    },
    {
     "data": {
      "image/png": "[encoded data removed]",
      "text/plain": [
       "<Figure size 432x288 with 1 Axes>"
      ]
     },
     "metadata": {
      "needs_background": "light"
     },
     "output_type": "display_data"
    },
    {
     "name": "stdout",
     "output_type": "stream",
     "text": [
      "\n",
      "--------------------------ds_replace()--------------------------\n"
     ]
    },
    {
     "data": {
      "image/png": "[encoded data removed]",
      "text/plain": [
       "<Figure size 432x288 with 1 Axes>"
      ]
     },
     "metadata": {
      "needs_background": "light"
     },
     "output_type": "display_data"
    },
    {
     "name": "stdout",
     "output_type": "stream",
     "text": [
      "\n",
      "--------------------------ds_containsKey()--------------------------\n"
     ]
    },
    {
     "data": {
      "image/png": "[encoded data removed]",
      "text/plain": [
       "<Figure size 432x288 with 1 Axes>"
      ]
     },
     "metadata": {
      "needs_background": "light"
     },
     "output_type": "display_data"
    },
    {
     "name": "stdout",
     "output_type": "stream",
     "text": [
      "\n",
      "--------------------------ds_containsValue()--------------------------\n"
     ]
    },
    {
     "data": {
      "image/png": "[encoded data removed]",
      "text/plain": [
       "<Figure size 432x288 with 1 Axes>"
      ]
     },
     "metadata": {
      "needs_background": "light"
     },
     "output_type": "display_data"
    },
    {
     "name": "stdout",
     "output_type": "stream",
     "text": [
      "\n",
      "--------------------------ds_get()--------------------------\n"
     ]
    },
    {
     "data": {
      "image/png": "[encoded data removed]",
      "text/plain": [
       "<Figure size 432x288 with 1 Axes>"
      ]
     },
     "metadata": {
      "needs_background": "light"
     },
     "output_type": "display_data"
    },
    {
     "name": "stdout",
     "output_type": "stream",
     "text": [
      "\n",
      "--------------------------ds_remove()--------------------------\n"
     ]
    },
    {
     "data": {
      "image/png": "[encoded data removed]",
      "text/plain": [
       "<Figure size 432x288 with 1 Axes>"
      ]
     },
     "metadata": {
      "needs_background": "light"
     },
     "output_type": "display_data"
    }
   ],
   "source": [
    "for key, model in model_dic.items():\n",
    "    print('\\n--------------------------' + key + '--------------------------')\n",
    "    \n",
    "    # retrieve performance metrics\n",
    "    results = model.evals_result()\n",
    "\n",
    "    # plot learning curves\n",
    "    plt.plot(results['validation_0']['mlogloss'], label='train')\n",
    "    plt.plot(results['validation_1']['mlogloss'], label='test')\n",
    "    # show the legend\n",
    "    plt.legend()\n",
    "    # show the plot\n",
    "    plt.show()"
   ]
  },
  {
   "cell_type": "code",
   "execution_count": 46,
   "id": "a5ecb909",
   "metadata": {
    "scrolled": true
   },
   "outputs": [],
   "source": [
    "# for key, model in model_dic.items():\n",
    "#     print('\\n--------------------------' + key + '--------------------------')\n",
    "    \n",
    "#     # retrieve performance metrics\n",
    "#     results = model.evals_result()\n",
    "\n",
    "#     # plot learning curves\n",
    "#     plt.plot(results['validation_0']['merror'], label='train')\n",
    "#     plt.plot(results['validation_1']['merror'], label='test')\n",
    "#     # show the legend\n",
    "#     plt.legend()\n",
    "#     # show the plot\n",
    "#     plt.show()"
   ]
  },
  {
   "cell_type": "code",
   "execution_count": 47,
   "id": "8cf0c2f5",
   "metadata": {
    "scrolled": true
   },
   "outputs": [],
   "source": [
    "# from sklearn.metrics import roc_auc_score\n",
    "# from sklearn import preprocessing\n",
    "\n",
    "# # Use trained model to predict output of test dataset\n",
    "# val = xgb.predict(X_test)\n",
    "\n",
    "# lb = preprocessing.LabelBinarizer()\n",
    "# lb.fit(y_test)\n",
    "\n",
    "# y_test_lb = lb.transform(y_test)\n",
    "# val_lb = lb.transform(val)\n",
    "\n",
    "# roc_auc_score(y_test_lb, val_lb, average='macro')"
   ]
  },
  {
   "cell_type": "code",
   "execution_count": 67,
   "id": "771be5b3",
   "metadata": {
    "scrolled": true
   },
   "outputs": [
    {
     "name": "stdout",
     "output_type": "stream",
     "text": [
      "   NumberOfIntegers  DataStructure  insert()\n",
      "0          100000.0            NaN       NaN\n"
     ]
    },
    {
     "data": {
      "text/plain": [
       "array(['Vector_Initialized'], dtype=object)"
      ]
     },
     "execution_count": 67,
     "metadata": {},
     "output_type": "execute_result"
    }
   ],
   "source": [
    "row = pd.DataFrame(columns=['NumberOfIntegers', 'DataStructure', 'insert()'])\n",
    "row = row.append({\n",
    "    'NumberOfIntegers': 100000, \n",
    "    'DataStructure': None, \n",
    "    'insert()': None\n",
    "}, ignore_index = True)\n",
    "print(row)\n",
    "single_predict = model_dic['ds_insert()'].predict(row)\n",
    "single_predict"
   ]
  },
  {
   "cell_type": "markdown",
   "id": "f3817fbd",
   "metadata": {},
   "source": [
    "## Cross validation"
   ]
  },
  {
   "cell_type": "code",
   "execution_count": null,
   "id": "bfaab03e",
   "metadata": {
    "scrolled": false
   },
   "outputs": [],
   "source": [
    "X_test = Xs[0][1]\n",
    "y_test = Xs[0][3]\n",
    "\n",
    "val = model_dic['ds_insert()'].predict(X_test)\n",
    "\n",
    "output = pd.DataFrame()\n",
    "output['Expected Output'] = y_test\n",
    "output['Predicted Output'] = val\n",
    "output.head(20)"
   ]
  }
 ],
 "metadata": {
  "kernelspec": {
   "display_name": "Python 3 (ipykernel)",
   "language": "python",
   "name": "python3"
  },
  "language_info": {
   "codemirror_mode": {
    "name": "ipython",
    "version": 3
   },
   "file_extension": ".py",
   "mimetype": "text/x-python",
   "name": "python",
   "nbconvert_exporter": "python",
   "pygments_lexer": "ipython3",
   "version": "3.8.12"
  }
 },
 "nbformat": 4,
 "nbformat_minor": 5
}
